{
 "cells": [
  {
   "cell_type": "markdown",
   "metadata": {},
   "source": [
    "## CrowdED: Crowdsourcing task optimization\n",
    "---\n",
    "The research question we aim to answer is: \"Can we a-priori estimate optimal workers and tasks' assignment to obtain maximum accuracy on all tasks?\"\n",
    "\n",
    "*This notebook takes step by step the construction of the crowdED module*"
   ]
  },
  {
   "cell_type": "code",
   "execution_count": 17,
   "metadata": {},
   "outputs": [],
   "source": [
    "import sys\n",
    "import pandas as pd\n",
    "import numpy as np\n",
    "import shortuuid as uid\n",
    "import matplotlib.pyplot as plt\n",
    "import seaborn as sns\n",
    "%matplotlib inline"
   ]
  },
  {
   "cell_type": "markdown",
   "metadata": {},
   "source": [
    "---\n",
    "### Data preparation: Tasks and Workers Dataframe Construction"
   ]
  },
  {
   "cell_type": "markdown",
   "metadata": {},
   "source": [
    "I want to model the workers"
   ]
  },
  {
   "cell_type": "code",
   "execution_count": 1,
   "metadata": {},
   "outputs": [],
   "source": [
    "total_tasks = 342"
   ]
  },
  {
   "cell_type": "code",
   "execution_count": 2,
   "metadata": {},
   "outputs": [],
   "source": [
    "total_workers = 50"
   ]
  },
  {
   "cell_type": "code",
   "execution_count": 3,
   "metadata": {},
   "outputs": [],
   "source": [
    "#Tasks variables\n",
    "p_hard_tasks = 0.2\n",
    "n_hard_tasks = int(round(p_hard_tasks*total_tasks,0))\n",
    "\n",
    "p_easy_tasks = 1-p_hard_tasks \n",
    "n_easy_tasks = int(round(p_easy_tasks*total_tasks,0))"
   ]
  },
  {
   "cell_type": "code",
   "execution_count": 4,
   "metadata": {},
   "outputs": [
    {
     "name": "stdout",
     "output_type": "stream",
     "text": [
      "68 274\n"
     ]
    }
   ],
   "source": [
    "print(n_hard_tasks, n_easy_tasks)"
   ]
  },
  {
   "cell_type": "markdown",
   "metadata": {},
   "source": [
    "Next, we randomly assign (without [replacement](https://www.ma.utexas.edu/users/parker/sampling/repl.htm)) which tasks and workers are easy/hard and good/poor based on the proportions specified."
   ]
  },
  {
   "cell_type": "markdown",
   "metadata": {},
   "source": [
    "#### Workers"
   ]
  },
  {
   "cell_type": "code",
   "execution_count": 12,
   "metadata": {},
   "outputs": [],
   "source": [
    "workers = [uid.ShortUUID().random(length=5) for i in range(total_workers)]"
   ]
  },
  {
   "cell_type": "code",
   "execution_count": 13,
   "metadata": {},
   "outputs": [],
   "source": [
    "df_workers = pd.DataFrame()\n",
    "df_workers['worker_id'] = workers"
   ]
  },
  {
   "cell_type": "code",
   "execution_count": 16,
   "metadata": {},
   "outputs": [
    {
     "data": {
      "text/html": [
       "<div>\n",
       "<style scoped>\n",
       "    .dataframe tbody tr th:only-of-type {\n",
       "        vertical-align: middle;\n",
       "    }\n",
       "\n",
       "    .dataframe tbody tr th {\n",
       "        vertical-align: top;\n",
       "    }\n",
       "\n",
       "    .dataframe thead th {\n",
       "        text-align: right;\n",
       "    }\n",
       "</style>\n",
       "<table border=\"1\" class=\"dataframe\">\n",
       "  <thead>\n",
       "    <tr style=\"text-align: right;\">\n",
       "      <th></th>\n",
       "      <th>worker_id</th>\n",
       "    </tr>\n",
       "  </thead>\n",
       "  <tbody>\n",
       "    <tr>\n",
       "      <th>0</th>\n",
       "      <td>Wppj5</td>\n",
       "    </tr>\n",
       "    <tr>\n",
       "      <th>1</th>\n",
       "      <td>LXEWi</td>\n",
       "    </tr>\n",
       "    <tr>\n",
       "      <th>2</th>\n",
       "      <td>tup9j</td>\n",
       "    </tr>\n",
       "    <tr>\n",
       "      <th>3</th>\n",
       "      <td>pU2Ln</td>\n",
       "    </tr>\n",
       "    <tr>\n",
       "      <th>4</th>\n",
       "      <td>GLmgP</td>\n",
       "    </tr>\n",
       "  </tbody>\n",
       "</table>\n",
       "</div>"
      ],
      "text/plain": [
       "  worker_id\n",
       "0     Wppj5\n",
       "1     LXEWi\n",
       "2     tup9j\n",
       "3     pU2Ln\n",
       "4     GLmgP"
      ]
     },
     "execution_count": 16,
     "metadata": {},
     "output_type": "execute_result"
    }
   ],
   "source": [
    "df_workers.head()"
   ]
  },
  {
   "cell_type": "markdown",
   "metadata": {},
   "source": [
    "#### Tasks "
   ]
  },
  {
   "cell_type": "code",
   "execution_count": 17,
   "metadata": {},
   "outputs": [],
   "source": [
    "tasks = ['task_'+uid.ShortUUID().random(length=3) for i in range(total_tasks)]\n",
    "easy_tasks = [task for task in np.random.choice(tasks, n_easy_tasks, replace=False)]\n",
    "hard_tasks = [task for task in set(tasks)-set(easy_tasks)]"
   ]
  },
  {
   "cell_type": "markdown",
   "metadata": {},
   "source": [
    "#### True Answers (Gold)"
   ]
  },
  {
   "cell_type": "markdown",
   "metadata": {},
   "source": [
    "In our simulation, the task is that the worker has to choose one out of the five given answers. Here, we simulate the true answer for each worker-task pair."
   ]
  },
  {
   "cell_type": "code",
   "execution_count": 25,
   "metadata": {},
   "outputs": [],
   "source": [
    "#answers_key = [\"liver\", \"blood\", \"lung\", \"brain\", \"heart\"]\n",
    "from random_words import RandomWords\n",
    "rw = RandomWords()\n",
    "answers_key = rw.random_words(count=5)"
   ]
  },
  {
   "cell_type": "code",
   "execution_count": 26,
   "metadata": {},
   "outputs": [
    {
     "data": {
      "text/plain": [
       "['hoods', 'administrators', 'score', 'sixties', 'bands']"
      ]
     },
     "execution_count": 26,
     "metadata": {},
     "output_type": "execute_result"
    }
   ],
   "source": [
    "answers_key"
   ]
  },
  {
   "cell_type": "code",
   "execution_count": 27,
   "metadata": {},
   "outputs": [],
   "source": [
    "true_answers = [answer for answer in np.random.choice(answers_key, total_tasks)]"
   ]
  },
  {
   "cell_type": "code",
   "execution_count": 29,
   "metadata": {},
   "outputs": [],
   "source": [
    "# Creating the tasks data frame\n",
    "df_tasks = pd.DataFrame()\n",
    "df_tasks['task_id'] = tasks\n",
    "df_tasks['true_answers'] = true_answers"
   ]
  },
  {
   "cell_type": "code",
   "execution_count": 30,
   "metadata": {},
   "outputs": [],
   "source": [
    "df_tasks['label_task'] = ['hard_task' if tasks[i] in hard_tasks else 'easy_task' for i in range(total_tasks)]"
   ]
  },
  {
   "cell_type": "code",
   "execution_count": 64,
   "metadata": {},
   "outputs": [
    {
     "data": {
      "text/html": [
       "<div>\n",
       "<style scoped>\n",
       "    .dataframe tbody tr th:only-of-type {\n",
       "        vertical-align: middle;\n",
       "    }\n",
       "\n",
       "    .dataframe tbody tr th {\n",
       "        vertical-align: top;\n",
       "    }\n",
       "\n",
       "    .dataframe thead th {\n",
       "        text-align: right;\n",
       "    }\n",
       "</style>\n",
       "<table border=\"1\" class=\"dataframe\">\n",
       "  <thead>\n",
       "    <tr style=\"text-align: right;\">\n",
       "      <th></th>\n",
       "      <th>task_id</th>\n",
       "      <th>true_answers</th>\n",
       "      <th>label_task</th>\n",
       "    </tr>\n",
       "  </thead>\n",
       "  <tbody>\n",
       "    <tr>\n",
       "      <th>0</th>\n",
       "      <td>task_uEe</td>\n",
       "      <td>bands</td>\n",
       "      <td>easy_task</td>\n",
       "    </tr>\n",
       "    <tr>\n",
       "      <th>1</th>\n",
       "      <td>task_PN4</td>\n",
       "      <td>hoods</td>\n",
       "      <td>easy_task</td>\n",
       "    </tr>\n",
       "    <tr>\n",
       "      <th>2</th>\n",
       "      <td>task_zAr</td>\n",
       "      <td>hoods</td>\n",
       "      <td>hard_task</td>\n",
       "    </tr>\n",
       "    <tr>\n",
       "      <th>3</th>\n",
       "      <td>task_fEv</td>\n",
       "      <td>sixties</td>\n",
       "      <td>easy_task</td>\n",
       "    </tr>\n",
       "    <tr>\n",
       "      <th>4</th>\n",
       "      <td>task_x8M</td>\n",
       "      <td>administrators</td>\n",
       "      <td>easy_task</td>\n",
       "    </tr>\n",
       "  </tbody>\n",
       "</table>\n",
       "</div>"
      ],
      "text/plain": [
       "    task_id    true_answers label_task\n",
       "0  task_uEe           bands  easy_task\n",
       "1  task_PN4           hoods  easy_task\n",
       "2  task_zAr           hoods  hard_task\n",
       "3  task_fEv         sixties  easy_task\n",
       "4  task_x8M  administrators  easy_task"
      ]
     },
     "execution_count": 64,
     "metadata": {},
     "output_type": "execute_result"
    }
   ],
   "source": [
    "df_tasks.head()"
   ]
  },
  {
   "cell_type": "markdown",
   "metadata": {},
   "source": [
    "---\n",
    "### Probabilities of getting the answer right\n",
    "In this step, we first calculate the exact probabilities of getting the answer right for each worker and each task."
   ]
  },
  {
   "cell_type": "markdown",
   "metadata": {},
   "source": [
    "#### Las respuestas de los workers se distribuye bernoulli con parametro beta"
   ]
  },
  {
   "cell_type": "markdown",
   "metadata": {},
   "source": [
    "#### Los experimentos de Amrapali van a ayudar a estimar los parámetros de la beta  \n",
    "\n",
    "https://www.figure-eight.com/dataset/medical-sentence-summary-and-relation-extraction/"
   ]
  },
  {
   "cell_type": "markdown",
   "metadata": {},
   "source": [
    "https://aaai.org/ocs/index.php/HCOMP/HCOMP16/paper/viewFile/14047/13632  \n",
    "\n",
    "Here a ∈ (0, 1) is the normalized value of the average ability of the workers in the crowdsourcing platform.  \n",
    "v ∈ (0, 1) is a parameter that determines the variance in worker ability  "
   ]
  },
  {
   "cell_type": "markdown",
   "metadata": {},
   "source": [
    "Distributions:  \n",
    "    \n",
    "http://cmdlinetips.com/2018/03/probability-distributions-in-python/\n",
    "https://docs.scipy.org/doc/scipy/reference/generated/scipy.stats.beta.html\n",
    "https://docs.scipy.org/doc/numpy/reference/generated/numpy.random.beta.html"
   ]
  },
  {
   "cell_type": "code",
   "execution_count": 50,
   "metadata": {},
   "outputs": [
    {
     "name": "stderr",
     "output_type": "stream",
     "text": [
      "/Users/pedrohserrano/anaconda3/envs/py36/lib/python3.6/site-packages/matplotlib/axes/_axes.py:6462: UserWarning: The 'normed' kwarg is deprecated, and has been replaced by the 'density' kwarg.\n",
      "  warnings.warn(\"The 'normed' kwarg is deprecated, and has been \"\n"
     ]
    },
    {
     "data": {
      "text/plain": [
       "<matplotlib.axes._subplots.AxesSubplot at 0x1a2737a198>"
      ]
     },
     "execution_count": 50,
     "metadata": {},
     "output_type": "execute_result"
    },
    {
     "data": {
      "image/png": "[encoded data removed]",
      "text/plain": [
       "<Figure size 432x288 with 1 Axes>"
      ]
     },
     "metadata": {},
     "output_type": "display_data"
    }
   ],
   "source": [
    "#this only to show bernoulli distribution\n",
    "from scipy.stats import bernoulli\n",
    "data_bern = bernoulli.rvs(size=10000,p=0.3)\n",
    "sns.distplot(data_bern, kde=False, color=\"skyblue\")"
   ]
  },
  {
   "cell_type": "code",
   "execution_count": 41,
   "metadata": {},
   "outputs": [
    {
     "data": {
      "text/plain": [
       "array([0, 1, 1, ..., 1, 0, 0])"
      ]
     },
     "execution_count": 41,
     "metadata": {},
     "output_type": "execute_result"
    }
   ],
   "source": [
    "data_bern"
   ]
  },
  {
   "cell_type": "code",
   "execution_count": 44,
   "metadata": {},
   "outputs": [
    {
     "name": "stderr",
     "output_type": "stream",
     "text": [
      "/Users/pedrohserrano/anaconda3/envs/py36/lib/python3.6/site-packages/matplotlib/axes/_axes.py:6462: UserWarning: The 'normed' kwarg is deprecated, and has been replaced by the 'density' kwarg.\n",
      "  warnings.warn(\"The 'normed' kwarg is deprecated, and has been \"\n"
     ]
    },
    {
     "data": {
      "text/plain": [
       "<matplotlib.axes._subplots.AxesSubplot at 0x1a27078668>"
      ]
     },
     "execution_count": 44,
     "metadata": {},
     "output_type": "execute_result"
    },
    {
     "data": {
      "image/png": "[encoded data removed]",
      "text/plain": [
       "<Figure size 432x288 with 1 Axes>"
      ]
     },
     "metadata": {},
     "output_type": "display_data"
    }
   ],
   "source": [
    "from scipy.stats import beta\n",
    "data_beta = beta.rvs(1, 1, size=10000)\n",
    "sns.distplot(data_beta, kde=False, bins=100)"
   ]
  },
  {
   "cell_type": "code",
   "execution_count": 59,
   "metadata": {},
   "outputs": [],
   "source": [
    "#vec_bernoullies"
   ]
  },
  {
   "cell_type": "code",
   "execution_count": 61,
   "metadata": {},
   "outputs": [
    {
     "data": {
      "text/plain": [
       "array([0.96745223, 0.95124558, 0.91148532, 0.99139771, 0.75334404,\n",
       "       0.87228749, 0.9593587 , 0.96925603, 0.99646804, 0.84025713,\n",
       "       0.89024794, 0.64199361, 0.99103444, 0.95549076, 0.99181039,\n",
       "       0.81963639, 0.98039895, 0.87719701, 0.80609951, 0.62515772,\n",
       "       0.81374682, 0.69739335, 0.83136117, 0.82903904, 0.67175824,\n",
       "       0.82967192, 0.96829701, 0.81340338, 0.95285518, 0.73405952,\n",
       "       0.95002015, 0.74226516, 0.82056281, 0.85542975, 0.84075854,\n",
       "       0.80930143, 0.82403341, 0.56564657, 0.78438153, 0.8977388 ,\n",
       "       0.87118501, 0.75694603, 0.83781101, 0.95520331, 0.980902  ,\n",
       "       0.95026684, 0.99195459, 0.74754476, 0.78085038, 0.89890409])"
      ]
     },
     "execution_count": 61,
     "metadata": {},
     "output_type": "execute_result"
    }
   ],
   "source": [
    "#WORKERS PROB\n",
    "data_beta"
   ]
  },
  {
   "cell_type": "code",
   "execution_count": 69,
   "metadata": {},
   "outputs": [],
   "source": [
    "df_workers['prob_worker'] = data_beta #probs_workers"
   ]
  },
  {
   "cell_type": "code",
   "execution_count": 77,
   "metadata": {},
   "outputs": [
    {
     "data": {
      "text/html": [
       "<div>\n",
       "<style scoped>\n",
       "    .dataframe tbody tr th:only-of-type {\n",
       "        vertical-align: middle;\n",
       "    }\n",
       "\n",
       "    .dataframe tbody tr th {\n",
       "        vertical-align: top;\n",
       "    }\n",
       "\n",
       "    .dataframe thead th {\n",
       "        text-align: right;\n",
       "    }\n",
       "</style>\n",
       "<table border=\"1\" class=\"dataframe\">\n",
       "  <thead>\n",
       "    <tr style=\"text-align: right;\">\n",
       "      <th></th>\n",
       "      <th>worker_id</th>\n",
       "      <th>prob_worker</th>\n",
       "    </tr>\n",
       "  </thead>\n",
       "  <tbody>\n",
       "    <tr>\n",
       "      <th>0</th>\n",
       "      <td>Wppj5</td>\n",
       "      <td>0.967452</td>\n",
       "    </tr>\n",
       "    <tr>\n",
       "      <th>1</th>\n",
       "      <td>LXEWi</td>\n",
       "      <td>0.951246</td>\n",
       "    </tr>\n",
       "    <tr>\n",
       "      <th>2</th>\n",
       "      <td>tup9j</td>\n",
       "      <td>0.911485</td>\n",
       "    </tr>\n",
       "    <tr>\n",
       "      <th>3</th>\n",
       "      <td>pU2Ln</td>\n",
       "      <td>0.991398</td>\n",
       "    </tr>\n",
       "    <tr>\n",
       "      <th>4</th>\n",
       "      <td>GLmgP</td>\n",
       "      <td>0.753344</td>\n",
       "    </tr>\n",
       "  </tbody>\n",
       "</table>\n",
       "</div>"
      ],
      "text/plain": [
       "  worker_id  prob_worker\n",
       "0     Wppj5     0.967452\n",
       "1     LXEWi     0.951246\n",
       "2     tup9j     0.911485\n",
       "3     pU2Ln     0.991398\n",
       "4     GLmgP     0.753344"
      ]
     },
     "execution_count": 77,
     "metadata": {},
     "output_type": "execute_result"
    }
   ],
   "source": [
    "df_workers.head()"
   ]
  },
  {
   "cell_type": "code",
   "execution_count": 71,
   "metadata": {},
   "outputs": [],
   "source": [
    "#Is tasks distribution normal? constant?"
   ]
  },
  {
   "cell_type": "code",
   "execution_count": 62,
   "metadata": {},
   "outputs": [],
   "source": [
    "# Threshold of responses\n",
    "cut_tasks = 0.75"
   ]
  },
  {
   "cell_type": "code",
   "execution_count": 65,
   "metadata": {},
   "outputs": [],
   "source": [
    "probs_tasks = []\n",
    "for i in df_tasks['label_task']:\n",
    "    if i == 'easy_task':\n",
    "        probs_tasks.append(np.random.choice((np.arange(cut_tasks, 1, 0.01)), 1)) #a random number form cut to 1\n",
    "    elif i == 'hard_task':\n",
    "        probs_tasks.append(np.random.choice((np.arange(0.5, cut_tasks, 0.01)), 1)) #a random number form chance to cut\n",
    "    else: probs_tasks.append(1)\n",
    "\n",
    "probs_tasks = [item for prob in probs_tasks for item in prob]"
   ]
  },
  {
   "cell_type": "code",
   "execution_count": 67,
   "metadata": {},
   "outputs": [],
   "source": [
    "#probs_tasks"
   ]
  },
  {
   "cell_type": "code",
   "execution_count": 73,
   "metadata": {},
   "outputs": [],
   "source": [
    "df_tasks['prob_task'] = probs_tasks"
   ]
  },
  {
   "cell_type": "code",
   "execution_count": 74,
   "metadata": {},
   "outputs": [
    {
     "data": {
      "text/html": [
       "<div>\n",
       "<style scoped>\n",
       "    .dataframe tbody tr th:only-of-type {\n",
       "        vertical-align: middle;\n",
       "    }\n",
       "\n",
       "    .dataframe tbody tr th {\n",
       "        vertical-align: top;\n",
       "    }\n",
       "\n",
       "    .dataframe thead th {\n",
       "        text-align: right;\n",
       "    }\n",
       "</style>\n",
       "<table border=\"1\" class=\"dataframe\">\n",
       "  <thead>\n",
       "    <tr style=\"text-align: right;\">\n",
       "      <th></th>\n",
       "      <th>task_id</th>\n",
       "      <th>true_answers</th>\n",
       "      <th>label_task</th>\n",
       "      <th>prob_task</th>\n",
       "    </tr>\n",
       "  </thead>\n",
       "  <tbody>\n",
       "    <tr>\n",
       "      <th>0</th>\n",
       "      <td>task_uEe</td>\n",
       "      <td>bands</td>\n",
       "      <td>easy_task</td>\n",
       "      <td>0.80</td>\n",
       "    </tr>\n",
       "    <tr>\n",
       "      <th>1</th>\n",
       "      <td>task_PN4</td>\n",
       "      <td>hoods</td>\n",
       "      <td>easy_task</td>\n",
       "      <td>0.77</td>\n",
       "    </tr>\n",
       "    <tr>\n",
       "      <th>2</th>\n",
       "      <td>task_zAr</td>\n",
       "      <td>hoods</td>\n",
       "      <td>hard_task</td>\n",
       "      <td>0.52</td>\n",
       "    </tr>\n",
       "    <tr>\n",
       "      <th>3</th>\n",
       "      <td>task_fEv</td>\n",
       "      <td>sixties</td>\n",
       "      <td>easy_task</td>\n",
       "      <td>0.93</td>\n",
       "    </tr>\n",
       "    <tr>\n",
       "      <th>4</th>\n",
       "      <td>task_x8M</td>\n",
       "      <td>administrators</td>\n",
       "      <td>easy_task</td>\n",
       "      <td>0.76</td>\n",
       "    </tr>\n",
       "  </tbody>\n",
       "</table>\n",
       "</div>"
      ],
      "text/plain": [
       "    task_id    true_answers label_task  prob_task\n",
       "0  task_uEe           bands  easy_task       0.80\n",
       "1  task_PN4           hoods  easy_task       0.77\n",
       "2  task_zAr           hoods  hard_task       0.52\n",
       "3  task_fEv         sixties  easy_task       0.93\n",
       "4  task_x8M  administrators  easy_task       0.76"
      ]
     },
     "execution_count": 74,
     "metadata": {},
     "output_type": "execute_result"
    }
   ],
   "source": [
    "df_tasks.head()"
   ]
  },
  {
   "cell_type": "markdown",
   "metadata": {},
   "source": [
    "#### Summary of aggregated probabilities"
   ]
  },
  {
   "cell_type": "code",
   "execution_count": 75,
   "metadata": {},
   "outputs": [
    {
     "data": {
      "text/html": [
       "<div>\n",
       "<style scoped>\n",
       "    .dataframe tbody tr th:only-of-type {\n",
       "        vertical-align: middle;\n",
       "    }\n",
       "\n",
       "    .dataframe tbody tr th {\n",
       "        vertical-align: top;\n",
       "    }\n",
       "\n",
       "    .dataframe thead tr th {\n",
       "        text-align: left;\n",
       "    }\n",
       "\n",
       "    .dataframe thead tr:last-of-type th {\n",
       "        text-align: right;\n",
       "    }\n",
       "</style>\n",
       "<table border=\"1\" class=\"dataframe\">\n",
       "  <thead>\n",
       "    <tr>\n",
       "      <th></th>\n",
       "      <th colspan=\"2\" halign=\"left\">prob_task</th>\n",
       "    </tr>\n",
       "    <tr>\n",
       "      <th></th>\n",
       "      <th>mean</th>\n",
       "      <th>count</th>\n",
       "    </tr>\n",
       "    <tr>\n",
       "      <th>label_task</th>\n",
       "      <th></th>\n",
       "      <th></th>\n",
       "    </tr>\n",
       "  </thead>\n",
       "  <tbody>\n",
       "    <tr>\n",
       "      <th>easy_task</th>\n",
       "      <td>0.873745</td>\n",
       "      <td>275</td>\n",
       "    </tr>\n",
       "    <tr>\n",
       "      <th>hard_task</th>\n",
       "      <td>0.611194</td>\n",
       "      <td>67</td>\n",
       "    </tr>\n",
       "  </tbody>\n",
       "</table>\n",
       "</div>"
      ],
      "text/plain": [
       "           prob_task      \n",
       "                mean count\n",
       "label_task                \n",
       "easy_task   0.873745   275\n",
       "hard_task   0.611194    67"
      ]
     },
     "execution_count": 75,
     "metadata": {},
     "output_type": "execute_result"
    }
   ],
   "source": [
    "df_tasks.groupby('label_task').agg(['mean','count'])"
   ]
  },
  {
   "cell_type": "code",
   "execution_count": 78,
   "metadata": {},
   "outputs": [
    {
     "data": {
      "text/html": [
       "<div>\n",
       "<style scoped>\n",
       "    .dataframe tbody tr th:only-of-type {\n",
       "        vertical-align: middle;\n",
       "    }\n",
       "\n",
       "    .dataframe tbody tr th {\n",
       "        vertical-align: top;\n",
       "    }\n",
       "\n",
       "    .dataframe thead th {\n",
       "        text-align: right;\n",
       "    }\n",
       "</style>\n",
       "<table border=\"1\" class=\"dataframe\">\n",
       "  <thead>\n",
       "    <tr style=\"text-align: right;\">\n",
       "      <th></th>\n",
       "      <th>prob_worker</th>\n",
       "    </tr>\n",
       "  </thead>\n",
       "  <tbody>\n",
       "    <tr>\n",
       "      <th>count</th>\n",
       "      <td>50.000000</td>\n",
       "    </tr>\n",
       "    <tr>\n",
       "      <th>mean</th>\n",
       "      <td>0.855898</td>\n",
       "    </tr>\n",
       "    <tr>\n",
       "      <th>std</th>\n",
       "      <td>0.107422</td>\n",
       "    </tr>\n",
       "    <tr>\n",
       "      <th>min</th>\n",
       "      <td>0.565647</td>\n",
       "    </tr>\n",
       "    <tr>\n",
       "      <th>25%</th>\n",
       "      <td>0.806900</td>\n",
       "    </tr>\n",
       "    <tr>\n",
       "      <th>50%</th>\n",
       "      <td>0.848094</td>\n",
       "    </tr>\n",
       "    <tr>\n",
       "      <th>75%</th>\n",
       "      <td>0.954616</td>\n",
       "    </tr>\n",
       "    <tr>\n",
       "      <th>max</th>\n",
       "      <td>0.996468</td>\n",
       "    </tr>\n",
       "  </tbody>\n",
       "</table>\n",
       "</div>"
      ],
      "text/plain": [
       "       prob_worker\n",
       "count    50.000000\n",
       "mean      0.855898\n",
       "std       0.107422\n",
       "min       0.565647\n",
       "25%       0.806900\n",
       "50%       0.848094\n",
       "75%       0.954616\n",
       "max       0.996468"
      ]
     },
     "execution_count": 78,
     "metadata": {},
     "output_type": "execute_result"
    }
   ],
   "source": [
    "df_workers.describe()#.groupby('label_worker').agg(['mean','count'])"
   ]
  },
  {
   "cell_type": "markdown",
   "metadata": {},
   "source": [
    "--- \n",
    "Lets not split the 2 faces, just make everuthing in one run"
   ]
  },
  {
   "cell_type": "code",
   "execution_count": 79,
   "metadata": {},
   "outputs": [],
   "source": [
    "workers_per_task = 5"
   ]
  },
  {
   "cell_type": "code",
   "execution_count": 85,
   "metadata": {},
   "outputs": [],
   "source": [
    "list_tasks = [[tasks[i]]*workers_per_task for i in range(total_tasks)] #replicate the tasks to train \n",
    "list_tasks = [item for sublist in list_tasks for item in sublist] #flat and clean list"
   ]
  },
  {
   "cell_type": "code",
   "execution_count": 86,
   "metadata": {},
   "outputs": [],
   "source": [
    "# Asign workers on every task \n",
    "tasks_workers = [np.random.choice(workers, workers_per_task, replace=False) for task in tasks]\n",
    "tasks_workers = [worker for sublist in tasks_workers for worker in sublist] #flat and clean list"
   ]
  },
  {
   "cell_type": "code",
   "execution_count": 87,
   "metadata": {},
   "outputs": [],
   "source": [
    "df_tw = pd.DataFrame()\n",
    "df_tw['task_id'] = list_tasks\n",
    "df_tw['worker_id'] = tasks_workers"
   ]
  },
  {
   "cell_type": "code",
   "execution_count": 88,
   "metadata": {},
   "outputs": [],
   "source": [
    "workers_agg = df_tw.groupby('worker_id').agg('count')"
   ]
  },
  {
   "cell_type": "code",
   "execution_count": 180,
   "metadata": {},
   "outputs": [
    {
     "data": {
      "text/html": [
       "<div>\n",
       "<style scoped>\n",
       "    .dataframe tbody tr th:only-of-type {\n",
       "        vertical-align: middle;\n",
       "    }\n",
       "\n",
       "    .dataframe tbody tr th {\n",
       "        vertical-align: top;\n",
       "    }\n",
       "\n",
       "    .dataframe thead th {\n",
       "        text-align: right;\n",
       "    }\n",
       "</style>\n",
       "<table border=\"1\" class=\"dataframe\">\n",
       "  <thead>\n",
       "    <tr style=\"text-align: right;\">\n",
       "      <th></th>\n",
       "      <th>task_id</th>\n",
       "    </tr>\n",
       "    <tr>\n",
       "      <th>worker_id</th>\n",
       "      <th></th>\n",
       "    </tr>\n",
       "  </thead>\n",
       "  <tbody>\n",
       "    <tr>\n",
       "      <th>Wppj5</th>\n",
       "      <td>47</td>\n",
       "    </tr>\n",
       "    <tr>\n",
       "      <th>9PBDg</th>\n",
       "      <td>46</td>\n",
       "    </tr>\n",
       "    <tr>\n",
       "      <th>KU8kv</th>\n",
       "      <td>46</td>\n",
       "    </tr>\n",
       "    <tr>\n",
       "      <th>rmbe5</th>\n",
       "      <td>43</td>\n",
       "    </tr>\n",
       "    <tr>\n",
       "      <th>GLmgP</th>\n",
       "      <td>40</td>\n",
       "    </tr>\n",
       "  </tbody>\n",
       "</table>\n",
       "</div>"
      ],
      "text/plain": [
       "           task_id\n",
       "worker_id         \n",
       "Wppj5           47\n",
       "9PBDg           46\n",
       "KU8kv           46\n",
       "rmbe5           43\n",
       "GLmgP           40"
      ]
     },
     "execution_count": 180,
     "metadata": {},
     "output_type": "execute_result"
    }
   ],
   "source": [
    "# REVIEW THIS, HOW DO WE MAKE SURE ALL THE WORKERS HAVE TASK ASIGNATED\n",
    "workers_agg.sort_values('task_id', ascending=False).head()"
   ]
  },
  {
   "cell_type": "code",
   "execution_count": 92,
   "metadata": {},
   "outputs": [],
   "source": [
    "df_tw = pd.merge(df_tw, df_tasks, on='task_id', how='left')\n",
    "df_tw = pd.merge(df_tw, df_workers, on='worker_id', how='left')"
   ]
  },
  {
   "cell_type": "code",
   "execution_count": 97,
   "metadata": {},
   "outputs": [],
   "source": [
    "prob_guess = 1 / len(answers_key)"
   ]
  },
  {
   "cell_type": "markdown",
   "metadata": {},
   "source": [
    "P(worker answer correct | has the knowledge of the task) =   \n",
    "P(has the knowledge of the task | worker answer correct) * P(worker answer correct) /   \n",
    "P(has the knowledge of the task | worker answer correct) * P(worker answer correct) + P(has the knowledge of the task | worker dont answer correct = guessing) * P(worker dont answer correct)  \n",
    "\n",
    "http://www.stat.yale.edu/Courses/1997-98/101/condprob.htm"
   ]
  },
  {
   "cell_type": "code",
   "execution_count": 101,
   "metadata": {},
   "outputs": [],
   "source": [
    "df_tw['prob_answer'] = (df_tw['prob_task'] * df_tw['prob_worker']) / (df_tw['prob_task'] * df_tw['prob_worker'] + prob_guess * (1-df_tw['prob_worker']))"
   ]
  },
  {
   "cell_type": "markdown",
   "metadata": {},
   "source": [
    "The Bernoulli is the posterior function to modelate the action"
   ]
  },
  {
   "cell_type": "code",
   "execution_count": 106,
   "metadata": {},
   "outputs": [],
   "source": [
    "worker_prediction = [bernoulli.rvs(size=1,p=prob)[0] for prob in df_tw['prob_answer']]"
   ]
  },
  {
   "cell_type": "code",
   "execution_count": 107,
   "metadata": {},
   "outputs": [
    {
     "name": "stderr",
     "output_type": "stream",
     "text": [
      "/Users/pedrohserrano/anaconda3/envs/py36/lib/python3.6/site-packages/matplotlib/axes/_axes.py:6462: UserWarning: The 'normed' kwarg is deprecated, and has been replaced by the 'density' kwarg.\n",
      "  warnings.warn(\"The 'normed' kwarg is deprecated, and has been \"\n"
     ]
    },
    {
     "data": {
      "text/plain": [
       "<matplotlib.axes._subplots.AxesSubplot at 0x1a27bbe940>"
      ]
     },
     "execution_count": 107,
     "metadata": {},
     "output_type": "execute_result"
    },
    {
     "data": {
      "image/png": "[encoded data removed]",
      "text/plain": [
       "<Figure size 432x288 with 1 Axes>"
      ]
     },
     "metadata": {},
     "output_type": "display_data"
    }
   ],
   "source": [
    "sns.distplot(worker_prediction, kde=False, color=\"skyblue\")"
   ]
  },
  {
   "cell_type": "code",
   "execution_count": 108,
   "metadata": {},
   "outputs": [],
   "source": [
    "#df_tw['prediction'] = worker_prediction"
   ]
  },
  {
   "cell_type": "code",
   "execution_count": 142,
   "metadata": {},
   "outputs": [],
   "source": [
    "worker_answers = []\n",
    "for idx, i in enumerate(worker_prediction):\n",
    "    if i == 1:\n",
    "        worker_answers.append(df_tw['true_answers'].loc[idx])\n",
    "    else:\n",
    "        worker_answers.append(np.random.choice([i for i in set(answers_key)-set(df_tw['true_answers'].loc[idx])], 1)[0])"
   ]
  },
  {
   "cell_type": "code",
   "execution_count": 144,
   "metadata": {},
   "outputs": [],
   "source": [
    "df_tw['worker_answers'] = worker_answers"
   ]
  },
  {
   "cell_type": "code",
   "execution_count": 103,
   "metadata": {},
   "outputs": [
    {
     "data": {
      "text/html": [
       "<div>\n",
       "<style scoped>\n",
       "    .dataframe tbody tr th:only-of-type {\n",
       "        vertical-align: middle;\n",
       "    }\n",
       "\n",
       "    .dataframe tbody tr th {\n",
       "        vertical-align: top;\n",
       "    }\n",
       "\n",
       "    .dataframe thead th {\n",
       "        text-align: right;\n",
       "    }\n",
       "</style>\n",
       "<table border=\"1\" class=\"dataframe\">\n",
       "  <thead>\n",
       "    <tr style=\"text-align: right;\">\n",
       "      <th></th>\n",
       "      <th>task_id</th>\n",
       "      <th>worker_id</th>\n",
       "      <th>true_answers</th>\n",
       "      <th>label_task</th>\n",
       "      <th>prob_task</th>\n",
       "      <th>prob_worker</th>\n",
       "      <th>prob_answer</th>\n",
       "    </tr>\n",
       "  </thead>\n",
       "  <tbody>\n",
       "    <tr>\n",
       "      <th>0</th>\n",
       "      <td>task_uEe</td>\n",
       "      <td>Xr9Wt</td>\n",
       "      <td>bands</td>\n",
       "      <td>easy_task</td>\n",
       "      <td>0.8</td>\n",
       "      <td>0.840759</td>\n",
       "      <td>0.954790</td>\n",
       "    </tr>\n",
       "    <tr>\n",
       "      <th>1</th>\n",
       "      <td>task_uEe</td>\n",
       "      <td>rmbe5</td>\n",
       "      <td>bands</td>\n",
       "      <td>easy_task</td>\n",
       "      <td>0.8</td>\n",
       "      <td>0.747545</td>\n",
       "      <td>0.922145</td>\n",
       "    </tr>\n",
       "    <tr>\n",
       "      <th>2</th>\n",
       "      <td>task_uEe</td>\n",
       "      <td>MBwiu</td>\n",
       "      <td>bands</td>\n",
       "      <td>easy_task</td>\n",
       "      <td>0.8</td>\n",
       "      <td>0.831361</td>\n",
       "      <td>0.951736</td>\n",
       "    </tr>\n",
       "    <tr>\n",
       "      <th>3</th>\n",
       "      <td>task_uEe</td>\n",
       "      <td>Lnhse</td>\n",
       "      <td>bands</td>\n",
       "      <td>easy_task</td>\n",
       "      <td>0.8</td>\n",
       "      <td>0.991955</td>\n",
       "      <td>0.997976</td>\n",
       "    </tr>\n",
       "    <tr>\n",
       "      <th>4</th>\n",
       "      <td>task_uEe</td>\n",
       "      <td>Hgs8g</td>\n",
       "      <td>bands</td>\n",
       "      <td>easy_task</td>\n",
       "      <td>0.8</td>\n",
       "      <td>0.968297</td>\n",
       "      <td>0.991881</td>\n",
       "    </tr>\n",
       "  </tbody>\n",
       "</table>\n",
       "</div>"
      ],
      "text/plain": [
       "    task_id worker_id true_answers label_task  prob_task  prob_worker  \\\n",
       "0  task_uEe     Xr9Wt        bands  easy_task        0.8     0.840759   \n",
       "1  task_uEe     rmbe5        bands  easy_task        0.8     0.747545   \n",
       "2  task_uEe     MBwiu        bands  easy_task        0.8     0.831361   \n",
       "3  task_uEe     Lnhse        bands  easy_task        0.8     0.991955   \n",
       "4  task_uEe     Hgs8g        bands  easy_task        0.8     0.968297   \n",
       "\n",
       "   prob_answer  \n",
       "0     0.954790  \n",
       "1     0.922145  \n",
       "2     0.951736  \n",
       "3     0.997976  \n",
       "4     0.991881  "
      ]
     },
     "execution_count": 103,
     "metadata": {},
     "output_type": "execute_result"
    }
   ],
   "source": [
    "df_tw.head()"
   ]
  },
  {
   "cell_type": "markdown",
   "metadata": {},
   "source": [
    "---\n",
    "### Confusion Matrix for the answers"
   ]
  },
  {
   "cell_type": "code",
   "execution_count": 148,
   "metadata": {},
   "outputs": [
    {
     "data": {
      "text/plain": [
       "array([[324,   3,   2,   2,   4],\n",
       "       [  1, 309,   5,   1,   4],\n",
       "       [  3,   2, 362,   3,   5],\n",
       "       [  7,   1,   5, 383,   4],\n",
       "       [  3,   2,   1,   2, 282]])"
      ]
     },
     "execution_count": 148,
     "metadata": {},
     "output_type": "execute_result"
    }
   ],
   "source": [
    "from sklearn.metrics import confusion_matrix\n",
    "confusion_matrix(df_tw['true_answers'], df_tw['worker_answers'])"
   ]
  },
  {
   "cell_type": "code",
   "execution_count": 156,
   "metadata": {},
   "outputs": [],
   "source": [
    "import turicreate as tc\n",
    "sf_tw = tc.SFrame(data=df_tw)\n",
    "conf_matrix = tc.evaluation.confusion_matrix(sf_tw['true_answers'], sf_tw['worker_answers'])"
   ]
  },
  {
   "cell_type": "code",
   "execution_count": 158,
   "metadata": {},
   "outputs": [
    {
     "name": "stdout",
     "output_type": "stream",
     "text": [
      "+----------------+-----------------+-------+\n",
      "|  target_label  | predicted_label | count |\n",
      "+----------------+-----------------+-------+\n",
      "|     score      |      bands      |   1   |\n",
      "|     score      |  administrators |   7   |\n",
      "|     bands      |  administrators |   1   |\n",
      "|    sixties     |      score      |   2   |\n",
      "| administrators |      bands      |   3   |\n",
      "| administrators |      score      |   2   |\n",
      "|     hoods      |      bands      |   2   |\n",
      "|     score      |      hoods      |   5   |\n",
      "|     score      |     sixties     |   4   |\n",
      "|     score      |      score      |  383  |\n",
      "|    sixties     |      bands      |   2   |\n",
      "|    sixties     |     sixties     |  282  |\n",
      "|     hoods      |  administrators |   3   |\n",
      "|    sixties     |      hoods      |   1   |\n",
      "| administrators |     sixties     |   4   |\n",
      "|     hoods      |      score      |   3   |\n",
      "|     bands      |      bands      |  309  |\n",
      "|     bands      |      hoods      |   5   |\n",
      "| administrators |      hoods      |   2   |\n",
      "|     hoods      |     sixties     |   5   |\n",
      "| administrators |  administrators |  324  |\n",
      "|    sixties     |  administrators |   3   |\n",
      "|     bands      |     sixties     |   4   |\n",
      "|     hoods      |      hoods      |  362  |\n",
      "|     bands      |      score      |   1   |\n",
      "+----------------+-----------------+-------+\n",
      "[25 rows x 3 columns]\n",
      "\n"
     ]
    }
   ],
   "source": [
    "conf_matrix.print_rows(25,)"
   ]
  },
  {
   "cell_type": "code",
   "execution_count": 163,
   "metadata": {},
   "outputs": [],
   "source": [
    "accuracy = conf_matrix[conf_matrix['target_label'] == conf_matrix['predicted_label']]['count'].sum() / conf_matrix['count'].sum()"
   ]
  },
  {
   "cell_type": "code",
   "execution_count": 164,
   "metadata": {},
   "outputs": [
    {
     "name": "stdout",
     "output_type": "stream",
     "text": [
      "0.9651162790697675\n"
     ]
    }
   ],
   "source": [
    "print(accuracy)"
   ]
  },
  {
   "cell_type": "markdown",
   "metadata": {},
   "source": [
    "Try the confusion matrix library to track all the different measures of the workers  \n",
    "https://github.com/sepandhaghighi/pycm"
   ]
  },
  {
   "cell_type": "code",
   "execution_count": null,
   "metadata": {},
   "outputs": [],
   "source": []
  },
  {
   "cell_type": "markdown",
   "metadata": {},
   "source": [
    "---\n",
    "### Measuring Performance"
   ]
  },
  {
   "cell_type": "markdown",
   "metadata": {},
   "source": [
    "Next we measure the performance of the worker. The performance is calculate as the number of times a worker answers right (in comparison with the true answer) over the total number of workers per task.  \n",
    "\n",
    "The range of the performance value spans from 0 to 1. The values close to 1 indicate that the majority of the workers had consensus. The values close to 0 indicate that there was no consensus."
   ]
  },
  {
   "cell_type": "code",
   "execution_count": 165,
   "metadata": {},
   "outputs": [],
   "source": [
    "df_tw['performance'] = worker_prediction"
   ]
  },
  {
   "cell_type": "code",
   "execution_count": 168,
   "metadata": {
    "scrolled": false
   },
   "outputs": [],
   "source": [
    "tasks_mean = df_tw.groupby('task_id').mean().sort_values('performance', ascending=False)"
   ]
  },
  {
   "cell_type": "code",
   "execution_count": 170,
   "metadata": {},
   "outputs": [
    {
     "data": {
      "text/plain": [
       "task_id\n",
       "task_VbN    1.0\n",
       "task_dBo    1.0\n",
       "task_bvo    1.0\n",
       "task_bdN    1.0\n",
       "task_baB    1.0\n",
       "Name: performance, dtype: float64"
      ]
     },
     "execution_count": 170,
     "metadata": {},
     "output_type": "execute_result"
    }
   ],
   "source": [
    "tasks_mean['performance'].head()"
   ]
  },
  {
   "cell_type": "code",
   "execution_count": 171,
   "metadata": {
    "scrolled": true
   },
   "outputs": [
    {
     "name": "stderr",
     "output_type": "stream",
     "text": [
      "/Users/pedrohserrano/anaconda3/envs/py36/lib/python3.6/site-packages/matplotlib/axes/_axes.py:6462: UserWarning: The 'normed' kwarg is deprecated, and has been replaced by the 'density' kwarg.\n",
      "  warnings.warn(\"The 'normed' kwarg is deprecated, and has been \"\n"
     ]
    },
    {
     "data": {
      "text/plain": [
       "<matplotlib.axes._subplots.AxesSubplot at 0x1a30426390>"
      ]
     },
     "execution_count": 171,
     "metadata": {},
     "output_type": "execute_result"
    },
    {
     "data": {
      "image/png": "[encoded data removed]",
      "text/plain": [
       "<Figure size 1296x288 with 1 Axes>"
      ]
     },
     "metadata": {},
     "output_type": "display_data"
    }
   ],
   "source": [
    "#Distribution of the performance\n",
    "plt.figure(figsize=[18, 4])\n",
    "sns.distplot(tasks_mean['performance'], bins=6, color='red')"
   ]
  },
  {
   "cell_type": "code",
   "execution_count": 176,
   "metadata": {},
   "outputs": [],
   "source": [
    "workers_mean = df_tw.groupby('worker_id').mean().sort_values('performance', ascending=False)\n",
    "df_workers = pd.merge(workers_mean.reset_index(), df_workers.drop('prob_worker',1), on='worker_id', how='left')"
   ]
  },
  {
   "cell_type": "code",
   "execution_count": 177,
   "metadata": {
    "scrolled": false
   },
   "outputs": [
    {
     "data": {
      "text/plain": [
       "<matplotlib.axes._subplots.AxesSubplot at 0x1a3071d400>"
      ]
     },
     "execution_count": 177,
     "metadata": {},
     "output_type": "execute_result"
    },
    {
     "data": {
      "image/png": "[encoded data removed]",
      "text/plain": [
       "<Figure size 720x720 with 1 Axes>"
      ]
     },
     "metadata": {},
     "output_type": "display_data"
    }
   ],
   "source": [
    "plt.figure(figsize=[10, 10])\n",
    "sns.kdeplot(df_workers['performance'], df_workers['prob_worker'], cmap=\"Blues\", shade=True, shade_lowest=False)"
   ]
  },
  {
   "cell_type": "code",
   "execution_count": 178,
   "metadata": {},
   "outputs": [
    {
     "data": {
      "image/png": "[encoded data removed]",
      "text/plain": [
       "<Figure size 1296x288 with 1 Axes>"
      ]
     },
     "metadata": {},
     "output_type": "display_data"
    }
   ],
   "source": [
    "plt.figure(figsize=[18, 4])\n",
    "axis = range(len(workers_mean))\n",
    "plt.bar(axis, workers_mean['performance'], align='center', alpha=0.8, color='blue', label='Probability of Answer correct')\n",
    "plt.xticks(axis, workers_mean.index, rotation=90)\n",
    "plt.title('Workers Performance')\n",
    "plt.legend(loc='best')\n",
    "plt.show()"
   ]
  },
  {
   "cell_type": "code",
   "execution_count": 179,
   "metadata": {},
   "outputs": [
    {
     "data": {
      "text/html": [
       "<div>\n",
       "<style scoped>\n",
       "    .dataframe tbody tr th:only-of-type {\n",
       "        vertical-align: middle;\n",
       "    }\n",
       "\n",
       "    .dataframe tbody tr th {\n",
       "        vertical-align: top;\n",
       "    }\n",
       "\n",
       "    .dataframe thead th {\n",
       "        text-align: right;\n",
       "    }\n",
       "</style>\n",
       "<table border=\"1\" class=\"dataframe\">\n",
       "  <thead>\n",
       "    <tr style=\"text-align: right;\">\n",
       "      <th></th>\n",
       "      <th>prob_task</th>\n",
       "      <th>prob_worker</th>\n",
       "      <th>prob_answer</th>\n",
       "      <th>prediction</th>\n",
       "      <th>performance</th>\n",
       "    </tr>\n",
       "  </thead>\n",
       "  <tbody>\n",
       "    <tr>\n",
       "      <th>count</th>\n",
       "      <td>50.000000</td>\n",
       "      <td>50.000000</td>\n",
       "      <td>50.000000</td>\n",
       "      <td>50.000000</td>\n",
       "      <td>50.000000</td>\n",
       "    </tr>\n",
       "    <tr>\n",
       "      <th>mean</th>\n",
       "      <td>0.822869</td>\n",
       "      <td>0.855898</td>\n",
       "      <td>0.956411</td>\n",
       "      <td>0.957301</td>\n",
       "      <td>0.957301</td>\n",
       "    </tr>\n",
       "    <tr>\n",
       "      <th>std</th>\n",
       "      <td>0.017243</td>\n",
       "      <td>0.107422</td>\n",
       "      <td>0.036806</td>\n",
       "      <td>0.054136</td>\n",
       "      <td>0.054136</td>\n",
       "    </tr>\n",
       "    <tr>\n",
       "      <th>min</th>\n",
       "      <td>0.782581</td>\n",
       "      <td>0.565647</td>\n",
       "      <td>0.837622</td>\n",
       "      <td>0.800000</td>\n",
       "      <td>0.800000</td>\n",
       "    </tr>\n",
       "    <tr>\n",
       "      <th>25%</th>\n",
       "      <td>0.808661</td>\n",
       "      <td>0.806900</td>\n",
       "      <td>0.943871</td>\n",
       "      <td>0.941597</td>\n",
       "      <td>0.941597</td>\n",
       "    </tr>\n",
       "    <tr>\n",
       "      <th>50%</th>\n",
       "      <td>0.820645</td>\n",
       "      <td>0.848094</td>\n",
       "      <td>0.957281</td>\n",
       "      <td>0.971008</td>\n",
       "      <td>0.971008</td>\n",
       "    </tr>\n",
       "    <tr>\n",
       "      <th>75%</th>\n",
       "      <td>0.834342</td>\n",
       "      <td>0.954616</td>\n",
       "      <td>0.988095</td>\n",
       "      <td>1.000000</td>\n",
       "      <td>1.000000</td>\n",
       "    </tr>\n",
       "    <tr>\n",
       "      <th>max</th>\n",
       "      <td>0.872143</td>\n",
       "      <td>0.996468</td>\n",
       "      <td>0.999128</td>\n",
       "      <td>1.000000</td>\n",
       "      <td>1.000000</td>\n",
       "    </tr>\n",
       "  </tbody>\n",
       "</table>\n",
       "</div>"
      ],
      "text/plain": [
       "       prob_task  prob_worker  prob_answer  prediction  performance\n",
       "count  50.000000    50.000000    50.000000   50.000000    50.000000\n",
       "mean    0.822869     0.855898     0.956411    0.957301     0.957301\n",
       "std     0.017243     0.107422     0.036806    0.054136     0.054136\n",
       "min     0.782581     0.565647     0.837622    0.800000     0.800000\n",
       "25%     0.808661     0.806900     0.943871    0.941597     0.941597\n",
       "50%     0.820645     0.848094     0.957281    0.971008     0.971008\n",
       "75%     0.834342     0.954616     0.988095    1.000000     1.000000\n",
       "max     0.872143     0.996468     0.999128    1.000000     1.000000"
      ]
     },
     "execution_count": 179,
     "metadata": {},
     "output_type": "execute_result"
    }
   ],
   "source": [
    "df_workers.describe()"
   ]
  },
  {
   "cell_type": "markdown",
   "metadata": {},
   "source": [
    "--- \n",
    "## Split the good workers from the rest  \n",
    "\n",
    "Take all the workers whose performance was complete (1)"
   ]
  },
  {
   "cell_type": "code",
   "execution_count": 183,
   "metadata": {},
   "outputs": [],
   "source": [
    "worker_label = []\n",
    "for i in df_workers['performance']:\n",
    "    if i == 1:\n",
    "        worker_label.append('good_worker')\n",
    "    else:\n",
    "        worker_label.append('poor_worker')\n",
    "        \n",
    "df_workers['label_worker'] = worker_label"
   ]
  },
  {
   "cell_type": "code",
   "execution_count": 185,
   "metadata": {},
   "outputs": [],
   "source": [
    "#df_workers"
   ]
  },
  {
   "cell_type": "markdown",
   "metadata": {},
   "source": [
    "---\n",
    "# Accuracy One Function"
   ]
  },
  {
   "cell_type": "code",
   "execution_count": null,
   "metadata": {},
   "outputs": [],
   "source": []
  },
  {
   "cell_type": "code",
   "execution_count": 1,
   "metadata": {},
   "outputs": [
    {
     "name": "stdout",
     "output_type": "stream",
     "text": [
      "68 274\n"
     ]
    }
   ],
   "source": [
    "total_tasks = 342\n",
    "total_workers = 50\n",
    "p_hard_tasks = 0.2\n",
    "n_hard_tasks = int(round(p_hard_tasks*total_tasks,0))\n",
    "p_easy_tasks = 1-p_hard_tasks \n",
    "n_easy_tasks = int(round(p_easy_tasks*total_tasks,0))\n",
    "print(n_hard_tasks, n_easy_tasks)"
   ]
  },
  {
   "cell_type": "code",
   "execution_count": 2,
   "metadata": {},
   "outputs": [],
   "source": [
    "param_beta1 = 1\n",
    "param_beta2 = 1"
   ]
  },
  {
   "cell_type": "code",
   "execution_count": 3,
   "metadata": {},
   "outputs": [],
   "source": [
    "workers_per_task = 5"
   ]
  },
  {
   "cell_type": "code",
   "execution_count": 8,
   "metadata": {},
   "outputs": [],
   "source": [
    "import sys\n",
    "import pandas as pd\n",
    "import numpy as np\n",
    "import shortuuid as uid\n",
    "from random_words import RandomWords\n",
    "from scipy.stats import beta\n",
    "from scipy.stats import bernoulli\n",
    "from sklearn.metrics import confusion_matrix\n",
    "import turicreate as tc\n",
    "\n",
    "def get_accuracy(total_tasks, total_workers, p_hard_tasks, workers_per_task, param_beta1 = 1, param_beta2 = 1):\n",
    "    workers = [uid.ShortUUID().random(length=5) for i in range(total_workers)]\n",
    "    df_workers = pd.DataFrame()\n",
    "    df_workers['worker_id'] = workers\n",
    "    #### Tasks \n",
    "    tasks = ['task_'+uid.ShortUUID().random(length=3) for i in range(total_tasks)]\n",
    "    easy_tasks = [task for task in np.random.choice(tasks, n_easy_tasks, replace=False)]\n",
    "    hard_tasks = [task for task in set(tasks)-set(easy_tasks)]\n",
    "\n",
    "    rw = RandomWords()\n",
    "    answers_key = rw.random_words(count=5)\n",
    "    true_answers = [answer for answer in np.random.choice(answers_key, total_tasks)]\n",
    "\n",
    "    # Creating the tasks data frame\n",
    "    df_tasks = pd.DataFrame()\n",
    "    df_tasks['task_id'] = tasks\n",
    "    df_tasks['true_answers'] = true_answers\n",
    "    df_tasks['label_task'] = ['hard_task' if tasks[i] in hard_tasks else 'easy_task' for i in range(total_tasks)]\n",
    "\n",
    "    data_beta = beta.rvs(param_beta1, param_beta2, size=total_workers)\n",
    "    df_workers['prob_worker'] = data_beta #probs_workers\n",
    "\n",
    "    # Threshold of responses\n",
    "    cut_tasks = 0.75\n",
    "    probs_tasks = []\n",
    "    for i in df_tasks['label_task']:\n",
    "        if i == 'easy_task':\n",
    "            probs_tasks.append(np.random.choice((np.arange(cut_tasks, 1, 0.01)), 1)) #a random number form cut to 1\n",
    "        elif i == 'hard_task':\n",
    "            probs_tasks.append(np.random.choice((np.arange(0.5, cut_tasks, 0.01)), 1)) #a random number form chance to cut\n",
    "        else: probs_tasks.append(1)\n",
    "\n",
    "    probs_tasks = [item for prob in probs_tasks for item in prob]\n",
    "    df_tasks['prob_task'] = probs_tasks\n",
    "\n",
    "    list_tasks = [[tasks[i]]*workers_per_task for i in range(total_tasks)] #replicate the tasks to train \n",
    "    list_tasks = [item for sublist in list_tasks for item in sublist] #flat and clean list\n",
    "\n",
    "    # Asign workers on every task \n",
    "    tasks_workers = [np.random.choice(workers, workers_per_task, replace=False) for task in tasks]\n",
    "    tasks_workers = [worker for sublist in tasks_workers for worker in sublist] #flat and clean list\n",
    "\n",
    "    df_tw = pd.DataFrame()\n",
    "    df_tw['task_id'] = list_tasks\n",
    "    df_tw['worker_id'] = tasks_workers\n",
    "    df_tw = pd.merge(df_tw, df_tasks, on='task_id', how='left')\n",
    "    df_tw = pd.merge(df_tw, df_workers, on='worker_id', how='left')\n",
    "\n",
    "    prob_guess = 1 / len(answers_key)\n",
    "    df_tw['prob_answer'] = (df_tw['prob_task'] * df_tw['prob_worker']) / (df_tw['prob_task'] * df_tw['prob_worker'] + prob_guess * (1-df_tw['prob_worker']))\n",
    "\n",
    "    worker_prediction = [bernoulli.rvs(size=1,p=prob)[0] for prob in df_tw['prob_answer']]\n",
    "\n",
    "    worker_answers = []\n",
    "    for idx, i in enumerate(worker_prediction):\n",
    "        if i == 1:\n",
    "            worker_answers.append(df_tw['true_answers'].loc[idx])\n",
    "        else:\n",
    "            worker_answers.append(np.random.choice([i for i in set(answers_key)-set(df_tw['true_answers'].loc[idx])], 1)[0])\n",
    "\n",
    "    df_tw['worker_answers'] = worker_answers\n",
    "\n",
    "\n",
    "    confusion_matrix(df_tw['true_answers'], df_tw['worker_answers'])\n",
    "\n",
    "\n",
    "    sf_tw = tc.SFrame(data=df_tw)\n",
    "    conf_matrix = tc.evaluation.confusion_matrix(sf_tw['true_answers'], sf_tw['worker_answers'])\n",
    "    accuracy = conf_matrix[conf_matrix['target_label'] == conf_matrix['predicted_label']]['count'].sum() / conf_matrix['count'].sum()\n",
    "    \n",
    "    return accuracy"
   ]
  },
  {
   "cell_type": "code",
   "execution_count": 12,
   "metadata": {},
   "outputs": [
    {
     "data": {
      "text/plain": [
       "0.7895348837209303"
      ]
     },
     "execution_count": 12,
     "metadata": {},
     "output_type": "execute_result"
    }
   ],
   "source": [
    "get_accuracy(total_tasks, total_workers, p_hard_tasks, workers_per_task, param_beta1, param_beta2)"
   ]
  },
  {
   "cell_type": "code",
   "execution_count": 32,
   "metadata": {},
   "outputs": [],
   "source": [
    "vec_workers = [i+10 for i in range(100)] #[10,15,20,25,30,35,40,45,50,55,60,65,70,75,80,85,90,95,100]"
   ]
  },
  {
   "cell_type": "code",
   "execution_count": 33,
   "metadata": {},
   "outputs": [],
   "source": [
    "accu = [get_accuracy(total_tasks, i, p_hard_tasks, workers_per_task, param_beta1, param_beta2) for i in vec_workers]"
   ]
  },
  {
   "cell_type": "code",
   "execution_count": 34,
   "metadata": {},
   "outputs": [
    {
     "data": {
      "text/plain": [
       "[<matplotlib.lines.Line2D at 0x1a26b2f940>]"
      ]
     },
     "execution_count": 34,
     "metadata": {},
     "output_type": "execute_result"
    },
    {
     "data": {
      "image/png": "[encoded data removed]",
      "text/plain": [
       "<Figure size 1296x288 with 1 Axes>"
      ]
     },
     "metadata": {},
     "output_type": "display_data"
    }
   ],
   "source": [
    "plt.figure(figsize=[18, 4])\n",
    "plt.plot(range(len(vec_workers)), accu)"
   ]
  },
  {
   "cell_type": "code",
   "execution_count": null,
   "metadata": {},
   "outputs": [],
   "source": []
  }
 ],
 "metadata": {
  "kernelspec": {
   "display_name": "Python 3",
   "language": "python",
   "name": "python3"
  },
  "language_info": {
   "codemirror_mode": {
    "name": "ipython",
    "version": 3
   },
   "file_extension": ".py",
   "mimetype": "text/x-python",
   "name": "python",
   "nbconvert_exporter": "python",
   "pygments_lexer": "ipython3",
   "version": "3.6.5"
  }
 },
 "nbformat": 4,
 "nbformat_minor": 2
}
