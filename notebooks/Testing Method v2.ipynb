{
 "cells": [
  {
   "cell_type": "markdown",
   "metadata": {},
   "source": [
    "## Testing Method Module\n",
    "---"
   ]
  },
  {
   "cell_type": "code",
   "execution_count": 2,
   "metadata": {},
   "outputs": [],
   "source": [
    "#import crowded.method as cr"
   ]
  },
  {
   "cell_type": "code",
   "execution_count": 19,
   "metadata": {},
   "outputs": [],
   "source": [
    "import sys\n",
    "sys.path.insert(0, '/Users/pedrohserrano/crowdED/crowded') \n",
    "import simulate as cs\n",
    "import method as cm"
   ]
  },
  {
   "cell_type": "markdown",
   "metadata": {},
   "source": [
    "#### Simulate the tasks"
   ]
  },
  {
   "cell_type": "code",
   "execution_count": 3,
   "metadata": {},
   "outputs": [
    {
     "data": {
      "text/html": [
       "<div>\n",
       "<style scoped>\n",
       "    .dataframe tbody tr th:only-of-type {\n",
       "        vertical-align: middle;\n",
       "    }\n",
       "\n",
       "    .dataframe tbody tr th {\n",
       "        vertical-align: top;\n",
       "    }\n",
       "\n",
       "    .dataframe thead th {\n",
       "        text-align: right;\n",
       "    }\n",
       "</style>\n",
       "<table border=\"1\" class=\"dataframe\">\n",
       "  <thead>\n",
       "    <tr style=\"text-align: right;\">\n",
       "      <th></th>\n",
       "      <th>true_answers</th>\n",
       "      <th>label_task</th>\n",
       "      <th>prob_task</th>\n",
       "    </tr>\n",
       "  </thead>\n",
       "  <tbody>\n",
       "    <tr>\n",
       "      <th>task_NXkjbY</th>\n",
       "      <td>tax</td>\n",
       "      <td>easy_task</td>\n",
       "      <td>0.87</td>\n",
       "    </tr>\n",
       "    <tr>\n",
       "      <th>task_b4zshQ</th>\n",
       "      <td>tax</td>\n",
       "      <td>easy_task</td>\n",
       "      <td>0.91</td>\n",
       "    </tr>\n",
       "    <tr>\n",
       "      <th>task_DFVWaW</th>\n",
       "      <td>nozzle</td>\n",
       "      <td>hard_task</td>\n",
       "      <td>0.50</td>\n",
       "    </tr>\n",
       "    <tr>\n",
       "      <th>task_wPzRyQ</th>\n",
       "      <td>nozzle</td>\n",
       "      <td>hard_task</td>\n",
       "      <td>0.71</td>\n",
       "    </tr>\n",
       "    <tr>\n",
       "      <th>task_spnE9M</th>\n",
       "      <td>nozzle</td>\n",
       "      <td>easy_task</td>\n",
       "      <td>0.88</td>\n",
       "    </tr>\n",
       "  </tbody>\n",
       "</table>\n",
       "</div>"
      ],
      "text/plain": [
       "            true_answers label_task  prob_task\n",
       "task_NXkjbY          tax  easy_task       0.87\n",
       "task_b4zshQ          tax  easy_task       0.91\n",
       "task_DFVWaW       nozzle  hard_task       0.50\n",
       "task_wPzRyQ       nozzle  hard_task       0.71\n",
       "task_spnE9M       nozzle  easy_task       0.88"
      ]
     },
     "execution_count": 3,
     "metadata": {},
     "output_type": "execute_result"
    }
   ],
   "source": [
    "total_tasks = 415 \n",
    "p_hard_tasks = 0.4\n",
    "df_tasks = cs.Tasks(5).create(total_tasks, p_hard_tasks)\n",
    "df_tasks.head()"
   ]
  },
  {
   "cell_type": "markdown",
   "metadata": {},
   "source": [
    "#### Simulate the workers"
   ]
  },
  {
   "cell_type": "code",
   "execution_count": 4,
   "metadata": {},
   "outputs": [
    {
     "data": {
      "text/html": [
       "<div>\n",
       "<style scoped>\n",
       "    .dataframe tbody tr th:only-of-type {\n",
       "        vertical-align: middle;\n",
       "    }\n",
       "\n",
       "    .dataframe tbody tr th {\n",
       "        vertical-align: top;\n",
       "    }\n",
       "\n",
       "    .dataframe thead th {\n",
       "        text-align: right;\n",
       "    }\n",
       "</style>\n",
       "<table border=\"1\" class=\"dataframe\">\n",
       "  <thead>\n",
       "    <tr style=\"text-align: right;\">\n",
       "      <th></th>\n",
       "      <th>prob_worker</th>\n",
       "    </tr>\n",
       "  </thead>\n",
       "  <tbody>\n",
       "    <tr>\n",
       "      <th>c6bgrL</th>\n",
       "      <td>0.964732</td>\n",
       "    </tr>\n",
       "    <tr>\n",
       "      <th>J4WU3i</th>\n",
       "      <td>0.653160</td>\n",
       "    </tr>\n",
       "    <tr>\n",
       "      <th>waDsXx</th>\n",
       "      <td>0.734977</td>\n",
       "    </tr>\n",
       "    <tr>\n",
       "      <th>6af2m2</th>\n",
       "      <td>0.820328</td>\n",
       "    </tr>\n",
       "    <tr>\n",
       "      <th>nTDGFE</th>\n",
       "      <td>0.836270</td>\n",
       "    </tr>\n",
       "  </tbody>\n",
       "</table>\n",
       "</div>"
      ],
      "text/plain": [
       "        prob_worker\n",
       "c6bgrL     0.964732\n",
       "J4WU3i     0.653160\n",
       "waDsXx     0.734977\n",
       "6af2m2     0.820328\n",
       "nTDGFE     0.836270"
      ]
     },
     "execution_count": 4,
     "metadata": {},
     "output_type": "execute_result"
    }
   ],
   "source": [
    "total_workers = 40 #50 #30\n",
    "workers = cs.Workers().create(total_workers)\n",
    "workers.head()"
   ]
  },
  {
   "cell_type": "markdown",
   "metadata": {},
   "source": [
    "#### Split the tasks"
   ]
  },
  {
   "cell_type": "code",
   "execution_count": 5,
   "metadata": {},
   "outputs": [],
   "source": [
    "#Tasks Split\n",
    "PTT = .3\n",
    "def tasks_split(df, p = PTT):\n",
    "    _train = df.sample(frac=p, random_state=23)\n",
    "    _rest = df.loc[df.index.difference(_train.index)]\n",
    "    return _train, _rest"
   ]
  },
  {
   "cell_type": "code",
   "execution_count": 6,
   "metadata": {},
   "outputs": [],
   "source": [
    "tasks_train, tasks_rest = tasks_split(df_tasks, .3)"
   ]
  },
  {
   "cell_type": "markdown",
   "metadata": {},
   "source": [
    "#### Assigning workers to tasks"
   ]
  },
  {
   "cell_type": "code",
   "execution_count": 7,
   "metadata": {},
   "outputs": [
    {
     "data": {
      "text/html": [
       "<div>\n",
       "<style scoped>\n",
       "    .dataframe tbody tr th:only-of-type {\n",
       "        vertical-align: middle;\n",
       "    }\n",
       "\n",
       "    .dataframe tbody tr th {\n",
       "        vertical-align: top;\n",
       "    }\n",
       "\n",
       "    .dataframe thead th {\n",
       "        text-align: right;\n",
       "    }\n",
       "</style>\n",
       "<table border=\"1\" class=\"dataframe\">\n",
       "  <thead>\n",
       "    <tr style=\"text-align: right;\">\n",
       "      <th></th>\n",
       "      <th>task_id</th>\n",
       "      <th>worker_id</th>\n",
       "      <th>true_answers</th>\n",
       "      <th>label_task</th>\n",
       "      <th>prob_task</th>\n",
       "      <th>prob_worker</th>\n",
       "    </tr>\n",
       "  </thead>\n",
       "  <tbody>\n",
       "    <tr>\n",
       "      <th>0</th>\n",
       "      <td>task_w9KutQ</td>\n",
       "      <td>nveTHz</td>\n",
       "      <td>nozzle</td>\n",
       "      <td>easy_task</td>\n",
       "      <td>0.77</td>\n",
       "      <td>0.788873</td>\n",
       "    </tr>\n",
       "    <tr>\n",
       "      <th>1</th>\n",
       "      <td>task_w9KutQ</td>\n",
       "      <td>eWMRo3</td>\n",
       "      <td>nozzle</td>\n",
       "      <td>easy_task</td>\n",
       "      <td>0.77</td>\n",
       "      <td>0.944850</td>\n",
       "    </tr>\n",
       "    <tr>\n",
       "      <th>2</th>\n",
       "      <td>task_w9KutQ</td>\n",
       "      <td>4YsHNx</td>\n",
       "      <td>nozzle</td>\n",
       "      <td>easy_task</td>\n",
       "      <td>0.77</td>\n",
       "      <td>0.605178</td>\n",
       "    </tr>\n",
       "    <tr>\n",
       "      <th>3</th>\n",
       "      <td>task_w9KutQ</td>\n",
       "      <td>ryiFgi</td>\n",
       "      <td>nozzle</td>\n",
       "      <td>easy_task</td>\n",
       "      <td>0.77</td>\n",
       "      <td>0.411575</td>\n",
       "    </tr>\n",
       "    <tr>\n",
       "      <th>4</th>\n",
       "      <td>task_w9KutQ</td>\n",
       "      <td>yyNdV4</td>\n",
       "      <td>nozzle</td>\n",
       "      <td>easy_task</td>\n",
       "      <td>0.77</td>\n",
       "      <td>0.991780</td>\n",
       "    </tr>\n",
       "  </tbody>\n",
       "</table>\n",
       "</div>"
      ],
      "text/plain": [
       "       task_id worker_id true_answers label_task  prob_task  prob_worker\n",
       "0  task_w9KutQ    nveTHz       nozzle  easy_task       0.77     0.788873\n",
       "1  task_w9KutQ    eWMRo3       nozzle  easy_task       0.77     0.944850\n",
       "2  task_w9KutQ    4YsHNx       nozzle  easy_task       0.77     0.605178\n",
       "3  task_w9KutQ    ryiFgi       nozzle  easy_task       0.77     0.411575\n",
       "4  task_w9KutQ    yyNdV4       nozzle  easy_task       0.77     0.991780"
      ]
     },
     "execution_count": 7,
     "metadata": {},
     "output_type": "execute_result"
    }
   ],
   "source": [
    "wpt = 5\n",
    "#workers per task always smaller than the number of workers\n",
    "df_tw = cs.AssignTasks(tasks_train, workers, wpt).create()\n",
    "df_tw.head()"
   ]
  },
  {
   "cell_type": "markdown",
   "metadata": {},
   "source": [
    "#### Compute the probability to assess the tasks"
   ]
  },
  {
   "cell_type": "code",
   "execution_count": 8,
   "metadata": {},
   "outputs": [
    {
     "data": {
      "text/plain": [
       "array(['tax', 'nozzle', 'parks', 'instructions', 'conjecture'],\n",
       "      dtype=object)"
      ]
     },
     "execution_count": 8,
     "metadata": {},
     "output_type": "execute_result"
    }
   ],
   "source": [
    "keys = df_tasks['true_answers'].unique()\n",
    "keys"
   ]
  },
  {
   "cell_type": "code",
   "execution_count": 9,
   "metadata": {},
   "outputs": [
    {
     "data": {
      "text/html": [
       "<div>\n",
       "<style scoped>\n",
       "    .dataframe tbody tr th:only-of-type {\n",
       "        vertical-align: middle;\n",
       "    }\n",
       "\n",
       "    .dataframe tbody tr th {\n",
       "        vertical-align: top;\n",
       "    }\n",
       "\n",
       "    .dataframe thead th {\n",
       "        text-align: right;\n",
       "    }\n",
       "</style>\n",
       "<table border=\"1\" class=\"dataframe\">\n",
       "  <thead>\n",
       "    <tr style=\"text-align: right;\">\n",
       "      <th></th>\n",
       "      <th>task_id</th>\n",
       "      <th>worker_id</th>\n",
       "      <th>true_answers</th>\n",
       "      <th>label_task</th>\n",
       "      <th>prob_task</th>\n",
       "      <th>prob_worker</th>\n",
       "      <th>worker_answers</th>\n",
       "      <th>performance</th>\n",
       "    </tr>\n",
       "  </thead>\n",
       "  <tbody>\n",
       "    <tr>\n",
       "      <th>0</th>\n",
       "      <td>task_w9KutQ</td>\n",
       "      <td>nveTHz</td>\n",
       "      <td>nozzle</td>\n",
       "      <td>easy_task</td>\n",
       "      <td>0.77</td>\n",
       "      <td>0.788873</td>\n",
       "      <td>nozzle</td>\n",
       "      <td>1</td>\n",
       "    </tr>\n",
       "    <tr>\n",
       "      <th>1</th>\n",
       "      <td>task_w9KutQ</td>\n",
       "      <td>eWMRo3</td>\n",
       "      <td>nozzle</td>\n",
       "      <td>easy_task</td>\n",
       "      <td>0.77</td>\n",
       "      <td>0.944850</td>\n",
       "      <td>nozzle</td>\n",
       "      <td>1</td>\n",
       "    </tr>\n",
       "    <tr>\n",
       "      <th>2</th>\n",
       "      <td>task_w9KutQ</td>\n",
       "      <td>4YsHNx</td>\n",
       "      <td>nozzle</td>\n",
       "      <td>easy_task</td>\n",
       "      <td>0.77</td>\n",
       "      <td>0.605178</td>\n",
       "      <td>nozzle</td>\n",
       "      <td>1</td>\n",
       "    </tr>\n",
       "    <tr>\n",
       "      <th>3</th>\n",
       "      <td>task_w9KutQ</td>\n",
       "      <td>ryiFgi</td>\n",
       "      <td>nozzle</td>\n",
       "      <td>easy_task</td>\n",
       "      <td>0.77</td>\n",
       "      <td>0.411575</td>\n",
       "      <td>nozzle</td>\n",
       "      <td>1</td>\n",
       "    </tr>\n",
       "    <tr>\n",
       "      <th>4</th>\n",
       "      <td>task_w9KutQ</td>\n",
       "      <td>yyNdV4</td>\n",
       "      <td>nozzle</td>\n",
       "      <td>easy_task</td>\n",
       "      <td>0.77</td>\n",
       "      <td>0.991780</td>\n",
       "      <td>nozzle</td>\n",
       "      <td>1</td>\n",
       "    </tr>\n",
       "  </tbody>\n",
       "</table>\n",
       "</div>"
      ],
      "text/plain": [
       "       task_id worker_id true_answers label_task  prob_task  prob_worker  \\\n",
       "0  task_w9KutQ    nveTHz       nozzle  easy_task       0.77     0.788873   \n",
       "1  task_w9KutQ    eWMRo3       nozzle  easy_task       0.77     0.944850   \n",
       "2  task_w9KutQ    4YsHNx       nozzle  easy_task       0.77     0.605178   \n",
       "3  task_w9KutQ    ryiFgi       nozzle  easy_task       0.77     0.411575   \n",
       "4  task_w9KutQ    yyNdV4       nozzle  easy_task       0.77     0.991780   \n",
       "\n",
       "  worker_answers  performance  \n",
       "0         nozzle            1  \n",
       "1         nozzle            1  \n",
       "2         nozzle            1  \n",
       "3         nozzle            1  \n",
       "4         nozzle            1  "
      ]
     },
     "execution_count": 9,
     "metadata": {},
     "output_type": "execute_result"
    }
   ],
   "source": [
    "cp = cm.ComputeProbability(df_tw['prob_task'], df_tw['prob_worker'], keys)\n",
    "df_tw['worker_answers'] = cm.WorkerAnswer(cp.predict(), df_tw['true_answers'], keys).match()\n",
    "df_tw['performance'] = cp.predict()\n",
    "df_tw.head()"
   ]
  },
  {
   "cell_type": "markdown",
   "metadata": {},
   "source": [
    "#### Assess the performance and get the good workers"
   ]
  },
  {
   "cell_type": "code",
   "execution_count": 10,
   "metadata": {},
   "outputs": [
    {
     "data": {
      "text/html": [
       "<div>\n",
       "<style scoped>\n",
       "    .dataframe tbody tr th:only-of-type {\n",
       "        vertical-align: middle;\n",
       "    }\n",
       "\n",
       "    .dataframe tbody tr th {\n",
       "        vertical-align: top;\n",
       "    }\n",
       "\n",
       "    .dataframe thead th {\n",
       "        text-align: right;\n",
       "    }\n",
       "</style>\n",
       "<table border=\"1\" class=\"dataframe\">\n",
       "  <thead>\n",
       "    <tr style=\"text-align: right;\">\n",
       "      <th></th>\n",
       "      <th>prob_task</th>\n",
       "      <th>prob_worker</th>\n",
       "      <th>performance</th>\n",
       "      <th>worker_hability</th>\n",
       "      <th>tasks</th>\n",
       "    </tr>\n",
       "    <tr>\n",
       "      <th>worker_id</th>\n",
       "      <th></th>\n",
       "      <th></th>\n",
       "      <th></th>\n",
       "      <th></th>\n",
       "      <th></th>\n",
       "    </tr>\n",
       "  </thead>\n",
       "  <tbody>\n",
       "    <tr>\n",
       "      <th>44Qbis</th>\n",
       "      <td>0.701579</td>\n",
       "      <td>0.939656</td>\n",
       "      <td>1.0</td>\n",
       "      <td>good_worker</td>\n",
       "      <td>19</td>\n",
       "    </tr>\n",
       "    <tr>\n",
       "      <th>RHpT7M</th>\n",
       "      <td>0.754286</td>\n",
       "      <td>0.860358</td>\n",
       "      <td>1.0</td>\n",
       "      <td>good_worker</td>\n",
       "      <td>21</td>\n",
       "    </tr>\n",
       "    <tr>\n",
       "      <th>yyNdV4</th>\n",
       "      <td>0.758824</td>\n",
       "      <td>0.991780</td>\n",
       "      <td>1.0</td>\n",
       "      <td>good_worker</td>\n",
       "      <td>17</td>\n",
       "    </tr>\n",
       "    <tr>\n",
       "      <th>woW989</th>\n",
       "      <td>0.752667</td>\n",
       "      <td>0.980400</td>\n",
       "      <td>1.0</td>\n",
       "      <td>good_worker</td>\n",
       "      <td>15</td>\n",
       "    </tr>\n",
       "    <tr>\n",
       "      <th>v2pw3r</th>\n",
       "      <td>0.779375</td>\n",
       "      <td>0.784510</td>\n",
       "      <td>1.0</td>\n",
       "      <td>good_worker</td>\n",
       "      <td>16</td>\n",
       "    </tr>\n",
       "  </tbody>\n",
       "</table>\n",
       "</div>"
      ],
      "text/plain": [
       "           prob_task  prob_worker  performance worker_hability  tasks\n",
       "worker_id                                                            \n",
       "44Qbis      0.701579     0.939656          1.0     good_worker     19\n",
       "RHpT7M      0.754286     0.860358          1.0     good_worker     21\n",
       "yyNdV4      0.758824     0.991780          1.0     good_worker     17\n",
       "woW989      0.752667     0.980400          1.0     good_worker     15\n",
       "v2pw3r      0.779375     0.784510          1.0     good_worker     16"
      ]
     },
     "execution_count": 10,
     "metadata": {},
     "output_type": "execute_result"
    }
   ],
   "source": [
    "perf = cm.Performance(df_tw)\n",
    "df_workers = perf._workers()\n",
    "df_workers.head()"
   ]
  },
  {
   "cell_type": "code",
   "execution_count": 11,
   "metadata": {},
   "outputs": [
    {
     "data": {
      "text/html": [
       "<div>\n",
       "<style scoped>\n",
       "    .dataframe tbody tr th:only-of-type {\n",
       "        vertical-align: middle;\n",
       "    }\n",
       "\n",
       "    .dataframe tbody tr th {\n",
       "        vertical-align: top;\n",
       "    }\n",
       "\n",
       "    .dataframe thead th {\n",
       "        text-align: right;\n",
       "    }\n",
       "</style>\n",
       "<table border=\"1\" class=\"dataframe\">\n",
       "  <thead>\n",
       "    <tr style=\"text-align: right;\">\n",
       "      <th></th>\n",
       "      <th>prob_worker</th>\n",
       "    </tr>\n",
       "  </thead>\n",
       "  <tbody>\n",
       "    <tr>\n",
       "      <th>44Qbis</th>\n",
       "      <td>0.939656</td>\n",
       "    </tr>\n",
       "    <tr>\n",
       "      <th>RHpT7M</th>\n",
       "      <td>0.860358</td>\n",
       "    </tr>\n",
       "    <tr>\n",
       "      <th>woW989</th>\n",
       "      <td>0.980400</td>\n",
       "    </tr>\n",
       "    <tr>\n",
       "      <th>kDqi3j</th>\n",
       "      <td>0.956604</td>\n",
       "    </tr>\n",
       "    <tr>\n",
       "      <th>jsSqqT</th>\n",
       "      <td>0.944919</td>\n",
       "    </tr>\n",
       "    <tr>\n",
       "      <th>c6bgrL</th>\n",
       "      <td>0.964732</td>\n",
       "    </tr>\n",
       "    <tr>\n",
       "      <th>XPkAXg</th>\n",
       "      <td>0.926382</td>\n",
       "    </tr>\n",
       "    <tr>\n",
       "      <th>5ckety</th>\n",
       "      <td>0.994151</td>\n",
       "    </tr>\n",
       "    <tr>\n",
       "      <th>KSojAn</th>\n",
       "      <td>0.899101</td>\n",
       "    </tr>\n",
       "  </tbody>\n",
       "</table>\n",
       "</div>"
      ],
      "text/plain": [
       "        prob_worker\n",
       "44Qbis     0.939656\n",
       "RHpT7M     0.860358\n",
       "woW989     0.980400\n",
       "kDqi3j     0.956604\n",
       "jsSqqT     0.944919\n",
       "c6bgrL     0.964732\n",
       "XPkAXg     0.926382\n",
       "5ckety     0.994151\n",
       "KSojAn     0.899101"
      ]
     },
     "execution_count": 11,
     "metadata": {},
     "output_type": "execute_result"
    }
   ],
   "source": [
    "good_workers = workers.loc[perf.good_workers()]\n",
    "good_workers"
   ]
  },
  {
   "cell_type": "markdown",
   "metadata": {},
   "source": [
    "#### Check in case there's undone tasks (no concensus achieved)"
   ]
  },
  {
   "cell_type": "code",
   "execution_count": 12,
   "metadata": {},
   "outputs": [],
   "source": [
    "tasks = df_tw.groupby('task_id').mean().sort_values('performance', ascending=False)"
   ]
  },
  {
   "cell_type": "code",
   "execution_count": 13,
   "metadata": {},
   "outputs": [],
   "source": [
    "undone = tasks[tasks['performance'] < 0.5]\n",
    "if len(undone) > 0:\n",
    "    #paste undone to tasks_rest\n",
    "    print('There is {} tasks without concesus'.format(len(undone)))"
   ]
  },
  {
   "cell_type": "markdown",
   "metadata": {},
   "source": [
    "#### Assign the good workers to the rest of the tasks"
   ]
  },
  {
   "cell_type": "code",
   "execution_count": 14,
   "metadata": {},
   "outputs": [
    {
     "data": {
      "text/html": [
       "<div>\n",
       "<style scoped>\n",
       "    .dataframe tbody tr th:only-of-type {\n",
       "        vertical-align: middle;\n",
       "    }\n",
       "\n",
       "    .dataframe tbody tr th {\n",
       "        vertical-align: top;\n",
       "    }\n",
       "\n",
       "    .dataframe thead th {\n",
       "        text-align: right;\n",
       "    }\n",
       "</style>\n",
       "<table border=\"1\" class=\"dataframe\">\n",
       "  <thead>\n",
       "    <tr style=\"text-align: right;\">\n",
       "      <th></th>\n",
       "      <th>task_id</th>\n",
       "      <th>worker_id</th>\n",
       "      <th>true_answers</th>\n",
       "      <th>label_task</th>\n",
       "      <th>prob_task</th>\n",
       "      <th>prob_worker</th>\n",
       "    </tr>\n",
       "  </thead>\n",
       "  <tbody>\n",
       "    <tr>\n",
       "      <th>0</th>\n",
       "      <td>task_29exRM</td>\n",
       "      <td>kDqi3j</td>\n",
       "      <td>parks</td>\n",
       "      <td>hard_task</td>\n",
       "      <td>0.51</td>\n",
       "      <td>0.956604</td>\n",
       "    </tr>\n",
       "    <tr>\n",
       "      <th>1</th>\n",
       "      <td>task_29exRM</td>\n",
       "      <td>jsSqqT</td>\n",
       "      <td>parks</td>\n",
       "      <td>hard_task</td>\n",
       "      <td>0.51</td>\n",
       "      <td>0.944919</td>\n",
       "    </tr>\n",
       "    <tr>\n",
       "      <th>2</th>\n",
       "      <td>task_29exRM</td>\n",
       "      <td>c6bgrL</td>\n",
       "      <td>parks</td>\n",
       "      <td>hard_task</td>\n",
       "      <td>0.51</td>\n",
       "      <td>0.964732</td>\n",
       "    </tr>\n",
       "    <tr>\n",
       "      <th>3</th>\n",
       "      <td>task_29exRM</td>\n",
       "      <td>woW989</td>\n",
       "      <td>parks</td>\n",
       "      <td>hard_task</td>\n",
       "      <td>0.51</td>\n",
       "      <td>0.980400</td>\n",
       "    </tr>\n",
       "    <tr>\n",
       "      <th>4</th>\n",
       "      <td>task_29exRM</td>\n",
       "      <td>5ckety</td>\n",
       "      <td>parks</td>\n",
       "      <td>hard_task</td>\n",
       "      <td>0.51</td>\n",
       "      <td>0.994151</td>\n",
       "    </tr>\n",
       "  </tbody>\n",
       "</table>\n",
       "</div>"
      ],
      "text/plain": [
       "       task_id worker_id true_answers label_task  prob_task  prob_worker\n",
       "0  task_29exRM    kDqi3j        parks  hard_task       0.51     0.956604\n",
       "1  task_29exRM    jsSqqT        parks  hard_task       0.51     0.944919\n",
       "2  task_29exRM    c6bgrL        parks  hard_task       0.51     0.964732\n",
       "3  task_29exRM    woW989        parks  hard_task       0.51     0.980400\n",
       "4  task_29exRM    5ckety        parks  hard_task       0.51     0.994151"
      ]
     },
     "execution_count": 14,
     "metadata": {},
     "output_type": "execute_result"
    }
   ],
   "source": [
    "wpt = 5\n",
    "#workers per task always smaller than the number of workers\n",
    "df_tw_2 = cs.AssignTasks(tasks_rest, good_workers, wpt).create()\n",
    "df_tw_2.head()"
   ]
  },
  {
   "cell_type": "markdown",
   "metadata": {},
   "source": [
    "#### Compute probability to the rest of the tasks"
   ]
  },
  {
   "cell_type": "code",
   "execution_count": 15,
   "metadata": {},
   "outputs": [
    {
     "data": {
      "text/html": [
       "<div>\n",
       "<style scoped>\n",
       "    .dataframe tbody tr th:only-of-type {\n",
       "        vertical-align: middle;\n",
       "    }\n",
       "\n",
       "    .dataframe tbody tr th {\n",
       "        vertical-align: top;\n",
       "    }\n",
       "\n",
       "    .dataframe thead th {\n",
       "        text-align: right;\n",
       "    }\n",
       "</style>\n",
       "<table border=\"1\" class=\"dataframe\">\n",
       "  <thead>\n",
       "    <tr style=\"text-align: right;\">\n",
       "      <th></th>\n",
       "      <th>task_id</th>\n",
       "      <th>worker_id</th>\n",
       "      <th>true_answers</th>\n",
       "      <th>label_task</th>\n",
       "      <th>prob_task</th>\n",
       "      <th>prob_worker</th>\n",
       "      <th>worker_answers</th>\n",
       "      <th>performance</th>\n",
       "    </tr>\n",
       "  </thead>\n",
       "  <tbody>\n",
       "    <tr>\n",
       "      <th>0</th>\n",
       "      <td>task_29exRM</td>\n",
       "      <td>kDqi3j</td>\n",
       "      <td>parks</td>\n",
       "      <td>hard_task</td>\n",
       "      <td>0.51</td>\n",
       "      <td>0.956604</td>\n",
       "      <td>parks</td>\n",
       "      <td>1</td>\n",
       "    </tr>\n",
       "    <tr>\n",
       "      <th>1</th>\n",
       "      <td>task_29exRM</td>\n",
       "      <td>jsSqqT</td>\n",
       "      <td>parks</td>\n",
       "      <td>hard_task</td>\n",
       "      <td>0.51</td>\n",
       "      <td>0.944919</td>\n",
       "      <td>parks</td>\n",
       "      <td>1</td>\n",
       "    </tr>\n",
       "    <tr>\n",
       "      <th>2</th>\n",
       "      <td>task_29exRM</td>\n",
       "      <td>c6bgrL</td>\n",
       "      <td>parks</td>\n",
       "      <td>hard_task</td>\n",
       "      <td>0.51</td>\n",
       "      <td>0.964732</td>\n",
       "      <td>parks</td>\n",
       "      <td>1</td>\n",
       "    </tr>\n",
       "    <tr>\n",
       "      <th>3</th>\n",
       "      <td>task_29exRM</td>\n",
       "      <td>woW989</td>\n",
       "      <td>parks</td>\n",
       "      <td>hard_task</td>\n",
       "      <td>0.51</td>\n",
       "      <td>0.980400</td>\n",
       "      <td>parks</td>\n",
       "      <td>1</td>\n",
       "    </tr>\n",
       "    <tr>\n",
       "      <th>4</th>\n",
       "      <td>task_29exRM</td>\n",
       "      <td>5ckety</td>\n",
       "      <td>parks</td>\n",
       "      <td>hard_task</td>\n",
       "      <td>0.51</td>\n",
       "      <td>0.994151</td>\n",
       "      <td>parks</td>\n",
       "      <td>1</td>\n",
       "    </tr>\n",
       "  </tbody>\n",
       "</table>\n",
       "</div>"
      ],
      "text/plain": [
       "       task_id worker_id true_answers label_task  prob_task  prob_worker  \\\n",
       "0  task_29exRM    kDqi3j        parks  hard_task       0.51     0.956604   \n",
       "1  task_29exRM    jsSqqT        parks  hard_task       0.51     0.944919   \n",
       "2  task_29exRM    c6bgrL        parks  hard_task       0.51     0.964732   \n",
       "3  task_29exRM    woW989        parks  hard_task       0.51     0.980400   \n",
       "4  task_29exRM    5ckety        parks  hard_task       0.51     0.994151   \n",
       "\n",
       "  worker_answers  performance  \n",
       "0          parks            1  \n",
       "1          parks            1  \n",
       "2          parks            1  \n",
       "3          parks            1  \n",
       "4          parks            1  "
      ]
     },
     "execution_count": 15,
     "metadata": {},
     "output_type": "execute_result"
    }
   ],
   "source": [
    "cp2 = cm.ComputeProbability(df_tw_2['prob_task'], df_tw_2['prob_worker'], keys)\n",
    "df_tw_2['worker_answers'] = cm.WorkerAnswer(cp2.predict(), df_tw_2['true_answers'], keys).match()\n",
    "df_tw_2['performance'] = cp2.predict()\n",
    "df_tw_2.head()"
   ]
  },
  {
   "cell_type": "markdown",
   "metadata": {},
   "source": [
    "#### Merge the data and get the real accuracy"
   ]
  },
  {
   "cell_type": "code",
   "execution_count": 16,
   "metadata": {},
   "outputs": [],
   "source": [
    "df = df_tw.append(df_tw_2)"
   ]
  },
  {
   "cell_type": "code",
   "execution_count": 20,
   "metadata": {},
   "outputs": [
    {
     "name": "stdout",
     "output_type": "stream",
     "text": [
      "Predict          conjectureinstructionsnozzle   parks    tax      \n",
      "Actual\n",
      "conjecture       419      0        2        0        4        \n",
      "instructions     3        405      1        4        2        \n",
      "nozzle           1        1        316      1        1        \n",
      "parks            3        5        3        450      4        \n",
      "tax              2        0        8        1        439      \n",
      "\n",
      "0.9778313253012049 None\n"
     ]
    }
   ],
   "source": [
    "from pycm import *\n",
    "mat = ConfusionMatrix(df['true_answers'].tolist(), df['worker_answers'].tolist())\n",
    "print(mat.Overall_ACC, mat.matrix())"
   ]
  },
  {
   "cell_type": "markdown",
   "metadata": {},
   "source": [
    "#### Compare with 1 stage"
   ]
  },
  {
   "cell_type": "code",
   "execution_count": 21,
   "metadata": {},
   "outputs": [],
   "source": [
    "df_tw1 = cs.AssignTasks(df_tasks, workers, wpt).create()\n",
    "cp1 = cm.ComputeProbability(df_tw1['prob_task'], df_tw1['prob_worker'], keys)\n",
    "df_tw1['worker_answers'] = cm.WorkerAnswer(cp1.predict(), df_tw1['true_answers'], keys).match()\n",
    "df_tw1['performance'] = cp1.predict()"
   ]
  },
  {
   "cell_type": "code",
   "execution_count": 22,
   "metadata": {},
   "outputs": [
    {
     "name": "stdout",
     "output_type": "stream",
     "text": [
      "Predict          conjectureinstructionsnozzle   parks    tax      \n",
      "Actual\n",
      "conjecture       399      5        4        9        8        \n",
      "instructions     9        389      8        4        5        \n",
      "nozzle           5        6        303      5        1        \n",
      "parks            8        5        6        440      6        \n",
      "tax              5        11       9        7        418      \n",
      "\n",
      "0.9392771084337349 None\n"
     ]
    }
   ],
   "source": [
    "mat = ConfusionMatrix(df_tw1['true_answers'].tolist(), df_tw1['worker_answers'].tolist())\n",
    "print(mat.Overall_ACC, mat.matrix())"
   ]
  },
  {
   "cell_type": "markdown",
   "metadata": {},
   "source": [
    "#####  The accuracy of 1 stage algorithm is lower than the 2 stages algorithm *"
   ]
  },
  {
   "cell_type": "markdown",
   "metadata": {},
   "source": [
    "---\n",
    "### Get Accuracy one function"
   ]
  },
  {
   "cell_type": "code",
   "execution_count": 10,
   "metadata": {},
   "outputs": [],
   "source": [
    "import sys\n",
    "sys.path.insert(0, '/Users/pedrohserrano/crowdED/crowded') \n",
    "import simulate as cs\n",
    "import method as cm\n",
    "from pycm import *"
   ]
  },
  {
   "cell_type": "code",
   "execution_count": 20,
   "metadata": {},
   "outputs": [],
   "source": [
    "total_tasks = 415 \n",
    "total_workers = 40 \n",
    "p_hard_tasks = 0.4\n",
    "PTT = .3\n",
    "wpt = 5\n",
    "NK = 5"
   ]
  },
  {
   "cell_type": "code",
   "execution_count": 7,
   "metadata": {},
   "outputs": [],
   "source": [
    "PTT = .3\n",
    "def tasks_split(df, p = PTT):\n",
    "    _train = df.sample(frac=p, random_state=23)\n",
    "    _rest = df.loc[df.index.difference(_train.index)]\n",
    "    return _train, _rest"
   ]
  },
  {
   "cell_type": "code",
   "execution_count": 11,
   "metadata": {},
   "outputs": [],
   "source": [
    "def get_accuracy(total_tasks=100, total_workers=30, p_hard_tasks = 0.4, PTT = .3, wpt = 5, NK = 5):\n",
    "    df_tasks = cs.Tasks(NK).create(total_tasks, p_hard_tasks)\n",
    "    workers = cs.Workers().create(total_workers)\n",
    "    keys = df_tasks['true_answers'].unique()\n",
    "    tasks_train, tasks_rest = tasks_split(df_tasks, .3)\n",
    "    df_tw = cs.AssignTasks(tasks_train, workers, wpt).create()\n",
    "    cp = cm.ComputeProbability(df_tw['prob_task'], df_tw['prob_worker'], keys)\n",
    "    df_tw['worker_answers'] = cm.WorkerAnswer(cp.predict(), df_tw['true_answers'], keys).match()\n",
    "    df_tw['performance'] = cp.predict()\n",
    "    perf = cm.Performance(df_tw)\n",
    "    df_workers = perf._workers()\n",
    "    good_workers = workers.loc[perf.good_workers()]\n",
    "    df_tw_2 = cs.AssignTasks(tasks_rest, good_workers, wpt).create()\n",
    "    cp2 = cm.ComputeProbability(df_tw_2['prob_task'], df_tw_2['prob_worker'], keys)\n",
    "    df_tw_2['worker_answers'] = cm.WorkerAnswer(cp2.predict(), df_tw_2['true_answers'], keys).match()\n",
    "    df_tw_2['performance'] = cp2.predict()\n",
    "    df = df_tw.append(df_tw_2)\n",
    "    mat = ConfusionMatrix(df['true_answers'].tolist(), df['worker_answers'].tolist())\n",
    "    return mat.Overall_ACC"
   ]
  },
  {
   "cell_type": "code",
   "execution_count": 15,
   "metadata": {},
   "outputs": [
    {
     "data": {
      "text/plain": [
       "0.948"
      ]
     },
     "execution_count": 15,
     "metadata": {},
     "output_type": "execute_result"
    }
   ],
   "source": [
    "get_accuracy()"
   ]
  },
  {
   "cell_type": "code",
   "execution_count": null,
   "metadata": {},
   "outputs": [],
   "source": []
  }
 ],
 "metadata": {
  "kernelspec": {
   "display_name": "Python 3",
   "language": "python",
   "name": "python3"
  },
  "language_info": {
   "codemirror_mode": {
    "name": "ipython",
    "version": 3
   },
   "file_extension": ".py",
   "mimetype": "text/x-python",
   "name": "python",
   "nbconvert_exporter": "python",
   "pygments_lexer": "ipython3",
   "version": "3.6.5"
  }
 },
 "nbformat": 4,
 "nbformat_minor": 2
}
