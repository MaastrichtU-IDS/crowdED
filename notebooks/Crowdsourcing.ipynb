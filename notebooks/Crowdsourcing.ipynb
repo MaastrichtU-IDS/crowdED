{
 "cells": [
  {
   "cell_type": "markdown",
   "metadata": {},
   "source": [
    "## CrowdED: Crowdsourcing task optimization\n",
    "---\n",
    "The research question we aim to answer is: \"Can we a-priori estimate optimal workers and tasks' assignment to obtain maximum accuracy on all tasks?\"\n",
    "\n",
    "*This notebook takes step by step the construction of the crowdED module*"
   ]
  },
  {
   "cell_type": "code",
   "execution_count": 6,
   "metadata": {},
   "outputs": [],
   "source": [
    "import matplotlib.pyplot as plt\n",
    "import seaborn as sns\n",
    "import warnings\n",
    "warnings.filterwarnings('ignore')\n",
    "%matplotlib inline"
   ]
  },
  {
   "cell_type": "markdown",
   "metadata": {},
   "source": [
    "---\n",
    "### Data preparation: Tasks and Workers Dataframe Construction"
   ]
  },
  {
   "cell_type": "code",
   "execution_count": 7,
   "metadata": {},
   "outputs": [],
   "source": [
    "total_tasks = 415 #342 #100"
   ]
  },
  {
   "cell_type": "code",
   "execution_count": 8,
   "metadata": {},
   "outputs": [],
   "source": [
    "total_workers = 40 #50 #30"
   ]
  },
  {
   "cell_type": "code",
   "execution_count": 9,
   "metadata": {},
   "outputs": [],
   "source": [
    "p_hard_tasks = 0.4"
   ]
  },
  {
   "cell_type": "markdown",
   "metadata": {},
   "source": [
    "Next, we randomly assign (without [replacement](https://www.ma.utexas.edu/users/parker/sampling/repl.htm)) which tasks easy/hard based on the proportions specified."
   ]
  },
  {
   "cell_type": "markdown",
   "metadata": {},
   "source": [
    "#### Tasks and True Answers (Gold)"
   ]
  },
  {
   "cell_type": "markdown",
   "metadata": {},
   "source": [
    "In our simulation, the task is that the worker has to choose one out of the five given answers. Here, we simulate the true answer for each worker-task pair."
   ]
  },
  {
   "cell_type": "markdown",
   "metadata": {},
   "source": [
    "It is needed one of the keys for the answer"
   ]
  },
  {
   "cell_type": "code",
   "execution_count": 1,
   "metadata": {},
   "outputs": [],
   "source": [
    "import sys\n",
    "import numpy as np\n",
    "import pandas as pd\n",
    "import shortuuid as uid\n",
    "from random_words import RandomWords\n",
    "\n",
    "KEYS = 7\n",
    "HARD = 0.2\n",
    "LEN = 6\n",
    "N = 10\n",
    "\n",
    "class Tasks(object):\n",
    "    def __init__(self, keys=KEYS, length=LEN):\n",
    "        self.length = length\n",
    "        self.keys = keys\n",
    "    \n",
    "    def _generate_tasks(self, n=N):\n",
    "        return ['task_'+uid.ShortUUID().random(length=self.length) for i in range(n)]\n",
    "    \n",
    "    def _random_words(self):\n",
    "        key = RandomWords().random_words(count=self.keys)\n",
    "        #print('Generated Random Key: {}\\n'.format(key))\n",
    "        return key\n",
    "    \n",
    "    def _true_answer(self, n=N):\n",
    "        return [answer for answer in np.random.choice(self._random_words(), n)]\n",
    "    \n",
    "    def create(self, n=N, h=HARD):\n",
    "        e = 1-h; cut_tasks = 0.75#; print('Percentage of Hard Tasks: {}'.format(HARD))\n",
    "        tasks = self._generate_tasks(n)\n",
    "        probs_tasks = []\n",
    "        easy_tasks = [task for task in np.random.choice(tasks, int(round(e*n,0)), replace=False)]\n",
    "        hard_tasks = [task for task in set(tasks)-set(easy_tasks)]\n",
    "        df = pd.DataFrame()\n",
    "        #df['task_id'] = tasks\n",
    "        df['true_answers'] = self._true_answer(n)\n",
    "        df.index = tasks\n",
    "        df['label_task'] = ['hard_task' if tasks[i] in hard_tasks else 'easy_task' for i in range(n)]\n",
    "        for i in df['label_task']:\n",
    "            if i == 'easy_task': #uniform from .75 to 1\n",
    "                probs_tasks.append(np.random.choice((np.arange(cut_tasks, 1, 0.01)), 1)) #a random number form cut to 1\n",
    "            elif i == 'hard_task': #uniform from .5 to .75\n",
    "                probs_tasks.append(np.random.choice((np.arange(0.5, cut_tasks, 0.01)), 1)) #a random number form chance to cut\n",
    "            else: probs_tasks.append(1)\n",
    "        \n",
    "        df['prob_task'] = [item for prob in probs_tasks for item in prob]\n",
    "        return df"
   ]
  },
  {
   "cell_type": "code",
   "execution_count": 11,
   "metadata": {},
   "outputs": [
    {
     "data": {
      "text/html": [
       "<div>\n",
       "<style scoped>\n",
       "    .dataframe tbody tr th:only-of-type {\n",
       "        vertical-align: middle;\n",
       "    }\n",
       "\n",
       "    .dataframe tbody tr th {\n",
       "        vertical-align: top;\n",
       "    }\n",
       "\n",
       "    .dataframe thead th {\n",
       "        text-align: right;\n",
       "    }\n",
       "</style>\n",
       "<table border=\"1\" class=\"dataframe\">\n",
       "  <thead>\n",
       "    <tr style=\"text-align: right;\">\n",
       "      <th></th>\n",
       "      <th>true_answers</th>\n",
       "      <th>label_task</th>\n",
       "      <th>prob_task</th>\n",
       "    </tr>\n",
       "  </thead>\n",
       "  <tbody>\n",
       "    <tr>\n",
       "      <th>task_pdS8zH</th>\n",
       "      <td>medals</td>\n",
       "      <td>easy_task</td>\n",
       "      <td>0.93</td>\n",
       "    </tr>\n",
       "    <tr>\n",
       "      <th>task_Me2SrQ</th>\n",
       "      <td>medals</td>\n",
       "      <td>easy_task</td>\n",
       "      <td>0.85</td>\n",
       "    </tr>\n",
       "    <tr>\n",
       "      <th>task_ajyKEV</th>\n",
       "      <td>medals</td>\n",
       "      <td>easy_task</td>\n",
       "      <td>0.78</td>\n",
       "    </tr>\n",
       "    <tr>\n",
       "      <th>task_8qQ8Tk</th>\n",
       "      <td>components</td>\n",
       "      <td>easy_task</td>\n",
       "      <td>0.92</td>\n",
       "    </tr>\n",
       "    <tr>\n",
       "      <th>task_UVySyX</th>\n",
       "      <td>comments</td>\n",
       "      <td>easy_task</td>\n",
       "      <td>0.87</td>\n",
       "    </tr>\n",
       "  </tbody>\n",
       "</table>\n",
       "</div>"
      ],
      "text/plain": [
       "            true_answers label_task  prob_task\n",
       "task_pdS8zH       medals  easy_task       0.93\n",
       "task_Me2SrQ       medals  easy_task       0.85\n",
       "task_ajyKEV       medals  easy_task       0.78\n",
       "task_8qQ8Tk   components  easy_task       0.92\n",
       "task_UVySyX     comments  easy_task       0.87"
      ]
     },
     "execution_count": 11,
     "metadata": {},
     "output_type": "execute_result"
    }
   ],
   "source": [
    "df_tasks = Tasks(5).create(total_tasks, p_hard_tasks)\n",
    "df_tasks.head()"
   ]
  },
  {
   "cell_type": "code",
   "execution_count": 12,
   "metadata": {},
   "outputs": [
    {
     "data": {
      "text/plain": [
       "Index(['task_pdS8zH', 'task_Me2SrQ', 'task_ajyKEV', 'task_8qQ8Tk',\n",
       "       'task_UVySyX', 'task_YW99Z9', 'task_TRyGBV', 'task_e3yJKu',\n",
       "       'task_n9WY2W', 'task_UKgMX2',\n",
       "       ...\n",
       "       'task_4Upe7W', 'task_qmfpMN', 'task_eGEqdj', 'task_NqdSFq',\n",
       "       'task_jVvH4f', 'task_9HPfF6', 'task_DHU5YS', 'task_y7q5dM',\n",
       "       'task_Nuxq4B', 'task_NUPKsT'],\n",
       "      dtype='object', length=415)"
      ]
     },
     "execution_count": 12,
     "metadata": {},
     "output_type": "execute_result"
    }
   ],
   "source": [
    "df_tasks.index"
   ]
  },
  {
   "cell_type": "markdown",
   "metadata": {},
   "source": [
    "### Workers and Distribution"
   ]
  },
  {
   "cell_type": "code",
   "execution_count": 2,
   "metadata": {},
   "outputs": [],
   "source": [
    "import sys\n",
    "import pandas as pd\n",
    "import shortuuid as uid\n",
    "from scipy.stats import beta\n",
    "\n",
    "LEN = 6\n",
    "N = 10\n",
    "a = 5 #10\n",
    "b = 1\n",
    "\n",
    "class Workers(object):\n",
    "    def __init__(self, alpha=a, beta=b, length=LEN):\n",
    "        self.length = length\n",
    "        self.alpha = alpha\n",
    "        self.beta = beta\n",
    "        \n",
    "    def create(self, n=N):\n",
    "        df = pd.DataFrame({'prob_worker':beta.rvs(self.alpha, self.beta, size=n)})\n",
    "        df.index = [uid.ShortUUID().random(self.length) for i in range(n)]\n",
    "        return df"
   ]
  },
  {
   "cell_type": "code",
   "execution_count": 14,
   "metadata": {},
   "outputs": [
    {
     "data": {
      "text/html": [
       "<div>\n",
       "<style scoped>\n",
       "    .dataframe tbody tr th:only-of-type {\n",
       "        vertical-align: middle;\n",
       "    }\n",
       "\n",
       "    .dataframe tbody tr th {\n",
       "        vertical-align: top;\n",
       "    }\n",
       "\n",
       "    .dataframe thead th {\n",
       "        text-align: right;\n",
       "    }\n",
       "</style>\n",
       "<table border=\"1\" class=\"dataframe\">\n",
       "  <thead>\n",
       "    <tr style=\"text-align: right;\">\n",
       "      <th></th>\n",
       "      <th>prob_worker</th>\n",
       "    </tr>\n",
       "  </thead>\n",
       "  <tbody>\n",
       "    <tr>\n",
       "      <th>ZgKoxZ</th>\n",
       "      <td>0.899058</td>\n",
       "    </tr>\n",
       "    <tr>\n",
       "      <th>oev8At</th>\n",
       "      <td>0.985305</td>\n",
       "    </tr>\n",
       "    <tr>\n",
       "      <th>4eEAjG</th>\n",
       "      <td>0.719079</td>\n",
       "    </tr>\n",
       "    <tr>\n",
       "      <th>dXFwEU</th>\n",
       "      <td>0.938139</td>\n",
       "    </tr>\n",
       "    <tr>\n",
       "      <th>QswzdS</th>\n",
       "      <td>0.424661</td>\n",
       "    </tr>\n",
       "  </tbody>\n",
       "</table>\n",
       "</div>"
      ],
      "text/plain": [
       "        prob_worker\n",
       "ZgKoxZ     0.899058\n",
       "oev8At     0.985305\n",
       "4eEAjG     0.719079\n",
       "dXFwEU     0.938139\n",
       "QswzdS     0.424661"
      ]
     },
     "execution_count": 14,
     "metadata": {},
     "output_type": "execute_result"
    }
   ],
   "source": [
    "df_workers = Workers().create(total_workers)\n",
    "df_workers.head()"
   ]
  },
  {
   "cell_type": "code",
   "execution_count": 15,
   "metadata": {},
   "outputs": [
    {
     "data": {
      "text/plain": [
       "Index(['ZgKoxZ', 'oev8At', '4eEAjG', 'dXFwEU', 'QswzdS', 'd9s8F4', 'amhSxX',\n",
       "       '4GiQsL', 'pnkanh', 'vdWqpq', 'WJo9g8', '3MB8n6', 'qkqqhJ', 'ipdqkr',\n",
       "       'zNJNPg', '85Hz6X', '4sm8q8', 'mQigpE', 'SvJykZ', 'R3LaCS', 'BJZvA7',\n",
       "       '8TMwsu', 'BZvpQE', 'zqSceK', 'bBd7op', 'gqe73J', 's5xwUM', 'AmMJe5',\n",
       "       'RNF4fo', 'JzvUsB', 'ABUg4T', 'M7EJBM', 'wAjFWE', 'KrkVWn', 'VBgyfu',\n",
       "       'uNTazC', '9fyFAp', 'iNf9Qg', 'axyUud', 'YyV8z2'],\n",
       "      dtype='object')"
      ]
     },
     "execution_count": 15,
     "metadata": {},
     "output_type": "execute_result"
    }
   ],
   "source": [
    "df_workers.index"
   ]
  },
  {
   "cell_type": "markdown",
   "metadata": {},
   "source": [
    "---\n",
    "In this step, we first calculate the exact probabilities of getting the answer right for each worker and each task."
   ]
  },
  {
   "cell_type": "markdown",
   "metadata": {},
   "source": [
    "Since the ability is unknown before the task is undertaken, we use a beta distribution to model the distribution of worker ability. Its probability density function $f(x|a, v)$ is given by "
   ]
  },
  {
   "cell_type": "markdown",
   "metadata": {},
   "source": [
    "$$\n",
    "f(x|a,v) = Beta (\\frac{a}{\\min(a,1-a)v}, \\frac{(1-a)}{\\min(a,1-a)v})\n",
    "$$"
   ]
  },
  {
   "cell_type": "markdown",
   "metadata": {},
   "source": [
    "Here a ∈ (0, 1) is the normalized value of the average ability of the workers in the crowdsourcing platform.  \n",
    "v ∈ (0, 1) is a parameter that determines the variance in worker ability  \n",
    "[Paper](https://aaai.org/ocs/index.php/HCOMP/HCOMP16/paper/viewFile/14047/13632)  "
   ]
  },
  {
   "cell_type": "code",
   "execution_count": 16,
   "metadata": {},
   "outputs": [
    {
     "name": "stdout",
     "output_type": "stream",
     "text": [
      "Mean probability 0.8332654160391514\n"
     ]
    },
    {
     "data": {
      "image/png": "[encoded data removed]",
      "text/plain": [
       "<Figure size 432x288 with 1 Axes>"
      ]
     },
     "metadata": {},
     "output_type": "display_data"
    }
   ],
   "source": [
    "data_beta = beta.rvs(5, 1, size=10000)\n",
    "sns.distplot(data_beta, kde=False, bins=100)\n",
    "print('Mean probability {}'.format(np.mean(data_beta)))"
   ]
  },
  {
   "cell_type": "markdown",
   "metadata": {},
   "source": [
    "In general we have good workers, on average the 90% of chances to getting the answer right"
   ]
  },
  {
   "cell_type": "markdown",
   "metadata": {},
   "source": [
    "---"
   ]
  },
  {
   "cell_type": "markdown",
   "metadata": {},
   "source": [
    "#### Summary of aggregated probabilities"
   ]
  },
  {
   "cell_type": "code",
   "execution_count": 17,
   "metadata": {},
   "outputs": [
    {
     "data": {
      "text/html": [
       "<div>\n",
       "<style scoped>\n",
       "    .dataframe tbody tr th:only-of-type {\n",
       "        vertical-align: middle;\n",
       "    }\n",
       "\n",
       "    .dataframe tbody tr th {\n",
       "        vertical-align: top;\n",
       "    }\n",
       "\n",
       "    .dataframe thead tr th {\n",
       "        text-align: left;\n",
       "    }\n",
       "\n",
       "    .dataframe thead tr:last-of-type th {\n",
       "        text-align: right;\n",
       "    }\n",
       "</style>\n",
       "<table border=\"1\" class=\"dataframe\">\n",
       "  <thead>\n",
       "    <tr>\n",
       "      <th></th>\n",
       "      <th colspan=\"2\" halign=\"left\">prob_task</th>\n",
       "    </tr>\n",
       "    <tr>\n",
       "      <th></th>\n",
       "      <th>mean</th>\n",
       "      <th>count</th>\n",
       "    </tr>\n",
       "    <tr>\n",
       "      <th>label_task</th>\n",
       "      <th></th>\n",
       "      <th></th>\n",
       "    </tr>\n",
       "  </thead>\n",
       "  <tbody>\n",
       "    <tr>\n",
       "      <th>easy_task</th>\n",
       "      <td>0.871606</td>\n",
       "      <td>249</td>\n",
       "    </tr>\n",
       "    <tr>\n",
       "      <th>hard_task</th>\n",
       "      <td>0.620843</td>\n",
       "      <td>166</td>\n",
       "    </tr>\n",
       "  </tbody>\n",
       "</table>\n",
       "</div>"
      ],
      "text/plain": [
       "           prob_task      \n",
       "                mean count\n",
       "label_task                \n",
       "easy_task   0.871606   249\n",
       "hard_task   0.620843   166"
      ]
     },
     "execution_count": 17,
     "metadata": {},
     "output_type": "execute_result"
    }
   ],
   "source": [
    "df_tasks.groupby('label_task').agg(['mean','count'])"
   ]
  },
  {
   "cell_type": "code",
   "execution_count": 18,
   "metadata": {},
   "outputs": [
    {
     "data": {
      "text/html": [
       "<div>\n",
       "<style scoped>\n",
       "    .dataframe tbody tr th:only-of-type {\n",
       "        vertical-align: middle;\n",
       "    }\n",
       "\n",
       "    .dataframe tbody tr th {\n",
       "        vertical-align: top;\n",
       "    }\n",
       "\n",
       "    .dataframe thead th {\n",
       "        text-align: right;\n",
       "    }\n",
       "</style>\n",
       "<table border=\"1\" class=\"dataframe\">\n",
       "  <thead>\n",
       "    <tr style=\"text-align: right;\">\n",
       "      <th></th>\n",
       "      <th>prob_worker</th>\n",
       "    </tr>\n",
       "  </thead>\n",
       "  <tbody>\n",
       "    <tr>\n",
       "      <th>count</th>\n",
       "      <td>40.000000</td>\n",
       "    </tr>\n",
       "    <tr>\n",
       "      <th>mean</th>\n",
       "      <td>0.795465</td>\n",
       "    </tr>\n",
       "    <tr>\n",
       "      <th>std</th>\n",
       "      <td>0.161617</td>\n",
       "    </tr>\n",
       "    <tr>\n",
       "      <th>min</th>\n",
       "      <td>0.409390</td>\n",
       "    </tr>\n",
       "    <tr>\n",
       "      <th>25%</th>\n",
       "      <td>0.675975</td>\n",
       "    </tr>\n",
       "    <tr>\n",
       "      <th>50%</th>\n",
       "      <td>0.845601</td>\n",
       "    </tr>\n",
       "    <tr>\n",
       "      <th>75%</th>\n",
       "      <td>0.920319</td>\n",
       "    </tr>\n",
       "    <tr>\n",
       "      <th>max</th>\n",
       "      <td>0.994599</td>\n",
       "    </tr>\n",
       "  </tbody>\n",
       "</table>\n",
       "</div>"
      ],
      "text/plain": [
       "       prob_worker\n",
       "count    40.000000\n",
       "mean      0.795465\n",
       "std       0.161617\n",
       "min       0.409390\n",
       "25%       0.675975\n",
       "50%       0.845601\n",
       "75%       0.920319\n",
       "max       0.994599"
      ]
     },
     "execution_count": 18,
     "metadata": {},
     "output_type": "execute_result"
    }
   ],
   "source": [
    "df_workers.describe()"
   ]
  },
  {
   "cell_type": "markdown",
   "metadata": {},
   "source": [
    "--- "
   ]
  },
  {
   "cell_type": "markdown",
   "metadata": {},
   "source": [
    "### Creating a task-worker assignation"
   ]
  },
  {
   "cell_type": "markdown",
   "metadata": {},
   "source": [
    "this function has to eat btw the 2 df result from the previous functions"
   ]
  },
  {
   "cell_type": "code",
   "execution_count": 19,
   "metadata": {},
   "outputs": [],
   "source": [
    "wpt = 5\n",
    "#workers per task always smaller than the number of workers"
   ]
  },
  {
   "cell_type": "code",
   "execution_count": 3,
   "metadata": {},
   "outputs": [],
   "source": [
    "import pandas as pd\n",
    "import numpy as np\n",
    "\n",
    "WPT = 3\n",
    "\n",
    "class AssignTasks(object):\n",
    "    def __init__(self, tasks, workers, wpt=WPT):\n",
    "        self.wpt = wpt\n",
    "        self.tasks = tasks\n",
    "        self.workers = workers\n",
    "    \n",
    "    def _worker_assign(self):\n",
    "        if self.wpt > len(self.workers):\n",
    "            raise Exception('Number of workers per task must be smaller than the number of workers!')\n",
    "        return [worker for i in [np.random.choice(self.workers.index, self.wpt, replace=False) for task in self.tasks.index] for worker in i]\n",
    "    \n",
    "    def _task_asssign(self):\n",
    "        if self.wpt % 2 == 0:\n",
    "            raise Exception('Number of workers per task must be odd!')\n",
    "        return [item for k in [[self.tasks.index[i]]*self.wpt for i in range(len(self.tasks.index))] for item in k]\n",
    "    \n",
    "    def create(self):\n",
    "        df = pd.DataFrame({'task_id':self._task_asssign(), \n",
    "                           'worker_id':self._worker_assign()})\n",
    "        df = pd.merge(df, self.tasks, left_on='task_id', right_index=True, how='left')\n",
    "        df = pd.merge(df, self.workers, left_on='worker_id', right_index= True, how='left')\n",
    "        return df"
   ]
  },
  {
   "cell_type": "code",
   "execution_count": 21,
   "metadata": {},
   "outputs": [
    {
     "data": {
      "text/html": [
       "<div>\n",
       "<style scoped>\n",
       "    .dataframe tbody tr th:only-of-type {\n",
       "        vertical-align: middle;\n",
       "    }\n",
       "\n",
       "    .dataframe tbody tr th {\n",
       "        vertical-align: top;\n",
       "    }\n",
       "\n",
       "    .dataframe thead th {\n",
       "        text-align: right;\n",
       "    }\n",
       "</style>\n",
       "<table border=\"1\" class=\"dataframe\">\n",
       "  <thead>\n",
       "    <tr style=\"text-align: right;\">\n",
       "      <th></th>\n",
       "      <th>task_id</th>\n",
       "      <th>worker_id</th>\n",
       "      <th>true_answers</th>\n",
       "      <th>label_task</th>\n",
       "      <th>prob_task</th>\n",
       "      <th>prob_worker</th>\n",
       "    </tr>\n",
       "  </thead>\n",
       "  <tbody>\n",
       "    <tr>\n",
       "      <th>0</th>\n",
       "      <td>task_pdS8zH</td>\n",
       "      <td>gqe73J</td>\n",
       "      <td>medals</td>\n",
       "      <td>easy_task</td>\n",
       "      <td>0.93</td>\n",
       "      <td>0.978348</td>\n",
       "    </tr>\n",
       "    <tr>\n",
       "      <th>1</th>\n",
       "      <td>task_pdS8zH</td>\n",
       "      <td>JzvUsB</td>\n",
       "      <td>medals</td>\n",
       "      <td>easy_task</td>\n",
       "      <td>0.93</td>\n",
       "      <td>0.662211</td>\n",
       "    </tr>\n",
       "    <tr>\n",
       "      <th>2</th>\n",
       "      <td>task_pdS8zH</td>\n",
       "      <td>d9s8F4</td>\n",
       "      <td>medals</td>\n",
       "      <td>easy_task</td>\n",
       "      <td>0.93</td>\n",
       "      <td>0.726437</td>\n",
       "    </tr>\n",
       "    <tr>\n",
       "      <th>3</th>\n",
       "      <td>task_pdS8zH</td>\n",
       "      <td>axyUud</td>\n",
       "      <td>medals</td>\n",
       "      <td>easy_task</td>\n",
       "      <td>0.93</td>\n",
       "      <td>0.848700</td>\n",
       "    </tr>\n",
       "    <tr>\n",
       "      <th>4</th>\n",
       "      <td>task_pdS8zH</td>\n",
       "      <td>QswzdS</td>\n",
       "      <td>medals</td>\n",
       "      <td>easy_task</td>\n",
       "      <td>0.93</td>\n",
       "      <td>0.424661</td>\n",
       "    </tr>\n",
       "  </tbody>\n",
       "</table>\n",
       "</div>"
      ],
      "text/plain": [
       "       task_id worker_id true_answers label_task  prob_task  prob_worker\n",
       "0  task_pdS8zH    gqe73J       medals  easy_task       0.93     0.978348\n",
       "1  task_pdS8zH    JzvUsB       medals  easy_task       0.93     0.662211\n",
       "2  task_pdS8zH    d9s8F4       medals  easy_task       0.93     0.726437\n",
       "3  task_pdS8zH    axyUud       medals  easy_task       0.93     0.848700\n",
       "4  task_pdS8zH    QswzdS       medals  easy_task       0.93     0.424661"
      ]
     },
     "execution_count": 21,
     "metadata": {},
     "output_type": "execute_result"
    }
   ],
   "source": [
    "df_tw = AssignTasks(df_tasks, df_workers, wpt).create()\n",
    "df_tw.head()"
   ]
  },
  {
   "cell_type": "code",
   "execution_count": 22,
   "metadata": {},
   "outputs": [],
   "source": [
    "#aggregation of the tasks\n",
    "_agg = df_tw.groupby('worker_id').agg('count')['task_id']\n",
    "_agg.name = 'tasks'"
   ]
  },
  {
   "cell_type": "code",
   "execution_count": 23,
   "metadata": {},
   "outputs": [
    {
     "data": {
      "text/plain": [
       "worker_id\n",
       "d9s8F4    63\n",
       "JzvUsB    61\n",
       "zNJNPg    61\n",
       "QswzdS    60\n",
       "vdWqpq    60\n",
       "Name: tasks, dtype: int64"
      ]
     },
     "execution_count": 23,
     "metadata": {},
     "output_type": "execute_result"
    }
   ],
   "source": [
    "# REVIEW THIS, HOW DO WE MAKE SURE ALL THE WORKERS HAVE TASK ASIGNATED\n",
    "_agg.sort_values(ascending=False).head()"
   ]
  },
  {
   "cell_type": "markdown",
   "metadata": {},
   "source": [
    "---\n",
    "### Probabilities of getting the answer right"
   ]
  },
  {
   "cell_type": "markdown",
   "metadata": {},
   "source": [
    "w = worker answer correct  \n",
    "T = Having knowledge to do the task\n",
    "\n",
    "\n",
    "$$\n",
    "P(w~|~T) = \\frac{P(T~|~w) P(w)}{P(T~|~w) P(w) + P(T~|~w^c) P(w^c)}\n",
    "$$\n",
    "\n",
    "[Bayes for conditional probability example](http://www.stat.yale.edu/Courses/1997-98/101/condprob.htm)"
   ]
  },
  {
   "cell_type": "markdown",
   "metadata": {},
   "source": [
    "Class propuse:  \n",
    "Based on two vectors (pandas series same lenght) of probabilities create a conditional probability  \n",
    "one vector for person, another for activity in this case workers and tasks\n",
    "This new conditional prob is the prior probability for a Bernoulli likelihood  \n",
    "Then the predicion will tell if the answer was right or not  "
   ]
  },
  {
   "cell_type": "markdown",
   "metadata": {},
   "source": [
    "The Bernoulli is the posterior function to modelate the action"
   ]
  },
  {
   "cell_type": "code",
   "execution_count": 24,
   "metadata": {},
   "outputs": [],
   "source": [
    "keys = df_tasks['true_answers'].unique()"
   ]
  },
  {
   "cell_type": "code",
   "execution_count": 25,
   "metadata": {},
   "outputs": [
    {
     "data": {
      "text/plain": [
       "array(['medals', 'components', 'comments', 'feeders', 'calculation'],\n",
       "      dtype=object)"
      ]
     },
     "execution_count": 25,
     "metadata": {},
     "output_type": "execute_result"
    }
   ],
   "source": [
    "keys"
   ]
  },
  {
   "cell_type": "code",
   "execution_count": 4,
   "metadata": {},
   "outputs": [],
   "source": [
    "import pandas as pd\n",
    "from scipy.stats import bernoulli\n",
    "\n",
    "class ComputeProbability(object):\n",
    "    def __init__(self, series1, series2, keys, size=1):\n",
    "        self.size = size\n",
    "        self.series1 = series1\n",
    "        self.series2 = series2\n",
    "        self.keys = keys\n",
    "        \n",
    "    def _random_selection(self):\n",
    "        return 1/len(self.keys)\n",
    "    \n",
    "    def _bayes_prob(self):\n",
    "        if len(self.series1) != len(self.series2):\n",
    "            raise Exception(\"Probability series expected to be the same size\")\n",
    "        return (self.series1*self.series2) / (self.series1*self.series2 + self._random_selection()*(1-self.series2))\n",
    "    \n",
    "    def predict(self):\n",
    "        return pd.Series([bernoulli.rvs(size=self.size, p=prob)[0] for prob in self._bayes_prob()])"
   ]
  },
  {
   "cell_type": "code",
   "execution_count": 27,
   "metadata": {},
   "outputs": [],
   "source": [
    "cp = ComputeProbability(df_tw['prob_task'], df_tw['prob_worker'], keys)"
   ]
  },
  {
   "cell_type": "code",
   "execution_count": 5,
   "metadata": {},
   "outputs": [],
   "source": [
    "import numpy as np\n",
    "\n",
    "class WorkerAnswer(object):\n",
    "    def __init__(self, series1, series2, keys):\n",
    "        \"\"\"\n",
    "        series1 = vector of true values correspondet to 1\n",
    "        series2 = vector of 1 and 0\n",
    "        key = vector of odd number of strings\n",
    "        \"\"\"\n",
    "        self.series1 = series1\n",
    "        self.series2 = series2\n",
    "        self.keys = keys\n",
    "    \n",
    "    def match(self):\n",
    "        answers = []\n",
    "        for idx, i in enumerate(self.series1):\n",
    "            if i == 1:\n",
    "                answers.append(self.series2.loc[idx])\n",
    "            else:\n",
    "                answers.append(np.random.choice([i for i in set(self.keys)-set(self.series2.loc[idx])], 1)[0])\n",
    "\n",
    "        return answers "
   ]
  },
  {
   "cell_type": "code",
   "execution_count": 29,
   "metadata": {},
   "outputs": [],
   "source": [
    "worker_answer = WorkerAnswer(cp.predict(), df_tw['true_answers'], keys)"
   ]
  },
  {
   "cell_type": "code",
   "execution_count": 30,
   "metadata": {},
   "outputs": [],
   "source": [
    "df_tw['worker_answers'] = worker_answer.match()"
   ]
  },
  {
   "cell_type": "markdown",
   "metadata": {},
   "source": [
    "---\n",
    "### Confusion Matrix for the answers\n",
    "\n",
    "Based on [pycm](https://github.com/sepandhaghighi/pycm) analysis"
   ]
  },
  {
   "cell_type": "code",
   "execution_count": 31,
   "metadata": {},
   "outputs": [],
   "source": [
    "from pycm import *"
   ]
  },
  {
   "cell_type": "code",
   "execution_count": 32,
   "metadata": {},
   "outputs": [],
   "source": [
    "cm = ConfusionMatrix(df_tw['true_answers'].tolist(), df_tw['worker_answers'].tolist())"
   ]
  },
  {
   "cell_type": "code",
   "execution_count": 33,
   "metadata": {},
   "outputs": [
    {
     "name": "stdout",
     "output_type": "stream",
     "text": [
      "Predict          calculationcomments componentsfeeders  medals   \n",
      "Actual\n",
      "calculation      367      3        8        1        6        \n",
      "comments         8        482      6        8        6        \n",
      "components       6        4        349      7        4        \n",
      "feeders          5        4        5        364      2        \n",
      "medals           6        11       7        6        400      \n",
      "\n"
     ]
    }
   ],
   "source": [
    "cm.matrix()"
   ]
  },
  {
   "cell_type": "code",
   "execution_count": 34,
   "metadata": {},
   "outputs": [
    {
     "data": {
      "text/plain": [
       "0.9455421686746988"
      ]
     },
     "execution_count": 34,
     "metadata": {},
     "output_type": "execute_result"
    }
   ],
   "source": [
    "cm.Overall_ACC"
   ]
  },
  {
   "cell_type": "code",
   "execution_count": 35,
   "metadata": {},
   "outputs": [
    {
     "data": {
      "text/plain": [
       "2.311353229546824"
      ]
     },
     "execution_count": 35,
     "metadata": {},
     "output_type": "execute_result"
    }
   ],
   "source": [
    "cm.CrossEntropy"
   ]
  },
  {
   "cell_type": "code",
   "execution_count": 36,
   "metadata": {},
   "outputs": [
    {
     "data": {
      "text/plain": [
       "{'calculation': 0.9792771084337349,\n",
       " 'comments': 0.9759036144578314,\n",
       " 'components': 0.9773493975903614,\n",
       " 'feeders': 0.9816867469879518,\n",
       " 'medals': 0.9768674698795181}"
      ]
     },
     "execution_count": 36,
     "metadata": {},
     "output_type": "execute_result"
    }
   ],
   "source": [
    "cm.ACC"
   ]
  },
  {
   "cell_type": "code",
   "execution_count": 37,
   "metadata": {},
   "outputs": [
    {
     "data": {
      "text/plain": [
       "{'calculation': 0.014792899408283988,\n",
       " 'comments': 0.014057507987220497,\n",
       " 'components': 0.015249266862170097,\n",
       " 'feeders': 0.012979351032448405,\n",
       " 'medals': 0.010942249240121549}"
      ]
     },
     "execution_count": 37,
     "metadata": {},
     "output_type": "execute_result"
    }
   ],
   "source": [
    "cm.FPR #False positive rate (FPR), Fall-out, probability of false alarm "
   ]
  },
  {
   "cell_type": "code",
   "execution_count": 38,
   "metadata": {},
   "outputs": [
    {
     "data": {
      "text/plain": [
       "{'calculation': 0.9532467532467532,\n",
       " 'comments': 0.9450980392156862,\n",
       " 'components': 0.9432432432432433,\n",
       " 'feeders': 0.9578947368421052,\n",
       " 'medals': 0.9302325581395349}"
      ]
     },
     "execution_count": 38,
     "metadata": {},
     "output_type": "execute_result"
    }
   ],
   "source": [
    "cm.TPR #True positive rate (TPR), Recall, Sensitivity, probability of detection "
   ]
  },
  {
   "cell_type": "code",
   "execution_count": 39,
   "metadata": {},
   "outputs": [
    {
     "data": {
      "text/plain": [
       "{'calculation': 0.985207100591716,\n",
       " 'comments': 0.9859424920127795,\n",
       " 'components': 0.9847507331378299,\n",
       " 'feeders': 0.9870206489675516,\n",
       " 'medals': 0.9890577507598785}"
      ]
     },
     "execution_count": 39,
     "metadata": {},
     "output_type": "execute_result"
    }
   ],
   "source": [
    "cm.TNR #Specificity (SPC), Selectivity, True negative rate (TNR) "
   ]
  },
  {
   "cell_type": "code",
   "execution_count": 40,
   "metadata": {},
   "outputs": [
    {
     "data": {
      "text/plain": [
       "{'calculation': 0.9362244897959183,\n",
       " 'comments': 0.9563492063492064,\n",
       " 'components': 0.9306666666666666,\n",
       " 'feeders': 0.9430051813471503,\n",
       " 'medals': 0.9569377990430622}"
      ]
     },
     "execution_count": 40,
     "metadata": {},
     "output_type": "execute_result"
    }
   ],
   "source": [
    "cm.PPV #PPV(Precision or positive predictive value)   "
   ]
  },
  {
   "cell_type": "code",
   "execution_count": 41,
   "metadata": {},
   "outputs": [
    {
     "data": {
      "text/plain": [
       "{'calculation': 0.010695187165775444,\n",
       " 'comments': 0.017823042647994947,\n",
       " 'components': 0.012352941176470567,\n",
       " 'feeders': 0.009473060982830073,\n",
       " 'medals': 0.01810500905250456}"
      ]
     },
     "execution_count": 41,
     "metadata": {},
     "output_type": "execute_result"
    }
   ],
   "source": [
    "cm.FOR"
   ]
  },
  {
   "cell_type": "code",
   "execution_count": 42,
   "metadata": {},
   "outputs": [
    {
     "data": {
      "text/plain": [
       "{'calculation': 0.9446589446589446,\n",
       " 'comments': 0.9506903353057199,\n",
       " 'components': 0.9369127516778524,\n",
       " 'feeders': 0.9503916449086162,\n",
       " 'medals': 0.9433962264150944}"
      ]
     },
     "execution_count": 42,
     "metadata": {},
     "output_type": "execute_result"
    }
   ],
   "source": [
    "cm.F1"
   ]
  },
  {
   "cell_type": "markdown",
   "metadata": {},
   "source": [
    "Comparing with Turicreate library"
   ]
  },
  {
   "cell_type": "code",
   "execution_count": 43,
   "metadata": {},
   "outputs": [],
   "source": [
    "import turicreate as tc\n",
    "sf_tw = tc.SFrame(data=df_tw)\n",
    "conf_matrix = tc.evaluation.confusion_matrix(sf_tw['true_answers'], sf_tw['worker_answers'])"
   ]
  },
  {
   "cell_type": "code",
   "execution_count": 44,
   "metadata": {},
   "outputs": [
    {
     "name": "stdout",
     "output_type": "stream",
     "text": [
      "+--------------+-----------------+-------+\n",
      "| target_label | predicted_label | count |\n",
      "+--------------+-----------------+-------+\n",
      "| calculation  |     feeders     |   1   |\n",
      "|   feeders    |   calculation   |   5   |\n",
      "|   feeders    |      medals     |   2   |\n",
      "| calculation  |      medals     |   6   |\n",
      "|  components  |      medals     |   4   |\n",
      "|  components  |     comments    |   4   |\n",
      "|   comments   |      medals     |   6   |\n",
      "|    medals    |     feeders     |   6   |\n",
      "|   comments   |     feeders     |   8   |\n",
      "| calculation  |     comments    |   3   |\n",
      "|   feeders    |     comments    |   4   |\n",
      "|  components  |   calculation   |   6   |\n",
      "|   feeders    |    components   |   5   |\n",
      "| calculation  |    components   |   8   |\n",
      "|  components  |     feeders     |   7   |\n",
      "|    medals    |    components   |   7   |\n",
      "| calculation  |   calculation   |  367  |\n",
      "|    medals    |   calculation   |   6   |\n",
      "|   comments   |    components   |   6   |\n",
      "|   comments   |     comments    |  482  |\n",
      "|   feeders    |     feeders     |  364  |\n",
      "|    medals    |     comments    |   11  |\n",
      "|   comments   |   calculation   |   8   |\n",
      "|    medals    |      medals     |  400  |\n",
      "|  components  |    components   |  349  |\n",
      "+--------------+-----------------+-------+\n",
      "[25 rows x 3 columns]\n",
      "\n"
     ]
    }
   ],
   "source": [
    "conf_matrix.print_rows(25,)"
   ]
  },
  {
   "cell_type": "code",
   "execution_count": 45,
   "metadata": {},
   "outputs": [],
   "source": [
    "accuracy = conf_matrix[conf_matrix['target_label'] == conf_matrix['predicted_label']]['count'].sum() / conf_matrix['count'].sum()"
   ]
  },
  {
   "cell_type": "code",
   "execution_count": 46,
   "metadata": {},
   "outputs": [
    {
     "name": "stdout",
     "output_type": "stream",
     "text": [
      "0.9455421686746988\n"
     ]
    }
   ],
   "source": [
    "print(accuracy)"
   ]
  },
  {
   "cell_type": "markdown",
   "metadata": {},
   "source": [
    "---\n",
    "### Measuring Performance and split the good workers from the rest"
   ]
  },
  {
   "cell_type": "markdown",
   "metadata": {},
   "source": [
    "Next we measure the performance of the worker. The performance is calculate as the number of times a worker answers right (in comparison with the true answer) over the total number of workers per task.  \n",
    "\n",
    "The range of the performance value spans from 0 to 1. The values close to 1 indicate that the majority of the workers had consensus. The values close to 0 indicate that there was no consensus."
   ]
  },
  {
   "cell_type": "code",
   "execution_count": 49,
   "metadata": {},
   "outputs": [],
   "source": [
    "df_tw['performance'] = cp.predict()"
   ]
  },
  {
   "cell_type": "code",
   "execution_count": 43,
   "metadata": {},
   "outputs": [],
   "source": [
    "import pandas as pd\n",
    "\n",
    "IDX = 'worker_id'\n",
    "\n",
    "class Performance(object):\n",
    "    def __init__ (self, df_tw):\n",
    "        self.df_tw = df_tw\n",
    "        \n",
    "    def _agg(self):\n",
    "        df = self.df_tw.groupby(IDX).agg('count')['task_id']\n",
    "        df.name = 'tasks'\n",
    "        return df\n",
    "    \n",
    "    def _workers(self):\n",
    "        df = self.df_tw.groupby(self.df_tw[IDX]).mean().sort_values('performance', ascending=False)\n",
    "        df['worker_hability'] = ['good_worker' if i == 1 else 'poor_worker' for i in df['performance']]\n",
    "        return df.join(self._agg(), on=IDX, how='left')\n",
    "    \n",
    "    def good_workers(self):\n",
    "        _good = self._workers()[(self._workers()['worker_hability'] == 'good_worker') & ((self._workers()['prob_task'] < self._workers()['prob_task'].median()))] #& ((df['tasks'] > df['tasks'].median()))]\n",
    "        #print('Selected Good Workers: {}'.format(good_workers['performance'].sum()))\n",
    "        return [i for i in _good.index]"
   ]
  },
  {
   "cell_type": "code",
   "execution_count": 84,
   "metadata": {},
   "outputs": [],
   "source": [
    "perf = Performance(df_tw)"
   ]
  },
  {
   "cell_type": "code",
   "execution_count": 88,
   "metadata": {},
   "outputs": [
    {
     "data": {
      "text/html": [
       "<div>\n",
       "<style scoped>\n",
       "    .dataframe tbody tr th:only-of-type {\n",
       "        vertical-align: middle;\n",
       "    }\n",
       "\n",
       "    .dataframe tbody tr th {\n",
       "        vertical-align: top;\n",
       "    }\n",
       "\n",
       "    .dataframe thead th {\n",
       "        text-align: right;\n",
       "    }\n",
       "</style>\n",
       "<table border=\"1\" class=\"dataframe\">\n",
       "  <thead>\n",
       "    <tr style=\"text-align: right;\">\n",
       "      <th></th>\n",
       "      <th>prob_task</th>\n",
       "      <th>prob_worker</th>\n",
       "      <th>performance</th>\n",
       "      <th>worker_hability</th>\n",
       "      <th>tasks</th>\n",
       "    </tr>\n",
       "    <tr>\n",
       "      <th>worker_id</th>\n",
       "      <th></th>\n",
       "      <th></th>\n",
       "      <th></th>\n",
       "      <th></th>\n",
       "      <th></th>\n",
       "    </tr>\n",
       "  </thead>\n",
       "  <tbody>\n",
       "    <tr>\n",
       "      <th>3MB8n6</th>\n",
       "      <td>0.771064</td>\n",
       "      <td>0.956774</td>\n",
       "      <td>1.000000</td>\n",
       "      <td>good_worker</td>\n",
       "      <td>47</td>\n",
       "    </tr>\n",
       "    <tr>\n",
       "      <th>WJo9g8</th>\n",
       "      <td>0.780727</td>\n",
       "      <td>0.985452</td>\n",
       "      <td>1.000000</td>\n",
       "      <td>good_worker</td>\n",
       "      <td>55</td>\n",
       "    </tr>\n",
       "    <tr>\n",
       "      <th>wAjFWE</th>\n",
       "      <td>0.759200</td>\n",
       "      <td>0.940861</td>\n",
       "      <td>1.000000</td>\n",
       "      <td>good_worker</td>\n",
       "      <td>50</td>\n",
       "    </tr>\n",
       "    <tr>\n",
       "      <th>uNTazC</th>\n",
       "      <td>0.750351</td>\n",
       "      <td>0.932206</td>\n",
       "      <td>1.000000</td>\n",
       "      <td>good_worker</td>\n",
       "      <td>57</td>\n",
       "    </tr>\n",
       "    <tr>\n",
       "      <th>s5xwUM</th>\n",
       "      <td>0.821455</td>\n",
       "      <td>0.959641</td>\n",
       "      <td>1.000000</td>\n",
       "      <td>good_worker</td>\n",
       "      <td>55</td>\n",
       "    </tr>\n",
       "    <tr>\n",
       "      <th>pnkanh</th>\n",
       "      <td>0.736053</td>\n",
       "      <td>0.919292</td>\n",
       "      <td>1.000000</td>\n",
       "      <td>good_worker</td>\n",
       "      <td>38</td>\n",
       "    </tr>\n",
       "    <tr>\n",
       "      <th>oev8At</th>\n",
       "      <td>0.776087</td>\n",
       "      <td>0.985305</td>\n",
       "      <td>1.000000</td>\n",
       "      <td>good_worker</td>\n",
       "      <td>46</td>\n",
       "    </tr>\n",
       "    <tr>\n",
       "      <th>ipdqkr</th>\n",
       "      <td>0.757000</td>\n",
       "      <td>0.994599</td>\n",
       "      <td>1.000000</td>\n",
       "      <td>good_worker</td>\n",
       "      <td>60</td>\n",
       "    </tr>\n",
       "    <tr>\n",
       "      <th>iNf9Qg</th>\n",
       "      <td>0.779800</td>\n",
       "      <td>0.917399</td>\n",
       "      <td>1.000000</td>\n",
       "      <td>good_worker</td>\n",
       "      <td>50</td>\n",
       "    </tr>\n",
       "    <tr>\n",
       "      <th>gqe73J</th>\n",
       "      <td>0.766047</td>\n",
       "      <td>0.978348</td>\n",
       "      <td>1.000000</td>\n",
       "      <td>good_worker</td>\n",
       "      <td>43</td>\n",
       "    </tr>\n",
       "    <tr>\n",
       "      <th>zNJNPg</th>\n",
       "      <td>0.757049</td>\n",
       "      <td>0.923399</td>\n",
       "      <td>0.983607</td>\n",
       "      <td>poor_worker</td>\n",
       "      <td>61</td>\n",
       "    </tr>\n",
       "    <tr>\n",
       "      <th>dXFwEU</th>\n",
       "      <td>0.773962</td>\n",
       "      <td>0.938139</td>\n",
       "      <td>0.981132</td>\n",
       "      <td>poor_worker</td>\n",
       "      <td>53</td>\n",
       "    </tr>\n",
       "    <tr>\n",
       "      <th>bBd7op</th>\n",
       "      <td>0.804255</td>\n",
       "      <td>0.882348</td>\n",
       "      <td>0.978723</td>\n",
       "      <td>poor_worker</td>\n",
       "      <td>47</td>\n",
       "    </tr>\n",
       "    <tr>\n",
       "      <th>ZgKoxZ</th>\n",
       "      <td>0.796905</td>\n",
       "      <td>0.899058</td>\n",
       "      <td>0.976190</td>\n",
       "      <td>poor_worker</td>\n",
       "      <td>42</td>\n",
       "    </tr>\n",
       "    <tr>\n",
       "      <th>AmMJe5</th>\n",
       "      <td>0.749259</td>\n",
       "      <td>0.908852</td>\n",
       "      <td>0.962963</td>\n",
       "      <td>poor_worker</td>\n",
       "      <td>54</td>\n",
       "    </tr>\n",
       "    <tr>\n",
       "      <th>YyV8z2</th>\n",
       "      <td>0.781552</td>\n",
       "      <td>0.845924</td>\n",
       "      <td>0.948276</td>\n",
       "      <td>poor_worker</td>\n",
       "      <td>58</td>\n",
       "    </tr>\n",
       "    <tr>\n",
       "      <th>4eEAjG</th>\n",
       "      <td>0.740877</td>\n",
       "      <td>0.719079</td>\n",
       "      <td>0.947368</td>\n",
       "      <td>poor_worker</td>\n",
       "      <td>57</td>\n",
       "    </tr>\n",
       "    <tr>\n",
       "      <th>RNF4fo</th>\n",
       "      <td>0.740727</td>\n",
       "      <td>0.829863</td>\n",
       "      <td>0.945455</td>\n",
       "      <td>poor_worker</td>\n",
       "      <td>55</td>\n",
       "    </tr>\n",
       "    <tr>\n",
       "      <th>amhSxX</th>\n",
       "      <td>0.763455</td>\n",
       "      <td>0.770107</td>\n",
       "      <td>0.945455</td>\n",
       "      <td>poor_worker</td>\n",
       "      <td>55</td>\n",
       "    </tr>\n",
       "    <tr>\n",
       "      <th>qkqqhJ</th>\n",
       "      <td>0.791321</td>\n",
       "      <td>0.814507</td>\n",
       "      <td>0.943396</td>\n",
       "      <td>poor_worker</td>\n",
       "      <td>53</td>\n",
       "    </tr>\n",
       "    <tr>\n",
       "      <th>BZvpQE</th>\n",
       "      <td>0.817400</td>\n",
       "      <td>0.887798</td>\n",
       "      <td>0.940000</td>\n",
       "      <td>poor_worker</td>\n",
       "      <td>50</td>\n",
       "    </tr>\n",
       "    <tr>\n",
       "      <th>KrkVWn</th>\n",
       "      <td>0.771020</td>\n",
       "      <td>0.895119</td>\n",
       "      <td>0.938776</td>\n",
       "      <td>poor_worker</td>\n",
       "      <td>49</td>\n",
       "    </tr>\n",
       "    <tr>\n",
       "      <th>4GiQsL</th>\n",
       "      <td>0.800698</td>\n",
       "      <td>0.845278</td>\n",
       "      <td>0.930233</td>\n",
       "      <td>poor_worker</td>\n",
       "      <td>43</td>\n",
       "    </tr>\n",
       "    <tr>\n",
       "      <th>zqSceK</th>\n",
       "      <td>0.778393</td>\n",
       "      <td>0.909268</td>\n",
       "      <td>0.928571</td>\n",
       "      <td>poor_worker</td>\n",
       "      <td>56</td>\n",
       "    </tr>\n",
       "    <tr>\n",
       "      <th>85Hz6X</th>\n",
       "      <td>0.751633</td>\n",
       "      <td>0.694814</td>\n",
       "      <td>0.918367</td>\n",
       "      <td>poor_worker</td>\n",
       "      <td>49</td>\n",
       "    </tr>\n",
       "    <tr>\n",
       "      <th>axyUud</th>\n",
       "      <td>0.756610</td>\n",
       "      <td>0.848700</td>\n",
       "      <td>0.915254</td>\n",
       "      <td>poor_worker</td>\n",
       "      <td>59</td>\n",
       "    </tr>\n",
       "    <tr>\n",
       "      <th>9fyFAp</th>\n",
       "      <td>0.773333</td>\n",
       "      <td>0.657915</td>\n",
       "      <td>0.912281</td>\n",
       "      <td>poor_worker</td>\n",
       "      <td>57</td>\n",
       "    </tr>\n",
       "    <tr>\n",
       "      <th>R3LaCS</th>\n",
       "      <td>0.820392</td>\n",
       "      <td>0.679374</td>\n",
       "      <td>0.901961</td>\n",
       "      <td>poor_worker</td>\n",
       "      <td>51</td>\n",
       "    </tr>\n",
       "    <tr>\n",
       "      <th>ABUg4T</th>\n",
       "      <td>0.771000</td>\n",
       "      <td>0.653486</td>\n",
       "      <td>0.900000</td>\n",
       "      <td>poor_worker</td>\n",
       "      <td>40</td>\n",
       "    </tr>\n",
       "    <tr>\n",
       "      <th>SvJykZ</th>\n",
       "      <td>0.774222</td>\n",
       "      <td>0.829718</td>\n",
       "      <td>0.866667</td>\n",
       "      <td>poor_worker</td>\n",
       "      <td>45</td>\n",
       "    </tr>\n",
       "    <tr>\n",
       "      <th>M7EJBM</th>\n",
       "      <td>0.786829</td>\n",
       "      <td>0.665779</td>\n",
       "      <td>0.853659</td>\n",
       "      <td>poor_worker</td>\n",
       "      <td>41</td>\n",
       "    </tr>\n",
       "    <tr>\n",
       "      <th>JzvUsB</th>\n",
       "      <td>0.736066</td>\n",
       "      <td>0.662211</td>\n",
       "      <td>0.852459</td>\n",
       "      <td>poor_worker</td>\n",
       "      <td>61</td>\n",
       "    </tr>\n",
       "    <tr>\n",
       "      <th>d9s8F4</th>\n",
       "      <td>0.771429</td>\n",
       "      <td>0.726437</td>\n",
       "      <td>0.841270</td>\n",
       "      <td>poor_worker</td>\n",
       "      <td>63</td>\n",
       "    </tr>\n",
       "    <tr>\n",
       "      <th>mQigpE</th>\n",
       "      <td>0.754565</td>\n",
       "      <td>0.620629</td>\n",
       "      <td>0.826087</td>\n",
       "      <td>poor_worker</td>\n",
       "      <td>46</td>\n",
       "    </tr>\n",
       "    <tr>\n",
       "      <th>VBgyfu</th>\n",
       "      <td>0.766842</td>\n",
       "      <td>0.620500</td>\n",
       "      <td>0.824561</td>\n",
       "      <td>poor_worker</td>\n",
       "      <td>57</td>\n",
       "    </tr>\n",
       "    <tr>\n",
       "      <th>8TMwsu</th>\n",
       "      <td>0.779107</td>\n",
       "      <td>0.496376</td>\n",
       "      <td>0.821429</td>\n",
       "      <td>poor_worker</td>\n",
       "      <td>56</td>\n",
       "    </tr>\n",
       "    <tr>\n",
       "      <th>4sm8q8</th>\n",
       "      <td>0.766053</td>\n",
       "      <td>0.680247</td>\n",
       "      <td>0.815789</td>\n",
       "      <td>poor_worker</td>\n",
       "      <td>38</td>\n",
       "    </tr>\n",
       "    <tr>\n",
       "      <th>QswzdS</th>\n",
       "      <td>0.767667</td>\n",
       "      <td>0.424661</td>\n",
       "      <td>0.766667</td>\n",
       "      <td>poor_worker</td>\n",
       "      <td>60</td>\n",
       "    </tr>\n",
       "    <tr>\n",
       "      <th>vdWqpq</th>\n",
       "      <td>0.762333</td>\n",
       "      <td>0.509764</td>\n",
       "      <td>0.750000</td>\n",
       "      <td>poor_worker</td>\n",
       "      <td>60</td>\n",
       "    </tr>\n",
       "    <tr>\n",
       "      <th>BJZvA7</th>\n",
       "      <td>0.771034</td>\n",
       "      <td>0.409390</td>\n",
       "      <td>0.689655</td>\n",
       "      <td>poor_worker</td>\n",
       "      <td>58</td>\n",
       "    </tr>\n",
       "  </tbody>\n",
       "</table>\n",
       "</div>"
      ],
      "text/plain": [
       "           prob_task  prob_worker  performance worker_hability  tasks\n",
       "worker_id                                                            \n",
       "3MB8n6      0.771064     0.956774     1.000000     good_worker     47\n",
       "WJo9g8      0.780727     0.985452     1.000000     good_worker     55\n",
       "wAjFWE      0.759200     0.940861     1.000000     good_worker     50\n",
       "uNTazC      0.750351     0.932206     1.000000     good_worker     57\n",
       "s5xwUM      0.821455     0.959641     1.000000     good_worker     55\n",
       "pnkanh      0.736053     0.919292     1.000000     good_worker     38\n",
       "oev8At      0.776087     0.985305     1.000000     good_worker     46\n",
       "ipdqkr      0.757000     0.994599     1.000000     good_worker     60\n",
       "iNf9Qg      0.779800     0.917399     1.000000     good_worker     50\n",
       "gqe73J      0.766047     0.978348     1.000000     good_worker     43\n",
       "zNJNPg      0.757049     0.923399     0.983607     poor_worker     61\n",
       "dXFwEU      0.773962     0.938139     0.981132     poor_worker     53\n",
       "bBd7op      0.804255     0.882348     0.978723     poor_worker     47\n",
       "ZgKoxZ      0.796905     0.899058     0.976190     poor_worker     42\n",
       "AmMJe5      0.749259     0.908852     0.962963     poor_worker     54\n",
       "YyV8z2      0.781552     0.845924     0.948276     poor_worker     58\n",
       "4eEAjG      0.740877     0.719079     0.947368     poor_worker     57\n",
       "RNF4fo      0.740727     0.829863     0.945455     poor_worker     55\n",
       "amhSxX      0.763455     0.770107     0.945455     poor_worker     55\n",
       "qkqqhJ      0.791321     0.814507     0.943396     poor_worker     53\n",
       "BZvpQE      0.817400     0.887798     0.940000     poor_worker     50\n",
       "KrkVWn      0.771020     0.895119     0.938776     poor_worker     49\n",
       "4GiQsL      0.800698     0.845278     0.930233     poor_worker     43\n",
       "zqSceK      0.778393     0.909268     0.928571     poor_worker     56\n",
       "85Hz6X      0.751633     0.694814     0.918367     poor_worker     49\n",
       "axyUud      0.756610     0.848700     0.915254     poor_worker     59\n",
       "9fyFAp      0.773333     0.657915     0.912281     poor_worker     57\n",
       "R3LaCS      0.820392     0.679374     0.901961     poor_worker     51\n",
       "ABUg4T      0.771000     0.653486     0.900000     poor_worker     40\n",
       "SvJykZ      0.774222     0.829718     0.866667     poor_worker     45\n",
       "M7EJBM      0.786829     0.665779     0.853659     poor_worker     41\n",
       "JzvUsB      0.736066     0.662211     0.852459     poor_worker     61\n",
       "d9s8F4      0.771429     0.726437     0.841270     poor_worker     63\n",
       "mQigpE      0.754565     0.620629     0.826087     poor_worker     46\n",
       "VBgyfu      0.766842     0.620500     0.824561     poor_worker     57\n",
       "8TMwsu      0.779107     0.496376     0.821429     poor_worker     56\n",
       "4sm8q8      0.766053     0.680247     0.815789     poor_worker     38\n",
       "QswzdS      0.767667     0.424661     0.766667     poor_worker     60\n",
       "vdWqpq      0.762333     0.509764     0.750000     poor_worker     60\n",
       "BJZvA7      0.771034     0.409390     0.689655     poor_worker     58"
      ]
     },
     "execution_count": 88,
     "metadata": {},
     "output_type": "execute_result"
    }
   ],
   "source": [
    "perf._workers()"
   ]
  },
  {
   "cell_type": "code",
   "execution_count": 116,
   "metadata": {
    "scrolled": true
   },
   "outputs": [
    {
     "name": "stdout",
     "output_type": "stream",
     "text": [
      "Prediction Correct 1940 of 2075\n"
     ]
    },
    {
     "data": {
      "image/png": "[encoded data removed]",
      "text/plain": [
       "<Figure size 1296x288 with 1 Axes>"
      ]
     },
     "metadata": {},
     "output_type": "display_data"
    }
   ],
   "source": [
    "#Distribution performance\n",
    "plt.figure(figsize=[18, 4])\n",
    "sns.distplot(df_tw['performance'], kde=False, vertical=True, color=\"red\")\n",
    "print('Prediction Correct {} of {}'.format(df_tw['performance'].sum(), df_tw['performance'].count()))"
   ]
  },
  {
   "cell_type": "code",
   "execution_count": 142,
   "metadata": {
    "scrolled": false
   },
   "outputs": [
    {
     "data": {
      "text/plain": [
       "<matplotlib.axes._subplots.AxesSubplot at 0x1a25ad2518>"
      ]
     },
     "execution_count": 142,
     "metadata": {},
     "output_type": "execute_result"
    },
    {
     "data": {
      "image/png": "[encoded data removed]",
      "text/plain": [
       "<Figure size 720x720 with 1 Axes>"
      ]
     },
     "metadata": {},
     "output_type": "display_data"
    }
   ],
   "source": [
    "plt.figure(figsize=[10, 10])\n",
    "sns.kdeplot(df_workers['performance'], df_workers['prob_worker'], cmap=\"Blues\", shade=True, shade_lowest=False)"
   ]
  },
  {
   "cell_type": "code",
   "execution_count": 89,
   "metadata": {},
   "outputs": [
    {
     "data": {
      "image/png": "[encoded data removed]",
      "text/plain": [
       "<Figure size 1296x288 with 1 Axes>"
      ]
     },
     "metadata": {},
     "output_type": "display_data"
    }
   ],
   "source": [
    "plt.figure(figsize=[18, 4])\n",
    "axis = range(len(per._workers()))\n",
    "plt.bar(axis, perf._workers()['performance'], align='center', alpha=0.8, color='blue', label='Probability of Answer correct')\n",
    "plt.xticks(axis, perf._workers().index, rotation=90)\n",
    "plt.title('Workers Performance')\n",
    "plt.legend(loc='best')\n",
    "plt.show()"
   ]
  },
  {
   "cell_type": "code",
   "execution_count": 90,
   "metadata": {},
   "outputs": [
    {
     "data": {
      "text/html": [
       "<div>\n",
       "<style scoped>\n",
       "    .dataframe tbody tr th:only-of-type {\n",
       "        vertical-align: middle;\n",
       "    }\n",
       "\n",
       "    .dataframe tbody tr th {\n",
       "        vertical-align: top;\n",
       "    }\n",
       "\n",
       "    .dataframe thead th {\n",
       "        text-align: right;\n",
       "    }\n",
       "</style>\n",
       "<table border=\"1\" class=\"dataframe\">\n",
       "  <thead>\n",
       "    <tr style=\"text-align: right;\">\n",
       "      <th></th>\n",
       "      <th>prob_task</th>\n",
       "      <th>prob_worker</th>\n",
       "      <th>performance</th>\n",
       "      <th>tasks</th>\n",
       "    </tr>\n",
       "  </thead>\n",
       "  <tbody>\n",
       "    <tr>\n",
       "      <th>count</th>\n",
       "      <td>40.000000</td>\n",
       "      <td>40.000000</td>\n",
       "      <td>40.000000</td>\n",
       "      <td>40.000000</td>\n",
       "    </tr>\n",
       "    <tr>\n",
       "      <th>mean</th>\n",
       "      <td>0.771844</td>\n",
       "      <td>0.795465</td>\n",
       "      <td>0.920156</td>\n",
       "      <td>51.875000</td>\n",
       "    </tr>\n",
       "    <tr>\n",
       "      <th>std</th>\n",
       "      <td>0.021269</td>\n",
       "      <td>0.161617</td>\n",
       "      <td>0.079638</td>\n",
       "      <td>6.962123</td>\n",
       "    </tr>\n",
       "    <tr>\n",
       "      <th>min</th>\n",
       "      <td>0.736053</td>\n",
       "      <td>0.409390</td>\n",
       "      <td>0.689655</td>\n",
       "      <td>38.000000</td>\n",
       "    </tr>\n",
       "    <tr>\n",
       "      <th>25%</th>\n",
       "      <td>0.757037</td>\n",
       "      <td>0.675975</td>\n",
       "      <td>0.863415</td>\n",
       "      <td>46.750000</td>\n",
       "    </tr>\n",
       "    <tr>\n",
       "      <th>50%</th>\n",
       "      <td>0.771027</td>\n",
       "      <td>0.845601</td>\n",
       "      <td>0.941698</td>\n",
       "      <td>53.500000</td>\n",
       "    </tr>\n",
       "    <tr>\n",
       "      <th>75%</th>\n",
       "      <td>0.780032</td>\n",
       "      <td>0.920319</td>\n",
       "      <td>0.987705</td>\n",
       "      <td>57.000000</td>\n",
       "    </tr>\n",
       "    <tr>\n",
       "      <th>max</th>\n",
       "      <td>0.821455</td>\n",
       "      <td>0.994599</td>\n",
       "      <td>1.000000</td>\n",
       "      <td>63.000000</td>\n",
       "    </tr>\n",
       "  </tbody>\n",
       "</table>\n",
       "</div>"
      ],
      "text/plain": [
       "       prob_task  prob_worker  performance      tasks\n",
       "count  40.000000    40.000000    40.000000  40.000000\n",
       "mean    0.771844     0.795465     0.920156  51.875000\n",
       "std     0.021269     0.161617     0.079638   6.962123\n",
       "min     0.736053     0.409390     0.689655  38.000000\n",
       "25%     0.757037     0.675975     0.863415  46.750000\n",
       "50%     0.771027     0.845601     0.941698  53.500000\n",
       "75%     0.780032     0.920319     0.987705  57.000000\n",
       "max     0.821455     0.994599     1.000000  63.000000"
      ]
     },
     "execution_count": 90,
     "metadata": {},
     "output_type": "execute_result"
    }
   ],
   "source": [
    "perf._workers().describe()"
   ]
  },
  {
   "cell_type": "markdown",
   "metadata": {},
   "source": [
    "---\n",
    "### Get Accuracy"
   ]
  },
  {
   "cell_type": "code",
   "execution_count": 92,
   "metadata": {},
   "outputs": [],
   "source": [
    "import sys\n",
    "sys.path.insert(0, '/Users/pedrohserrano/crowdED/crowded')\n",
    "import simulate as cs\n",
    "import method as cm\n",
    "\n",
    "PTT = .3\n",
    "\n",
    "def tasks_split(df, p=PTT):\n",
    "    _train = df.sample(frac=p, random_state=23)\n",
    "    _rest = df.loc[df.index.difference(_train.index)]\n",
    "    return _train, _rest\n",
    "\n",
    "\n",
    "def crowd_table(total_tasks=100, total_workers=30, p_hard_tasks=0.4, PTT=.3, wpt=5, NK=5):\n",
    "    df_tasks = cs.Tasks(NK).create(total_tasks, p_hard_tasks)\n",
    "    workers = cs.Workers().create(total_workers)\n",
    "    keys = df_tasks['true_answers'].unique()\n",
    "    tasks_train, tasks_rest = tasks_split(df_tasks, PTT)\n",
    "    df_tw = cs.AssignTasks(tasks_train, workers, wpt).create()\n",
    "    cp = cm.ComputeProbability(df_tw['prob_task'], df_tw['prob_worker'], keys)\n",
    "    df_tw['worker_answers'] = cm.WorkerAnswer(\n",
    "        cp.predict(), df_tw['true_answers'], keys).match()\n",
    "    df_tw['performance'] = cp.predict()\n",
    "    perf = cm.Performance(df_tw)\n",
    "    good_workers = workers.loc[perf.good_workers()]\n",
    "    df_tw_2 = cs.AssignTasks(tasks_rest, good_workers, wpt).create()\n",
    "    cp2 = cm.ComputeProbability(\n",
    "        df_tw_2['prob_task'], df_tw_2['prob_worker'], keys)\n",
    "    df_tw_2['worker_answers'] = cm.WorkerAnswer(\n",
    "        cp2.predict(), df_tw_2['true_answers'], keys).match()\n",
    "    df_tw_2['performance'] = cp2.predict()\n",
    "    df = df_tw.append(df_tw_2)\n",
    "    return df"
   ]
  },
  {
   "cell_type": "code",
   "execution_count": null,
   "metadata": {},
   "outputs": [],
   "source": []
  }
 ],
 "metadata": {
  "kernelspec": {
   "display_name": "Python 3",
   "language": "python",
   "name": "python3"
  },
  "language_info": {
   "codemirror_mode": {
    "name": "ipython",
    "version": 3
   },
   "file_extension": ".py",
   "mimetype": "text/x-python",
   "name": "python",
   "nbconvert_exporter": "python",
   "pygments_lexer": "ipython3",
   "version": "3.6.5"
  }
 },
 "nbformat": 4,
 "nbformat_minor": 2
}
