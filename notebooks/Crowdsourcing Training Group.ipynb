{
 "cells": [
  {
   "cell_type": "markdown",
   "metadata": {},
   "source": [
    "## CrowdED: Crowdsourcing task optimization\n",
    "---\n",
    "The research question we aim to answer is: \"Can we a-priori estimate optimal workers and tasks' assignment to obtain maximum accuracy on all tasks?\"\n",
    "\n",
    "*This notebook takes step by step the construction of the crowdED module*"
   ]
  },
  {
   "cell_type": "code",
   "execution_count": 1,
   "metadata": {},
   "outputs": [],
   "source": [
    "import sys\n",
    "import pandas as pd\n",
    "import numpy as np\n",
    "import shortuuid as uid\n",
    "import matplotlib.pyplot as plt\n",
    "import seaborn as sns\n",
    "import warnings\n",
    "warnings.filterwarnings('ignore')\n",
    "%matplotlib inline"
   ]
  },
  {
   "cell_type": "markdown",
   "metadata": {},
   "source": [
    "---\n",
    "### Data preparation: Tasks and Workers Dataframe Construction"
   ]
  },
  {
   "cell_type": "markdown",
   "metadata": {},
   "source": [
    "I want to model the workers"
   ]
  },
  {
   "cell_type": "code",
   "execution_count": 2,
   "metadata": {},
   "outputs": [],
   "source": [
    "total_tasks = 342"
   ]
  },
  {
   "cell_type": "code",
   "execution_count": 3,
   "metadata": {},
   "outputs": [],
   "source": [
    "total_workers = 50"
   ]
  },
  {
   "cell_type": "code",
   "execution_count": 4,
   "metadata": {},
   "outputs": [],
   "source": [
    "#Tasks variables\n",
    "p_hard_tasks = 0.2\n",
    "n_hard_tasks = int(round(p_hard_tasks*total_tasks,0))\n",
    "\n",
    "p_easy_tasks = 1-p_hard_tasks \n",
    "n_easy_tasks = int(round(p_easy_tasks*total_tasks,0))"
   ]
  },
  {
   "cell_type": "code",
   "execution_count": 5,
   "metadata": {},
   "outputs": [
    {
     "name": "stdout",
     "output_type": "stream",
     "text": [
      "68 274\n"
     ]
    }
   ],
   "source": [
    "print(n_hard_tasks, n_easy_tasks)"
   ]
  },
  {
   "cell_type": "markdown",
   "metadata": {},
   "source": [
    "#### Workers"
   ]
  },
  {
   "cell_type": "code",
   "execution_count": 6,
   "metadata": {},
   "outputs": [],
   "source": [
    "workers = [uid.ShortUUID().random(length=5) for i in range(total_workers)]"
   ]
  },
  {
   "cell_type": "code",
   "execution_count": 7,
   "metadata": {},
   "outputs": [],
   "source": [
    "df_workers = pd.DataFrame()\n",
    "df_workers['worker_id'] = workers"
   ]
  },
  {
   "cell_type": "code",
   "execution_count": 8,
   "metadata": {},
   "outputs": [
    {
     "data": {
      "text/html": [
       "<div>\n",
       "<style scoped>\n",
       "    .dataframe tbody tr th:only-of-type {\n",
       "        vertical-align: middle;\n",
       "    }\n",
       "\n",
       "    .dataframe tbody tr th {\n",
       "        vertical-align: top;\n",
       "    }\n",
       "\n",
       "    .dataframe thead th {\n",
       "        text-align: right;\n",
       "    }\n",
       "</style>\n",
       "<table border=\"1\" class=\"dataframe\">\n",
       "  <thead>\n",
       "    <tr style=\"text-align: right;\">\n",
       "      <th></th>\n",
       "      <th>worker_id</th>\n",
       "    </tr>\n",
       "  </thead>\n",
       "  <tbody>\n",
       "    <tr>\n",
       "      <th>0</th>\n",
       "      <td>MaW6A</td>\n",
       "    </tr>\n",
       "    <tr>\n",
       "      <th>1</th>\n",
       "      <td>qBJAF</td>\n",
       "    </tr>\n",
       "    <tr>\n",
       "      <th>2</th>\n",
       "      <td>mhgkt</td>\n",
       "    </tr>\n",
       "    <tr>\n",
       "      <th>3</th>\n",
       "      <td>vVWGb</td>\n",
       "    </tr>\n",
       "    <tr>\n",
       "      <th>4</th>\n",
       "      <td>wiDUj</td>\n",
       "    </tr>\n",
       "  </tbody>\n",
       "</table>\n",
       "</div>"
      ],
      "text/plain": [
       "  worker_id\n",
       "0     MaW6A\n",
       "1     qBJAF\n",
       "2     mhgkt\n",
       "3     vVWGb\n",
       "4     wiDUj"
      ]
     },
     "execution_count": 8,
     "metadata": {},
     "output_type": "execute_result"
    }
   ],
   "source": [
    "df_workers.head()"
   ]
  },
  {
   "cell_type": "markdown",
   "metadata": {},
   "source": [
    "Next, we randomly assign (without [replacement](https://www.ma.utexas.edu/users/parker/sampling/repl.htm)) which tasks easy/hard based on the proportions specified."
   ]
  },
  {
   "cell_type": "markdown",
   "metadata": {},
   "source": [
    "#### Tasks "
   ]
  },
  {
   "cell_type": "code",
   "execution_count": 9,
   "metadata": {},
   "outputs": [],
   "source": [
    "tasks = ['task_'+uid.ShortUUID().random(length=3) for i in range(total_tasks)]\n",
    "easy_tasks = [task for task in np.random.choice(tasks, n_easy_tasks, replace=False)]\n",
    "hard_tasks = [task for task in set(tasks)-set(easy_tasks)]"
   ]
  },
  {
   "cell_type": "markdown",
   "metadata": {},
   "source": [
    "#### True Answers (Gold)"
   ]
  },
  {
   "cell_type": "markdown",
   "metadata": {},
   "source": [
    "In our simulation, the task is that the worker has to choose one out of the five given answers. Here, we simulate the true answer for each worker-task pair."
   ]
  },
  {
   "cell_type": "code",
   "execution_count": 10,
   "metadata": {},
   "outputs": [],
   "source": [
    "number_key_words = 5"
   ]
  },
  {
   "cell_type": "code",
   "execution_count": 11,
   "metadata": {},
   "outputs": [],
   "source": [
    "#answers_key = [\"liver\", \"blood\", \"lung\", \"brain\", \"heart\"]\n",
    "from random_words import RandomWords\n",
    "rw = RandomWords()\n",
    "answers_key = rw.random_words(count = number_key_words)"
   ]
  },
  {
   "cell_type": "code",
   "execution_count": 12,
   "metadata": {},
   "outputs": [
    {
     "data": {
      "text/plain": [
       "['suggestion', 'officials', 'personality', 'road', 'nozzle']"
      ]
     },
     "execution_count": 12,
     "metadata": {},
     "output_type": "execute_result"
    }
   ],
   "source": [
    "answers_key"
   ]
  },
  {
   "cell_type": "markdown",
   "metadata": {},
   "source": [
    "It is needed one of the keys for the answer"
   ]
  },
  {
   "cell_type": "code",
   "execution_count": 13,
   "metadata": {},
   "outputs": [],
   "source": [
    "true_answers = [answer for answer in np.random.choice(answers_key, total_tasks)]"
   ]
  },
  {
   "cell_type": "code",
   "execution_count": 14,
   "metadata": {},
   "outputs": [],
   "source": [
    "# Creating the tasks data frame\n",
    "df_tasks = pd.DataFrame()\n",
    "df_tasks['task_id'] = tasks\n",
    "df_tasks['true_answers'] = true_answers"
   ]
  },
  {
   "cell_type": "code",
   "execution_count": 15,
   "metadata": {},
   "outputs": [],
   "source": [
    "df_tasks['label_task'] = ['hard_task' if tasks[i] in hard_tasks else 'easy_task' for i in range(total_tasks)]"
   ]
  },
  {
   "cell_type": "code",
   "execution_count": 16,
   "metadata": {},
   "outputs": [
    {
     "data": {
      "text/html": [
       "<div>\n",
       "<style scoped>\n",
       "    .dataframe tbody tr th:only-of-type {\n",
       "        vertical-align: middle;\n",
       "    }\n",
       "\n",
       "    .dataframe tbody tr th {\n",
       "        vertical-align: top;\n",
       "    }\n",
       "\n",
       "    .dataframe thead th {\n",
       "        text-align: right;\n",
       "    }\n",
       "</style>\n",
       "<table border=\"1\" class=\"dataframe\">\n",
       "  <thead>\n",
       "    <tr style=\"text-align: right;\">\n",
       "      <th></th>\n",
       "      <th>task_id</th>\n",
       "      <th>true_answers</th>\n",
       "      <th>label_task</th>\n",
       "    </tr>\n",
       "  </thead>\n",
       "  <tbody>\n",
       "    <tr>\n",
       "      <th>0</th>\n",
       "      <td>task_AMm</td>\n",
       "      <td>personality</td>\n",
       "      <td>hard_task</td>\n",
       "    </tr>\n",
       "    <tr>\n",
       "      <th>1</th>\n",
       "      <td>task_o28</td>\n",
       "      <td>road</td>\n",
       "      <td>easy_task</td>\n",
       "    </tr>\n",
       "    <tr>\n",
       "      <th>2</th>\n",
       "      <td>task_Dzm</td>\n",
       "      <td>officials</td>\n",
       "      <td>hard_task</td>\n",
       "    </tr>\n",
       "    <tr>\n",
       "      <th>3</th>\n",
       "      <td>task_ubj</td>\n",
       "      <td>road</td>\n",
       "      <td>easy_task</td>\n",
       "    </tr>\n",
       "    <tr>\n",
       "      <th>4</th>\n",
       "      <td>task_sxR</td>\n",
       "      <td>officials</td>\n",
       "      <td>hard_task</td>\n",
       "    </tr>\n",
       "  </tbody>\n",
       "</table>\n",
       "</div>"
      ],
      "text/plain": [
       "    task_id true_answers label_task\n",
       "0  task_AMm  personality  hard_task\n",
       "1  task_o28         road  easy_task\n",
       "2  task_Dzm    officials  hard_task\n",
       "3  task_ubj         road  easy_task\n",
       "4  task_sxR    officials  hard_task"
      ]
     },
     "execution_count": 16,
     "metadata": {},
     "output_type": "execute_result"
    }
   ],
   "source": [
    "df_tasks.head()"
   ]
  },
  {
   "cell_type": "markdown",
   "metadata": {},
   "source": [
    "---\n",
    "### Probabilities of getting the answer right\n",
    "In this step, we first calculate the exact probabilities of getting the answer right for each worker and each task."
   ]
  },
  {
   "cell_type": "markdown",
   "metadata": {},
   "source": [
    "Since the ability is unknown before the task is undertaken, we use a beta distribution to model the distribution of worker ability. Its probability density function $f(x|a, v)$ is given by "
   ]
  },
  {
   "cell_type": "markdown",
   "metadata": {},
   "source": [
    "$$\n",
    "f(x|a,v) = Beta (\\frac{a}{\\min(a,1-a)v}, \\frac{(1-a)}{\\min(a,1-a)v})\n",
    "$$"
   ]
  },
  {
   "cell_type": "markdown",
   "metadata": {},
   "source": [
    "Here a ∈ (0, 1) is the normalized value of the average ability of the workers in the crowdsourcing platform.  \n",
    "v ∈ (0, 1) is a parameter that determines the variance in worker ability  \n",
    "[Paper](https://aaai.org/ocs/index.php/HCOMP/HCOMP16/paper/viewFile/14047/13632)  "
   ]
  },
  {
   "cell_type": "code",
   "execution_count": 17,
   "metadata": {},
   "outputs": [
    {
     "name": "stdout",
     "output_type": "stream",
     "text": [
      "Mean probability 0.910143709707661\n"
     ]
    },
    {
     "data": {
      "image/png": "[encoded data removed]",
      "text/plain": [
       "<Figure size 432x288 with 1 Axes>"
      ]
     },
     "metadata": {},
     "output_type": "display_data"
    }
   ],
   "source": [
    "from scipy.stats import beta\n",
    "data_beta = beta.rvs(10, 1, size=10000)\n",
    "sns.distplot(data_beta, kde=False, bins=100)\n",
    "print('Mean probability {}'.format(np.mean(data_beta)))"
   ]
  },
  {
   "cell_type": "markdown",
   "metadata": {},
   "source": [
    "In general we have good workers, on average the 90% of chances to getting the answer right"
   ]
  },
  {
   "cell_type": "code",
   "execution_count": 18,
   "metadata": {},
   "outputs": [],
   "source": [
    "df_workers['prob_worker'] = beta.rvs(10, 1, size=total_workers)"
   ]
  },
  {
   "cell_type": "code",
   "execution_count": 19,
   "metadata": {},
   "outputs": [
    {
     "data": {
      "text/html": [
       "<div>\n",
       "<style scoped>\n",
       "    .dataframe tbody tr th:only-of-type {\n",
       "        vertical-align: middle;\n",
       "    }\n",
       "\n",
       "    .dataframe tbody tr th {\n",
       "        vertical-align: top;\n",
       "    }\n",
       "\n",
       "    .dataframe thead th {\n",
       "        text-align: right;\n",
       "    }\n",
       "</style>\n",
       "<table border=\"1\" class=\"dataframe\">\n",
       "  <thead>\n",
       "    <tr style=\"text-align: right;\">\n",
       "      <th></th>\n",
       "      <th>worker_id</th>\n",
       "      <th>prob_worker</th>\n",
       "    </tr>\n",
       "  </thead>\n",
       "  <tbody>\n",
       "    <tr>\n",
       "      <th>0</th>\n",
       "      <td>MaW6A</td>\n",
       "      <td>0.860265</td>\n",
       "    </tr>\n",
       "    <tr>\n",
       "      <th>1</th>\n",
       "      <td>qBJAF</td>\n",
       "      <td>0.962942</td>\n",
       "    </tr>\n",
       "    <tr>\n",
       "      <th>2</th>\n",
       "      <td>mhgkt</td>\n",
       "      <td>0.983095</td>\n",
       "    </tr>\n",
       "    <tr>\n",
       "      <th>3</th>\n",
       "      <td>vVWGb</td>\n",
       "      <td>0.988767</td>\n",
       "    </tr>\n",
       "    <tr>\n",
       "      <th>4</th>\n",
       "      <td>wiDUj</td>\n",
       "      <td>0.944861</td>\n",
       "    </tr>\n",
       "  </tbody>\n",
       "</table>\n",
       "</div>"
      ],
      "text/plain": [
       "  worker_id  prob_worker\n",
       "0     MaW6A     0.860265\n",
       "1     qBJAF     0.962942\n",
       "2     mhgkt     0.983095\n",
       "3     vVWGb     0.988767\n",
       "4     wiDUj     0.944861"
      ]
     },
     "execution_count": 19,
     "metadata": {},
     "output_type": "execute_result"
    }
   ],
   "source": [
    "df_workers.head()"
   ]
  },
  {
   "cell_type": "code",
   "execution_count": 20,
   "metadata": {},
   "outputs": [],
   "source": [
    "# Threshold of responses\n",
    "cut_tasks = 0.75\n",
    "probs_tasks = []\n",
    "for i in df_tasks['label_task']:\n",
    "    if i == 'easy_task': #uniform from .75 to 1\n",
    "        probs_tasks.append(np.random.choice((np.arange(cut_tasks, 1, 0.01)), 1)) #a random number form cut to 1\n",
    "    elif i == 'hard_task': #uniform from .5 to .75\n",
    "        probs_tasks.append(np.random.choice((np.arange(0.5, cut_tasks, 0.01)), 1)) #a random number form chance to cut\n",
    "    else: probs_tasks.append(1)\n",
    "\n",
    "probs_tasks = [item for prob in probs_tasks for item in prob]"
   ]
  },
  {
   "cell_type": "code",
   "execution_count": 21,
   "metadata": {},
   "outputs": [],
   "source": [
    "df_tasks['prob_task'] = probs_tasks"
   ]
  },
  {
   "cell_type": "code",
   "execution_count": 22,
   "metadata": {},
   "outputs": [
    {
     "data": {
      "text/html": [
       "<div>\n",
       "<style scoped>\n",
       "    .dataframe tbody tr th:only-of-type {\n",
       "        vertical-align: middle;\n",
       "    }\n",
       "\n",
       "    .dataframe tbody tr th {\n",
       "        vertical-align: top;\n",
       "    }\n",
       "\n",
       "    .dataframe thead th {\n",
       "        text-align: right;\n",
       "    }\n",
       "</style>\n",
       "<table border=\"1\" class=\"dataframe\">\n",
       "  <thead>\n",
       "    <tr style=\"text-align: right;\">\n",
       "      <th></th>\n",
       "      <th>task_id</th>\n",
       "      <th>true_answers</th>\n",
       "      <th>label_task</th>\n",
       "      <th>prob_task</th>\n",
       "    </tr>\n",
       "  </thead>\n",
       "  <tbody>\n",
       "    <tr>\n",
       "      <th>0</th>\n",
       "      <td>task_AMm</td>\n",
       "      <td>personality</td>\n",
       "      <td>hard_task</td>\n",
       "      <td>0.57</td>\n",
       "    </tr>\n",
       "    <tr>\n",
       "      <th>1</th>\n",
       "      <td>task_o28</td>\n",
       "      <td>road</td>\n",
       "      <td>easy_task</td>\n",
       "      <td>0.93</td>\n",
       "    </tr>\n",
       "    <tr>\n",
       "      <th>2</th>\n",
       "      <td>task_Dzm</td>\n",
       "      <td>officials</td>\n",
       "      <td>hard_task</td>\n",
       "      <td>0.52</td>\n",
       "    </tr>\n",
       "    <tr>\n",
       "      <th>3</th>\n",
       "      <td>task_ubj</td>\n",
       "      <td>road</td>\n",
       "      <td>easy_task</td>\n",
       "      <td>0.96</td>\n",
       "    </tr>\n",
       "    <tr>\n",
       "      <th>4</th>\n",
       "      <td>task_sxR</td>\n",
       "      <td>officials</td>\n",
       "      <td>hard_task</td>\n",
       "      <td>0.61</td>\n",
       "    </tr>\n",
       "  </tbody>\n",
       "</table>\n",
       "</div>"
      ],
      "text/plain": [
       "    task_id true_answers label_task  prob_task\n",
       "0  task_AMm  personality  hard_task       0.57\n",
       "1  task_o28         road  easy_task       0.93\n",
       "2  task_Dzm    officials  hard_task       0.52\n",
       "3  task_ubj         road  easy_task       0.96\n",
       "4  task_sxR    officials  hard_task       0.61"
      ]
     },
     "execution_count": 22,
     "metadata": {},
     "output_type": "execute_result"
    }
   ],
   "source": [
    "df_tasks.head()"
   ]
  },
  {
   "cell_type": "markdown",
   "metadata": {},
   "source": [
    "#### Summary of aggregated probabilities"
   ]
  },
  {
   "cell_type": "code",
   "execution_count": 23,
   "metadata": {},
   "outputs": [
    {
     "data": {
      "text/html": [
       "<div>\n",
       "<style scoped>\n",
       "    .dataframe tbody tr th:only-of-type {\n",
       "        vertical-align: middle;\n",
       "    }\n",
       "\n",
       "    .dataframe tbody tr th {\n",
       "        vertical-align: top;\n",
       "    }\n",
       "\n",
       "    .dataframe thead tr th {\n",
       "        text-align: left;\n",
       "    }\n",
       "\n",
       "    .dataframe thead tr:last-of-type th {\n",
       "        text-align: right;\n",
       "    }\n",
       "</style>\n",
       "<table border=\"1\" class=\"dataframe\">\n",
       "  <thead>\n",
       "    <tr>\n",
       "      <th></th>\n",
       "      <th colspan=\"2\" halign=\"left\">prob_task</th>\n",
       "    </tr>\n",
       "    <tr>\n",
       "      <th></th>\n",
       "      <th>mean</th>\n",
       "      <th>count</th>\n",
       "    </tr>\n",
       "    <tr>\n",
       "      <th>label_task</th>\n",
       "      <th></th>\n",
       "      <th></th>\n",
       "    </tr>\n",
       "  </thead>\n",
       "  <tbody>\n",
       "    <tr>\n",
       "      <th>easy_task</th>\n",
       "      <td>0.871350</td>\n",
       "      <td>274</td>\n",
       "    </tr>\n",
       "    <tr>\n",
       "      <th>hard_task</th>\n",
       "      <td>0.625735</td>\n",
       "      <td>68</td>\n",
       "    </tr>\n",
       "  </tbody>\n",
       "</table>\n",
       "</div>"
      ],
      "text/plain": [
       "           prob_task      \n",
       "                mean count\n",
       "label_task                \n",
       "easy_task   0.871350   274\n",
       "hard_task   0.625735    68"
      ]
     },
     "execution_count": 23,
     "metadata": {},
     "output_type": "execute_result"
    }
   ],
   "source": [
    "df_tasks.groupby('label_task').agg(['mean','count'])"
   ]
  },
  {
   "cell_type": "code",
   "execution_count": 24,
   "metadata": {},
   "outputs": [
    {
     "data": {
      "text/html": [
       "<div>\n",
       "<style scoped>\n",
       "    .dataframe tbody tr th:only-of-type {\n",
       "        vertical-align: middle;\n",
       "    }\n",
       "\n",
       "    .dataframe tbody tr th {\n",
       "        vertical-align: top;\n",
       "    }\n",
       "\n",
       "    .dataframe thead th {\n",
       "        text-align: right;\n",
       "    }\n",
       "</style>\n",
       "<table border=\"1\" class=\"dataframe\">\n",
       "  <thead>\n",
       "    <tr style=\"text-align: right;\">\n",
       "      <th></th>\n",
       "      <th>prob_worker</th>\n",
       "    </tr>\n",
       "  </thead>\n",
       "  <tbody>\n",
       "    <tr>\n",
       "      <th>count</th>\n",
       "      <td>50.000000</td>\n",
       "    </tr>\n",
       "    <tr>\n",
       "      <th>mean</th>\n",
       "      <td>0.925666</td>\n",
       "    </tr>\n",
       "    <tr>\n",
       "      <th>std</th>\n",
       "      <td>0.066118</td>\n",
       "    </tr>\n",
       "    <tr>\n",
       "      <th>min</th>\n",
       "      <td>0.757621</td>\n",
       "    </tr>\n",
       "    <tr>\n",
       "      <th>25%</th>\n",
       "      <td>0.878147</td>\n",
       "    </tr>\n",
       "    <tr>\n",
       "      <th>50%</th>\n",
       "      <td>0.953824</td>\n",
       "    </tr>\n",
       "    <tr>\n",
       "      <th>75%</th>\n",
       "      <td>0.981199</td>\n",
       "    </tr>\n",
       "    <tr>\n",
       "      <th>max</th>\n",
       "      <td>0.998975</td>\n",
       "    </tr>\n",
       "  </tbody>\n",
       "</table>\n",
       "</div>"
      ],
      "text/plain": [
       "       prob_worker\n",
       "count    50.000000\n",
       "mean      0.925666\n",
       "std       0.066118\n",
       "min       0.757621\n",
       "25%       0.878147\n",
       "50%       0.953824\n",
       "75%       0.981199\n",
       "max       0.998975"
      ]
     },
     "execution_count": 24,
     "metadata": {},
     "output_type": "execute_result"
    }
   ],
   "source": [
    "df_workers.describe()"
   ]
  },
  {
   "cell_type": "markdown",
   "metadata": {},
   "source": [
    "--- \n",
    "Lets not split the 2 faces, just make everything in one run"
   ]
  },
  {
   "cell_type": "code",
   "execution_count": 31,
   "metadata": {},
   "outputs": [],
   "source": [
    "workers_per_task = 5"
   ]
  },
  {
   "cell_type": "code",
   "execution_count": 32,
   "metadata": {},
   "outputs": [],
   "source": [
    "tasks = training_tasks\n",
    "total_tasks = tasks_to_train"
   ]
  },
  {
   "cell_type": "code",
   "execution_count": 33,
   "metadata": {},
   "outputs": [],
   "source": [
    "list_tasks = [[tasks[i]]*workers_per_task for i in range(total_tasks)] #replicate the tasks to train \n",
    "list_tasks = [item for sublist in list_tasks for item in sublist] #flat and clean list"
   ]
  },
  {
   "cell_type": "code",
   "execution_count": 34,
   "metadata": {},
   "outputs": [],
   "source": [
    "# Asign workers on every task \n",
    "tasks_workers = [np.random.choice(workers, workers_per_task, replace=False) for task in tasks]\n",
    "tasks_workers = [worker for sublist in tasks_workers for worker in sublist] #flat and clean list"
   ]
  },
  {
   "cell_type": "code",
   "execution_count": 35,
   "metadata": {},
   "outputs": [],
   "source": [
    "df_tw = pd.DataFrame()\n",
    "df_tw['task_id'] = list_tasks\n",
    "df_tw['worker_id'] = tasks_workers"
   ]
  },
  {
   "cell_type": "code",
   "execution_count": 36,
   "metadata": {},
   "outputs": [],
   "source": [
    "workers_agg = df_tw.groupby('worker_id').agg('count')\n",
    "workers_agg = workers_agg['task_id']\n",
    "workers_agg.name = 'tasks'"
   ]
  },
  {
   "cell_type": "code",
   "execution_count": 37,
   "metadata": {},
   "outputs": [
    {
     "data": {
      "text/plain": [
       "worker_id\n",
       "4gqx5    15\n",
       "UMHgv    15\n",
       "amtRz    14\n",
       "LMH2X    14\n",
       "wfkpF    14\n",
       "Name: tasks, dtype: int64"
      ]
     },
     "execution_count": 37,
     "metadata": {},
     "output_type": "execute_result"
    }
   ],
   "source": [
    "# REVIEW THIS, HOW DO WE MAKE SURE ALL THE WORKERS HAVE TASK ASIGNATED\n",
    "workers_agg.sort_values(ascending=False).head()"
   ]
  },
  {
   "cell_type": "code",
   "execution_count": 38,
   "metadata": {},
   "outputs": [],
   "source": [
    "df_tw = pd.merge(df_tw, df_tasks, on='task_id', how='left')\n",
    "df_tw = pd.merge(df_tw, df_workers, on='worker_id', how='left')"
   ]
  },
  {
   "cell_type": "markdown",
   "metadata": {},
   "source": [
    "w = worker answer correct  \n",
    "T = Having knowledge to do the task\n",
    "\n",
    "\n",
    "$$\n",
    "P(w~|~T) = \\frac{P(T~|~w) P(w)}{P(T~|~w) P(w) + P(T~|~w^c) P(w^c)}\n",
    "$$\n",
    "\n",
    "[Bayes for conditional probability example](http://www.stat.yale.edu/Courses/1997-98/101/condprob.htm)"
   ]
  },
  {
   "cell_type": "code",
   "execution_count": 39,
   "metadata": {},
   "outputs": [],
   "source": [
    "prob_guess = 1 / len(answers_key)"
   ]
  },
  {
   "cell_type": "code",
   "execution_count": 40,
   "metadata": {},
   "outputs": [],
   "source": [
    "df_tw['prob_answer'] = (df_tw['prob_task'] * df_tw['prob_worker']) / (df_tw['prob_task'] * df_tw['prob_worker'] + prob_guess * (1-df_tw['prob_worker']))"
   ]
  },
  {
   "cell_type": "markdown",
   "metadata": {},
   "source": [
    "The Bernoulli is the posterior function to modelate the action"
   ]
  },
  {
   "cell_type": "code",
   "execution_count": 41,
   "metadata": {},
   "outputs": [],
   "source": [
    "from scipy.stats import bernoulli\n",
    "worker_prediction = [bernoulli.rvs(size=1,p=prob)[0] for prob in df_tw['prob_answer']]"
   ]
  },
  {
   "cell_type": "code",
   "execution_count": 42,
   "metadata": {},
   "outputs": [],
   "source": [
    "#sns.distplot(worker_prediction, kde=False, color=\"skyblue\")"
   ]
  },
  {
   "cell_type": "code",
   "execution_count": 43,
   "metadata": {},
   "outputs": [],
   "source": [
    "df_tw['prediction'] = worker_prediction"
   ]
  },
  {
   "cell_type": "code",
   "execution_count": 44,
   "metadata": {},
   "outputs": [],
   "source": [
    "worker_answers = []\n",
    "for idx, i in enumerate(worker_prediction):\n",
    "    if i == 1:\n",
    "        worker_answers.append(df_tw['true_answers'].loc[idx])\n",
    "    else:\n",
    "        worker_answers.append(np.random.choice([i for i in set(answers_key)-set(df_tw['true_answers'].loc[idx])], 1)[0])"
   ]
  },
  {
   "cell_type": "code",
   "execution_count": 45,
   "metadata": {},
   "outputs": [],
   "source": [
    "df_tw['worker_answers'] = worker_answers"
   ]
  },
  {
   "cell_type": "code",
   "execution_count": 46,
   "metadata": {},
   "outputs": [
    {
     "data": {
      "text/html": [
       "<div>\n",
       "<style scoped>\n",
       "    .dataframe tbody tr th:only-of-type {\n",
       "        vertical-align: middle;\n",
       "    }\n",
       "\n",
       "    .dataframe tbody tr th {\n",
       "        vertical-align: top;\n",
       "    }\n",
       "\n",
       "    .dataframe thead th {\n",
       "        text-align: right;\n",
       "    }\n",
       "</style>\n",
       "<table border=\"1\" class=\"dataframe\">\n",
       "  <thead>\n",
       "    <tr style=\"text-align: right;\">\n",
       "      <th></th>\n",
       "      <th>task_id</th>\n",
       "      <th>worker_id</th>\n",
       "      <th>true_answers</th>\n",
       "      <th>label_task</th>\n",
       "      <th>prob_task</th>\n",
       "      <th>prob_worker</th>\n",
       "      <th>prob_answer</th>\n",
       "      <th>prediction</th>\n",
       "      <th>worker_answers</th>\n",
       "    </tr>\n",
       "  </thead>\n",
       "  <tbody>\n",
       "    <tr>\n",
       "      <th>0</th>\n",
       "      <td>task_EKL</td>\n",
       "      <td>DGS8E</td>\n",
       "      <td>road</td>\n",
       "      <td>easy_task</td>\n",
       "      <td>0.75</td>\n",
       "      <td>0.874252</td>\n",
       "      <td>0.963061</td>\n",
       "      <td>0</td>\n",
       "      <td>nozzle</td>\n",
       "    </tr>\n",
       "    <tr>\n",
       "      <th>1</th>\n",
       "      <td>task_EKL</td>\n",
       "      <td>c26jo</td>\n",
       "      <td>road</td>\n",
       "      <td>easy_task</td>\n",
       "      <td>0.75</td>\n",
       "      <td>0.845519</td>\n",
       "      <td>0.953542</td>\n",
       "      <td>1</td>\n",
       "      <td>road</td>\n",
       "    </tr>\n",
       "    <tr>\n",
       "      <th>2</th>\n",
       "      <td>task_EKL</td>\n",
       "      <td>sQpXy</td>\n",
       "      <td>road</td>\n",
       "      <td>easy_task</td>\n",
       "      <td>0.75</td>\n",
       "      <td>0.961393</td>\n",
       "      <td>0.989405</td>\n",
       "      <td>1</td>\n",
       "      <td>road</td>\n",
       "    </tr>\n",
       "    <tr>\n",
       "      <th>3</th>\n",
       "      <td>task_EKL</td>\n",
       "      <td>mhgkt</td>\n",
       "      <td>road</td>\n",
       "      <td>easy_task</td>\n",
       "      <td>0.75</td>\n",
       "      <td>0.983095</td>\n",
       "      <td>0.995435</td>\n",
       "      <td>1</td>\n",
       "      <td>road</td>\n",
       "    </tr>\n",
       "    <tr>\n",
       "      <th>4</th>\n",
       "      <td>task_EKL</td>\n",
       "      <td>tAKtK</td>\n",
       "      <td>road</td>\n",
       "      <td>easy_task</td>\n",
       "      <td>0.75</td>\n",
       "      <td>0.915639</td>\n",
       "      <td>0.976020</td>\n",
       "      <td>1</td>\n",
       "      <td>road</td>\n",
       "    </tr>\n",
       "  </tbody>\n",
       "</table>\n",
       "</div>"
      ],
      "text/plain": [
       "    task_id worker_id true_answers label_task  prob_task  prob_worker  \\\n",
       "0  task_EKL     DGS8E         road  easy_task       0.75     0.874252   \n",
       "1  task_EKL     c26jo         road  easy_task       0.75     0.845519   \n",
       "2  task_EKL     sQpXy         road  easy_task       0.75     0.961393   \n",
       "3  task_EKL     mhgkt         road  easy_task       0.75     0.983095   \n",
       "4  task_EKL     tAKtK         road  easy_task       0.75     0.915639   \n",
       "\n",
       "   prob_answer  prediction worker_answers  \n",
       "0     0.963061           0         nozzle  \n",
       "1     0.953542           1           road  \n",
       "2     0.989405           1           road  \n",
       "3     0.995435           1           road  \n",
       "4     0.976020           1           road  "
      ]
     },
     "execution_count": 46,
     "metadata": {},
     "output_type": "execute_result"
    }
   ],
   "source": [
    "df_tw.head()"
   ]
  },
  {
   "cell_type": "markdown",
   "metadata": {},
   "source": [
    "---\n",
    "### Confusion Matrix for the answers"
   ]
  },
  {
   "cell_type": "code",
   "execution_count": 47,
   "metadata": {},
   "outputs": [
    {
     "data": {
      "text/plain": [
       "array([[ 92,   0,   1,   2,   0],\n",
       "       [  1,  98,   0,   1,   0],\n",
       "       [  1,   0,  74,   0,   0],\n",
       "       [  2,   1,   1, 125,   1],\n",
       "       [  0,   0,   0,   0, 110]])"
      ]
     },
     "execution_count": 47,
     "metadata": {},
     "output_type": "execute_result"
    }
   ],
   "source": [
    "from sklearn.metrics import confusion_matrix\n",
    "confusion_matrix(df_tw['true_answers'], df_tw['worker_answers'])"
   ]
  },
  {
   "cell_type": "code",
   "execution_count": 48,
   "metadata": {},
   "outputs": [],
   "source": [
    "import turicreate as tc\n",
    "sf_tw = tc.SFrame(data=df_tw)\n",
    "conf_matrix = tc.evaluation.confusion_matrix(sf_tw['true_answers'], sf_tw['worker_answers'])"
   ]
  },
  {
   "cell_type": "code",
   "execution_count": 49,
   "metadata": {},
   "outputs": [
    {
     "name": "stdout",
     "output_type": "stream",
     "text": [
      "+--------------+-----------------+-------+\n",
      "| target_label | predicted_label | count |\n",
      "+--------------+-----------------+-------+\n",
      "|     road     |    officials    |   1   |\n",
      "|  officials   |       road      |   1   |\n",
      "|    nozzle    |      nozzle     |   92  |\n",
      "| personality  |   personality   |   74  |\n",
      "|     road     |    suggestion   |   1   |\n",
      "| personality  |      nozzle     |   1   |\n",
      "|  officials   |      nozzle     |   1   |\n",
      "|  officials   |    officials    |   98  |\n",
      "|    nozzle    |       road      |   2   |\n",
      "|    nozzle    |   personality   |   1   |\n",
      "|  suggestion  |    suggestion   |  110  |\n",
      "|     road     |   personality   |   1   |\n",
      "|     road     |       road      |  125  |\n",
      "|     road     |      nozzle     |   2   |\n",
      "+--------------+-----------------+-------+\n",
      "[14 rows x 3 columns]\n",
      "\n"
     ]
    }
   ],
   "source": [
    "conf_matrix.print_rows(25,)"
   ]
  },
  {
   "cell_type": "code",
   "execution_count": 50,
   "metadata": {},
   "outputs": [],
   "source": [
    "accuracy = conf_matrix[conf_matrix['target_label'] == conf_matrix['predicted_label']]['count'].sum() / conf_matrix['count'].sum()"
   ]
  },
  {
   "cell_type": "code",
   "execution_count": 51,
   "metadata": {},
   "outputs": [
    {
     "name": "stdout",
     "output_type": "stream",
     "text": [
      "0.9784313725490196\n"
     ]
    }
   ],
   "source": [
    "print(accuracy)"
   ]
  },
  {
   "cell_type": "markdown",
   "metadata": {},
   "source": [
    "Try the confusion matrix library to track all the different measures of the workers  \n",
    "https://github.com/sepandhaghighi/pycm"
   ]
  },
  {
   "cell_type": "markdown",
   "metadata": {},
   "source": [
    "---\n",
    "### Measuring Performance"
   ]
  },
  {
   "cell_type": "markdown",
   "metadata": {},
   "source": [
    "Next we measure the performance of the worker. The performance is calculate as the number of times a worker answers right (in comparison with the true answer) over the total number of workers per task.  \n",
    "\n",
    "The range of the performance value spans from 0 to 1. The values close to 1 indicate that the majority of the workers had consensus. The values close to 0 indicate that there was no consensus."
   ]
  },
  {
   "cell_type": "code",
   "execution_count": 52,
   "metadata": {},
   "outputs": [],
   "source": [
    "df_tw['performance'] = worker_prediction"
   ]
  },
  {
   "cell_type": "code",
   "execution_count": 53,
   "metadata": {
    "scrolled": false
   },
   "outputs": [],
   "source": [
    "#tasks_mean = df_tw.groupby('task_id').mean().sort_values('performance', ascending=False)\n",
    "#tasks_mean['performance'].head()"
   ]
  },
  {
   "cell_type": "code",
   "execution_count": 54,
   "metadata": {
    "scrolled": true
   },
   "outputs": [
    {
     "name": "stdout",
     "output_type": "stream",
     "text": [
      "Prediction Correct 496 of 510\n"
     ]
    },
    {
     "data": {
      "image/png": "[encoded data removed]",
      "text/plain": [
       "<Figure size 1296x288 with 1 Axes>"
      ]
     },
     "metadata": {},
     "output_type": "display_data"
    }
   ],
   "source": [
    "#Distribution of the performance\n",
    "plt.figure(figsize=[18, 4])\n",
    "sns.distplot(df_tw['performance'], kde=False, vertical=True, color=\"red\")\n",
    "print('Prediction Correct {} of {}'.format(df_tw['performance'].sum(), df_tw['performance'].count()))"
   ]
  },
  {
   "cell_type": "code",
   "execution_count": 55,
   "metadata": {},
   "outputs": [],
   "source": [
    "workers_mean = df_tw.groupby('worker_id').mean().sort_values('performance', ascending=False)\n",
    "df_workers = pd.merge(workers_mean.reset_index(), df_workers.drop('prob_worker',1), on='worker_id', how='left')"
   ]
  },
  {
   "cell_type": "code",
   "execution_count": 56,
   "metadata": {
    "scrolled": false
   },
   "outputs": [
    {
     "data": {
      "text/plain": [
       "<matplotlib.axes._subplots.AxesSubplot at 0x110caa6a0>"
      ]
     },
     "execution_count": 56,
     "metadata": {},
     "output_type": "execute_result"
    },
    {
     "data": {
      "image/png": "[encoded data removed]",
      "text/plain": [
       "<Figure size 720x720 with 1 Axes>"
      ]
     },
     "metadata": {},
     "output_type": "display_data"
    }
   ],
   "source": [
    "plt.figure(figsize=[10, 10])\n",
    "sns.kdeplot(df_workers['performance'], df_workers['prob_worker'], cmap=\"Blues\", shade=True, shade_lowest=False)"
   ]
  },
  {
   "cell_type": "code",
   "execution_count": 57,
   "metadata": {},
   "outputs": [
    {
     "data": {
      "image/png": "[encoded data removed]",
      "text/plain": [
       "<Figure size 1296x288 with 1 Axes>"
      ]
     },
     "metadata": {},
     "output_type": "display_data"
    }
   ],
   "source": [
    "plt.figure(figsize=[18, 4])\n",
    "axis = range(len(workers_mean))\n",
    "plt.bar(axis, workers_mean['performance'], align='center', alpha=0.8, color='blue', label='Probability of Answer correct')\n",
    "plt.xticks(axis, workers_mean.index, rotation=90)\n",
    "plt.title('Workers Performance')\n",
    "plt.legend(loc='best')\n",
    "plt.show()"
   ]
  },
  {
   "cell_type": "code",
   "execution_count": 58,
   "metadata": {},
   "outputs": [],
   "source": [
    "#df_workers.describe()"
   ]
  },
  {
   "cell_type": "markdown",
   "metadata": {},
   "source": [
    "--- \n",
    "## Split the good workers from the rest  \n",
    "\n",
    "Take all the workers whose performance was complete (1)"
   ]
  },
  {
   "cell_type": "code",
   "execution_count": 59,
   "metadata": {},
   "outputs": [],
   "source": [
    "df_workers = df_workers.join(workers_agg, on='worker_id', how='left')"
   ]
  },
  {
   "cell_type": "code",
   "execution_count": 60,
   "metadata": {},
   "outputs": [],
   "source": [
    "worker_label = []\n",
    "for i in df_workers['performance']:\n",
    "    if i == 1:\n",
    "        worker_label.append('good_worker')\n",
    "    else:\n",
    "        worker_label.append('poor_worker')\n",
    "        \n",
    "df_workers['label_worker'] = worker_label"
   ]
  },
  {
   "cell_type": "code",
   "execution_count": 61,
   "metadata": {},
   "outputs": [
    {
     "data": {
      "text/html": [
       "<div>\n",
       "<style scoped>\n",
       "    .dataframe tbody tr th:only-of-type {\n",
       "        vertical-align: middle;\n",
       "    }\n",
       "\n",
       "    .dataframe tbody tr th {\n",
       "        vertical-align: top;\n",
       "    }\n",
       "\n",
       "    .dataframe thead th {\n",
       "        text-align: right;\n",
       "    }\n",
       "</style>\n",
       "<table border=\"1\" class=\"dataframe\">\n",
       "  <thead>\n",
       "    <tr style=\"text-align: right;\">\n",
       "      <th></th>\n",
       "      <th>worker_id</th>\n",
       "      <th>prob_task</th>\n",
       "      <th>prob_worker</th>\n",
       "      <th>prob_answer</th>\n",
       "      <th>prediction</th>\n",
       "      <th>performance</th>\n",
       "      <th>tasks</th>\n",
       "      <th>label_worker</th>\n",
       "    </tr>\n",
       "  </thead>\n",
       "  <tbody>\n",
       "    <tr>\n",
       "      <th>0</th>\n",
       "      <td>2styZ</td>\n",
       "      <td>0.81000</td>\n",
       "      <td>0.974425</td>\n",
       "      <td>0.993446</td>\n",
       "      <td>1.0</td>\n",
       "      <td>1.0</td>\n",
       "      <td>10</td>\n",
       "      <td>good_worker</td>\n",
       "    </tr>\n",
       "    <tr>\n",
       "      <th>1</th>\n",
       "      <td>dce8L</td>\n",
       "      <td>0.84400</td>\n",
       "      <td>0.961100</td>\n",
       "      <td>0.990364</td>\n",
       "      <td>1.0</td>\n",
       "      <td>1.0</td>\n",
       "      <td>10</td>\n",
       "      <td>good_worker</td>\n",
       "    </tr>\n",
       "    <tr>\n",
       "      <th>2</th>\n",
       "      <td>SGmZz</td>\n",
       "      <td>0.87900</td>\n",
       "      <td>0.877761</td>\n",
       "      <td>0.968419</td>\n",
       "      <td>1.0</td>\n",
       "      <td>1.0</td>\n",
       "      <td>10</td>\n",
       "      <td>good_worker</td>\n",
       "    </tr>\n",
       "    <tr>\n",
       "      <th>3</th>\n",
       "      <td>SysVg</td>\n",
       "      <td>0.85600</td>\n",
       "      <td>0.866927</td>\n",
       "      <td>0.964646</td>\n",
       "      <td>1.0</td>\n",
       "      <td>1.0</td>\n",
       "      <td>10</td>\n",
       "      <td>good_worker</td>\n",
       "    </tr>\n",
       "    <tr>\n",
       "      <th>4</th>\n",
       "      <td>UDM5u</td>\n",
       "      <td>0.87625</td>\n",
       "      <td>0.922901</td>\n",
       "      <td>0.981154</td>\n",
       "      <td>1.0</td>\n",
       "      <td>1.0</td>\n",
       "      <td>8</td>\n",
       "      <td>good_worker</td>\n",
       "    </tr>\n",
       "  </tbody>\n",
       "</table>\n",
       "</div>"
      ],
      "text/plain": [
       "  worker_id  prob_task  prob_worker  prob_answer  prediction  performance  \\\n",
       "0     2styZ    0.81000     0.974425     0.993446         1.0          1.0   \n",
       "1     dce8L    0.84400     0.961100     0.990364         1.0          1.0   \n",
       "2     SGmZz    0.87900     0.877761     0.968419         1.0          1.0   \n",
       "3     SysVg    0.85600     0.866927     0.964646         1.0          1.0   \n",
       "4     UDM5u    0.87625     0.922901     0.981154         1.0          1.0   \n",
       "\n",
       "   tasks label_worker  \n",
       "0     10  good_worker  \n",
       "1     10  good_worker  \n",
       "2     10  good_worker  \n",
       "3     10  good_worker  \n",
       "4      8  good_worker  "
      ]
     },
     "execution_count": 61,
     "metadata": {},
     "output_type": "execute_result"
    }
   ],
   "source": [
    "df_workers.head()"
   ]
  },
  {
   "cell_type": "code",
   "execution_count": 62,
   "metadata": {},
   "outputs": [],
   "source": [
    "selected = df_workers[(df_workers['label_worker'] == 'good_worker') \n",
    "                   & ((df_workers['prob_task'] < df_workers['prob_task'].median()))]\n",
    "                   #& ((df_workers['tasks'] > df_workers['tasks'].median()))]"
   ]
  },
  {
   "cell_type": "code",
   "execution_count": 63,
   "metadata": {},
   "outputs": [
    {
     "name": "stdout",
     "output_type": "stream",
     "text": [
      "Selected Good Workers: 20.0\n"
     ]
    }
   ],
   "source": [
    "print('Selected Good Workers: {}'.format(selected['performance'].sum()))"
   ]
  },
  {
   "cell_type": "code",
   "execution_count": 65,
   "metadata": {},
   "outputs": [],
   "source": [
    "good_workers = [i for i in selected['worker_id']]"
   ]
  },
  {
   "cell_type": "code",
   "execution_count": 80,
   "metadata": {},
   "outputs": [
    {
     "data": {
      "text/html": [
       "<div>\n",
       "<style scoped>\n",
       "    .dataframe tbody tr th:only-of-type {\n",
       "        vertical-align: middle;\n",
       "    }\n",
       "\n",
       "    .dataframe tbody tr th {\n",
       "        vertical-align: top;\n",
       "    }\n",
       "\n",
       "    .dataframe thead th {\n",
       "        text-align: right;\n",
       "    }\n",
       "</style>\n",
       "<table border=\"1\" class=\"dataframe\">\n",
       "  <thead>\n",
       "    <tr style=\"text-align: right;\">\n",
       "      <th></th>\n",
       "      <th>worker_id</th>\n",
       "      <th>prob_task</th>\n",
       "      <th>prob_worker</th>\n",
       "      <th>prob_answer</th>\n",
       "      <th>prediction</th>\n",
       "      <th>performance</th>\n",
       "      <th>tasks</th>\n",
       "      <th>label_worker</th>\n",
       "    </tr>\n",
       "  </thead>\n",
       "  <tbody>\n",
       "    <tr>\n",
       "      <th>0</th>\n",
       "      <td>2styZ</td>\n",
       "      <td>0.81000</td>\n",
       "      <td>0.974425</td>\n",
       "      <td>0.993446</td>\n",
       "      <td>1.0</td>\n",
       "      <td>1.0</td>\n",
       "      <td>10</td>\n",
       "      <td>good_worker</td>\n",
       "    </tr>\n",
       "    <tr>\n",
       "      <th>1</th>\n",
       "      <td>dce8L</td>\n",
       "      <td>0.84400</td>\n",
       "      <td>0.961100</td>\n",
       "      <td>0.990364</td>\n",
       "      <td>1.0</td>\n",
       "      <td>1.0</td>\n",
       "      <td>10</td>\n",
       "      <td>good_worker</td>\n",
       "    </tr>\n",
       "    <tr>\n",
       "      <th>2</th>\n",
       "      <td>SGmZz</td>\n",
       "      <td>0.87900</td>\n",
       "      <td>0.877761</td>\n",
       "      <td>0.968419</td>\n",
       "      <td>1.0</td>\n",
       "      <td>1.0</td>\n",
       "      <td>10</td>\n",
       "      <td>good_worker</td>\n",
       "    </tr>\n",
       "    <tr>\n",
       "      <th>3</th>\n",
       "      <td>SysVg</td>\n",
       "      <td>0.85600</td>\n",
       "      <td>0.866927</td>\n",
       "      <td>0.964646</td>\n",
       "      <td>1.0</td>\n",
       "      <td>1.0</td>\n",
       "      <td>10</td>\n",
       "      <td>good_worker</td>\n",
       "    </tr>\n",
       "    <tr>\n",
       "      <th>4</th>\n",
       "      <td>UDM5u</td>\n",
       "      <td>0.87625</td>\n",
       "      <td>0.922901</td>\n",
       "      <td>0.981154</td>\n",
       "      <td>1.0</td>\n",
       "      <td>1.0</td>\n",
       "      <td>8</td>\n",
       "      <td>good_worker</td>\n",
       "    </tr>\n",
       "  </tbody>\n",
       "</table>\n",
       "</div>"
      ],
      "text/plain": [
       "  worker_id  prob_task  prob_worker  prob_answer  prediction  performance  \\\n",
       "0     2styZ    0.81000     0.974425     0.993446         1.0          1.0   \n",
       "1     dce8L    0.84400     0.961100     0.990364         1.0          1.0   \n",
       "2     SGmZz    0.87900     0.877761     0.968419         1.0          1.0   \n",
       "3     SysVg    0.85600     0.866927     0.964646         1.0          1.0   \n",
       "4     UDM5u    0.87625     0.922901     0.981154         1.0          1.0   \n",
       "\n",
       "   tasks label_worker  \n",
       "0     10  good_worker  \n",
       "1     10  good_worker  \n",
       "2     10  good_worker  \n",
       "3     10  good_worker  \n",
       "4      8  good_worker  "
      ]
     },
     "execution_count": 80,
     "metadata": {},
     "output_type": "execute_result"
    }
   ],
   "source": [
    "df_workers[df_workers['label_worker'] == 'good_worker'].head()\n",
    "#do we choose those with more number of tasks and dificult task?\n",
    "#sns.distplot(goods['prob_task'])"
   ]
  },
  {
   "cell_type": "code",
   "execution_count": 66,
   "metadata": {},
   "outputs": [
    {
     "data": {
      "text/plain": [
       "['2styZ',\n",
       " '3NvjV',\n",
       " 'amtRz',\n",
       " 'd62PP',\n",
       " 'hjQ6R',\n",
       " 'raghx',\n",
       " 'oDDsB',\n",
       " 'pLput',\n",
       " 'qBJAF',\n",
       " 'RXy9m',\n",
       " 'MD9wr',\n",
       " '74A6s',\n",
       " 'wfkpF',\n",
       " 'C7ezS',\n",
       " 'vVWGb',\n",
       " 'H3w7y',\n",
       " 'swgbP',\n",
       " 'JsxsS',\n",
       " 'M96nX',\n",
       " 'qbhRq']"
      ]
     },
     "execution_count": 66,
     "metadata": {},
     "output_type": "execute_result"
    }
   ],
   "source": [
    "good_workers"
   ]
  },
  {
   "cell_type": "code",
   "execution_count": 71,
   "metadata": {},
   "outputs": [],
   "source": [
    "tasks_agg = df_tw.groupby('task_id').mean().sort_values('performance', ascending=False)"
   ]
  },
  {
   "cell_type": "code",
   "execution_count": 72,
   "metadata": {},
   "outputs": [],
   "source": [
    "tasks_agg = tasks_agg.reset_index()"
   ]
  },
  {
   "cell_type": "code",
   "execution_count": 77,
   "metadata": {},
   "outputs": [
    {
     "name": "stdout",
     "output_type": "stream",
     "text": [
      "All tasks that achieved majority consensus above 0.5 are not carried forward to Stage 2. The rest of the tasks are continued to Stage 2.\n"
     ]
    }
   ],
   "source": [
    "cutoff_task = 0.5 #More than 50% of consensus\n",
    "print('All tasks that achieved majority consensus above {} are not carried forward to Stage 2. The rest of the tasks are continued to Stage 2.'.format(cutoff_task))"
   ]
  },
  {
   "cell_type": "code",
   "execution_count": 78,
   "metadata": {},
   "outputs": [],
   "source": [
    "list_done_tasks = [1 if i > cutoff_task else 0 for i in tasks_agg['performance']]"
   ]
  },
  {
   "cell_type": "markdown",
   "metadata": {},
   "source": [
    "### Split tasks and Undone tasks"
   ]
  },
  {
   "cell_type": "code",
   "execution_count": 25,
   "metadata": {},
   "outputs": [],
   "source": [
    "p_train_tasks = .3"
   ]
  },
  {
   "cell_type": "code",
   "execution_count": 26,
   "metadata": {},
   "outputs": [
    {
     "data": {
      "text/plain": [
       "102"
      ]
     },
     "execution_count": 26,
     "metadata": {},
     "output_type": "execute_result"
    }
   ],
   "source": [
    "tasks_to_train = int(p_train_tasks*total_tasks)\n",
    "tasks_to_train"
   ]
  },
  {
   "cell_type": "code",
   "execution_count": 27,
   "metadata": {},
   "outputs": [
    {
     "data": {
      "text/plain": [
       "array(['task_EKL', 'task_8qD', 'task_Gvh', 'task_iDP', 'task_JFw',\n",
       "       'task_khZ', 'task_ybk', 'task_YkZ', 'task_rV7', 'task_qEy',\n",
       "       'task_9N2', 'task_DTQ', 'task_2Gv', 'task_aht', 'task_2dg',\n",
       "       'task_odo', 'task_yd6', 'task_H2q', 'task_5h6', 'task_t9i',\n",
       "       'task_pKv', 'task_v7F', 'task_R6G', 'task_ZVA', 'task_3eQ',\n",
       "       'task_ZoW', 'task_uKk', 'task_tj9', 'task_pLz', 'task_ZXS',\n",
       "       'task_omT', 'task_PPa', 'task_JRn', 'task_2wh', 'task_zo6',\n",
       "       'task_A2W', 'task_gMm', 'task_tgz', 'task_TiR', 'task_2Xk',\n",
       "       'task_cG2', 'task_Fbx', 'task_VU2', 'task_hEu', 'task_W5B',\n",
       "       'task_9jF', 'task_zhd', 'task_sxR', 'task_LoB', 'task_mSZ',\n",
       "       'task_6T4', 'task_CyG', 'task_v8G', 'task_zA4', 'task_U8k',\n",
       "       'task_9ee', 'task_qqB', 'task_fvi', 'task_CUk', 'task_wSp',\n",
       "       'task_kyX', 'task_bhU', 'task_NyM', 'task_chg', 'task_EAU',\n",
       "       'task_Usc', 'task_FxQ', 'task_kc4', 'task_y69', 'task_YXm',\n",
       "       'task_LEt', 'task_TjP', 'task_LNz', 'task_REP', 'task_CHe',\n",
       "       'task_YyX', 'task_XAb', 'task_ZVP', 'task_WzG', 'task_RKW',\n",
       "       'task_n3f', 'task_LMe', 'task_G7o', 'task_Skw', 'task_zrb',\n",
       "       'task_uWo', 'task_kw2', 'task_ah2', 'task_pxo', 'task_jMs',\n",
       "       'task_zZh', 'task_wp6', 'task_qvZ', 'task_2pu', 'task_JA6',\n",
       "       'task_Ekz', 'task_9Xs', 'task_d2H', 'task_72R', 'task_DNJ',\n",
       "       'task_f7H', 'task_V7Z'], dtype='<U8')"
      ]
     },
     "execution_count": 27,
     "metadata": {},
     "output_type": "execute_result"
    }
   ],
   "source": [
    "# From the entire set of tasks, randomly choose p_train_tasks (in this case 40) tasks to train.\n",
    "training_tasks = np.random.choice(tasks, tasks_to_train, replace=False)\n",
    "training_tasks"
   ]
  },
  {
   "cell_type": "code",
   "execution_count": null,
   "metadata": {},
   "outputs": [],
   "source": []
  },
  {
   "cell_type": "code",
   "execution_count": null,
   "metadata": {},
   "outputs": [],
   "source": []
  },
  {
   "cell_type": "markdown",
   "metadata": {},
   "source": [
    "---\n",
    "# Accuracy One Function"
   ]
  },
  {
   "cell_type": "code",
   "execution_count": 113,
   "metadata": {},
   "outputs": [
    {
     "name": "stdout",
     "output_type": "stream",
     "text": [
      "68 274\n"
     ]
    }
   ],
   "source": [
    "total_tasks = 342\n",
    "total_workers = 50\n",
    "p_hard_tasks = 0.2\n",
    "n_hard_tasks = int(round(p_hard_tasks*total_tasks,0))\n",
    "p_easy_tasks = 1-p_hard_tasks \n",
    "n_easy_tasks = int(round(p_easy_tasks*total_tasks,0))\n",
    "print(n_hard_tasks, n_easy_tasks)"
   ]
  },
  {
   "cell_type": "code",
   "execution_count": 114,
   "metadata": {},
   "outputs": [],
   "source": [
    "param_beta1 = 10\n",
    "param_beta2 = 1"
   ]
  },
  {
   "cell_type": "code",
   "execution_count": 115,
   "metadata": {},
   "outputs": [],
   "source": [
    "workers_per_task = 5"
   ]
  },
  {
   "cell_type": "code",
   "execution_count": 1,
   "metadata": {},
   "outputs": [
    {
     "name": "stderr",
     "output_type": "stream",
     "text": [
      "/Users/pedrohserrano/anaconda3/envs/py36/lib/python3.6/site-packages/h5py/__init__.py:36: FutureWarning: Conversion of the second argument of issubdtype from `float` to `np.floating` is deprecated. In future, it will be treated as `np.float64 == np.dtype(float).type`.\n",
      "  from ._conv import register_converters as _register_converters\n"
     ]
    }
   ],
   "source": [
    "import sys\n",
    "import pandas as pd\n",
    "import numpy as np\n",
    "import shortuuid as uid\n",
    "from random_words import RandomWords\n",
    "from scipy.stats import beta\n",
    "from scipy.stats import bernoulli\n",
    "from sklearn.metrics import confusion_matrix\n",
    "import turicreate as tc\n",
    "\n",
    "def get_accuracy(total_tasks, total_workers, p_hard_tasks, workers_per_task, param_beta1 = 1, param_beta2 = 1):\n",
    "    workers = [uid.ShortUUID().random(length=5) for i in range(total_workers)]\n",
    "    df_workers = pd.DataFrame()\n",
    "    df_workers['worker_id'] = workers\n",
    "    #### Tasks \n",
    "    tasks = ['task_'+uid.ShortUUID().random(length=3) for i in range(total_tasks)]\n",
    "    easy_tasks = [task for task in np.random.choice(tasks, n_easy_tasks, replace=False)]\n",
    "    hard_tasks = [task for task in set(tasks)-set(easy_tasks)]\n",
    "\n",
    "    rw = RandomWords()\n",
    "    answers_key = rw.random_words(count=5)\n",
    "    true_answers = [answer for answer in np.random.choice(answers_key, total_tasks)]\n",
    "\n",
    "    # Creating the tasks data frame\n",
    "    df_tasks = pd.DataFrame()\n",
    "    df_tasks['task_id'] = tasks\n",
    "    df_tasks['true_answers'] = true_answers\n",
    "    df_tasks['label_task'] = ['hard_task' if tasks[i] in hard_tasks else 'easy_task' for i in range(total_tasks)]\n",
    "\n",
    "    data_beta = beta.rvs(param_beta1, param_beta2, size=total_workers)\n",
    "    df_workers['prob_worker'] = data_beta #probs_workers\n",
    "\n",
    "    # Threshold of responses\n",
    "    cut_tasks = 0.75\n",
    "    probs_tasks = []\n",
    "    for i in df_tasks['label_task']:\n",
    "        if i == 'easy_task':\n",
    "            probs_tasks.append(np.random.choice((np.arange(cut_tasks, 1, 0.01)), 1)) #a random number form cut to 1\n",
    "        elif i == 'hard_task':\n",
    "            probs_tasks.append(np.random.choice((np.arange(0.5, cut_tasks, 0.01)), 1)) #a random number form chance to cut\n",
    "        else: probs_tasks.append(1)\n",
    "\n",
    "    probs_tasks = [item for prob in probs_tasks for item in prob]\n",
    "    df_tasks['prob_task'] = probs_tasks\n",
    "\n",
    "    list_tasks = [[tasks[i]]*workers_per_task for i in range(total_tasks)] #replicate the tasks to train \n",
    "    list_tasks = [item for sublist in list_tasks for item in sublist] #flat and clean list\n",
    "\n",
    "    # Asign workers on every task \n",
    "    tasks_workers = [np.random.choice(workers, workers_per_task, replace=False) for task in tasks]\n",
    "    tasks_workers = [worker for sublist in tasks_workers for worker in sublist] #flat and clean list\n",
    "\n",
    "    df_tw = pd.DataFrame()\n",
    "    df_tw['task_id'] = list_tasks\n",
    "    df_tw['worker_id'] = tasks_workers\n",
    "    df_tw = pd.merge(df_tw, df_tasks, on='task_id', how='left')\n",
    "    df_tw = pd.merge(df_tw, df_workers, on='worker_id', how='left')\n",
    "\n",
    "    prob_guess = 1 / len(answers_key)\n",
    "    df_tw['prob_answer'] = (df_tw['prob_task'] * df_tw['prob_worker']) / (df_tw['prob_task'] * df_tw['prob_worker'] + prob_guess * (1-df_tw['prob_worker']))\n",
    "\n",
    "    worker_prediction = [bernoulli.rvs(size=1,p=prob)[0] for prob in df_tw['prob_answer']]\n",
    "\n",
    "    worker_answers = []\n",
    "    for idx, i in enumerate(worker_prediction):\n",
    "        if i == 1:\n",
    "            worker_answers.append(df_tw['true_answers'].loc[idx])\n",
    "        else:\n",
    "            worker_answers.append(np.random.choice([i for i in set(answers_key)-set(df_tw['true_answers'].loc[idx])], 1)[0])\n",
    "\n",
    "    df_tw['worker_answers'] = worker_answers\n",
    "    df_tw['performance'] = worker_prediction\n",
    "\n",
    "\n",
    "    confusion_matrix(df_tw['true_answers'], df_tw['worker_answers'])\n",
    "\n",
    "\n",
    "    sf_tw = tc.SFrame(data=df_tw)\n",
    "    conf_matrix = tc.evaluation.confusion_matrix(sf_tw['true_answers'], sf_tw['worker_answers'])\n",
    "    accuracy = conf_matrix[conf_matrix['target_label'] == conf_matrix['predicted_label']]['count'].sum() / conf_matrix['count'].sum()\n",
    "    \n",
    "    return accuracy, df_tw"
   ]
  },
  {
   "cell_type": "code",
   "execution_count": 117,
   "metadata": {},
   "outputs": [
    {
     "data": {
      "text/plain": [
       "0.9865497076023392"
      ]
     },
     "execution_count": 117,
     "metadata": {},
     "output_type": "execute_result"
    }
   ],
   "source": [
    "accuracy = get_accuracy(total_tasks, total_workers, p_hard_tasks, workers_per_task, param_beta1, param_beta2)[0]\n",
    "accuracy"
   ]
  },
  {
   "cell_type": "code",
   "execution_count": 121,
   "metadata": {},
   "outputs": [],
   "source": [
    "vec_workers = [i+10 for i in range(1000)] #[10,15,20,25,30,35,40,45,50,55,60,65,70,75,80,85,90,95,100]"
   ]
  },
  {
   "cell_type": "code",
   "execution_count": 122,
   "metadata": {},
   "outputs": [],
   "source": [
    "accu = [get_accuracy(total_tasks, i, p_hard_tasks, workers_per_task, param_beta1, param_beta2) for i in vec_workers]"
   ]
  },
  {
   "cell_type": "code",
   "execution_count": 123,
   "metadata": {},
   "outputs": [
    {
     "data": {
      "text/plain": [
       "[<matplotlib.lines.Line2D at 0x1a343fe668>]"
      ]
     },
     "execution_count": 123,
     "metadata": {},
     "output_type": "execute_result"
    },
    {
     "data": {
      "image/png": "[encoded data removed]",
      "text/plain": [
       "<Figure size 1296x288 with 1 Axes>"
      ]
     },
     "metadata": {},
     "output_type": "display_data"
    }
   ],
   "source": [
    "plt.figure(figsize=[18, 4])\n",
    "plt.plot(range(len(vec_workers)), accu)"
   ]
  },
  {
   "cell_type": "markdown",
   "metadata": {},
   "source": [
    "---"
   ]
  },
  {
   "cell_type": "markdown",
   "metadata": {},
   "source": [
    "## 2 Stages"
   ]
  },
  {
   "cell_type": "code",
   "execution_count": 2,
   "metadata": {},
   "outputs": [],
   "source": [
    "p_train_tasks = .3"
   ]
  },
  {
   "cell_type": "code",
   "execution_count": 4,
   "metadata": {},
   "outputs": [
    {
     "name": "stdout",
     "output_type": "stream",
     "text": [
      "68 274\n"
     ]
    }
   ],
   "source": [
    "total_tasks = 342\n",
    "total_workers = 50\n",
    "p_hard_tasks = 0.2\n",
    "n_hard_tasks = int(round(p_hard_tasks*total_tasks,0))\n",
    "p_easy_tasks = 1-p_hard_tasks \n",
    "n_easy_tasks = int(round(p_easy_tasks*total_tasks,0))\n",
    "print(n_hard_tasks, n_easy_tasks)"
   ]
  },
  {
   "cell_type": "code",
   "execution_count": 5,
   "metadata": {},
   "outputs": [
    {
     "data": {
      "text/plain": [
       "102"
      ]
     },
     "execution_count": 5,
     "metadata": {},
     "output_type": "execute_result"
    }
   ],
   "source": [
    "tasks_to_train = int(p_train_tasks*total_tasks)\n",
    "tasks_to_train"
   ]
  },
  {
   "cell_type": "code",
   "execution_count": 6,
   "metadata": {},
   "outputs": [],
   "source": [
    "param_beta1 = 10\n",
    "param_beta2 = 1"
   ]
  },
  {
   "cell_type": "code",
   "execution_count": 7,
   "metadata": {},
   "outputs": [],
   "source": [
    "workers_per_task = 5"
   ]
  },
  {
   "cell_type": "code",
   "execution_count": 9,
   "metadata": {},
   "outputs": [],
   "source": [
    "# From the entire set of tasks, randomly choose p_train_tasks (in this case 40) tasks to train.\n",
    "#training_tasks = np.random.choice(tasks, tasks_to_train, replace=False)\n",
    "#training_tasks"
   ]
  },
  {
   "cell_type": "markdown",
   "metadata": {},
   "source": [
    "1. Class for the tasks construction\n",
    "2. Class for the workers construction\n",
    "3. Joint Dataset construction\n",
    "4. Predict answers"
   ]
  },
  {
   "cell_type": "code",
   "execution_count": null,
   "metadata": {},
   "outputs": [],
   "source": [
    "accu = [get_accuracy(total_tasks, i, p_hard_tasks, workers_per_task, param_beta1, param_beta2) for i in vec_workers]"
   ]
  },
  {
   "cell_type": "code",
   "execution_count": null,
   "metadata": {},
   "outputs": [],
   "source": []
  },
  {
   "cell_type": "markdown",
   "metadata": {},
   "source": [
    "To compare the 2 stages against no training split:  \n",
    "    is needed to make the process without split\n",
    "    then take a part of the tasks 30% and do the process, and select the best workers\n",
    "    then with the 70% left assess with the good workers\n",
    "    \n",
    "(the difference between this aproach and the version 1 is that we do not know the workker probability a priori "
   ]
  },
  {
   "cell_type": "code",
   "execution_count": null,
   "metadata": {},
   "outputs": [],
   "source": []
  }
 ],
 "metadata": {
  "kernelspec": {
   "display_name": "Python 3",
   "language": "python",
   "name": "python3"
  },
  "language_info": {
   "codemirror_mode": {
    "name": "ipython",
    "version": 3
   },
   "file_extension": ".py",
   "mimetype": "text/x-python",
   "name": "python",
   "nbconvert_exporter": "python",
   "pygments_lexer": "ipython3",
   "version": "3.6.5"
  }
 },
 "nbformat": 4,
 "nbformat_minor": 2
}
