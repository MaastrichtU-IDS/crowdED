{
 "cells": [
  {
   "cell_type": "markdown",
   "metadata": {},
   "source": [
    "## CrowdED: Crowdsourcing task optimization\n",
    "---\n",
    "The research question we aim to answer is: \"Can we a-priori estimate optimal workers and tasks' assignment to obtain maximum accuracy on all tasks?\"\n",
    "\n",
    "*This notebook takes step by step the construction of the crowdED module*"
   ]
  },
  {
   "cell_type": "code",
   "execution_count": 36,
   "metadata": {},
   "outputs": [],
   "source": [
    "import sys\n",
    "import pandas as pd\n",
    "import numpy as np\n",
    "import shortuuid as uid\n",
    "import matplotlib.pyplot as plt\n",
    "import seaborn as sns\n",
    "import warnings\n",
    "warnings.filterwarnings('ignore')\n",
    "%matplotlib inline"
   ]
  },
  {
   "cell_type": "markdown",
   "metadata": {},
   "source": [
    "---\n",
    "### Data preparation: Tasks and Workers Dataframe Construction"
   ]
  },
  {
   "cell_type": "markdown",
   "metadata": {},
   "source": [
    "I want to model the workers"
   ]
  },
  {
   "cell_type": "code",
   "execution_count": 2,
   "metadata": {},
   "outputs": [],
   "source": [
    "total_tasks = 342"
   ]
  },
  {
   "cell_type": "code",
   "execution_count": 3,
   "metadata": {},
   "outputs": [],
   "source": [
    "total_workers = 50"
   ]
  },
  {
   "cell_type": "code",
   "execution_count": 4,
   "metadata": {},
   "outputs": [],
   "source": [
    "#Tasks variables\n",
    "p_hard_tasks = 0.2\n",
    "n_hard_tasks = int(round(p_hard_tasks*total_tasks,0))\n",
    "\n",
    "p_easy_tasks = 1-p_hard_tasks \n",
    "n_easy_tasks = int(round(p_easy_tasks*total_tasks,0))"
   ]
  },
  {
   "cell_type": "code",
   "execution_count": 5,
   "metadata": {},
   "outputs": [
    {
     "name": "stdout",
     "output_type": "stream",
     "text": [
      "68 274\n"
     ]
    }
   ],
   "source": [
    "print(n_hard_tasks, n_easy_tasks)"
   ]
  },
  {
   "cell_type": "markdown",
   "metadata": {},
   "source": [
    "#### Workers"
   ]
  },
  {
   "cell_type": "code",
   "execution_count": 6,
   "metadata": {},
   "outputs": [],
   "source": [
    "workers = [uid.ShortUUID().random(length=5) for i in range(total_workers)]"
   ]
  },
  {
   "cell_type": "code",
   "execution_count": 7,
   "metadata": {},
   "outputs": [],
   "source": [
    "df_workers = pd.DataFrame()\n",
    "df_workers['worker_id'] = workers"
   ]
  },
  {
   "cell_type": "code",
   "execution_count": 8,
   "metadata": {},
   "outputs": [
    {
     "data": {
      "text/html": [
       "<div>\n",
       "<style scoped>\n",
       "    .dataframe tbody tr th:only-of-type {\n",
       "        vertical-align: middle;\n",
       "    }\n",
       "\n",
       "    .dataframe tbody tr th {\n",
       "        vertical-align: top;\n",
       "    }\n",
       "\n",
       "    .dataframe thead th {\n",
       "        text-align: right;\n",
       "    }\n",
       "</style>\n",
       "<table border=\"1\" class=\"dataframe\">\n",
       "  <thead>\n",
       "    <tr style=\"text-align: right;\">\n",
       "      <th></th>\n",
       "      <th>worker_id</th>\n",
       "    </tr>\n",
       "  </thead>\n",
       "  <tbody>\n",
       "    <tr>\n",
       "      <th>0</th>\n",
       "      <td>Y9tD8</td>\n",
       "    </tr>\n",
       "    <tr>\n",
       "      <th>1</th>\n",
       "      <td>89Rdh</td>\n",
       "    </tr>\n",
       "    <tr>\n",
       "      <th>2</th>\n",
       "      <td>WY5cp</td>\n",
       "    </tr>\n",
       "    <tr>\n",
       "      <th>3</th>\n",
       "      <td>8YafN</td>\n",
       "    </tr>\n",
       "    <tr>\n",
       "      <th>4</th>\n",
       "      <td>G7dHR</td>\n",
       "    </tr>\n",
       "  </tbody>\n",
       "</table>\n",
       "</div>"
      ],
      "text/plain": [
       "  worker_id\n",
       "0     Y9tD8\n",
       "1     89Rdh\n",
       "2     WY5cp\n",
       "3     8YafN\n",
       "4     G7dHR"
      ]
     },
     "execution_count": 8,
     "metadata": {},
     "output_type": "execute_result"
    }
   ],
   "source": [
    "df_workers.head()"
   ]
  },
  {
   "cell_type": "markdown",
   "metadata": {},
   "source": [
    "Next, we randomly assign (without [replacement](https://www.ma.utexas.edu/users/parker/sampling/repl.htm)) which tasks easy/hard based on the proportions specified."
   ]
  },
  {
   "cell_type": "markdown",
   "metadata": {},
   "source": [
    "#### Tasks "
   ]
  },
  {
   "cell_type": "code",
   "execution_count": 9,
   "metadata": {},
   "outputs": [],
   "source": [
    "tasks = ['task_'+uid.ShortUUID().random(length=3) for i in range(total_tasks)]\n",
    "easy_tasks = [task for task in np.random.choice(tasks, n_easy_tasks, replace=False)]\n",
    "hard_tasks = [task for task in set(tasks)-set(easy_tasks)]"
   ]
  },
  {
   "cell_type": "markdown",
   "metadata": {},
   "source": [
    "#### True Answers (Gold)"
   ]
  },
  {
   "cell_type": "markdown",
   "metadata": {},
   "source": [
    "In our simulation, the task is that the worker has to choose one out of the five given answers. Here, we simulate the true answer for each worker-task pair."
   ]
  },
  {
   "cell_type": "code",
   "execution_count": 10,
   "metadata": {},
   "outputs": [],
   "source": [
    "#answers_key = [\"liver\", \"blood\", \"lung\", \"brain\", \"heart\"]\n",
    "from random_words import RandomWords\n",
    "rw = RandomWords()\n",
    "answers_key = rw.random_words(count=5)"
   ]
  },
  {
   "cell_type": "code",
   "execution_count": 11,
   "metadata": {},
   "outputs": [
    {
     "data": {
      "text/plain": [
       "['background', 'petition', 'pond', 'torque', 'porter']"
      ]
     },
     "execution_count": 11,
     "metadata": {},
     "output_type": "execute_result"
    }
   ],
   "source": [
    "answers_key"
   ]
  },
  {
   "cell_type": "markdown",
   "metadata": {},
   "source": [
    "It is needed one of the keys for the answer"
   ]
  },
  {
   "cell_type": "code",
   "execution_count": 12,
   "metadata": {},
   "outputs": [],
   "source": [
    "true_answers = [answer for answer in np.random.choice(answers_key, total_tasks)]"
   ]
  },
  {
   "cell_type": "code",
   "execution_count": 13,
   "metadata": {},
   "outputs": [],
   "source": [
    "# Creating the tasks data frame\n",
    "df_tasks = pd.DataFrame()\n",
    "df_tasks['task_id'] = tasks\n",
    "df_tasks['true_answers'] = true_answers"
   ]
  },
  {
   "cell_type": "code",
   "execution_count": 14,
   "metadata": {},
   "outputs": [],
   "source": [
    "df_tasks['label_task'] = ['hard_task' if tasks[i] in hard_tasks else 'easy_task' for i in range(total_tasks)]"
   ]
  },
  {
   "cell_type": "code",
   "execution_count": 15,
   "metadata": {},
   "outputs": [
    {
     "data": {
      "text/html": [
       "<div>\n",
       "<style scoped>\n",
       "    .dataframe tbody tr th:only-of-type {\n",
       "        vertical-align: middle;\n",
       "    }\n",
       "\n",
       "    .dataframe tbody tr th {\n",
       "        vertical-align: top;\n",
       "    }\n",
       "\n",
       "    .dataframe thead th {\n",
       "        text-align: right;\n",
       "    }\n",
       "</style>\n",
       "<table border=\"1\" class=\"dataframe\">\n",
       "  <thead>\n",
       "    <tr style=\"text-align: right;\">\n",
       "      <th></th>\n",
       "      <th>task_id</th>\n",
       "      <th>true_answers</th>\n",
       "      <th>label_task</th>\n",
       "    </tr>\n",
       "  </thead>\n",
       "  <tbody>\n",
       "    <tr>\n",
       "      <th>0</th>\n",
       "      <td>task_S4i</td>\n",
       "      <td>pond</td>\n",
       "      <td>easy_task</td>\n",
       "    </tr>\n",
       "    <tr>\n",
       "      <th>1</th>\n",
       "      <td>task_gCx</td>\n",
       "      <td>porter</td>\n",
       "      <td>hard_task</td>\n",
       "    </tr>\n",
       "    <tr>\n",
       "      <th>2</th>\n",
       "      <td>task_ueh</td>\n",
       "      <td>torque</td>\n",
       "      <td>easy_task</td>\n",
       "    </tr>\n",
       "    <tr>\n",
       "      <th>3</th>\n",
       "      <td>task_g6x</td>\n",
       "      <td>background</td>\n",
       "      <td>easy_task</td>\n",
       "    </tr>\n",
       "    <tr>\n",
       "      <th>4</th>\n",
       "      <td>task_NoG</td>\n",
       "      <td>petition</td>\n",
       "      <td>easy_task</td>\n",
       "    </tr>\n",
       "  </tbody>\n",
       "</table>\n",
       "</div>"
      ],
      "text/plain": [
       "    task_id true_answers label_task\n",
       "0  task_S4i         pond  easy_task\n",
       "1  task_gCx       porter  hard_task\n",
       "2  task_ueh       torque  easy_task\n",
       "3  task_g6x   background  easy_task\n",
       "4  task_NoG     petition  easy_task"
      ]
     },
     "execution_count": 15,
     "metadata": {},
     "output_type": "execute_result"
    }
   ],
   "source": [
    "df_tasks.head()"
   ]
  },
  {
   "cell_type": "markdown",
   "metadata": {},
   "source": [
    "---\n",
    "### Probabilities of getting the answer right\n",
    "In this step, we first calculate the exact probabilities of getting the answer right for each worker and each task."
   ]
  },
  {
   "cell_type": "markdown",
   "metadata": {},
   "source": [
    "Since the ability is unknown before the task is undertaken, we use a beta distribution to model the distribution of worker ability. Its probability density function $f(x|a, v)$ is given by "
   ]
  },
  {
   "cell_type": "markdown",
   "metadata": {},
   "source": [
    "$$\n",
    "f(x|a,v) = Beta (\\frac{a}{\\min(a,1-a)v}, \\frac{(1-a)}{\\min(a,1-a)v})\n",
    "$$"
   ]
  },
  {
   "cell_type": "markdown",
   "metadata": {},
   "source": [
    "Here a ∈ (0, 1) is the normalized value of the average ability of the workers in the crowdsourcing platform.  \n",
    "v ∈ (0, 1) is a parameter that determines the variance in worker ability  \n",
    "[Paper](https://aaai.org/ocs/index.php/HCOMP/HCOMP16/paper/viewFile/14047/13632)  "
   ]
  },
  {
   "cell_type": "code",
   "execution_count": 45,
   "metadata": {},
   "outputs": [
    {
     "name": "stdout",
     "output_type": "stream",
     "text": [
      "Mean probability 0.9101219169369827\n"
     ]
    },
    {
     "data": {
      "image/png": "[encoded data removed]",
      "text/plain": [
       "<Figure size 432x288 with 1 Axes>"
      ]
     },
     "metadata": {},
     "output_type": "display_data"
    }
   ],
   "source": [
    "from scipy.stats import beta\n",
    "data_beta = beta.rvs(10, 1, size=10000)\n",
    "sns.distplot(data_beta, kde=False, bins=100)\n",
    "print('Mean probability {}'.format(np.mean(data_beta)))"
   ]
  },
  {
   "cell_type": "markdown",
   "metadata": {},
   "source": [
    "In general we have good workers, on average the 90% of chances to getting the answer right"
   ]
  },
  {
   "cell_type": "code",
   "execution_count": 46,
   "metadata": {},
   "outputs": [],
   "source": [
    "df_workers['prob_worker'] = beta.rvs(10, 1, size=total_workers)"
   ]
  },
  {
   "cell_type": "code",
   "execution_count": 47,
   "metadata": {},
   "outputs": [
    {
     "data": {
      "text/html": [
       "<div>\n",
       "<style scoped>\n",
       "    .dataframe tbody tr th:only-of-type {\n",
       "        vertical-align: middle;\n",
       "    }\n",
       "\n",
       "    .dataframe tbody tr th {\n",
       "        vertical-align: top;\n",
       "    }\n",
       "\n",
       "    .dataframe thead th {\n",
       "        text-align: right;\n",
       "    }\n",
       "</style>\n",
       "<table border=\"1\" class=\"dataframe\">\n",
       "  <thead>\n",
       "    <tr style=\"text-align: right;\">\n",
       "      <th></th>\n",
       "      <th>worker_id</th>\n",
       "      <th>prob_worker</th>\n",
       "    </tr>\n",
       "  </thead>\n",
       "  <tbody>\n",
       "    <tr>\n",
       "      <th>0</th>\n",
       "      <td>Y9tD8</td>\n",
       "      <td>0.989541</td>\n",
       "    </tr>\n",
       "    <tr>\n",
       "      <th>1</th>\n",
       "      <td>89Rdh</td>\n",
       "      <td>0.968505</td>\n",
       "    </tr>\n",
       "    <tr>\n",
       "      <th>2</th>\n",
       "      <td>WY5cp</td>\n",
       "      <td>0.976443</td>\n",
       "    </tr>\n",
       "    <tr>\n",
       "      <th>3</th>\n",
       "      <td>8YafN</td>\n",
       "      <td>0.962569</td>\n",
       "    </tr>\n",
       "    <tr>\n",
       "      <th>4</th>\n",
       "      <td>G7dHR</td>\n",
       "      <td>0.980576</td>\n",
       "    </tr>\n",
       "  </tbody>\n",
       "</table>\n",
       "</div>"
      ],
      "text/plain": [
       "  worker_id  prob_worker\n",
       "0     Y9tD8     0.989541\n",
       "1     89Rdh     0.968505\n",
       "2     WY5cp     0.976443\n",
       "3     8YafN     0.962569\n",
       "4     G7dHR     0.980576"
      ]
     },
     "execution_count": 47,
     "metadata": {},
     "output_type": "execute_result"
    }
   ],
   "source": [
    "df_workers.head()"
   ]
  },
  {
   "cell_type": "code",
   "execution_count": 49,
   "metadata": {},
   "outputs": [],
   "source": [
    "# Threshold of responses\n",
    "cut_tasks = 0.75\n",
    "probs_tasks = []\n",
    "for i in df_tasks['label_task']:\n",
    "    if i == 'easy_task': #uniform from .75 to 1\n",
    "        probs_tasks.append(np.random.choice((np.arange(cut_tasks, 1, 0.01)), 1)) #a random number form cut to 1\n",
    "    elif i == 'hard_task': #uniform from .5 to .75\n",
    "        probs_tasks.append(np.random.choice((np.arange(0.5, cut_tasks, 0.01)), 1)) #a random number form chance to cut\n",
    "    else: probs_tasks.append(1)\n",
    "\n",
    "probs_tasks = [item for prob in probs_tasks for item in prob]"
   ]
  },
  {
   "cell_type": "code",
   "execution_count": 51,
   "metadata": {},
   "outputs": [],
   "source": [
    "df_tasks['prob_task'] = probs_tasks"
   ]
  },
  {
   "cell_type": "code",
   "execution_count": 52,
   "metadata": {},
   "outputs": [
    {
     "data": {
      "text/html": [
       "<div>\n",
       "<style scoped>\n",
       "    .dataframe tbody tr th:only-of-type {\n",
       "        vertical-align: middle;\n",
       "    }\n",
       "\n",
       "    .dataframe tbody tr th {\n",
       "        vertical-align: top;\n",
       "    }\n",
       "\n",
       "    .dataframe thead th {\n",
       "        text-align: right;\n",
       "    }\n",
       "</style>\n",
       "<table border=\"1\" class=\"dataframe\">\n",
       "  <thead>\n",
       "    <tr style=\"text-align: right;\">\n",
       "      <th></th>\n",
       "      <th>task_id</th>\n",
       "      <th>true_answers</th>\n",
       "      <th>label_task</th>\n",
       "      <th>prob_task</th>\n",
       "    </tr>\n",
       "  </thead>\n",
       "  <tbody>\n",
       "    <tr>\n",
       "      <th>0</th>\n",
       "      <td>task_S4i</td>\n",
       "      <td>pond</td>\n",
       "      <td>easy_task</td>\n",
       "      <td>0.80</td>\n",
       "    </tr>\n",
       "    <tr>\n",
       "      <th>1</th>\n",
       "      <td>task_gCx</td>\n",
       "      <td>porter</td>\n",
       "      <td>hard_task</td>\n",
       "      <td>0.70</td>\n",
       "    </tr>\n",
       "    <tr>\n",
       "      <th>2</th>\n",
       "      <td>task_ueh</td>\n",
       "      <td>torque</td>\n",
       "      <td>easy_task</td>\n",
       "      <td>0.87</td>\n",
       "    </tr>\n",
       "    <tr>\n",
       "      <th>3</th>\n",
       "      <td>task_g6x</td>\n",
       "      <td>background</td>\n",
       "      <td>easy_task</td>\n",
       "      <td>0.88</td>\n",
       "    </tr>\n",
       "    <tr>\n",
       "      <th>4</th>\n",
       "      <td>task_NoG</td>\n",
       "      <td>petition</td>\n",
       "      <td>easy_task</td>\n",
       "      <td>0.93</td>\n",
       "    </tr>\n",
       "  </tbody>\n",
       "</table>\n",
       "</div>"
      ],
      "text/plain": [
       "    task_id true_answers label_task  prob_task\n",
       "0  task_S4i         pond  easy_task       0.80\n",
       "1  task_gCx       porter  hard_task       0.70\n",
       "2  task_ueh       torque  easy_task       0.87\n",
       "3  task_g6x   background  easy_task       0.88\n",
       "4  task_NoG     petition  easy_task       0.93"
      ]
     },
     "execution_count": 52,
     "metadata": {},
     "output_type": "execute_result"
    }
   ],
   "source": [
    "df_tasks.head()"
   ]
  },
  {
   "cell_type": "markdown",
   "metadata": {},
   "source": [
    "#### Summary of aggregated probabilities"
   ]
  },
  {
   "cell_type": "code",
   "execution_count": 53,
   "metadata": {},
   "outputs": [
    {
     "data": {
      "text/html": [
       "<div>\n",
       "<style scoped>\n",
       "    .dataframe tbody tr th:only-of-type {\n",
       "        vertical-align: middle;\n",
       "    }\n",
       "\n",
       "    .dataframe tbody tr th {\n",
       "        vertical-align: top;\n",
       "    }\n",
       "\n",
       "    .dataframe thead tr th {\n",
       "        text-align: left;\n",
       "    }\n",
       "\n",
       "    .dataframe thead tr:last-of-type th {\n",
       "        text-align: right;\n",
       "    }\n",
       "</style>\n",
       "<table border=\"1\" class=\"dataframe\">\n",
       "  <thead>\n",
       "    <tr>\n",
       "      <th></th>\n",
       "      <th colspan=\"2\" halign=\"left\">prob_task</th>\n",
       "    </tr>\n",
       "    <tr>\n",
       "      <th></th>\n",
       "      <th>mean</th>\n",
       "      <th>count</th>\n",
       "    </tr>\n",
       "    <tr>\n",
       "      <th>label_task</th>\n",
       "      <th></th>\n",
       "      <th></th>\n",
       "    </tr>\n",
       "  </thead>\n",
       "  <tbody>\n",
       "    <tr>\n",
       "      <th>easy_task</th>\n",
       "      <td>0.869600</td>\n",
       "      <td>275</td>\n",
       "    </tr>\n",
       "    <tr>\n",
       "      <th>hard_task</th>\n",
       "      <td>0.605075</td>\n",
       "      <td>67</td>\n",
       "    </tr>\n",
       "  </tbody>\n",
       "</table>\n",
       "</div>"
      ],
      "text/plain": [
       "           prob_task      \n",
       "                mean count\n",
       "label_task                \n",
       "easy_task   0.869600   275\n",
       "hard_task   0.605075    67"
      ]
     },
     "execution_count": 53,
     "metadata": {},
     "output_type": "execute_result"
    }
   ],
   "source": [
    "df_tasks.groupby('label_task').agg(['mean','count'])"
   ]
  },
  {
   "cell_type": "code",
   "execution_count": 55,
   "metadata": {},
   "outputs": [
    {
     "data": {
      "text/html": [
       "<div>\n",
       "<style scoped>\n",
       "    .dataframe tbody tr th:only-of-type {\n",
       "        vertical-align: middle;\n",
       "    }\n",
       "\n",
       "    .dataframe tbody tr th {\n",
       "        vertical-align: top;\n",
       "    }\n",
       "\n",
       "    .dataframe thead th {\n",
       "        text-align: right;\n",
       "    }\n",
       "</style>\n",
       "<table border=\"1\" class=\"dataframe\">\n",
       "  <thead>\n",
       "    <tr style=\"text-align: right;\">\n",
       "      <th></th>\n",
       "      <th>prob_worker</th>\n",
       "    </tr>\n",
       "  </thead>\n",
       "  <tbody>\n",
       "    <tr>\n",
       "      <th>count</th>\n",
       "      <td>50.000000</td>\n",
       "    </tr>\n",
       "    <tr>\n",
       "      <th>mean</th>\n",
       "      <td>0.902522</td>\n",
       "    </tr>\n",
       "    <tr>\n",
       "      <th>std</th>\n",
       "      <td>0.094719</td>\n",
       "    </tr>\n",
       "    <tr>\n",
       "      <th>min</th>\n",
       "      <td>0.593422</td>\n",
       "    </tr>\n",
       "    <tr>\n",
       "      <th>25%</th>\n",
       "      <td>0.863804</td>\n",
       "    </tr>\n",
       "    <tr>\n",
       "      <th>50%</th>\n",
       "      <td>0.930864</td>\n",
       "    </tr>\n",
       "    <tr>\n",
       "      <th>75%</th>\n",
       "      <td>0.976018</td>\n",
       "    </tr>\n",
       "    <tr>\n",
       "      <th>max</th>\n",
       "      <td>0.999520</td>\n",
       "    </tr>\n",
       "  </tbody>\n",
       "</table>\n",
       "</div>"
      ],
      "text/plain": [
       "       prob_worker\n",
       "count    50.000000\n",
       "mean      0.902522\n",
       "std       0.094719\n",
       "min       0.593422\n",
       "25%       0.863804\n",
       "50%       0.930864\n",
       "75%       0.976018\n",
       "max       0.999520"
      ]
     },
     "execution_count": 55,
     "metadata": {},
     "output_type": "execute_result"
    }
   ],
   "source": [
    "df_workers.describe()"
   ]
  },
  {
   "cell_type": "markdown",
   "metadata": {},
   "source": [
    "--- \n",
    "Lets not split the 2 faces, just make everything in one run"
   ]
  },
  {
   "cell_type": "code",
   "execution_count": 56,
   "metadata": {},
   "outputs": [],
   "source": [
    "workers_per_task = 5"
   ]
  },
  {
   "cell_type": "code",
   "execution_count": 57,
   "metadata": {},
   "outputs": [],
   "source": [
    "list_tasks = [[tasks[i]]*workers_per_task for i in range(total_tasks)] #replicate the tasks to train \n",
    "list_tasks = [item for sublist in list_tasks for item in sublist] #flat and clean list"
   ]
  },
  {
   "cell_type": "code",
   "execution_count": 58,
   "metadata": {},
   "outputs": [],
   "source": [
    "# Asign workers on every task \n",
    "tasks_workers = [np.random.choice(workers, workers_per_task, replace=False) for task in tasks]\n",
    "tasks_workers = [worker for sublist in tasks_workers for worker in sublist] #flat and clean list"
   ]
  },
  {
   "cell_type": "code",
   "execution_count": 59,
   "metadata": {},
   "outputs": [],
   "source": [
    "df_tw = pd.DataFrame()\n",
    "df_tw['task_id'] = list_tasks\n",
    "df_tw['worker_id'] = tasks_workers"
   ]
  },
  {
   "cell_type": "code",
   "execution_count": 60,
   "metadata": {},
   "outputs": [],
   "source": [
    "workers_agg = df_tw.groupby('worker_id').agg('count')"
   ]
  },
  {
   "cell_type": "code",
   "execution_count": 61,
   "metadata": {},
   "outputs": [
    {
     "data": {
      "text/html": [
       "<div>\n",
       "<style scoped>\n",
       "    .dataframe tbody tr th:only-of-type {\n",
       "        vertical-align: middle;\n",
       "    }\n",
       "\n",
       "    .dataframe tbody tr th {\n",
       "        vertical-align: top;\n",
       "    }\n",
       "\n",
       "    .dataframe thead th {\n",
       "        text-align: right;\n",
       "    }\n",
       "</style>\n",
       "<table border=\"1\" class=\"dataframe\">\n",
       "  <thead>\n",
       "    <tr style=\"text-align: right;\">\n",
       "      <th></th>\n",
       "      <th>task_id</th>\n",
       "    </tr>\n",
       "    <tr>\n",
       "      <th>worker_id</th>\n",
       "      <th></th>\n",
       "    </tr>\n",
       "  </thead>\n",
       "  <tbody>\n",
       "    <tr>\n",
       "      <th>fvMNg</th>\n",
       "      <td>47</td>\n",
       "    </tr>\n",
       "    <tr>\n",
       "      <th>tBiHM</th>\n",
       "      <td>46</td>\n",
       "    </tr>\n",
       "    <tr>\n",
       "      <th>Qx8ac</th>\n",
       "      <td>44</td>\n",
       "    </tr>\n",
       "    <tr>\n",
       "      <th>9LpDB</th>\n",
       "      <td>43</td>\n",
       "    </tr>\n",
       "    <tr>\n",
       "      <th>m2QA6</th>\n",
       "      <td>42</td>\n",
       "    </tr>\n",
       "  </tbody>\n",
       "</table>\n",
       "</div>"
      ],
      "text/plain": [
       "           task_id\n",
       "worker_id         \n",
       "fvMNg           47\n",
       "tBiHM           46\n",
       "Qx8ac           44\n",
       "9LpDB           43\n",
       "m2QA6           42"
      ]
     },
     "execution_count": 61,
     "metadata": {},
     "output_type": "execute_result"
    }
   ],
   "source": [
    "# REVIEW THIS, HOW DO WE MAKE SURE ALL THE WORKERS HAVE TASK ASIGNATED\n",
    "workers_agg.sort_values('task_id', ascending=False).head()"
   ]
  },
  {
   "cell_type": "code",
   "execution_count": 65,
   "metadata": {},
   "outputs": [],
   "source": [
    "df_tw = pd.merge(df_tw, df_tasks, on='task_id', how='left')\n",
    "df_tw = pd.merge(df_tw, df_workers, on='worker_id', how='left')"
   ]
  },
  {
   "cell_type": "code",
   "execution_count": 66,
   "metadata": {},
   "outputs": [],
   "source": [
    "prob_guess = 1 / len(answers_key)"
   ]
  },
  {
   "cell_type": "markdown",
   "metadata": {},
   "source": [
    "w = worker answer correct  \n",
    "T = Having knowledge to do the task\n",
    "\n",
    "\n",
    "$$\n",
    "P(w~|~T) = \\frac{P(T~|~w) P(w)}{P(T~|~w) P(w) + P(T~|~w^c) P(w^c)}\n",
    "$$\n",
    "\n",
    "[Bayes for conditional probability example](http://www.stat.yale.edu/Courses/1997-98/101/condprob.htm)"
   ]
  },
  {
   "cell_type": "code",
   "execution_count": 67,
   "metadata": {},
   "outputs": [],
   "source": [
    "df_tw['prob_answer'] = (df_tw['prob_task'] * df_tw['prob_worker']) / (df_tw['prob_task'] * df_tw['prob_worker'] + prob_guess * (1-df_tw['prob_worker']))"
   ]
  },
  {
   "cell_type": "markdown",
   "metadata": {},
   "source": [
    "The Bernoulli is the posterior function to modelate the action"
   ]
  },
  {
   "cell_type": "code",
   "execution_count": 69,
   "metadata": {},
   "outputs": [],
   "source": [
    "from scipy.stats import bernoulli\n",
    "worker_prediction = [bernoulli.rvs(size=1,p=prob)[0] for prob in df_tw['prob_answer']]"
   ]
  },
  {
   "cell_type": "code",
   "execution_count": 99,
   "metadata": {},
   "outputs": [],
   "source": [
    "#sns.distplot(worker_prediction, kde=False, color=\"skyblue\")"
   ]
  },
  {
   "cell_type": "code",
   "execution_count": 79,
   "metadata": {},
   "outputs": [],
   "source": [
    "df_tw['prediction'] = worker_prediction"
   ]
  },
  {
   "cell_type": "code",
   "execution_count": 75,
   "metadata": {},
   "outputs": [],
   "source": [
    "worker_answers = []\n",
    "for idx, i in enumerate(worker_prediction):\n",
    "    if i == 1:\n",
    "        worker_answers.append(df_tw['true_answers'].loc[idx])\n",
    "    else:\n",
    "        worker_answers.append(np.random.choice([i for i in set(answers_key)-set(df_tw['true_answers'].loc[idx])], 1)[0])"
   ]
  },
  {
   "cell_type": "code",
   "execution_count": 76,
   "metadata": {},
   "outputs": [],
   "source": [
    "df_tw['worker_answers'] = worker_answers"
   ]
  },
  {
   "cell_type": "code",
   "execution_count": 81,
   "metadata": {},
   "outputs": [
    {
     "data": {
      "text/html": [
       "<div>\n",
       "<style scoped>\n",
       "    .dataframe tbody tr th:only-of-type {\n",
       "        vertical-align: middle;\n",
       "    }\n",
       "\n",
       "    .dataframe tbody tr th {\n",
       "        vertical-align: top;\n",
       "    }\n",
       "\n",
       "    .dataframe thead th {\n",
       "        text-align: right;\n",
       "    }\n",
       "</style>\n",
       "<table border=\"1\" class=\"dataframe\">\n",
       "  <thead>\n",
       "    <tr style=\"text-align: right;\">\n",
       "      <th></th>\n",
       "      <th>task_id</th>\n",
       "      <th>worker_id</th>\n",
       "      <th>true_answers</th>\n",
       "      <th>label_task</th>\n",
       "      <th>prob_task</th>\n",
       "      <th>prob_worker</th>\n",
       "      <th>prob_answer</th>\n",
       "      <th>worker_answers</th>\n",
       "      <th>prediction</th>\n",
       "    </tr>\n",
       "  </thead>\n",
       "  <tbody>\n",
       "    <tr>\n",
       "      <th>0</th>\n",
       "      <td>task_S4i</td>\n",
       "      <td>m2QA6</td>\n",
       "      <td>pond</td>\n",
       "      <td>easy_task</td>\n",
       "      <td>0.8</td>\n",
       "      <td>0.993378</td>\n",
       "      <td>0.998336</td>\n",
       "      <td>pond</td>\n",
       "      <td>1</td>\n",
       "    </tr>\n",
       "    <tr>\n",
       "      <th>1</th>\n",
       "      <td>task_S4i</td>\n",
       "      <td>WY5cp</td>\n",
       "      <td>pond</td>\n",
       "      <td>easy_task</td>\n",
       "      <td>0.8</td>\n",
       "      <td>0.976443</td>\n",
       "      <td>0.994005</td>\n",
       "      <td>pond</td>\n",
       "      <td>1</td>\n",
       "    </tr>\n",
       "    <tr>\n",
       "      <th>2</th>\n",
       "      <td>task_S4i</td>\n",
       "      <td>wjbQr</td>\n",
       "      <td>pond</td>\n",
       "      <td>easy_task</td>\n",
       "      <td>0.8</td>\n",
       "      <td>0.873294</td>\n",
       "      <td>0.964997</td>\n",
       "      <td>pond</td>\n",
       "      <td>1</td>\n",
       "    </tr>\n",
       "    <tr>\n",
       "      <th>3</th>\n",
       "      <td>task_S4i</td>\n",
       "      <td>9LpDB</td>\n",
       "      <td>pond</td>\n",
       "      <td>easy_task</td>\n",
       "      <td>0.8</td>\n",
       "      <td>0.861381</td>\n",
       "      <td>0.961324</td>\n",
       "      <td>pond</td>\n",
       "      <td>1</td>\n",
       "    </tr>\n",
       "    <tr>\n",
       "      <th>4</th>\n",
       "      <td>task_S4i</td>\n",
       "      <td>R4GmE</td>\n",
       "      <td>pond</td>\n",
       "      <td>easy_task</td>\n",
       "      <td>0.8</td>\n",
       "      <td>0.977995</td>\n",
       "      <td>0.994407</td>\n",
       "      <td>pond</td>\n",
       "      <td>1</td>\n",
       "    </tr>\n",
       "  </tbody>\n",
       "</table>\n",
       "</div>"
      ],
      "text/plain": [
       "    task_id worker_id true_answers label_task  prob_task  prob_worker  \\\n",
       "0  task_S4i     m2QA6         pond  easy_task        0.8     0.993378   \n",
       "1  task_S4i     WY5cp         pond  easy_task        0.8     0.976443   \n",
       "2  task_S4i     wjbQr         pond  easy_task        0.8     0.873294   \n",
       "3  task_S4i     9LpDB         pond  easy_task        0.8     0.861381   \n",
       "4  task_S4i     R4GmE         pond  easy_task        0.8     0.977995   \n",
       "\n",
       "   prob_answer worker_answers  prediction  \n",
       "0     0.998336           pond           1  \n",
       "1     0.994005           pond           1  \n",
       "2     0.964997           pond           1  \n",
       "3     0.961324           pond           1  \n",
       "4     0.994407           pond           1  "
      ]
     },
     "execution_count": 81,
     "metadata": {},
     "output_type": "execute_result"
    }
   ],
   "source": [
    "df_tw.head()"
   ]
  },
  {
   "cell_type": "markdown",
   "metadata": {},
   "source": [
    "---\n",
    "### Confusion Matrix for the answers"
   ]
  },
  {
   "cell_type": "code",
   "execution_count": 82,
   "metadata": {},
   "outputs": [
    {
     "data": {
      "text/plain": [
       "array([[331,   6,   3,   3,   2],\n",
       "       [  3, 261,   0,   2,   4],\n",
       "       [  0,   2, 411,   0,   2],\n",
       "       [  2,   2,   2, 293,   1],\n",
       "       [  2,   3,   3,   1, 391]])"
      ]
     },
     "execution_count": 82,
     "metadata": {},
     "output_type": "execute_result"
    }
   ],
   "source": [
    "from sklearn.metrics import confusion_matrix\n",
    "confusion_matrix(df_tw['true_answers'], df_tw['worker_answers'])"
   ]
  },
  {
   "cell_type": "code",
   "execution_count": 83,
   "metadata": {},
   "outputs": [],
   "source": [
    "import turicreate as tc\n",
    "sf_tw = tc.SFrame(data=df_tw)\n",
    "conf_matrix = tc.evaluation.confusion_matrix(sf_tw['true_answers'], sf_tw['worker_answers'])"
   ]
  },
  {
   "cell_type": "code",
   "execution_count": 84,
   "metadata": {},
   "outputs": [
    {
     "name": "stdout",
     "output_type": "stream",
     "text": [
      "+--------------+-----------------+-------+\n",
      "| target_label | predicted_label | count |\n",
      "+--------------+-----------------+-------+\n",
      "|  background  |    background   |  331  |\n",
      "|    torque    |       pond      |   3   |\n",
      "|    porter    |    background   |   2   |\n",
      "|   petition   |    background   |   3   |\n",
      "|    torque    |      porter     |   1   |\n",
      "|     pond     |      torque     |   2   |\n",
      "|   petition   |     petition    |  261  |\n",
      "|  background  |       pond      |   3   |\n",
      "|   petition   |      torque     |   4   |\n",
      "|     pond     |     petition    |   2   |\n",
      "|   petition   |      porter     |   2   |\n",
      "|    torque    |     petition    |   3   |\n",
      "|    porter    |      torque     |   1   |\n",
      "|    porter    |     petition    |   2   |\n",
      "|  background  |      torque     |   2   |\n",
      "|    porter    |      porter     |  293  |\n",
      "|  background  |     petition    |   6   |\n",
      "|    torque    |    background   |   2   |\n",
      "|    torque    |      torque     |  391  |\n",
      "|    porter    |       pond      |   2   |\n",
      "|     pond     |       pond      |  411  |\n",
      "|  background  |      porter     |   3   |\n",
      "+--------------+-----------------+-------+\n",
      "[22 rows x 3 columns]\n",
      "\n"
     ]
    }
   ],
   "source": [
    "conf_matrix.print_rows(25,)"
   ]
  },
  {
   "cell_type": "code",
   "execution_count": 85,
   "metadata": {},
   "outputs": [],
   "source": [
    "accuracy = conf_matrix[conf_matrix['target_label'] == conf_matrix['predicted_label']]['count'].sum() / conf_matrix['count'].sum()"
   ]
  },
  {
   "cell_type": "code",
   "execution_count": 86,
   "metadata": {},
   "outputs": [
    {
     "name": "stdout",
     "output_type": "stream",
     "text": [
      "0.9751445086705203\n"
     ]
    }
   ],
   "source": [
    "print(accuracy)"
   ]
  },
  {
   "cell_type": "markdown",
   "metadata": {},
   "source": [
    "Try the confusion matrix library to track all the different measures of the workers  \n",
    "https://github.com/sepandhaghighi/pycm"
   ]
  },
  {
   "cell_type": "code",
   "execution_count": null,
   "metadata": {},
   "outputs": [],
   "source": []
  },
  {
   "cell_type": "markdown",
   "metadata": {},
   "source": [
    "---\n",
    "### Measuring Performance"
   ]
  },
  {
   "cell_type": "markdown",
   "metadata": {},
   "source": [
    "Next we measure the performance of the worker. The performance is calculate as the number of times a worker answers right (in comparison with the true answer) over the total number of workers per task.  \n",
    "\n",
    "The range of the performance value spans from 0 to 1. The values close to 1 indicate that the majority of the workers had consensus. The values close to 0 indicate that there was no consensus."
   ]
  },
  {
   "cell_type": "code",
   "execution_count": 87,
   "metadata": {},
   "outputs": [],
   "source": [
    "df_tw['performance'] = worker_prediction"
   ]
  },
  {
   "cell_type": "code",
   "execution_count": 102,
   "metadata": {
    "scrolled": false
   },
   "outputs": [],
   "source": [
    "#tasks_mean = df_tw.groupby('task_id').mean().sort_values('performance', ascending=False)\n",
    "#tasks_mean['performance'].head()"
   ]
  },
  {
   "cell_type": "code",
   "execution_count": 106,
   "metadata": {
    "scrolled": true
   },
   "outputs": [
    {
     "name": "stdout",
     "output_type": "stream",
     "text": [
      "Prediction Correct 1674 of 1730\n"
     ]
    },
    {
     "data": {
      "image/png": "[encoded data removed]",
      "text/plain": [
       "<Figure size 1296x288 with 1 Axes>"
      ]
     },
     "metadata": {},
     "output_type": "display_data"
    }
   ],
   "source": [
    "#Distribution of the performance\n",
    "plt.figure(figsize=[18, 4])\n",
    "sns.distplot(df_tw['performance'], kde=False, vertical=True, color=\"red\")\n",
    "print('Prediction Correct {} of {}'.format(df_tw['performance'].sum(), df_tw['performance'].count()))"
   ]
  },
  {
   "cell_type": "code",
   "execution_count": 107,
   "metadata": {},
   "outputs": [],
   "source": [
    "workers_mean = df_tw.groupby('worker_id').mean().sort_values('performance', ascending=False)\n",
    "df_workers = pd.merge(workers_mean.reset_index(), df_workers.drop('prob_worker',1), on='worker_id', how='left')"
   ]
  },
  {
   "cell_type": "code",
   "execution_count": 108,
   "metadata": {
    "scrolled": false
   },
   "outputs": [
    {
     "data": {
      "text/plain": [
       "<matplotlib.axes._subplots.AxesSubplot at 0x1a1f63deb8>"
      ]
     },
     "execution_count": 108,
     "metadata": {},
     "output_type": "execute_result"
    },
    {
     "data": {
      "image/png": "[encoded data removed]",
      "text/plain": [
       "<Figure size 720x720 with 1 Axes>"
      ]
     },
     "metadata": {},
     "output_type": "display_data"
    }
   ],
   "source": [
    "plt.figure(figsize=[10, 10])\n",
    "sns.kdeplot(df_workers['performance'], df_workers['prob_worker'], cmap=\"Blues\", shade=True, shade_lowest=False)"
   ]
  },
  {
   "cell_type": "code",
   "execution_count": 109,
   "metadata": {},
   "outputs": [
    {
     "data": {
      "image/png": "[encoded data removed]",
      "text/plain": [
       "<Figure size 1296x288 with 1 Axes>"
      ]
     },
     "metadata": {},
     "output_type": "display_data"
    }
   ],
   "source": [
    "plt.figure(figsize=[18, 4])\n",
    "axis = range(len(workers_mean))\n",
    "plt.bar(axis, workers_mean['performance'], align='center', alpha=0.8, color='blue', label='Probability of Answer correct')\n",
    "plt.xticks(axis, workers_mean.index, rotation=90)\n",
    "plt.title('Workers Performance')\n",
    "plt.legend(loc='best')\n",
    "plt.show()"
   ]
  },
  {
   "cell_type": "code",
   "execution_count": 179,
   "metadata": {},
   "outputs": [
    {
     "data": {
      "text/html": [
       "<div>\n",
       "<style scoped>\n",
       "    .dataframe tbody tr th:only-of-type {\n",
       "        vertical-align: middle;\n",
       "    }\n",
       "\n",
       "    .dataframe tbody tr th {\n",
       "        vertical-align: top;\n",
       "    }\n",
       "\n",
       "    .dataframe thead th {\n",
       "        text-align: right;\n",
       "    }\n",
       "</style>\n",
       "<table border=\"1\" class=\"dataframe\">\n",
       "  <thead>\n",
       "    <tr style=\"text-align: right;\">\n",
       "      <th></th>\n",
       "      <th>prob_task</th>\n",
       "      <th>prob_worker</th>\n",
       "      <th>prob_answer</th>\n",
       "      <th>prediction</th>\n",
       "      <th>performance</th>\n",
       "    </tr>\n",
       "  </thead>\n",
       "  <tbody>\n",
       "    <tr>\n",
       "      <th>count</th>\n",
       "      <td>50.000000</td>\n",
       "      <td>50.000000</td>\n",
       "      <td>50.000000</td>\n",
       "      <td>50.000000</td>\n",
       "      <td>50.000000</td>\n",
       "    </tr>\n",
       "    <tr>\n",
       "      <th>mean</th>\n",
       "      <td>0.822869</td>\n",
       "      <td>0.855898</td>\n",
       "      <td>0.956411</td>\n",
       "      <td>0.957301</td>\n",
       "      <td>0.957301</td>\n",
       "    </tr>\n",
       "    <tr>\n",
       "      <th>std</th>\n",
       "      <td>0.017243</td>\n",
       "      <td>0.107422</td>\n",
       "      <td>0.036806</td>\n",
       "      <td>0.054136</td>\n",
       "      <td>0.054136</td>\n",
       "    </tr>\n",
       "    <tr>\n",
       "      <th>min</th>\n",
       "      <td>0.782581</td>\n",
       "      <td>0.565647</td>\n",
       "      <td>0.837622</td>\n",
       "      <td>0.800000</td>\n",
       "      <td>0.800000</td>\n",
       "    </tr>\n",
       "    <tr>\n",
       "      <th>25%</th>\n",
       "      <td>0.808661</td>\n",
       "      <td>0.806900</td>\n",
       "      <td>0.943871</td>\n",
       "      <td>0.941597</td>\n",
       "      <td>0.941597</td>\n",
       "    </tr>\n",
       "    <tr>\n",
       "      <th>50%</th>\n",
       "      <td>0.820645</td>\n",
       "      <td>0.848094</td>\n",
       "      <td>0.957281</td>\n",
       "      <td>0.971008</td>\n",
       "      <td>0.971008</td>\n",
       "    </tr>\n",
       "    <tr>\n",
       "      <th>75%</th>\n",
       "      <td>0.834342</td>\n",
       "      <td>0.954616</td>\n",
       "      <td>0.988095</td>\n",
       "      <td>1.000000</td>\n",
       "      <td>1.000000</td>\n",
       "    </tr>\n",
       "    <tr>\n",
       "      <th>max</th>\n",
       "      <td>0.872143</td>\n",
       "      <td>0.996468</td>\n",
       "      <td>0.999128</td>\n",
       "      <td>1.000000</td>\n",
       "      <td>1.000000</td>\n",
       "    </tr>\n",
       "  </tbody>\n",
       "</table>\n",
       "</div>"
      ],
      "text/plain": [
       "       prob_task  prob_worker  prob_answer  prediction  performance\n",
       "count  50.000000    50.000000    50.000000   50.000000    50.000000\n",
       "mean    0.822869     0.855898     0.956411    0.957301     0.957301\n",
       "std     0.017243     0.107422     0.036806    0.054136     0.054136\n",
       "min     0.782581     0.565647     0.837622    0.800000     0.800000\n",
       "25%     0.808661     0.806900     0.943871    0.941597     0.941597\n",
       "50%     0.820645     0.848094     0.957281    0.971008     0.971008\n",
       "75%     0.834342     0.954616     0.988095    1.000000     1.000000\n",
       "max     0.872143     0.996468     0.999128    1.000000     1.000000"
      ]
     },
     "execution_count": 179,
     "metadata": {},
     "output_type": "execute_result"
    }
   ],
   "source": [
    "df_workers.describe()"
   ]
  },
  {
   "cell_type": "markdown",
   "metadata": {},
   "source": [
    "--- \n",
    "## Split the good workers from the rest  \n",
    "\n",
    "Take all the workers whose performance was complete (1)"
   ]
  },
  {
   "cell_type": "code",
   "execution_count": 110,
   "metadata": {},
   "outputs": [],
   "source": [
    "worker_label = []\n",
    "for i in df_workers['performance']:\n",
    "    if i == 1:\n",
    "        worker_label.append('good_worker')\n",
    "    else:\n",
    "        worker_label.append('poor_worker')\n",
    "        \n",
    "df_workers['label_worker'] = worker_label"
   ]
  },
  {
   "cell_type": "code",
   "execution_count": 112,
   "metadata": {},
   "outputs": [],
   "source": [
    "#f_workers"
   ]
  },
  {
   "cell_type": "markdown",
   "metadata": {},
   "source": [
    "---\n",
    "# Accuracy One Function"
   ]
  },
  {
   "cell_type": "code",
   "execution_count": 113,
   "metadata": {},
   "outputs": [
    {
     "name": "stdout",
     "output_type": "stream",
     "text": [
      "68 274\n"
     ]
    }
   ],
   "source": [
    "total_tasks = 342\n",
    "total_workers = 50\n",
    "p_hard_tasks = 0.2\n",
    "n_hard_tasks = int(round(p_hard_tasks*total_tasks,0))\n",
    "p_easy_tasks = 1-p_hard_tasks \n",
    "n_easy_tasks = int(round(p_easy_tasks*total_tasks,0))\n",
    "print(n_hard_tasks, n_easy_tasks)"
   ]
  },
  {
   "cell_type": "code",
   "execution_count": 114,
   "metadata": {},
   "outputs": [],
   "source": [
    "param_beta1 = 10\n",
    "param_beta2 = 1"
   ]
  },
  {
   "cell_type": "code",
   "execution_count": 115,
   "metadata": {},
   "outputs": [],
   "source": [
    "workers_per_task = 5"
   ]
  },
  {
   "cell_type": "code",
   "execution_count": 1,
   "metadata": {},
   "outputs": [
    {
     "name": "stderr",
     "output_type": "stream",
     "text": [
      "/Users/pedrohserrano/anaconda3/envs/py36/lib/python3.6/site-packages/h5py/__init__.py:36: FutureWarning: Conversion of the second argument of issubdtype from `float` to `np.floating` is deprecated. In future, it will be treated as `np.float64 == np.dtype(float).type`.\n",
      "  from ._conv import register_converters as _register_converters\n"
     ]
    }
   ],
   "source": [
    "import sys\n",
    "import pandas as pd\n",
    "import numpy as np\n",
    "import shortuuid as uid\n",
    "from random_words import RandomWords\n",
    "from scipy.stats import beta\n",
    "from scipy.stats import bernoulli\n",
    "from sklearn.metrics import confusion_matrix\n",
    "import turicreate as tc\n",
    "\n",
    "def get_accuracy(total_tasks, total_workers, p_hard_tasks, workers_per_task, param_beta1 = 1, param_beta2 = 1):\n",
    "    workers = [uid.ShortUUID().random(length=5) for i in range(total_workers)]\n",
    "    df_workers = pd.DataFrame()\n",
    "    df_workers['worker_id'] = workers\n",
    "    #### Tasks \n",
    "    tasks = ['task_'+uid.ShortUUID().random(length=3) for i in range(total_tasks)]\n",
    "    easy_tasks = [task for task in np.random.choice(tasks, n_easy_tasks, replace=False)]\n",
    "    hard_tasks = [task for task in set(tasks)-set(easy_tasks)]\n",
    "\n",
    "    rw = RandomWords()\n",
    "    answers_key = rw.random_words(count=5)\n",
    "    true_answers = [answer for answer in np.random.choice(answers_key, total_tasks)]\n",
    "\n",
    "    # Creating the tasks data frame\n",
    "    df_tasks = pd.DataFrame()\n",
    "    df_tasks['task_id'] = tasks\n",
    "    df_tasks['true_answers'] = true_answers\n",
    "    df_tasks['label_task'] = ['hard_task' if tasks[i] in hard_tasks else 'easy_task' for i in range(total_tasks)]\n",
    "\n",
    "    data_beta = beta.rvs(param_beta1, param_beta2, size=total_workers)\n",
    "    df_workers['prob_worker'] = data_beta #probs_workers\n",
    "\n",
    "    # Threshold of responses\n",
    "    cut_tasks = 0.75\n",
    "    probs_tasks = []\n",
    "    for i in df_tasks['label_task']:\n",
    "        if i == 'easy_task':\n",
    "            probs_tasks.append(np.random.choice((np.arange(cut_tasks, 1, 0.01)), 1)) #a random number form cut to 1\n",
    "        elif i == 'hard_task':\n",
    "            probs_tasks.append(np.random.choice((np.arange(0.5, cut_tasks, 0.01)), 1)) #a random number form chance to cut\n",
    "        else: probs_tasks.append(1)\n",
    "\n",
    "    probs_tasks = [item for prob in probs_tasks for item in prob]\n",
    "    df_tasks['prob_task'] = probs_tasks\n",
    "\n",
    "    list_tasks = [[tasks[i]]*workers_per_task for i in range(total_tasks)] #replicate the tasks to train \n",
    "    list_tasks = [item for sublist in list_tasks for item in sublist] #flat and clean list\n",
    "\n",
    "    # Asign workers on every task \n",
    "    tasks_workers = [np.random.choice(workers, workers_per_task, replace=False) for task in tasks]\n",
    "    tasks_workers = [worker for sublist in tasks_workers for worker in sublist] #flat and clean list\n",
    "\n",
    "    df_tw = pd.DataFrame()\n",
    "    df_tw['task_id'] = list_tasks\n",
    "    df_tw['worker_id'] = tasks_workers\n",
    "    df_tw = pd.merge(df_tw, df_tasks, on='task_id', how='left')\n",
    "    df_tw = pd.merge(df_tw, df_workers, on='worker_id', how='left')\n",
    "\n",
    "    prob_guess = 1 / len(answers_key)\n",
    "    df_tw['prob_answer'] = (df_tw['prob_task'] * df_tw['prob_worker']) / (df_tw['prob_task'] * df_tw['prob_worker'] + prob_guess * (1-df_tw['prob_worker']))\n",
    "\n",
    "    worker_prediction = [bernoulli.rvs(size=1,p=prob)[0] for prob in df_tw['prob_answer']]\n",
    "\n",
    "    worker_answers = []\n",
    "    for idx, i in enumerate(worker_prediction):\n",
    "        if i == 1:\n",
    "            worker_answers.append(df_tw['true_answers'].loc[idx])\n",
    "        else:\n",
    "            worker_answers.append(np.random.choice([i for i in set(answers_key)-set(df_tw['true_answers'].loc[idx])], 1)[0])\n",
    "\n",
    "    df_tw['worker_answers'] = worker_answers\n",
    "    df_tw['performance'] = worker_prediction\n",
    "\n",
    "\n",
    "    confusion_matrix(df_tw['true_answers'], df_tw['worker_answers'])\n",
    "\n",
    "\n",
    "    sf_tw = tc.SFrame(data=df_tw)\n",
    "    conf_matrix = tc.evaluation.confusion_matrix(sf_tw['true_answers'], sf_tw['worker_answers'])\n",
    "    accuracy = conf_matrix[conf_matrix['target_label'] == conf_matrix['predicted_label']]['count'].sum() / conf_matrix['count'].sum()\n",
    "    \n",
    "    return accuracy, df_tw"
   ]
  },
  {
   "cell_type": "code",
   "execution_count": 117,
   "metadata": {},
   "outputs": [
    {
     "data": {
      "text/plain": [
       "0.9865497076023392"
      ]
     },
     "execution_count": 117,
     "metadata": {},
     "output_type": "execute_result"
    }
   ],
   "source": [
    "accuracy = get_accuracy(total_tasks, total_workers, p_hard_tasks, workers_per_task, param_beta1, param_beta2)[0]\n",
    "accuracy"
   ]
  },
  {
   "cell_type": "code",
   "execution_count": 121,
   "metadata": {},
   "outputs": [],
   "source": [
    "vec_workers = [i+10 for i in range(1000)] #[10,15,20,25,30,35,40,45,50,55,60,65,70,75,80,85,90,95,100]"
   ]
  },
  {
   "cell_type": "code",
   "execution_count": 122,
   "metadata": {},
   "outputs": [],
   "source": [
    "accu = [get_accuracy(total_tasks, i, p_hard_tasks, workers_per_task, param_beta1, param_beta2) for i in vec_workers]"
   ]
  },
  {
   "cell_type": "code",
   "execution_count": 123,
   "metadata": {},
   "outputs": [
    {
     "data": {
      "text/plain": [
       "[<matplotlib.lines.Line2D at 0x1a343fe668>]"
      ]
     },
     "execution_count": 123,
     "metadata": {},
     "output_type": "execute_result"
    },
    {
     "data": {
      "image/png": "[encoded data removed]",
      "text/plain": [
       "<Figure size 1296x288 with 1 Axes>"
      ]
     },
     "metadata": {},
     "output_type": "display_data"
    }
   ],
   "source": [
    "plt.figure(figsize=[18, 4])\n",
    "plt.plot(range(len(vec_workers)), accu)"
   ]
  },
  {
   "cell_type": "markdown",
   "metadata": {},
   "source": [
    "---"
   ]
  },
  {
   "cell_type": "markdown",
   "metadata": {},
   "source": [
    "## 2 Stages"
   ]
  },
  {
   "cell_type": "code",
   "execution_count": 2,
   "metadata": {},
   "outputs": [],
   "source": [
    "p_train_tasks = .3"
   ]
  },
  {
   "cell_type": "code",
   "execution_count": 4,
   "metadata": {},
   "outputs": [
    {
     "name": "stdout",
     "output_type": "stream",
     "text": [
      "68 274\n"
     ]
    }
   ],
   "source": [
    "total_tasks = 342\n",
    "total_workers = 50\n",
    "p_hard_tasks = 0.2\n",
    "n_hard_tasks = int(round(p_hard_tasks*total_tasks,0))\n",
    "p_easy_tasks = 1-p_hard_tasks \n",
    "n_easy_tasks = int(round(p_easy_tasks*total_tasks,0))\n",
    "print(n_hard_tasks, n_easy_tasks)"
   ]
  },
  {
   "cell_type": "code",
   "execution_count": 5,
   "metadata": {},
   "outputs": [
    {
     "data": {
      "text/plain": [
       "102"
      ]
     },
     "execution_count": 5,
     "metadata": {},
     "output_type": "execute_result"
    }
   ],
   "source": [
    "tasks_to_train = int(p_train_tasks*total_tasks)\n",
    "tasks_to_train"
   ]
  },
  {
   "cell_type": "code",
   "execution_count": 6,
   "metadata": {},
   "outputs": [],
   "source": [
    "param_beta1 = 10\n",
    "param_beta2 = 1"
   ]
  },
  {
   "cell_type": "code",
   "execution_count": 7,
   "metadata": {},
   "outputs": [],
   "source": [
    "workers_per_task = 5"
   ]
  },
  {
   "cell_type": "code",
   "execution_count": 9,
   "metadata": {},
   "outputs": [],
   "source": [
    "# From the entire set of tasks, randomly choose p_train_tasks (in this case 40) tasks to train.\n",
    "#training_tasks = np.random.choice(tasks, tasks_to_train, replace=False)\n",
    "#training_tasks"
   ]
  },
  {
   "cell_type": "markdown",
   "metadata": {},
   "source": [
    "1. Class for the tasks construction\n",
    "2. Class for the workers construction\n",
    "3. Joint Dataset construction\n",
    "4. Predict answers"
   ]
  },
  {
   "cell_type": "code",
   "execution_count": null,
   "metadata": {},
   "outputs": [],
   "source": [
    "accu = [get_accuracy(total_tasks, i, p_hard_tasks, workers_per_task, param_beta1, param_beta2) for i in vec_workers]"
   ]
  },
  {
   "cell_type": "code",
   "execution_count": null,
   "metadata": {},
   "outputs": [],
   "source": []
  },
  {
   "cell_type": "markdown",
   "metadata": {},
   "source": [
    "To compare the 2 stages against no training split:  \n",
    "    is needed to make the process without split\n",
    "    then take a part of the tasks 30% and do the process, and select the best workers\n",
    "    then with the 70% left assess with the good workers\n",
    "    \n",
    "(the difference between this aproach and the version 1 is that we do not know the workker probability a priori "
   ]
  },
  {
   "cell_type": "code",
   "execution_count": null,
   "metadata": {},
   "outputs": [],
   "source": []
  }
 ],
 "metadata": {
  "kernelspec": {
   "display_name": "Python 3",
   "language": "python",
   "name": "python3"
  },
  "language_info": {
   "codemirror_mode": {
    "name": "ipython",
    "version": 3
   },
   "file_extension": ".py",
   "mimetype": "text/x-python",
   "name": "python",
   "nbconvert_exporter": "python",
   "pygments_lexer": "ipython3",
   "version": "3.6.5"
  }
 },
 "nbformat": 4,
 "nbformat_minor": 2
}
