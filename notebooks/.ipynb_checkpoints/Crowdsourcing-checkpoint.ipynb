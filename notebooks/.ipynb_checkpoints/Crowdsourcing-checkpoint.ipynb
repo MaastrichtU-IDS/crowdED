{
 "cells": [
  {
   "cell_type": "markdown",
   "metadata": {},
   "source": [
    "## Crowdsourcing task optimization"
   ]
  },
  {
   "cell_type": "markdown",
   "metadata": {},
   "source": [
    "We want a plot a summary of the performance of the algorith, then we want to optimize the constraints below\n",
    "\n",
    "Variables incluided as widgets:\n",
    "- Number of workers\n",
    "- Number of tasks\n",
    "- Number of tasks per worker\n",
    "- % Hard/Easy tasks\n",
    "- % Poor/Good workers"
   ]
  },
  {
   "cell_type": "code",
   "execution_count": 1,
   "metadata": {},
   "outputs": [],
   "source": [
    "import sys\n",
    "import pandas as pd\n",
    "import numpy as np\n",
    "import shortuuid as uid\n",
    "import matplotlib.pyplot as plt\n",
    "import seaborn as sns\n",
    "%matplotlib inline"
   ]
  },
  {
   "cell_type": "markdown",
   "metadata": {},
   "source": [
    "---\n",
    "### Tasks and Workers Dataframe Construction"
   ]
  },
  {
   "cell_type": "code",
   "execution_count": 3,
   "metadata": {},
   "outputs": [],
   "source": [
    "total_tasks = 100"
   ]
  },
  {
   "cell_type": "code",
   "execution_count": 4,
   "metadata": {},
   "outputs": [],
   "source": [
    "total_workers = 40"
   ]
  },
  {
   "cell_type": "code",
   "execution_count": 5,
   "metadata": {},
   "outputs": [],
   "source": [
    "#Tasks variables\n",
    "p_hard_tasks = 0.2\n",
    "n_hard_tasks = int(round(p_hard_tasks*total_tasks,0))\n",
    "\n",
    "p_easy_tasks = 1-p_hard_tasks \n",
    "n_easy_tasks = int(round(p_easy_tasks*total_tasks,0))"
   ]
  },
  {
   "cell_type": "code",
   "execution_count": 6,
   "metadata": {},
   "outputs": [
    {
     "name": "stdout",
     "output_type": "stream",
     "text": [
      "20 80\n"
     ]
    }
   ],
   "source": [
    "print(n_hard_tasks, n_easy_tasks)"
   ]
  },
  {
   "cell_type": "code",
   "execution_count": 7,
   "metadata": {},
   "outputs": [],
   "source": [
    "#Workers variables\n",
    "p_good_workers = 0.9\n",
    "n_good_workers = int(round(p_good_workers*total_workers,0))\n",
    "\n",
    "p_poor_workers = 1-p_good_workers\n",
    "n_poor_workers = int(round(p_poor_workers*total_workers,0))"
   ]
  },
  {
   "cell_type": "code",
   "execution_count": 8,
   "metadata": {},
   "outputs": [
    {
     "name": "stdout",
     "output_type": "stream",
     "text": [
      "36 4\n"
     ]
    }
   ],
   "source": [
    "print(n_good_workers, n_poor_workers)"
   ]
  },
  {
   "cell_type": "markdown",
   "metadata": {},
   "source": [
    "Let's create a simulated workers and tasks depending on the variables we already set up, the samples are without [replacement](https://www.ma.utexas.edu/users/parker/sampling/repl.htm)"
   ]
  },
  {
   "cell_type": "markdown",
   "metadata": {},
   "source": [
    "- Workers"
   ]
  },
  {
   "cell_type": "code",
   "execution_count": 9,
   "metadata": {},
   "outputs": [],
   "source": [
    "workers = [uid.ShortUUID().random(length=5) for i in range(total_workers)]"
   ]
  },
  {
   "cell_type": "code",
   "execution_count": 10,
   "metadata": {},
   "outputs": [],
   "source": [
    "poor_workers = [worker for worker in np.random.choice(workers, n_poor_workers, replace=False)]"
   ]
  },
  {
   "cell_type": "code",
   "execution_count": 11,
   "metadata": {},
   "outputs": [],
   "source": [
    "good_workers = [worker for worker in set(workers)-set(poor_workers)]"
   ]
  },
  {
   "cell_type": "markdown",
   "metadata": {},
   "source": [
    "Every person have (number of tasks) to accomplish, so we select randomlly from the tasks id with replacement for every person"
   ]
  },
  {
   "cell_type": "code",
   "execution_count": 12,
   "metadata": {},
   "outputs": [],
   "source": [
    "# Creating the workers dataframe\n",
    "df_workers = pd.DataFrame()\n",
    "df_workers['worker_id'] = workers"
   ]
  },
  {
   "cell_type": "code",
   "execution_count": 13,
   "metadata": {},
   "outputs": [],
   "source": [
    "label_worker = ['good_worker' if workers[i] in good_workers else 'poor_worker' for i in range(total_workers)]"
   ]
  },
  {
   "cell_type": "code",
   "execution_count": 14,
   "metadata": {},
   "outputs": [],
   "source": [
    "df_workers['label_worker'] = label_worker"
   ]
  },
  {
   "cell_type": "code",
   "execution_count": 35,
   "metadata": {},
   "outputs": [
    {
     "data": {
      "text/html": [
       "<div>\n",
       "<style>\n",
       "    .dataframe thead tr:only-child th {\n",
       "        text-align: right;\n",
       "    }\n",
       "\n",
       "    .dataframe thead th {\n",
       "        text-align: left;\n",
       "    }\n",
       "\n",
       "    .dataframe tbody tr th {\n",
       "        vertical-align: top;\n",
       "    }\n",
       "</style>\n",
       "<table border=\"1\" class=\"dataframe\">\n",
       "  <thead>\n",
       "    <tr style=\"text-align: right;\">\n",
       "      <th></th>\n",
       "      <th>worker_id</th>\n",
       "      <th>label_worker</th>\n",
       "    </tr>\n",
       "  </thead>\n",
       "  <tbody>\n",
       "    <tr>\n",
       "      <th>0</th>\n",
       "      <td>d5tbA</td>\n",
       "      <td>good_worker</td>\n",
       "    </tr>\n",
       "    <tr>\n",
       "      <th>1</th>\n",
       "      <td>NTQ8H</td>\n",
       "      <td>good_worker</td>\n",
       "    </tr>\n",
       "    <tr>\n",
       "      <th>2</th>\n",
       "      <td>CuSu7</td>\n",
       "      <td>good_worker</td>\n",
       "    </tr>\n",
       "    <tr>\n",
       "      <th>3</th>\n",
       "      <td>hotks</td>\n",
       "      <td>good_worker</td>\n",
       "    </tr>\n",
       "    <tr>\n",
       "      <th>4</th>\n",
       "      <td>drYEF</td>\n",
       "      <td>poor_worker</td>\n",
       "    </tr>\n",
       "  </tbody>\n",
       "</table>\n",
       "</div>"
      ],
      "text/plain": [
       "  worker_id label_worker\n",
       "0     d5tbA  good_worker\n",
       "1     NTQ8H  good_worker\n",
       "2     CuSu7  good_worker\n",
       "3     hotks  good_worker\n",
       "4     drYEF  poor_worker"
      ]
     },
     "execution_count": 35,
     "metadata": {},
     "output_type": "execute_result"
    }
   ],
   "source": [
    "df_workers.head()"
   ]
  },
  {
   "cell_type": "markdown",
   "metadata": {},
   "source": [
    "- Tasks "
   ]
  },
  {
   "cell_type": "code",
   "execution_count": 17,
   "metadata": {},
   "outputs": [],
   "source": [
    "tasks = ['task_'+uid.ShortUUID().random(length=3) for i in range(total_tasks)]"
   ]
  },
  {
   "cell_type": "code",
   "execution_count": 18,
   "metadata": {},
   "outputs": [],
   "source": [
    "easy_tasks = [task for task in np.random.choice(tasks, n_easy_tasks, replace=False)]"
   ]
  },
  {
   "cell_type": "code",
   "execution_count": 19,
   "metadata": {},
   "outputs": [],
   "source": [
    "hard_tasks = [task for task in set(tasks)-set(easy_tasks)]"
   ]
  },
  {
   "cell_type": "markdown",
   "metadata": {},
   "source": [
    "- Answers"
   ]
  },
  {
   "cell_type": "code",
   "execution_count": 20,
   "metadata": {},
   "outputs": [],
   "source": [
    "answers_key = [\"liver\", \"blood\", \"lung\", \"brain\", \"heart\"]"
   ]
  },
  {
   "cell_type": "code",
   "execution_count": 21,
   "metadata": {},
   "outputs": [],
   "source": [
    "real_answers = [answer for answer in np.random.choice(answers_key, total_tasks)]"
   ]
  },
  {
   "cell_type": "markdown",
   "metadata": {},
   "source": [
    "We asign every answer to our simulated vectors"
   ]
  },
  {
   "cell_type": "code",
   "execution_count": 22,
   "metadata": {},
   "outputs": [],
   "source": [
    "# Creating the tasks data frame\n",
    "df_tasks = pd.DataFrame()\n",
    "df_tasks['task_id'] = tasks\n",
    "df_tasks['real_answers'] = real_answers"
   ]
  },
  {
   "cell_type": "code",
   "execution_count": 24,
   "metadata": {},
   "outputs": [],
   "source": [
    "label_task = ['hard_task' if tasks[i] in hard_tasks else 'easy_task' for i in range(total_tasks)]"
   ]
  },
  {
   "cell_type": "code",
   "execution_count": 25,
   "metadata": {},
   "outputs": [],
   "source": [
    "df_tasks['label_task'] = label_task"
   ]
  },
  {
   "cell_type": "code",
   "execution_count": 26,
   "metadata": {},
   "outputs": [
    {
     "data": {
      "text/html": [
       "<div>\n",
       "<style>\n",
       "    .dataframe thead tr:only-child th {\n",
       "        text-align: right;\n",
       "    }\n",
       "\n",
       "    .dataframe thead th {\n",
       "        text-align: left;\n",
       "    }\n",
       "\n",
       "    .dataframe tbody tr th {\n",
       "        vertical-align: top;\n",
       "    }\n",
       "</style>\n",
       "<table border=\"1\" class=\"dataframe\">\n",
       "  <thead>\n",
       "    <tr style=\"text-align: right;\">\n",
       "      <th></th>\n",
       "      <th>task_id</th>\n",
       "      <th>real_answers</th>\n",
       "      <th>label_task</th>\n",
       "    </tr>\n",
       "  </thead>\n",
       "  <tbody>\n",
       "    <tr>\n",
       "      <th>0</th>\n",
       "      <td>task_eCP</td>\n",
       "      <td>liver</td>\n",
       "      <td>hard_task</td>\n",
       "    </tr>\n",
       "    <tr>\n",
       "      <th>1</th>\n",
       "      <td>task_HWR</td>\n",
       "      <td>brain</td>\n",
       "      <td>easy_task</td>\n",
       "    </tr>\n",
       "    <tr>\n",
       "      <th>2</th>\n",
       "      <td>task_kRp</td>\n",
       "      <td>lung</td>\n",
       "      <td>hard_task</td>\n",
       "    </tr>\n",
       "    <tr>\n",
       "      <th>3</th>\n",
       "      <td>task_kyd</td>\n",
       "      <td>blood</td>\n",
       "      <td>easy_task</td>\n",
       "    </tr>\n",
       "    <tr>\n",
       "      <th>4</th>\n",
       "      <td>task_Bqn</td>\n",
       "      <td>brain</td>\n",
       "      <td>easy_task</td>\n",
       "    </tr>\n",
       "  </tbody>\n",
       "</table>\n",
       "</div>"
      ],
      "text/plain": [
       "    task_id real_answers label_task\n",
       "0  task_eCP        liver  hard_task\n",
       "1  task_HWR        brain  easy_task\n",
       "2  task_kRp         lung  hard_task\n",
       "3  task_kyd        blood  easy_task\n",
       "4  task_Bqn        brain  easy_task"
      ]
     },
     "execution_count": 26,
     "metadata": {},
     "output_type": "execute_result"
    }
   ],
   "source": [
    "df_tasks.head()"
   ]
  },
  {
   "cell_type": "markdown",
   "metadata": {},
   "source": [
    "---\n",
    "### Probabilities to Respond Correct\n",
    "Predict worker answer based on pre-assumed probabilities"
   ]
  },
  {
   "cell_type": "markdown",
   "metadata": {
    "collapsed": true
   },
   "source": [
    "We have to start to think what could it be in a case with real data\n",
    "- Is there only 2 labels for task difficulty and worker performance?\n",
    "- What does define a good or poor worker, what threshold?\n",
    "- In the original problems the probabilities are wrong"
   ]
  },
  {
   "cell_type": "markdown",
   "metadata": {},
   "source": [
    "$p_T =$ task difficulty  \n",
    "$p_W =$ worker ability\n",
    "\n",
    "$$p_T \\in (0.5,1)$$\n",
    "$$p_W \\in (0.5,1)$$"
   ]
  },
  {
   "cell_type": "markdown",
   "metadata": {},
   "source": [
    "- If for a worker the frequency of being certain is the times he participate in concesus tasks\n",
    "- If for a task the frequency of beign easy is the times is concensus\n",
    "The less effort means CHANCE"
   ]
  },
  {
   "cell_type": "code",
   "execution_count": 27,
   "metadata": {},
   "outputs": [],
   "source": [
    "# Threshold of responses\n",
    "cut_tasks = 0.75\n",
    "cut_workers = 0.75"
   ]
  },
  {
   "cell_type": "code",
   "execution_count": 28,
   "metadata": {},
   "outputs": [],
   "source": [
    "probs_tasks = []\n",
    "for i in label_task:\n",
    "    if i == 'easy_task':\n",
    "        probs_tasks.append(np.random.choice((np.arange(cut_tasks, 1, 0.01)), 1)) #a random number form cut to 1\n",
    "    elif i == 'hard_task':\n",
    "        probs_tasks.append(np.random.choice((np.arange(0.5, cut_tasks, 0.01)), 1)) #a random number form chance to cut\n",
    "    else: probs_tasks.append(1)\n",
    "\n",
    "probs_tasks = [item for prob in probs_tasks for item in prob]"
   ]
  },
  {
   "cell_type": "code",
   "execution_count": 43,
   "metadata": {},
   "outputs": [],
   "source": [
    "probs_workers = []\n",
    "for i in label_worker:\n",
    "    if i == 'good_worker':\n",
    "        probs_workers.append(np.random.choice((np.arange(cut_workers, 1, 0.01)), 1)) #a random number form cut to 1\n",
    "    elif i == 'poor_worker':\n",
    "        probs_workers.append(np.random.choice((np.arange(0.5, cut_workers, 0.01)), 1)) #a random number form chance to 1\n",
    "    else: probs_workers.append(1)\n",
    "\n",
    "probs_workers = [item for prob in probs_workers for item in prob]"
   ]
  },
  {
   "cell_type": "code",
   "execution_count": 44,
   "metadata": {},
   "outputs": [],
   "source": [
    "df_workers['prob_worker'] = probs_workers"
   ]
  },
  {
   "cell_type": "code",
   "execution_count": 45,
   "metadata": {},
   "outputs": [
    {
     "data": {
      "text/html": [
       "<div>\n",
       "<style>\n",
       "    .dataframe thead tr:only-child th {\n",
       "        text-align: right;\n",
       "    }\n",
       "\n",
       "    .dataframe thead th {\n",
       "        text-align: left;\n",
       "    }\n",
       "\n",
       "    .dataframe tbody tr th {\n",
       "        vertical-align: top;\n",
       "    }\n",
       "</style>\n",
       "<table border=\"1\" class=\"dataframe\">\n",
       "  <thead>\n",
       "    <tr style=\"text-align: right;\">\n",
       "      <th></th>\n",
       "      <th>worker_id</th>\n",
       "      <th>label_worker</th>\n",
       "      <th>prob_worker</th>\n",
       "    </tr>\n",
       "  </thead>\n",
       "  <tbody>\n",
       "    <tr>\n",
       "      <th>0</th>\n",
       "      <td>d5tbA</td>\n",
       "      <td>good_worker</td>\n",
       "      <td>0.97</td>\n",
       "    </tr>\n",
       "    <tr>\n",
       "      <th>1</th>\n",
       "      <td>NTQ8H</td>\n",
       "      <td>good_worker</td>\n",
       "      <td>0.97</td>\n",
       "    </tr>\n",
       "    <tr>\n",
       "      <th>2</th>\n",
       "      <td>CuSu7</td>\n",
       "      <td>good_worker</td>\n",
       "      <td>0.81</td>\n",
       "    </tr>\n",
       "    <tr>\n",
       "      <th>3</th>\n",
       "      <td>hotks</td>\n",
       "      <td>good_worker</td>\n",
       "      <td>0.97</td>\n",
       "    </tr>\n",
       "    <tr>\n",
       "      <th>4</th>\n",
       "      <td>drYEF</td>\n",
       "      <td>poor_worker</td>\n",
       "      <td>0.54</td>\n",
       "    </tr>\n",
       "  </tbody>\n",
       "</table>\n",
       "</div>"
      ],
      "text/plain": [
       "  worker_id label_worker  prob_worker\n",
       "0     d5tbA  good_worker         0.97\n",
       "1     NTQ8H  good_worker         0.97\n",
       "2     CuSu7  good_worker         0.81\n",
       "3     hotks  good_worker         0.97\n",
       "4     drYEF  poor_worker         0.54"
      ]
     },
     "execution_count": 45,
     "metadata": {},
     "output_type": "execute_result"
    }
   ],
   "source": [
    "df_workers.head()"
   ]
  },
  {
   "cell_type": "code",
   "execution_count": 30,
   "metadata": {},
   "outputs": [],
   "source": [
    "df_tasks['prob_task'] = probs_tasks"
   ]
  },
  {
   "cell_type": "code",
   "execution_count": 31,
   "metadata": {},
   "outputs": [
    {
     "data": {
      "text/html": [
       "<div>\n",
       "<style>\n",
       "    .dataframe thead tr:only-child th {\n",
       "        text-align: right;\n",
       "    }\n",
       "\n",
       "    .dataframe thead th {\n",
       "        text-align: left;\n",
       "    }\n",
       "\n",
       "    .dataframe tbody tr th {\n",
       "        vertical-align: top;\n",
       "    }\n",
       "</style>\n",
       "<table border=\"1\" class=\"dataframe\">\n",
       "  <thead>\n",
       "    <tr style=\"text-align: right;\">\n",
       "      <th></th>\n",
       "      <th>task_id</th>\n",
       "      <th>real_answers</th>\n",
       "      <th>label_task</th>\n",
       "      <th>prob_task</th>\n",
       "    </tr>\n",
       "  </thead>\n",
       "  <tbody>\n",
       "    <tr>\n",
       "      <th>0</th>\n",
       "      <td>task_eCP</td>\n",
       "      <td>liver</td>\n",
       "      <td>hard_task</td>\n",
       "      <td>0.58</td>\n",
       "    </tr>\n",
       "    <tr>\n",
       "      <th>1</th>\n",
       "      <td>task_HWR</td>\n",
       "      <td>brain</td>\n",
       "      <td>easy_task</td>\n",
       "      <td>0.99</td>\n",
       "    </tr>\n",
       "    <tr>\n",
       "      <th>2</th>\n",
       "      <td>task_kRp</td>\n",
       "      <td>lung</td>\n",
       "      <td>hard_task</td>\n",
       "      <td>0.62</td>\n",
       "    </tr>\n",
       "    <tr>\n",
       "      <th>3</th>\n",
       "      <td>task_kyd</td>\n",
       "      <td>blood</td>\n",
       "      <td>easy_task</td>\n",
       "      <td>0.90</td>\n",
       "    </tr>\n",
       "    <tr>\n",
       "      <th>4</th>\n",
       "      <td>task_Bqn</td>\n",
       "      <td>brain</td>\n",
       "      <td>easy_task</td>\n",
       "      <td>0.84</td>\n",
       "    </tr>\n",
       "  </tbody>\n",
       "</table>\n",
       "</div>"
      ],
      "text/plain": [
       "    task_id real_answers label_task  prob_task\n",
       "0  task_eCP        liver  hard_task       0.58\n",
       "1  task_HWR        brain  easy_task       0.99\n",
       "2  task_kRp         lung  hard_task       0.62\n",
       "3  task_kyd        blood  easy_task       0.90\n",
       "4  task_Bqn        brain  easy_task       0.84"
      ]
     },
     "execution_count": 31,
     "metadata": {},
     "output_type": "execute_result"
    }
   ],
   "source": [
    "df_tasks.head()"
   ]
  },
  {
   "cell_type": "markdown",
   "metadata": {},
   "source": [
    "#### Summary of aggregated probabilities"
   ]
  },
  {
   "cell_type": "code",
   "execution_count": 32,
   "metadata": {},
   "outputs": [
    {
     "data": {
      "text/html": [
       "<div>\n",
       "<style>\n",
       "    .dataframe thead tr:only-child th {\n",
       "        text-align: right;\n",
       "    }\n",
       "\n",
       "    .dataframe thead th {\n",
       "        text-align: left;\n",
       "    }\n",
       "\n",
       "    .dataframe tbody tr th {\n",
       "        vertical-align: top;\n",
       "    }\n",
       "</style>\n",
       "<table border=\"1\" class=\"dataframe\">\n",
       "  <thead>\n",
       "    <tr>\n",
       "      <th></th>\n",
       "      <th colspan=\"2\" halign=\"left\">prob_task</th>\n",
       "    </tr>\n",
       "    <tr>\n",
       "      <th></th>\n",
       "      <th>mean</th>\n",
       "      <th>count</th>\n",
       "    </tr>\n",
       "    <tr>\n",
       "      <th>label_task</th>\n",
       "      <th></th>\n",
       "      <th></th>\n",
       "    </tr>\n",
       "  </thead>\n",
       "  <tbody>\n",
       "    <tr>\n",
       "      <th>easy_task</th>\n",
       "      <td>0.867</td>\n",
       "      <td>80</td>\n",
       "    </tr>\n",
       "    <tr>\n",
       "      <th>hard_task</th>\n",
       "      <td>0.605</td>\n",
       "      <td>20</td>\n",
       "    </tr>\n",
       "  </tbody>\n",
       "</table>\n",
       "</div>"
      ],
      "text/plain": [
       "           prob_task      \n",
       "                mean count\n",
       "label_task                \n",
       "easy_task      0.867    80\n",
       "hard_task      0.605    20"
      ]
     },
     "execution_count": 32,
     "metadata": {},
     "output_type": "execute_result"
    }
   ],
   "source": [
    "df_tasks.groupby('label_task').agg(['mean','count'])"
   ]
  },
  {
   "cell_type": "code",
   "execution_count": 47,
   "metadata": {},
   "outputs": [
    {
     "data": {
      "text/html": [
       "<div>\n",
       "<style>\n",
       "    .dataframe thead tr:only-child th {\n",
       "        text-align: right;\n",
       "    }\n",
       "\n",
       "    .dataframe thead th {\n",
       "        text-align: left;\n",
       "    }\n",
       "\n",
       "    .dataframe tbody tr th {\n",
       "        vertical-align: top;\n",
       "    }\n",
       "</style>\n",
       "<table border=\"1\" class=\"dataframe\">\n",
       "  <thead>\n",
       "    <tr>\n",
       "      <th></th>\n",
       "      <th colspan=\"2\" halign=\"left\">prob_worker</th>\n",
       "    </tr>\n",
       "    <tr>\n",
       "      <th></th>\n",
       "      <th>mean</th>\n",
       "      <th>count</th>\n",
       "    </tr>\n",
       "    <tr>\n",
       "      <th>label_worker</th>\n",
       "      <th></th>\n",
       "      <th></th>\n",
       "    </tr>\n",
       "  </thead>\n",
       "  <tbody>\n",
       "    <tr>\n",
       "      <th>good_worker</th>\n",
       "      <td>0.880278</td>\n",
       "      <td>36</td>\n",
       "    </tr>\n",
       "    <tr>\n",
       "      <th>poor_worker</th>\n",
       "      <td>0.597500</td>\n",
       "      <td>4</td>\n",
       "    </tr>\n",
       "  </tbody>\n",
       "</table>\n",
       "</div>"
      ],
      "text/plain": [
       "             prob_worker      \n",
       "                    mean count\n",
       "label_worker                  \n",
       "good_worker     0.880278    36\n",
       "poor_worker     0.597500     4"
      ]
     },
     "execution_count": 47,
     "metadata": {},
     "output_type": "execute_result"
    }
   ],
   "source": [
    "df_workers.groupby('label_worker').agg(['mean','count'])"
   ]
  },
  {
   "cell_type": "markdown",
   "metadata": {},
   "source": [
    "---\n",
    "### Stage 1 - Training Workers\n",
    "- Select the p% of the tasks\n",
    "- Asign 'workers_per_task' (7 this case) to evrery of the p% of the task on training set\n",
    "- Melt the dataframe"
   ]
  },
  {
   "cell_type": "code",
   "execution_count": 48,
   "metadata": {},
   "outputs": [],
   "source": [
    "# It's in the begining also\n",
    "p_train_tasks = .4 #percentage"
   ]
  },
  {
   "cell_type": "code",
   "execution_count": 49,
   "metadata": {},
   "outputs": [],
   "source": [
    "workers_per_task = 7"
   ]
  },
  {
   "cell_type": "code",
   "execution_count": 50,
   "metadata": {},
   "outputs": [
    {
     "data": {
      "text/plain": [
       "40"
      ]
     },
     "execution_count": 50,
     "metadata": {},
     "output_type": "execute_result"
    }
   ],
   "source": [
    "tasks_to_train = int(p_train_tasks*total_tasks)\n",
    "tasks_to_train"
   ]
  },
  {
   "cell_type": "code",
   "execution_count": 51,
   "metadata": {},
   "outputs": [
    {
     "data": {
      "text/plain": [
       "array(['task_gAL', 'task_YVk', 'task_mVV', 'task_a3m', 'task_CRn',\n",
       "       'task_Jzg', 'task_rXN', 'task_VSJ', 'task_AjS', 'task_aYr',\n",
       "       'task_Adp', 'task_92j', 'task_CLu', 'task_Bt6', 'task_Ypn',\n",
       "       'task_hyW', 'task_g23', 'task_FbY', 'task_4SA', 'task_r8B',\n",
       "       'task_G9P', 'task_EqQ', 'task_KT9', 'task_SXV', 'task_hAd',\n",
       "       'task_4Aa', 'task_zPu', 'task_mqd', 'task_DKW', 'task_nJm',\n",
       "       'task_Tdw', 'task_SBC', 'task_nkE', 'task_tFq', 'task_rjy',\n",
       "       'task_xhj', 'task_os4', 'task_qpt', 'task_HSw', 'task_uXc'],\n",
       "      dtype='<U8')"
      ]
     },
     "execution_count": 51,
     "metadata": {},
     "output_type": "execute_result"
    }
   ],
   "source": [
    "# Take randomly the number of tasks to train the workers\n",
    "training_tasks = np.random.choice(tasks, tasks_to_train, replace=False)\n",
    "training_tasks"
   ]
  },
  {
   "cell_type": "code",
   "execution_count": 52,
   "metadata": {},
   "outputs": [],
   "source": [
    "list_tasks1 = [[training_tasks[i]]*workers_per_task for i in range(tasks_to_train)] #replicate the tasks to train \n",
    "list_tasks1 = [item for sublist in list_tasks1 for item in sublist] #flat and clean list"
   ]
  },
  {
   "cell_type": "code",
   "execution_count": 53,
   "metadata": {},
   "outputs": [],
   "source": [
    "# Asign workers on every task (we're assuming the tasks are ordered)\n",
    "tasks_workers1 = [np.random.choice(workers, workers_per_task, replace=False) for task in training_tasks]\n",
    "tasks_workers1 = [worker for sublist in tasks_workers1 for worker in sublist] #flat and clean list"
   ]
  },
  {
   "cell_type": "code",
   "execution_count": 54,
   "metadata": {},
   "outputs": [],
   "source": [
    "df_tw1 = pd.DataFrame()\n",
    "df_tw1['task_id'] = list_tasks1\n",
    "df_tw1['worker_id'] = tasks_workers1"
   ]
  },
  {
   "cell_type": "code",
   "execution_count": 55,
   "metadata": {},
   "outputs": [],
   "source": [
    "workers_agg = df_tw1.groupby('worker_id').agg('count')"
   ]
  },
  {
   "cell_type": "markdown",
   "metadata": {},
   "source": [
    "- Should we consider the workers evaluate the same number of tasks??\n",
    "- How is the design?"
   ]
  },
  {
   "cell_type": "code",
   "execution_count": 56,
   "metadata": {},
   "outputs": [
    {
     "data": {
      "text/html": [
       "<div>\n",
       "<style>\n",
       "    .dataframe thead tr:only-child th {\n",
       "        text-align: right;\n",
       "    }\n",
       "\n",
       "    .dataframe thead th {\n",
       "        text-align: left;\n",
       "    }\n",
       "\n",
       "    .dataframe tbody tr th {\n",
       "        vertical-align: top;\n",
       "    }\n",
       "</style>\n",
       "<table border=\"1\" class=\"dataframe\">\n",
       "  <thead>\n",
       "    <tr style=\"text-align: right;\">\n",
       "      <th></th>\n",
       "      <th>task_id</th>\n",
       "    </tr>\n",
       "    <tr>\n",
       "      <th>worker_id</th>\n",
       "      <th></th>\n",
       "    </tr>\n",
       "  </thead>\n",
       "  <tbody>\n",
       "    <tr>\n",
       "      <th>587K9</th>\n",
       "      <td>11</td>\n",
       "    </tr>\n",
       "    <tr>\n",
       "      <th>4qcdF</th>\n",
       "      <td>11</td>\n",
       "    </tr>\n",
       "    <tr>\n",
       "      <th>UqeVE</th>\n",
       "      <td>11</td>\n",
       "    </tr>\n",
       "    <tr>\n",
       "      <th>AbR7i</th>\n",
       "      <td>10</td>\n",
       "    </tr>\n",
       "    <tr>\n",
       "      <th>Xn9kx</th>\n",
       "      <td>10</td>\n",
       "    </tr>\n",
       "    <tr>\n",
       "      <th>zadwY</th>\n",
       "      <td>9</td>\n",
       "    </tr>\n",
       "    <tr>\n",
       "      <th>J3pQU</th>\n",
       "      <td>9</td>\n",
       "    </tr>\n",
       "    <tr>\n",
       "      <th>KNSgB</th>\n",
       "      <td>9</td>\n",
       "    </tr>\n",
       "    <tr>\n",
       "      <th>MWbQj</th>\n",
       "      <td>9</td>\n",
       "    </tr>\n",
       "    <tr>\n",
       "      <th>MgmPt</th>\n",
       "      <td>9</td>\n",
       "    </tr>\n",
       "    <tr>\n",
       "      <th>gNg4H</th>\n",
       "      <td>9</td>\n",
       "    </tr>\n",
       "    <tr>\n",
       "      <th>rPecv</th>\n",
       "      <td>9</td>\n",
       "    </tr>\n",
       "    <tr>\n",
       "      <th>d5tbA</th>\n",
       "      <td>8</td>\n",
       "    </tr>\n",
       "    <tr>\n",
       "      <th>96PsH</th>\n",
       "      <td>8</td>\n",
       "    </tr>\n",
       "    <tr>\n",
       "      <th>pYCWq</th>\n",
       "      <td>8</td>\n",
       "    </tr>\n",
       "    <tr>\n",
       "      <th>DcoAL</th>\n",
       "      <td>8</td>\n",
       "    </tr>\n",
       "    <tr>\n",
       "      <th>PuB8R</th>\n",
       "      <td>7</td>\n",
       "    </tr>\n",
       "    <tr>\n",
       "      <th>vkrtJ</th>\n",
       "      <td>7</td>\n",
       "    </tr>\n",
       "    <tr>\n",
       "      <th>WA8q5</th>\n",
       "      <td>7</td>\n",
       "    </tr>\n",
       "    <tr>\n",
       "      <th>odvvQ</th>\n",
       "      <td>7</td>\n",
       "    </tr>\n",
       "    <tr>\n",
       "      <th>wKZDA</th>\n",
       "      <td>7</td>\n",
       "    </tr>\n",
       "    <tr>\n",
       "      <th>p3NQ3</th>\n",
       "      <td>7</td>\n",
       "    </tr>\n",
       "    <tr>\n",
       "      <th>ppQ39</th>\n",
       "      <td>6</td>\n",
       "    </tr>\n",
       "    <tr>\n",
       "      <th>yopuk</th>\n",
       "      <td>6</td>\n",
       "    </tr>\n",
       "    <tr>\n",
       "      <th>gdCUN</th>\n",
       "      <td>6</td>\n",
       "    </tr>\n",
       "    <tr>\n",
       "      <th>k6ETW</th>\n",
       "      <td>6</td>\n",
       "    </tr>\n",
       "    <tr>\n",
       "      <th>hotks</th>\n",
       "      <td>6</td>\n",
       "    </tr>\n",
       "    <tr>\n",
       "      <th>YZGw4</th>\n",
       "      <td>6</td>\n",
       "    </tr>\n",
       "    <tr>\n",
       "      <th>CuSu7</th>\n",
       "      <td>6</td>\n",
       "    </tr>\n",
       "    <tr>\n",
       "      <th>o2Ugr</th>\n",
       "      <td>5</td>\n",
       "    </tr>\n",
       "    <tr>\n",
       "      <th>drYEF</th>\n",
       "      <td>5</td>\n",
       "    </tr>\n",
       "    <tr>\n",
       "      <th>t64MT</th>\n",
       "      <td>5</td>\n",
       "    </tr>\n",
       "    <tr>\n",
       "      <th>tWtjV</th>\n",
       "      <td>5</td>\n",
       "    </tr>\n",
       "    <tr>\n",
       "      <th>wMVra</th>\n",
       "      <td>5</td>\n",
       "    </tr>\n",
       "    <tr>\n",
       "      <th>m4wwf</th>\n",
       "      <td>4</td>\n",
       "    </tr>\n",
       "    <tr>\n",
       "      <th>r6vNB</th>\n",
       "      <td>4</td>\n",
       "    </tr>\n",
       "    <tr>\n",
       "      <th>NTQ8H</th>\n",
       "      <td>4</td>\n",
       "    </tr>\n",
       "    <tr>\n",
       "      <th>yiGnj</th>\n",
       "      <td>4</td>\n",
       "    </tr>\n",
       "    <tr>\n",
       "      <th>3sk96</th>\n",
       "      <td>4</td>\n",
       "    </tr>\n",
       "    <tr>\n",
       "      <th>u7Rkx</th>\n",
       "      <td>3</td>\n",
       "    </tr>\n",
       "  </tbody>\n",
       "</table>\n",
       "</div>"
      ],
      "text/plain": [
       "           task_id\n",
       "worker_id         \n",
       "587K9           11\n",
       "4qcdF           11\n",
       "UqeVE           11\n",
       "AbR7i           10\n",
       "Xn9kx           10\n",
       "zadwY            9\n",
       "J3pQU            9\n",
       "KNSgB            9\n",
       "MWbQj            9\n",
       "MgmPt            9\n",
       "gNg4H            9\n",
       "rPecv            9\n",
       "d5tbA            8\n",
       "96PsH            8\n",
       "pYCWq            8\n",
       "DcoAL            8\n",
       "PuB8R            7\n",
       "vkrtJ            7\n",
       "WA8q5            7\n",
       "odvvQ            7\n",
       "wKZDA            7\n",
       "p3NQ3            7\n",
       "ppQ39            6\n",
       "yopuk            6\n",
       "gdCUN            6\n",
       "k6ETW            6\n",
       "hotks            6\n",
       "YZGw4            6\n",
       "CuSu7            6\n",
       "o2Ugr            5\n",
       "drYEF            5\n",
       "t64MT            5\n",
       "tWtjV            5\n",
       "wMVra            5\n",
       "m4wwf            4\n",
       "r6vNB            4\n",
       "NTQ8H            4\n",
       "yiGnj            4\n",
       "3sk96            4\n",
       "u7Rkx            3"
      ]
     },
     "execution_count": 56,
     "metadata": {},
     "output_type": "execute_result"
    }
   ],
   "source": [
    "workers_agg.sort_values('task_id', ascending=False)"
   ]
  },
  {
   "cell_type": "code",
   "execution_count": 57,
   "metadata": {},
   "outputs": [
    {
     "data": {
      "text/plain": [
       "40"
      ]
     },
     "execution_count": 57,
     "metadata": {},
     "output_type": "execute_result"
    }
   ],
   "source": [
    "len(workers_agg.reset_index())"
   ]
  },
  {
   "cell_type": "markdown",
   "metadata": {},
   "source": [
    "with 40% we assure take all the workers\n",
    "- We want to meake here a plot with all the simulations\n",
    "- We want to make a plot with all the simulations"
   ]
  },
  {
   "cell_type": "markdown",
   "metadata": {},
   "source": [
    "---\n",
    "### Stage 1 - Join Datasets"
   ]
  },
  {
   "cell_type": "markdown",
   "metadata": {
    "collapsed": true
   },
   "source": [
    "We start to merge the datasets,to merge the datasets we have to define df_tw1 everytime otherwise it colapse on itself"
   ]
  },
  {
   "cell_type": "code",
   "execution_count": 58,
   "metadata": {},
   "outputs": [],
   "source": [
    "df_tw1 = pd.merge(df_tw1, df_tasks, on='task_id', how='left')\n",
    "df_tw1 = pd.merge(df_tw1, df_workers, on='worker_id', how='left')"
   ]
  },
  {
   "cell_type": "code",
   "execution_count": 59,
   "metadata": {},
   "outputs": [],
   "source": [
    "#Probability to asnwer correct\n",
    "df_tw1['prob_answer'] = 1-(df_tw1['prob_worker']*(1-df_tw1['prob_task']))"
   ]
  },
  {
   "cell_type": "code",
   "execution_count": 61,
   "metadata": {},
   "outputs": [
    {
     "data": {
      "text/plain": [
       "0    0.7408\n",
       "1    0.7381\n",
       "2    0.7435\n",
       "3    0.7786\n",
       "4    0.7381\n",
       "5    0.7813\n",
       "6    0.7894\n",
       "7    0.9715\n",
       "8    0.9709\n",
       "9    0.9739\n",
       "Name: prob_answer, dtype: float64"
      ]
     },
     "execution_count": 61,
     "metadata": {},
     "output_type": "execute_result"
    }
   ],
   "source": [
    "df_tw1['prob_answer'].head(10)"
   ]
  },
  {
   "cell_type": "code",
   "execution_count": 62,
   "metadata": {},
   "outputs": [],
   "source": [
    "# We want to get where is the position of the real_answer column on the answer_key array\n",
    "positions = []\n",
    "for answer in df_tw1['real_answers']:\n",
    "    for k in range(len(answers_key)):\n",
    "        if answers_key[k] == answer:\n",
    "            positions.append(k)"
   ]
  },
  {
   "cell_type": "code",
   "execution_count": 63,
   "metadata": {},
   "outputs": [],
   "source": [
    "# Assign a vector of probabilities depending on the position of the item on anser_key array\n",
    "list_vect_probs = []\n",
    "for p in df_tw1['prob_answer']:\n",
    "    for i in positions:\n",
    "        vec_probs = [(1-p)/(len(answers_key)-1)] * (len(answers_key)-1)\n",
    "        vec_probs.insert(i,p) #insert place, value\n",
    "    list_vect_probs.append(vec_probs)"
   ]
  },
  {
   "cell_type": "markdown",
   "metadata": {},
   "source": [
    "#### Answer Prediction"
   ]
  },
  {
   "cell_type": "code",
   "execution_count": 64,
   "metadata": {},
   "outputs": [],
   "source": [
    "#\"Predict\" every answer\n",
    "worker_answers = []\n",
    "for vec in list_vect_probs:\n",
    "    worker_answers.append(np.random.choice(answers_key, 1, p=vec))\n",
    "\n",
    "worker_answers = [item for answer in worker_answers for item in answer]"
   ]
  },
  {
   "cell_type": "code",
   "execution_count": 65,
   "metadata": {},
   "outputs": [],
   "source": [
    "df_tw1['worker_answers'] = worker_answers"
   ]
  },
  {
   "cell_type": "code",
   "execution_count": 66,
   "metadata": {},
   "outputs": [],
   "source": [
    "#We match the real answers with worker answers\n",
    "vec_matches = df_tw1['worker_answers'] == df_tw1['real_answers']\n",
    "predict_value =[1 if i == True else 0 for i in vec_matches]"
   ]
  },
  {
   "cell_type": "code",
   "execution_count": 67,
   "metadata": {},
   "outputs": [],
   "source": [
    "df_tw1['performance'] = predict_value"
   ]
  },
  {
   "cell_type": "code",
   "execution_count": 68,
   "metadata": {
    "scrolled": false
   },
   "outputs": [
    {
     "data": {
      "text/html": [
       "<div>\n",
       "<style>\n",
       "    .dataframe thead tr:only-child th {\n",
       "        text-align: right;\n",
       "    }\n",
       "\n",
       "    .dataframe thead th {\n",
       "        text-align: left;\n",
       "    }\n",
       "\n",
       "    .dataframe tbody tr th {\n",
       "        vertical-align: top;\n",
       "    }\n",
       "</style>\n",
       "<table border=\"1\" class=\"dataframe\">\n",
       "  <thead>\n",
       "    <tr style=\"text-align: right;\">\n",
       "      <th></th>\n",
       "      <th>task_id</th>\n",
       "      <th>worker_id</th>\n",
       "      <th>real_answers</th>\n",
       "      <th>label_task</th>\n",
       "      <th>prob_task</th>\n",
       "      <th>label_worker</th>\n",
       "      <th>prob_worker</th>\n",
       "      <th>prob_answer</th>\n",
       "      <th>worker_answers</th>\n",
       "      <th>performance</th>\n",
       "    </tr>\n",
       "  </thead>\n",
       "  <tbody>\n",
       "    <tr>\n",
       "      <th>0</th>\n",
       "      <td>task_gAL</td>\n",
       "      <td>wKZDA</td>\n",
       "      <td>blood</td>\n",
       "      <td>hard_task</td>\n",
       "      <td>0.73</td>\n",
       "      <td>good_worker</td>\n",
       "      <td>0.96</td>\n",
       "      <td>0.7408</td>\n",
       "      <td>blood</td>\n",
       "      <td>1</td>\n",
       "    </tr>\n",
       "    <tr>\n",
       "      <th>1</th>\n",
       "      <td>task_gAL</td>\n",
       "      <td>hotks</td>\n",
       "      <td>blood</td>\n",
       "      <td>hard_task</td>\n",
       "      <td>0.73</td>\n",
       "      <td>good_worker</td>\n",
       "      <td>0.97</td>\n",
       "      <td>0.7381</td>\n",
       "      <td>brain</td>\n",
       "      <td>0</td>\n",
       "    </tr>\n",
       "    <tr>\n",
       "      <th>2</th>\n",
       "      <td>task_gAL</td>\n",
       "      <td>gNg4H</td>\n",
       "      <td>blood</td>\n",
       "      <td>hard_task</td>\n",
       "      <td>0.73</td>\n",
       "      <td>good_worker</td>\n",
       "      <td>0.95</td>\n",
       "      <td>0.7435</td>\n",
       "      <td>brain</td>\n",
       "      <td>0</td>\n",
       "    </tr>\n",
       "    <tr>\n",
       "      <th>3</th>\n",
       "      <td>task_gAL</td>\n",
       "      <td>rPecv</td>\n",
       "      <td>blood</td>\n",
       "      <td>hard_task</td>\n",
       "      <td>0.73</td>\n",
       "      <td>good_worker</td>\n",
       "      <td>0.82</td>\n",
       "      <td>0.7786</td>\n",
       "      <td>brain</td>\n",
       "      <td>0</td>\n",
       "    </tr>\n",
       "    <tr>\n",
       "      <th>4</th>\n",
       "      <td>task_gAL</td>\n",
       "      <td>d5tbA</td>\n",
       "      <td>blood</td>\n",
       "      <td>hard_task</td>\n",
       "      <td>0.73</td>\n",
       "      <td>good_worker</td>\n",
       "      <td>0.97</td>\n",
       "      <td>0.7381</td>\n",
       "      <td>brain</td>\n",
       "      <td>0</td>\n",
       "    </tr>\n",
       "  </tbody>\n",
       "</table>\n",
       "</div>"
      ],
      "text/plain": [
       "    task_id worker_id real_answers label_task  prob_task label_worker  \\\n",
       "0  task_gAL     wKZDA        blood  hard_task       0.73  good_worker   \n",
       "1  task_gAL     hotks        blood  hard_task       0.73  good_worker   \n",
       "2  task_gAL     gNg4H        blood  hard_task       0.73  good_worker   \n",
       "3  task_gAL     rPecv        blood  hard_task       0.73  good_worker   \n",
       "4  task_gAL     d5tbA        blood  hard_task       0.73  good_worker   \n",
       "\n",
       "   prob_worker  prob_answer worker_answers  performance  \n",
       "0         0.96       0.7408          blood            1  \n",
       "1         0.97       0.7381          brain            0  \n",
       "2         0.95       0.7435          brain            0  \n",
       "3         0.82       0.7786          brain            0  \n",
       "4         0.97       0.7381          brain            0  "
      ]
     },
     "execution_count": 68,
     "metadata": {},
     "output_type": "execute_result"
    }
   ],
   "source": [
    "df_tw1.head()"
   ]
  },
  {
   "cell_type": "markdown",
   "metadata": {},
   "source": [
    "---\n",
    "### Measuring Performance"
   ]
  },
  {
   "cell_type": "markdown",
   "metadata": {},
   "source": [
    "Let's aggregate the tasks by the mean. the average of the predict value is the same as calculate the number of times a worker answer right over the number of workers per task.  \n",
    "\n",
    "The range of the predict value goes from 0 to 1, so it means that the more closest to 1 the workers get more consensus, in the other hand if is closest to 0 then means that everyone said different things "
   ]
  },
  {
   "cell_type": "markdown",
   "metadata": {},
   "source": [
    "- Trained Tasks"
   ]
  },
  {
   "cell_type": "code",
   "execution_count": 69,
   "metadata": {
    "scrolled": false
   },
   "outputs": [
    {
     "data": {
      "text/plain": [
       "task_id\n",
       "task_g23    1.000000\n",
       "task_uXc    1.000000\n",
       "task_VSJ    0.714286\n",
       "task_4SA    0.285714\n",
       "task_HSw    0.285714\n",
       "task_AjS    0.285714\n",
       "task_Adp    0.142857\n",
       "task_tFq    0.142857\n",
       "task_rjy    0.142857\n",
       "task_aYr    0.142857\n",
       "task_92j    0.142857\n",
       "task_gAL    0.142857\n",
       "task_os4    0.142857\n",
       "task_nJm    0.142857\n",
       "task_mVV    0.142857\n",
       "task_xhj    0.000000\n",
       "task_hAd    0.000000\n",
       "task_hyW    0.000000\n",
       "task_nkE    0.000000\n",
       "task_mqd    0.000000\n",
       "task_qpt    0.000000\n",
       "task_r8B    0.000000\n",
       "task_rXN    0.000000\n",
       "task_4Aa    0.000000\n",
       "task_Ypn    0.000000\n",
       "task_a3m    0.000000\n",
       "task_YVk    0.000000\n",
       "task_Tdw    0.000000\n",
       "task_SXV    0.000000\n",
       "task_SBC    0.000000\n",
       "task_KT9    0.000000\n",
       "task_Jzg    0.000000\n",
       "task_G9P    0.000000\n",
       "task_FbY    0.000000\n",
       "task_EqQ    0.000000\n",
       "task_DKW    0.000000\n",
       "task_CRn    0.000000\n",
       "task_CLu    0.000000\n",
       "task_Bt6    0.000000\n",
       "task_zPu    0.000000\n",
       "Name: performance, dtype: float64"
      ]
     },
     "execution_count": 69,
     "metadata": {},
     "output_type": "execute_result"
    }
   ],
   "source": [
    "tasks_mean1 = df_tw1.groupby('task_id').mean().sort_values('performance', ascending=False)\n",
    "tasks_mean1['performance']#.head(10)"
   ]
  },
  {
   "cell_type": "code",
   "execution_count": 70,
   "metadata": {
    "scrolled": true
   },
   "outputs": [
    {
     "data": {
      "text/plain": [
       "<matplotlib.axes._subplots.AxesSubplot at 0x10ba57a58>"
      ]
     },
     "execution_count": 70,
     "metadata": {},
     "output_type": "execute_result"
    },
    {
     "data": {
      "image/png": "[encoded data removed]",
      "text/plain": [
       "<matplotlib.figure.Figure at 0x10ba57630>"
      ]
     },
     "metadata": {},
     "output_type": "display_data"
    }
   ],
   "source": [
    "#Distribution\n",
    "plt.figure(figsize=[18, 4])\n",
    "sns.distplot(tasks_mean1['performance'], bins=6, color='red')"
   ]
  },
  {
   "cell_type": "code",
   "execution_count": 71,
   "metadata": {},
   "outputs": [
    {
     "name": "stdout",
     "output_type": "stream",
     "text": [
      "All the hard tasks that go to Stage 2 are below 0.5\n"
     ]
    }
   ],
   "source": [
    "cutoff_task = 0.5 #More than 50% of consensus\n",
    "print('All the hard tasks that go to Stage 2 are below {}'.format(cutoff_task))"
   ]
  },
  {
   "cell_type": "code",
   "execution_count": 72,
   "metadata": {},
   "outputs": [
    {
     "data": {
      "text/html": [
       "<div>\n",
       "<style>\n",
       "    .dataframe thead tr:only-child th {\n",
       "        text-align: right;\n",
       "    }\n",
       "\n",
       "    .dataframe thead th {\n",
       "        text-align: left;\n",
       "    }\n",
       "\n",
       "    .dataframe tbody tr th {\n",
       "        vertical-align: top;\n",
       "    }\n",
       "</style>\n",
       "<table border=\"1\" class=\"dataframe\">\n",
       "  <thead>\n",
       "    <tr style=\"text-align: right;\">\n",
       "      <th></th>\n",
       "      <th>prob_task</th>\n",
       "      <th>prob_worker</th>\n",
       "      <th>prob_answer</th>\n",
       "      <th>performance</th>\n",
       "    </tr>\n",
       "    <tr>\n",
       "      <th>task_id</th>\n",
       "      <th></th>\n",
       "      <th></th>\n",
       "      <th></th>\n",
       "      <th></th>\n",
       "    </tr>\n",
       "  </thead>\n",
       "  <tbody>\n",
       "    <tr>\n",
       "      <th>task_g23</th>\n",
       "      <td>0.89</td>\n",
       "      <td>0.760000</td>\n",
       "      <td>0.916400</td>\n",
       "      <td>1.000000</td>\n",
       "    </tr>\n",
       "    <tr>\n",
       "      <th>task_uXc</th>\n",
       "      <td>0.91</td>\n",
       "      <td>0.852857</td>\n",
       "      <td>0.923243</td>\n",
       "      <td>1.000000</td>\n",
       "    </tr>\n",
       "    <tr>\n",
       "      <th>task_VSJ</th>\n",
       "      <td>0.75</td>\n",
       "      <td>0.824286</td>\n",
       "      <td>0.793929</td>\n",
       "      <td>0.714286</td>\n",
       "    </tr>\n",
       "  </tbody>\n",
       "</table>\n",
       "</div>"
      ],
      "text/plain": [
       "          prob_task  prob_worker  prob_answer  performance\n",
       "task_id                                                   \n",
       "task_g23       0.89     0.760000     0.916400     1.000000\n",
       "task_uXc       0.91     0.852857     0.923243     1.000000\n",
       "task_VSJ       0.75     0.824286     0.793929     0.714286"
      ]
     },
     "execution_count": 72,
     "metadata": {},
     "output_type": "execute_result"
    }
   ],
   "source": [
    "tasks_mean1[tasks_mean1['performance'] >= cutoff_task]"
   ]
  },
  {
   "cell_type": "code",
   "execution_count": 73,
   "metadata": {},
   "outputs": [
    {
     "data": {
      "image/png": "[encoded data removed]",
      "text/plain": [
       "<matplotlib.figure.Figure at 0x10ba57d30>"
      ]
     },
     "metadata": {},
     "output_type": "display_data"
    }
   ],
   "source": [
    "plt.figure(figsize=[18, 4])\n",
    "axis = range(len(tasks_mean1))\n",
    "plt.bar(axis, tasks_mean1['performance'], align='center', alpha=0.8, color='red', label='Task Easiness')\n",
    "plt.hlines(y=cutoff_task, xmin=0, xmax=len(tasks_mean1), linestyles='--', label='Cut-off')\n",
    "plt.xticks(axis, tasks_mean1.index, rotation=90)\n",
    "plt.title('Task Performance')\n",
    "plt.legend(loc='best')\n",
    "plt.show()"
   ]
  },
  {
   "cell_type": "markdown",
   "metadata": {},
   "source": [
    "- Trained Workers"
   ]
  },
  {
   "cell_type": "code",
   "execution_count": 74,
   "metadata": {},
   "outputs": [],
   "source": [
    "workers_mean1 = df_tw1.groupby('worker_id').mean().sort_values('performance', ascending=False)\n",
    "df_workers = pd.merge(workers_mean1.reset_index(), df_workers.drop('prob_worker',1), on='worker_id', how='left')"
   ]
  },
  {
   "cell_type": "markdown",
   "metadata": {},
   "source": [
    "- prob_task: Average of difficulty of the tasks asigned to the workers, this measure should be close each other in order to make the metrics equivalent\n",
    "- prob_worker: Prob to score correct\n",
    "- prob_answer: Combined probability of score and task difficulty\n",
    "- performance: Percentage of the times the worker score correct"
   ]
  },
  {
   "cell_type": "code",
   "execution_count": 75,
   "metadata": {
    "scrolled": false
   },
   "outputs": [
    {
     "data": {
      "text/plain": [
       "<matplotlib.axes._subplots.AxesSubplot at 0x10bc72cc0>"
      ]
     },
     "execution_count": 75,
     "metadata": {},
     "output_type": "execute_result"
    },
    {
     "data": {
      "image/png": "[encoded data removed]",
      "text/plain": [
       "<matplotlib.figure.Figure at 0x10bc127f0>"
      ]
     },
     "metadata": {},
     "output_type": "display_data"
    }
   ],
   "source": [
    "plt.figure(figsize=[10, 10])\n",
    "sns.kdeplot(df_workers['performance'], df_workers['prob_worker'], cmap=\"Blues\", shade=True, shade_lowest=False)"
   ]
  },
  {
   "cell_type": "code",
   "execution_count": 77,
   "metadata": {},
   "outputs": [
    {
     "data": {
      "image/png": "[encoded data removed]",
      "text/plain": [
       "<matplotlib.figure.Figure at 0x10c5ab320>"
      ]
     },
     "metadata": {},
     "output_type": "display_data"
    }
   ],
   "source": [
    "plt.figure(figsize=[18, 4])\n",
    "axis = range(len(workers_mean1))\n",
    "plt.bar(axis, workers_mean1['performance'], align='center', alpha=0.8, color='blue', label='Probability of Answer correct')\n",
    "plt.xticks(axis, workers_mean1.index, rotation=90)\n",
    "plt.title('Workers Performance')\n",
    "plt.legend(loc='best')\n",
    "plt.show()"
   ]
  },
  {
   "cell_type": "markdown",
   "metadata": {},
   "source": [
    "Maybe we don't want to let go the workers with high probability just because they had bad performance"
   ]
  },
  {
   "cell_type": "code",
   "execution_count": 78,
   "metadata": {},
   "outputs": [
    {
     "data": {
      "text/html": [
       "<div>\n",
       "<style>\n",
       "    .dataframe thead tr:only-child th {\n",
       "        text-align: right;\n",
       "    }\n",
       "\n",
       "    .dataframe thead th {\n",
       "        text-align: left;\n",
       "    }\n",
       "\n",
       "    .dataframe tbody tr th {\n",
       "        vertical-align: top;\n",
       "    }\n",
       "</style>\n",
       "<table border=\"1\" class=\"dataframe\">\n",
       "  <thead>\n",
       "    <tr style=\"text-align: right;\">\n",
       "      <th></th>\n",
       "      <th>prob_task</th>\n",
       "      <th>prob_worker</th>\n",
       "      <th>prob_answer</th>\n",
       "      <th>performance</th>\n",
       "    </tr>\n",
       "  </thead>\n",
       "  <tbody>\n",
       "    <tr>\n",
       "      <th>count</th>\n",
       "      <td>40.000000</td>\n",
       "      <td>40.000000</td>\n",
       "      <td>40.000000</td>\n",
       "      <td>40.000000</td>\n",
       "    </tr>\n",
       "    <tr>\n",
       "      <th>mean</th>\n",
       "      <td>0.805459</td>\n",
       "      <td>0.852000</td>\n",
       "      <td>0.833784</td>\n",
       "      <td>0.108151</td>\n",
       "    </tr>\n",
       "    <tr>\n",
       "      <th>std</th>\n",
       "      <td>0.045378</td>\n",
       "      <td>0.116381</td>\n",
       "      <td>0.044372</td>\n",
       "      <td>0.131582</td>\n",
       "    </tr>\n",
       "    <tr>\n",
       "      <th>min</th>\n",
       "      <td>0.704000</td>\n",
       "      <td>0.540000</td>\n",
       "      <td>0.729250</td>\n",
       "      <td>0.000000</td>\n",
       "    </tr>\n",
       "    <tr>\n",
       "      <th>25%</th>\n",
       "      <td>0.781916</td>\n",
       "      <td>0.787500</td>\n",
       "      <td>0.810503</td>\n",
       "      <td>0.000000</td>\n",
       "    </tr>\n",
       "    <tr>\n",
       "      <th>50%</th>\n",
       "      <td>0.809000</td>\n",
       "      <td>0.865000</td>\n",
       "      <td>0.839017</td>\n",
       "      <td>0.045455</td>\n",
       "    </tr>\n",
       "    <tr>\n",
       "      <th>75%</th>\n",
       "      <td>0.831250</td>\n",
       "      <td>0.950000</td>\n",
       "      <td>0.860103</td>\n",
       "      <td>0.186364</td>\n",
       "    </tr>\n",
       "    <tr>\n",
       "      <th>max</th>\n",
       "      <td>0.898000</td>\n",
       "      <td>0.990000</td>\n",
       "      <td>0.944920</td>\n",
       "      <td>0.428571</td>\n",
       "    </tr>\n",
       "  </tbody>\n",
       "</table>\n",
       "</div>"
      ],
      "text/plain": [
       "       prob_task  prob_worker  prob_answer  performance\n",
       "count  40.000000    40.000000    40.000000    40.000000\n",
       "mean    0.805459     0.852000     0.833784     0.108151\n",
       "std     0.045378     0.116381     0.044372     0.131582\n",
       "min     0.704000     0.540000     0.729250     0.000000\n",
       "25%     0.781916     0.787500     0.810503     0.000000\n",
       "50%     0.809000     0.865000     0.839017     0.045455\n",
       "75%     0.831250     0.950000     0.860103     0.186364\n",
       "max     0.898000     0.990000     0.944920     0.428571"
      ]
     },
     "execution_count": 78,
     "metadata": {},
     "output_type": "execute_result"
    }
   ],
   "source": [
    "df_workers.describe()"
   ]
  },
  {
   "cell_type": "code",
   "execution_count": 92,
   "metadata": {},
   "outputs": [
    {
     "name": "stdout",
     "output_type": "stream",
     "text": [
      "Cutoff: \n",
      " Performance: 0.045 \n",
      " Probability: 0.865\n"
     ]
    }
   ],
   "source": [
    "cutoff_prob = df_workers['prob_worker'].quantile(.5)\n",
    "cutoff_perf = df_workers['performance'].quantile(.5)\n",
    "print('Cutoff: \\n Performance: {} \\n Probability: {}'.format(\n",
    "    round(cutoff_perf, 3), round(cutoff_prob, 3)))"
   ]
  },
  {
   "cell_type": "code",
   "execution_count": 93,
   "metadata": {},
   "outputs": [
    {
     "data": {
      "text/html": [
       "<div>\n",
       "<style>\n",
       "    .dataframe thead tr:only-child th {\n",
       "        text-align: right;\n",
       "    }\n",
       "\n",
       "    .dataframe thead th {\n",
       "        text-align: left;\n",
       "    }\n",
       "\n",
       "    .dataframe tbody tr th {\n",
       "        vertical-align: top;\n",
       "    }\n",
       "</style>\n",
       "<table border=\"1\" class=\"dataframe\">\n",
       "  <thead>\n",
       "    <tr style=\"text-align: right;\">\n",
       "      <th></th>\n",
       "      <th>worker_id</th>\n",
       "      <th>prob_task</th>\n",
       "      <th>prob_worker</th>\n",
       "      <th>prob_answer</th>\n",
       "      <th>performance</th>\n",
       "      <th>label_worker</th>\n",
       "    </tr>\n",
       "  </thead>\n",
       "  <tbody>\n",
       "    <tr>\n",
       "      <th>0</th>\n",
       "      <td>wKZDA</td>\n",
       "      <td>0.805714</td>\n",
       "      <td>0.96</td>\n",
       "      <td>0.813486</td>\n",
       "      <td>0.428571</td>\n",
       "      <td>good_worker</td>\n",
       "    </tr>\n",
       "    <tr>\n",
       "      <th>1</th>\n",
       "      <td>Xn9kx</td>\n",
       "      <td>0.792000</td>\n",
       "      <td>0.85</td>\n",
       "      <td>0.823200</td>\n",
       "      <td>0.400000</td>\n",
       "      <td>good_worker</td>\n",
       "    </tr>\n",
       "    <tr>\n",
       "      <th>2</th>\n",
       "      <td>UqeVE</td>\n",
       "      <td>0.837273</td>\n",
       "      <td>0.90</td>\n",
       "      <td>0.853545</td>\n",
       "      <td>0.363636</td>\n",
       "      <td>good_worker</td>\n",
       "    </tr>\n",
       "    <tr>\n",
       "      <th>3</th>\n",
       "      <td>MgmPt</td>\n",
       "      <td>0.806667</td>\n",
       "      <td>0.83</td>\n",
       "      <td>0.839533</td>\n",
       "      <td>0.333333</td>\n",
       "      <td>good_worker</td>\n",
       "    </tr>\n",
       "    <tr>\n",
       "      <th>4</th>\n",
       "      <td>CuSu7</td>\n",
       "      <td>0.825000</td>\n",
       "      <td>0.81</td>\n",
       "      <td>0.858250</td>\n",
       "      <td>0.333333</td>\n",
       "      <td>good_worker</td>\n",
       "    </tr>\n",
       "    <tr>\n",
       "      <th>5</th>\n",
       "      <td>DcoAL</td>\n",
       "      <td>0.715000</td>\n",
       "      <td>0.95</td>\n",
       "      <td>0.729250</td>\n",
       "      <td>0.250000</td>\n",
       "      <td>good_worker</td>\n",
       "    </tr>\n",
       "    <tr>\n",
       "      <th>6</th>\n",
       "      <td>3sk96</td>\n",
       "      <td>0.810000</td>\n",
       "      <td>0.85</td>\n",
       "      <td>0.838500</td>\n",
       "      <td>0.250000</td>\n",
       "      <td>good_worker</td>\n",
       "    </tr>\n",
       "    <tr>\n",
       "      <th>7</th>\n",
       "      <td>J3pQU</td>\n",
       "      <td>0.764444</td>\n",
       "      <td>0.60</td>\n",
       "      <td>0.858667</td>\n",
       "      <td>0.222222</td>\n",
       "      <td>poor_worker</td>\n",
       "    </tr>\n",
       "    <tr>\n",
       "      <th>8</th>\n",
       "      <td>t64MT</td>\n",
       "      <td>0.802000</td>\n",
       "      <td>0.93</td>\n",
       "      <td>0.815860</td>\n",
       "      <td>0.200000</td>\n",
       "      <td>good_worker</td>\n",
       "    </tr>\n",
       "    <tr>\n",
       "      <th>9</th>\n",
       "      <td>drYEF</td>\n",
       "      <td>0.898000</td>\n",
       "      <td>0.54</td>\n",
       "      <td>0.944920</td>\n",
       "      <td>0.200000</td>\n",
       "      <td>poor_worker</td>\n",
       "    </tr>\n",
       "    <tr>\n",
       "      <th>10</th>\n",
       "      <td>4qcdF</td>\n",
       "      <td>0.779091</td>\n",
       "      <td>0.93</td>\n",
       "      <td>0.794555</td>\n",
       "      <td>0.181818</td>\n",
       "      <td>good_worker</td>\n",
       "    </tr>\n",
       "    <tr>\n",
       "      <th>11</th>\n",
       "      <td>yopuk</td>\n",
       "      <td>0.745000</td>\n",
       "      <td>0.86</td>\n",
       "      <td>0.780700</td>\n",
       "      <td>0.166667</td>\n",
       "      <td>good_worker</td>\n",
       "    </tr>\n",
       "    <tr>\n",
       "      <th>12</th>\n",
       "      <td>YZGw4</td>\n",
       "      <td>0.825000</td>\n",
       "      <td>0.78</td>\n",
       "      <td>0.863500</td>\n",
       "      <td>0.166667</td>\n",
       "      <td>good_worker</td>\n",
       "    </tr>\n",
       "    <tr>\n",
       "      <th>13</th>\n",
       "      <td>ppQ39</td>\n",
       "      <td>0.731667</td>\n",
       "      <td>0.92</td>\n",
       "      <td>0.753133</td>\n",
       "      <td>0.166667</td>\n",
       "      <td>good_worker</td>\n",
       "    </tr>\n",
       "    <tr>\n",
       "      <th>14</th>\n",
       "      <td>pYCWq</td>\n",
       "      <td>0.810000</td>\n",
       "      <td>0.98</td>\n",
       "      <td>0.813800</td>\n",
       "      <td>0.125000</td>\n",
       "      <td>good_worker</td>\n",
       "    </tr>\n",
       "    <tr>\n",
       "      <th>15</th>\n",
       "      <td>96PsH</td>\n",
       "      <td>0.821250</td>\n",
       "      <td>0.77</td>\n",
       "      <td>0.862363</td>\n",
       "      <td>0.125000</td>\n",
       "      <td>good_worker</td>\n",
       "    </tr>\n",
       "    <tr>\n",
       "      <th>16</th>\n",
       "      <td>gNg4H</td>\n",
       "      <td>0.791111</td>\n",
       "      <td>0.95</td>\n",
       "      <td>0.801556</td>\n",
       "      <td>0.111111</td>\n",
       "      <td>good_worker</td>\n",
       "    </tr>\n",
       "    <tr>\n",
       "      <th>17</th>\n",
       "      <td>rPecv</td>\n",
       "      <td>0.791111</td>\n",
       "      <td>0.82</td>\n",
       "      <td>0.828711</td>\n",
       "      <td>0.111111</td>\n",
       "      <td>good_worker</td>\n",
       "    </tr>\n",
       "    <tr>\n",
       "      <th>18</th>\n",
       "      <td>AbR7i</td>\n",
       "      <td>0.808000</td>\n",
       "      <td>0.89</td>\n",
       "      <td>0.829120</td>\n",
       "      <td>0.100000</td>\n",
       "      <td>good_worker</td>\n",
       "    </tr>\n",
       "    <tr>\n",
       "      <th>19</th>\n",
       "      <td>587K9</td>\n",
       "      <td>0.803636</td>\n",
       "      <td>0.76</td>\n",
       "      <td>0.850764</td>\n",
       "      <td>0.090909</td>\n",
       "      <td>good_worker</td>\n",
       "    </tr>\n",
       "    <tr>\n",
       "      <th>20</th>\n",
       "      <td>vkrtJ</td>\n",
       "      <td>0.782857</td>\n",
       "      <td>0.81</td>\n",
       "      <td>0.824114</td>\n",
       "      <td>0.000000</td>\n",
       "      <td>good_worker</td>\n",
       "    </tr>\n",
       "    <tr>\n",
       "      <th>21</th>\n",
       "      <td>u7Rkx</td>\n",
       "      <td>0.746667</td>\n",
       "      <td>0.92</td>\n",
       "      <td>0.766933</td>\n",
       "      <td>0.000000</td>\n",
       "      <td>good_worker</td>\n",
       "    </tr>\n",
       "    <tr>\n",
       "      <th>22</th>\n",
       "      <td>wMVra</td>\n",
       "      <td>0.872000</td>\n",
       "      <td>0.92</td>\n",
       "      <td>0.882240</td>\n",
       "      <td>0.000000</td>\n",
       "      <td>good_worker</td>\n",
       "    </tr>\n",
       "    <tr>\n",
       "      <th>23</th>\n",
       "      <td>tWtjV</td>\n",
       "      <td>0.828000</td>\n",
       "      <td>0.78</td>\n",
       "      <td>0.865840</td>\n",
       "      <td>0.000000</td>\n",
       "      <td>good_worker</td>\n",
       "    </tr>\n",
       "    <tr>\n",
       "      <th>24</th>\n",
       "      <td>yiGnj</td>\n",
       "      <td>0.882500</td>\n",
       "      <td>0.99</td>\n",
       "      <td>0.883675</td>\n",
       "      <td>0.000000</td>\n",
       "      <td>good_worker</td>\n",
       "    </tr>\n",
       "    <tr>\n",
       "      <th>25</th>\n",
       "      <td>r6vNB</td>\n",
       "      <td>0.835000</td>\n",
       "      <td>0.70</td>\n",
       "      <td>0.884500</td>\n",
       "      <td>0.000000</td>\n",
       "      <td>poor_worker</td>\n",
       "    </tr>\n",
       "    <tr>\n",
       "      <th>26</th>\n",
       "      <td>gdCUN</td>\n",
       "      <td>0.716667</td>\n",
       "      <td>0.79</td>\n",
       "      <td>0.776167</td>\n",
       "      <td>0.000000</td>\n",
       "      <td>good_worker</td>\n",
       "    </tr>\n",
       "    <tr>\n",
       "      <th>27</th>\n",
       "      <td>p3NQ3</td>\n",
       "      <td>0.775714</td>\n",
       "      <td>0.89</td>\n",
       "      <td>0.800386</td>\n",
       "      <td>0.000000</td>\n",
       "      <td>good_worker</td>\n",
       "    </tr>\n",
       "    <tr>\n",
       "      <th>28</th>\n",
       "      <td>odvvQ</td>\n",
       "      <td>0.760000</td>\n",
       "      <td>0.75</td>\n",
       "      <td>0.820000</td>\n",
       "      <td>0.000000</td>\n",
       "      <td>good_worker</td>\n",
       "    </tr>\n",
       "    <tr>\n",
       "      <th>29</th>\n",
       "      <td>o2Ugr</td>\n",
       "      <td>0.704000</td>\n",
       "      <td>0.81</td>\n",
       "      <td>0.760240</td>\n",
       "      <td>0.000000</td>\n",
       "      <td>good_worker</td>\n",
       "    </tr>\n",
       "    <tr>\n",
       "      <th>30</th>\n",
       "      <td>m4wwf</td>\n",
       "      <td>0.840000</td>\n",
       "      <td>0.98</td>\n",
       "      <td>0.843200</td>\n",
       "      <td>0.000000</td>\n",
       "      <td>good_worker</td>\n",
       "    </tr>\n",
       "    <tr>\n",
       "      <th>31</th>\n",
       "      <td>k6ETW</td>\n",
       "      <td>0.828333</td>\n",
       "      <td>0.76</td>\n",
       "      <td>0.869533</td>\n",
       "      <td>0.000000</td>\n",
       "      <td>good_worker</td>\n",
       "    </tr>\n",
       "    <tr>\n",
       "      <th>32</th>\n",
       "      <td>hotks</td>\n",
       "      <td>0.795000</td>\n",
       "      <td>0.97</td>\n",
       "      <td>0.801150</td>\n",
       "      <td>0.000000</td>\n",
       "      <td>good_worker</td>\n",
       "    </tr>\n",
       "    <tr>\n",
       "      <th>33</th>\n",
       "      <td>d5tbA</td>\n",
       "      <td>0.837500</td>\n",
       "      <td>0.97</td>\n",
       "      <td>0.842375</td>\n",
       "      <td>0.000000</td>\n",
       "      <td>good_worker</td>\n",
       "    </tr>\n",
       "    <tr>\n",
       "      <th>34</th>\n",
       "      <td>WA8q5</td>\n",
       "      <td>0.820000</td>\n",
       "      <td>0.99</td>\n",
       "      <td>0.821800</td>\n",
       "      <td>0.000000</td>\n",
       "      <td>good_worker</td>\n",
       "    </tr>\n",
       "    <tr>\n",
       "      <th>35</th>\n",
       "      <td>PuB8R</td>\n",
       "      <td>0.867143</td>\n",
       "      <td>0.55</td>\n",
       "      <td>0.926929</td>\n",
       "      <td>0.000000</td>\n",
       "      <td>poor_worker</td>\n",
       "    </tr>\n",
       "    <tr>\n",
       "      <th>36</th>\n",
       "      <td>NTQ8H</td>\n",
       "      <td>0.855000</td>\n",
       "      <td>0.97</td>\n",
       "      <td>0.859350</td>\n",
       "      <td>0.000000</td>\n",
       "      <td>good_worker</td>\n",
       "    </tr>\n",
       "    <tr>\n",
       "      <th>37</th>\n",
       "      <td>MWbQj</td>\n",
       "      <td>0.830000</td>\n",
       "      <td>0.87</td>\n",
       "      <td>0.852100</td>\n",
       "      <td>0.000000</td>\n",
       "      <td>good_worker</td>\n",
       "    </tr>\n",
       "    <tr>\n",
       "      <th>38</th>\n",
       "      <td>KNSgB</td>\n",
       "      <td>0.828889</td>\n",
       "      <td>0.79</td>\n",
       "      <td>0.864822</td>\n",
       "      <td>0.000000</td>\n",
       "      <td>good_worker</td>\n",
       "    </tr>\n",
       "    <tr>\n",
       "      <th>39</th>\n",
       "      <td>zadwY</td>\n",
       "      <td>0.851111</td>\n",
       "      <td>0.99</td>\n",
       "      <td>0.852600</td>\n",
       "      <td>0.000000</td>\n",
       "      <td>good_worker</td>\n",
       "    </tr>\n",
       "  </tbody>\n",
       "</table>\n",
       "</div>"
      ],
      "text/plain": [
       "   worker_id  prob_task  prob_worker  prob_answer  performance label_worker\n",
       "0      wKZDA   0.805714         0.96     0.813486     0.428571  good_worker\n",
       "1      Xn9kx   0.792000         0.85     0.823200     0.400000  good_worker\n",
       "2      UqeVE   0.837273         0.90     0.853545     0.363636  good_worker\n",
       "3      MgmPt   0.806667         0.83     0.839533     0.333333  good_worker\n",
       "4      CuSu7   0.825000         0.81     0.858250     0.333333  good_worker\n",
       "5      DcoAL   0.715000         0.95     0.729250     0.250000  good_worker\n",
       "6      3sk96   0.810000         0.85     0.838500     0.250000  good_worker\n",
       "7      J3pQU   0.764444         0.60     0.858667     0.222222  poor_worker\n",
       "8      t64MT   0.802000         0.93     0.815860     0.200000  good_worker\n",
       "9      drYEF   0.898000         0.54     0.944920     0.200000  poor_worker\n",
       "10     4qcdF   0.779091         0.93     0.794555     0.181818  good_worker\n",
       "11     yopuk   0.745000         0.86     0.780700     0.166667  good_worker\n",
       "12     YZGw4   0.825000         0.78     0.863500     0.166667  good_worker\n",
       "13     ppQ39   0.731667         0.92     0.753133     0.166667  good_worker\n",
       "14     pYCWq   0.810000         0.98     0.813800     0.125000  good_worker\n",
       "15     96PsH   0.821250         0.77     0.862363     0.125000  good_worker\n",
       "16     gNg4H   0.791111         0.95     0.801556     0.111111  good_worker\n",
       "17     rPecv   0.791111         0.82     0.828711     0.111111  good_worker\n",
       "18     AbR7i   0.808000         0.89     0.829120     0.100000  good_worker\n",
       "19     587K9   0.803636         0.76     0.850764     0.090909  good_worker\n",
       "20     vkrtJ   0.782857         0.81     0.824114     0.000000  good_worker\n",
       "21     u7Rkx   0.746667         0.92     0.766933     0.000000  good_worker\n",
       "22     wMVra   0.872000         0.92     0.882240     0.000000  good_worker\n",
       "23     tWtjV   0.828000         0.78     0.865840     0.000000  good_worker\n",
       "24     yiGnj   0.882500         0.99     0.883675     0.000000  good_worker\n",
       "25     r6vNB   0.835000         0.70     0.884500     0.000000  poor_worker\n",
       "26     gdCUN   0.716667         0.79     0.776167     0.000000  good_worker\n",
       "27     p3NQ3   0.775714         0.89     0.800386     0.000000  good_worker\n",
       "28     odvvQ   0.760000         0.75     0.820000     0.000000  good_worker\n",
       "29     o2Ugr   0.704000         0.81     0.760240     0.000000  good_worker\n",
       "30     m4wwf   0.840000         0.98     0.843200     0.000000  good_worker\n",
       "31     k6ETW   0.828333         0.76     0.869533     0.000000  good_worker\n",
       "32     hotks   0.795000         0.97     0.801150     0.000000  good_worker\n",
       "33     d5tbA   0.837500         0.97     0.842375     0.000000  good_worker\n",
       "34     WA8q5   0.820000         0.99     0.821800     0.000000  good_worker\n",
       "35     PuB8R   0.867143         0.55     0.926929     0.000000  poor_worker\n",
       "36     NTQ8H   0.855000         0.97     0.859350     0.000000  good_worker\n",
       "37     MWbQj   0.830000         0.87     0.852100     0.000000  good_worker\n",
       "38     KNSgB   0.828889         0.79     0.864822     0.000000  good_worker\n",
       "39     zadwY   0.851111         0.99     0.852600     0.000000  good_worker"
      ]
     },
     "execution_count": 93,
     "metadata": {},
     "output_type": "execute_result"
    }
   ],
   "source": [
    "df_workers #All workers"
   ]
  },
  {
   "cell_type": "markdown",
   "metadata": {},
   "source": [
    "---\n",
    "### Stage 2 - Take the best workers\n",
    "We are going take only the best workers, it means high probability and high performance, above certain percentile. \n",
    "As a logil decision is an OR"
   ]
  },
  {
   "cell_type": "code",
   "execution_count": 94,
   "metadata": {},
   "outputs": [],
   "source": [
    "list_perf = [1 if i > cutoff_perf else 0 for i in df_workers['performance']]\n",
    "#list_perf"
   ]
  },
  {
   "cell_type": "code",
   "execution_count": 95,
   "metadata": {},
   "outputs": [],
   "source": [
    "list_prob = [1 if i > cutoff_prob else 0 for i in df_workers['prob_worker']]\n",
    "#list_prob"
   ]
  },
  {
   "cell_type": "code",
   "execution_count": 96,
   "metadata": {},
   "outputs": [],
   "source": [
    "flag_best_workers = []\n",
    "for i in range(len(list_perf)):\n",
    "    if list_perf[i] == 1 and list_prob[i] ==1 : #we need to be strict here\n",
    "        flag_best_workers.append(1)\n",
    "    else: flag_best_workers.append(0)"
   ]
  },
  {
   "cell_type": "code",
   "execution_count": 97,
   "metadata": {},
   "outputs": [
    {
     "name": "stdout",
     "output_type": "stream",
     "text": [
      "Selected Best Workers: 9\n"
     ]
    }
   ],
   "source": [
    "print('Selected Best Workers: {}'.format(sum(flag_best_workers)))"
   ]
  },
  {
   "cell_type": "code",
   "execution_count": 99,
   "metadata": {},
   "outputs": [],
   "source": [
    "df_workers['best_worker'] = flag_best_workers"
   ]
  },
  {
   "cell_type": "code",
   "execution_count": 100,
   "metadata": {},
   "outputs": [],
   "source": [
    "df_workers2 = df_workers[df_workers['best_worker']==1]"
   ]
  },
  {
   "cell_type": "markdown",
   "metadata": {},
   "source": [
    "But we want to \"reset\" them:"
   ]
  },
  {
   "cell_type": "code",
   "execution_count": 101,
   "metadata": {},
   "outputs": [
    {
     "data": {
      "text/html": [
       "<div>\n",
       "<style>\n",
       "    .dataframe thead tr:only-child th {\n",
       "        text-align: right;\n",
       "    }\n",
       "\n",
       "    .dataframe thead th {\n",
       "        text-align: left;\n",
       "    }\n",
       "\n",
       "    .dataframe tbody tr th {\n",
       "        vertical-align: top;\n",
       "    }\n",
       "</style>\n",
       "<table border=\"1\" class=\"dataframe\">\n",
       "  <thead>\n",
       "    <tr style=\"text-align: right;\">\n",
       "      <th></th>\n",
       "      <th>worker_id</th>\n",
       "      <th>prob_worker</th>\n",
       "      <th>label_worker</th>\n",
       "    </tr>\n",
       "  </thead>\n",
       "  <tbody>\n",
       "    <tr>\n",
       "      <th>0</th>\n",
       "      <td>wKZDA</td>\n",
       "      <td>0.96</td>\n",
       "      <td>good_worker</td>\n",
       "    </tr>\n",
       "    <tr>\n",
       "      <th>2</th>\n",
       "      <td>UqeVE</td>\n",
       "      <td>0.90</td>\n",
       "      <td>good_worker</td>\n",
       "    </tr>\n",
       "    <tr>\n",
       "      <th>5</th>\n",
       "      <td>DcoAL</td>\n",
       "      <td>0.95</td>\n",
       "      <td>good_worker</td>\n",
       "    </tr>\n",
       "    <tr>\n",
       "      <th>8</th>\n",
       "      <td>t64MT</td>\n",
       "      <td>0.93</td>\n",
       "      <td>good_worker</td>\n",
       "    </tr>\n",
       "    <tr>\n",
       "      <th>10</th>\n",
       "      <td>4qcdF</td>\n",
       "      <td>0.93</td>\n",
       "      <td>good_worker</td>\n",
       "    </tr>\n",
       "    <tr>\n",
       "      <th>13</th>\n",
       "      <td>ppQ39</td>\n",
       "      <td>0.92</td>\n",
       "      <td>good_worker</td>\n",
       "    </tr>\n",
       "    <tr>\n",
       "      <th>14</th>\n",
       "      <td>pYCWq</td>\n",
       "      <td>0.98</td>\n",
       "      <td>good_worker</td>\n",
       "    </tr>\n",
       "    <tr>\n",
       "      <th>16</th>\n",
       "      <td>gNg4H</td>\n",
       "      <td>0.95</td>\n",
       "      <td>good_worker</td>\n",
       "    </tr>\n",
       "    <tr>\n",
       "      <th>18</th>\n",
       "      <td>AbR7i</td>\n",
       "      <td>0.89</td>\n",
       "      <td>good_worker</td>\n",
       "    </tr>\n",
       "  </tbody>\n",
       "</table>\n",
       "</div>"
      ],
      "text/plain": [
       "   worker_id  prob_worker label_worker\n",
       "0      wKZDA         0.96  good_worker\n",
       "2      UqeVE         0.90  good_worker\n",
       "5      DcoAL         0.95  good_worker\n",
       "8      t64MT         0.93  good_worker\n",
       "10     4qcdF         0.93  good_worker\n",
       "13     ppQ39         0.92  good_worker\n",
       "14     pYCWq         0.98  good_worker\n",
       "16     gNg4H         0.95  good_worker\n",
       "18     AbR7i         0.89  good_worker"
      ]
     },
     "execution_count": 101,
     "metadata": {},
     "output_type": "execute_result"
    }
   ],
   "source": [
    "df_workers2 = df_workers2[['worker_id','prob_worker','label_worker']]\n",
    "df_workers2"
   ]
  },
  {
   "cell_type": "code",
   "execution_count": 102,
   "metadata": {},
   "outputs": [],
   "source": [
    "best_workers = [i for i in df_workers2['worker_id']]"
   ]
  },
  {
   "cell_type": "code",
   "execution_count": 103,
   "metadata": {},
   "outputs": [
    {
     "data": {
      "text/plain": [
       "['wKZDA',\n",
       " 'UqeVE',\n",
       " 'DcoAL',\n",
       " 't64MT',\n",
       " '4qcdF',\n",
       " 'ppQ39',\n",
       " 'pYCWq',\n",
       " 'gNg4H',\n",
       " 'AbR7i']"
      ]
     },
     "execution_count": 103,
     "metadata": {},
     "output_type": "execute_result"
    }
   ],
   "source": [
    "best_workers"
   ]
  },
  {
   "cell_type": "markdown",
   "metadata": {},
   "source": [
    "- Now we take the tasks that we decide were already difficult\n",
    "- Then we're going to add them in the df_tasks that we did not use\n",
    "- This \"rest\" of the tasks remain are going to be performed for our final workers"
   ]
  },
  {
   "cell_type": "code",
   "execution_count": 104,
   "metadata": {},
   "outputs": [],
   "source": [
    "tasks_mean1 = tasks_mean1.reset_index()"
   ]
  },
  {
   "cell_type": "code",
   "execution_count": 105,
   "metadata": {},
   "outputs": [
    {
     "data": {
      "text/html": [
       "<div>\n",
       "<style>\n",
       "    .dataframe thead tr:only-child th {\n",
       "        text-align: right;\n",
       "    }\n",
       "\n",
       "    .dataframe thead th {\n",
       "        text-align: left;\n",
       "    }\n",
       "\n",
       "    .dataframe tbody tr th {\n",
       "        vertical-align: top;\n",
       "    }\n",
       "</style>\n",
       "<table border=\"1\" class=\"dataframe\">\n",
       "  <thead>\n",
       "    <tr style=\"text-align: right;\">\n",
       "      <th></th>\n",
       "      <th>task_id</th>\n",
       "      <th>prob_task</th>\n",
       "      <th>prob_worker</th>\n",
       "      <th>prob_answer</th>\n",
       "      <th>performance</th>\n",
       "    </tr>\n",
       "  </thead>\n",
       "  <tbody>\n",
       "    <tr>\n",
       "      <th>0</th>\n",
       "      <td>task_g23</td>\n",
       "      <td>0.89</td>\n",
       "      <td>0.760000</td>\n",
       "      <td>0.916400</td>\n",
       "      <td>1.000000</td>\n",
       "    </tr>\n",
       "    <tr>\n",
       "      <th>1</th>\n",
       "      <td>task_uXc</td>\n",
       "      <td>0.91</td>\n",
       "      <td>0.852857</td>\n",
       "      <td>0.923243</td>\n",
       "      <td>1.000000</td>\n",
       "    </tr>\n",
       "    <tr>\n",
       "      <th>2</th>\n",
       "      <td>task_VSJ</td>\n",
       "      <td>0.75</td>\n",
       "      <td>0.824286</td>\n",
       "      <td>0.793929</td>\n",
       "      <td>0.714286</td>\n",
       "    </tr>\n",
       "    <tr>\n",
       "      <th>3</th>\n",
       "      <td>task_4SA</td>\n",
       "      <td>0.51</td>\n",
       "      <td>0.877143</td>\n",
       "      <td>0.570200</td>\n",
       "      <td>0.285714</td>\n",
       "    </tr>\n",
       "    <tr>\n",
       "      <th>4</th>\n",
       "      <td>task_HSw</td>\n",
       "      <td>0.77</td>\n",
       "      <td>0.848571</td>\n",
       "      <td>0.804829</td>\n",
       "      <td>0.285714</td>\n",
       "    </tr>\n",
       "    <tr>\n",
       "      <th>5</th>\n",
       "      <td>task_AjS</td>\n",
       "      <td>0.80</td>\n",
       "      <td>0.898571</td>\n",
       "      <td>0.820286</td>\n",
       "      <td>0.285714</td>\n",
       "    </tr>\n",
       "    <tr>\n",
       "      <th>6</th>\n",
       "      <td>task_Adp</td>\n",
       "      <td>0.82</td>\n",
       "      <td>0.824286</td>\n",
       "      <td>0.851629</td>\n",
       "      <td>0.142857</td>\n",
       "    </tr>\n",
       "    <tr>\n",
       "      <th>7</th>\n",
       "      <td>task_tFq</td>\n",
       "      <td>0.89</td>\n",
       "      <td>0.921429</td>\n",
       "      <td>0.898643</td>\n",
       "      <td>0.142857</td>\n",
       "    </tr>\n",
       "    <tr>\n",
       "      <th>8</th>\n",
       "      <td>task_rjy</td>\n",
       "      <td>0.53</td>\n",
       "      <td>0.860000</td>\n",
       "      <td>0.595800</td>\n",
       "      <td>0.142857</td>\n",
       "    </tr>\n",
       "    <tr>\n",
       "      <th>9</th>\n",
       "      <td>task_aYr</td>\n",
       "      <td>0.82</td>\n",
       "      <td>0.854286</td>\n",
       "      <td>0.846229</td>\n",
       "      <td>0.142857</td>\n",
       "    </tr>\n",
       "    <tr>\n",
       "      <th>10</th>\n",
       "      <td>task_92j</td>\n",
       "      <td>0.73</td>\n",
       "      <td>0.865714</td>\n",
       "      <td>0.766257</td>\n",
       "      <td>0.142857</td>\n",
       "    </tr>\n",
       "    <tr>\n",
       "      <th>11</th>\n",
       "      <td>task_gAL</td>\n",
       "      <td>0.73</td>\n",
       "      <td>0.894286</td>\n",
       "      <td>0.758543</td>\n",
       "      <td>0.142857</td>\n",
       "    </tr>\n",
       "    <tr>\n",
       "      <th>12</th>\n",
       "      <td>task_os4</td>\n",
       "      <td>0.80</td>\n",
       "      <td>0.815714</td>\n",
       "      <td>0.836857</td>\n",
       "      <td>0.142857</td>\n",
       "    </tr>\n",
       "    <tr>\n",
       "      <th>13</th>\n",
       "      <td>task_nJm</td>\n",
       "      <td>0.82</td>\n",
       "      <td>0.878571</td>\n",
       "      <td>0.841857</td>\n",
       "      <td>0.142857</td>\n",
       "    </tr>\n",
       "    <tr>\n",
       "      <th>14</th>\n",
       "      <td>task_mVV</td>\n",
       "      <td>0.91</td>\n",
       "      <td>0.904286</td>\n",
       "      <td>0.918614</td>\n",
       "      <td>0.142857</td>\n",
       "    </tr>\n",
       "    <tr>\n",
       "      <th>15</th>\n",
       "      <td>task_xhj</td>\n",
       "      <td>0.80</td>\n",
       "      <td>0.935714</td>\n",
       "      <td>0.812857</td>\n",
       "      <td>0.000000</td>\n",
       "    </tr>\n",
       "    <tr>\n",
       "      <th>16</th>\n",
       "      <td>task_hAd</td>\n",
       "      <td>0.60</td>\n",
       "      <td>0.841429</td>\n",
       "      <td>0.663429</td>\n",
       "      <td>0.000000</td>\n",
       "    </tr>\n",
       "    <tr>\n",
       "      <th>17</th>\n",
       "      <td>task_hyW</td>\n",
       "      <td>0.99</td>\n",
       "      <td>0.852857</td>\n",
       "      <td>0.991471</td>\n",
       "      <td>0.000000</td>\n",
       "    </tr>\n",
       "    <tr>\n",
       "      <th>18</th>\n",
       "      <td>task_nkE</td>\n",
       "      <td>0.95</td>\n",
       "      <td>0.834286</td>\n",
       "      <td>0.958286</td>\n",
       "      <td>0.000000</td>\n",
       "    </tr>\n",
       "    <tr>\n",
       "      <th>19</th>\n",
       "      <td>task_mqd</td>\n",
       "      <td>0.76</td>\n",
       "      <td>0.804286</td>\n",
       "      <td>0.806971</td>\n",
       "      <td>0.000000</td>\n",
       "    </tr>\n",
       "    <tr>\n",
       "      <th>20</th>\n",
       "      <td>task_qpt</td>\n",
       "      <td>0.82</td>\n",
       "      <td>0.845714</td>\n",
       "      <td>0.847771</td>\n",
       "      <td>0.000000</td>\n",
       "    </tr>\n",
       "    <tr>\n",
       "      <th>21</th>\n",
       "      <td>task_r8B</td>\n",
       "      <td>0.75</td>\n",
       "      <td>0.885714</td>\n",
       "      <td>0.778571</td>\n",
       "      <td>0.000000</td>\n",
       "    </tr>\n",
       "    <tr>\n",
       "      <th>22</th>\n",
       "      <td>task_rXN</td>\n",
       "      <td>0.79</td>\n",
       "      <td>0.834286</td>\n",
       "      <td>0.824800</td>\n",
       "      <td>0.000000</td>\n",
       "    </tr>\n",
       "    <tr>\n",
       "      <th>23</th>\n",
       "      <td>task_4Aa</td>\n",
       "      <td>0.85</td>\n",
       "      <td>0.797143</td>\n",
       "      <td>0.880429</td>\n",
       "      <td>0.000000</td>\n",
       "    </tr>\n",
       "    <tr>\n",
       "      <th>24</th>\n",
       "      <td>task_Ypn</td>\n",
       "      <td>0.65</td>\n",
       "      <td>0.807143</td>\n",
       "      <td>0.717500</td>\n",
       "      <td>0.000000</td>\n",
       "    </tr>\n",
       "    <tr>\n",
       "      <th>25</th>\n",
       "      <td>task_a3m</td>\n",
       "      <td>0.97</td>\n",
       "      <td>0.840000</td>\n",
       "      <td>0.974800</td>\n",
       "      <td>0.000000</td>\n",
       "    </tr>\n",
       "    <tr>\n",
       "      <th>26</th>\n",
       "      <td>task_YVk</td>\n",
       "      <td>0.97</td>\n",
       "      <td>0.880000</td>\n",
       "      <td>0.973600</td>\n",
       "      <td>0.000000</td>\n",
       "    </tr>\n",
       "    <tr>\n",
       "      <th>27</th>\n",
       "      <td>task_Tdw</td>\n",
       "      <td>0.98</td>\n",
       "      <td>0.841429</td>\n",
       "      <td>0.983171</td>\n",
       "      <td>0.000000</td>\n",
       "    </tr>\n",
       "    <tr>\n",
       "      <th>28</th>\n",
       "      <td>task_SXV</td>\n",
       "      <td>0.90</td>\n",
       "      <td>0.855714</td>\n",
       "      <td>0.914429</td>\n",
       "      <td>0.000000</td>\n",
       "    </tr>\n",
       "    <tr>\n",
       "      <th>29</th>\n",
       "      <td>task_SBC</td>\n",
       "      <td>0.81</td>\n",
       "      <td>0.842857</td>\n",
       "      <td>0.839857</td>\n",
       "      <td>0.000000</td>\n",
       "    </tr>\n",
       "    <tr>\n",
       "      <th>30</th>\n",
       "      <td>task_KT9</td>\n",
       "      <td>0.96</td>\n",
       "      <td>0.824286</td>\n",
       "      <td>0.967029</td>\n",
       "      <td>0.000000</td>\n",
       "    </tr>\n",
       "    <tr>\n",
       "      <th>31</th>\n",
       "      <td>task_Jzg</td>\n",
       "      <td>0.86</td>\n",
       "      <td>0.837143</td>\n",
       "      <td>0.882800</td>\n",
       "      <td>0.000000</td>\n",
       "    </tr>\n",
       "    <tr>\n",
       "      <th>32</th>\n",
       "      <td>task_G9P</td>\n",
       "      <td>0.97</td>\n",
       "      <td>0.842857</td>\n",
       "      <td>0.974714</td>\n",
       "      <td>0.000000</td>\n",
       "    </tr>\n",
       "    <tr>\n",
       "      <th>33</th>\n",
       "      <td>task_FbY</td>\n",
       "      <td>0.51</td>\n",
       "      <td>0.834286</td>\n",
       "      <td>0.591200</td>\n",
       "      <td>0.000000</td>\n",
       "    </tr>\n",
       "    <tr>\n",
       "      <th>34</th>\n",
       "      <td>task_EqQ</td>\n",
       "      <td>0.77</td>\n",
       "      <td>0.867143</td>\n",
       "      <td>0.800557</td>\n",
       "      <td>0.000000</td>\n",
       "    </tr>\n",
       "    <tr>\n",
       "      <th>35</th>\n",
       "      <td>task_DKW</td>\n",
       "      <td>0.92</td>\n",
       "      <td>0.852857</td>\n",
       "      <td>0.931771</td>\n",
       "      <td>0.000000</td>\n",
       "    </tr>\n",
       "    <tr>\n",
       "      <th>36</th>\n",
       "      <td>task_CRn</td>\n",
       "      <td>0.92</td>\n",
       "      <td>0.837143</td>\n",
       "      <td>0.933029</td>\n",
       "      <td>0.000000</td>\n",
       "    </tr>\n",
       "    <tr>\n",
       "      <th>37</th>\n",
       "      <td>task_CLu</td>\n",
       "      <td>0.68</td>\n",
       "      <td>0.870000</td>\n",
       "      <td>0.721600</td>\n",
       "      <td>0.000000</td>\n",
       "    </tr>\n",
       "    <tr>\n",
       "      <th>38</th>\n",
       "      <td>task_Bt6</td>\n",
       "      <td>0.68</td>\n",
       "      <td>0.854286</td>\n",
       "      <td>0.726629</td>\n",
       "      <td>0.000000</td>\n",
       "    </tr>\n",
       "    <tr>\n",
       "      <th>39</th>\n",
       "      <td>task_zPu</td>\n",
       "      <td>0.63</td>\n",
       "      <td>0.874286</td>\n",
       "      <td>0.676514</td>\n",
       "      <td>0.000000</td>\n",
       "    </tr>\n",
       "  </tbody>\n",
       "</table>\n",
       "</div>"
      ],
      "text/plain": [
       "     task_id  prob_task  prob_worker  prob_answer  performance\n",
       "0   task_g23       0.89     0.760000     0.916400     1.000000\n",
       "1   task_uXc       0.91     0.852857     0.923243     1.000000\n",
       "2   task_VSJ       0.75     0.824286     0.793929     0.714286\n",
       "3   task_4SA       0.51     0.877143     0.570200     0.285714\n",
       "4   task_HSw       0.77     0.848571     0.804829     0.285714\n",
       "5   task_AjS       0.80     0.898571     0.820286     0.285714\n",
       "6   task_Adp       0.82     0.824286     0.851629     0.142857\n",
       "7   task_tFq       0.89     0.921429     0.898643     0.142857\n",
       "8   task_rjy       0.53     0.860000     0.595800     0.142857\n",
       "9   task_aYr       0.82     0.854286     0.846229     0.142857\n",
       "10  task_92j       0.73     0.865714     0.766257     0.142857\n",
       "11  task_gAL       0.73     0.894286     0.758543     0.142857\n",
       "12  task_os4       0.80     0.815714     0.836857     0.142857\n",
       "13  task_nJm       0.82     0.878571     0.841857     0.142857\n",
       "14  task_mVV       0.91     0.904286     0.918614     0.142857\n",
       "15  task_xhj       0.80     0.935714     0.812857     0.000000\n",
       "16  task_hAd       0.60     0.841429     0.663429     0.000000\n",
       "17  task_hyW       0.99     0.852857     0.991471     0.000000\n",
       "18  task_nkE       0.95     0.834286     0.958286     0.000000\n",
       "19  task_mqd       0.76     0.804286     0.806971     0.000000\n",
       "20  task_qpt       0.82     0.845714     0.847771     0.000000\n",
       "21  task_r8B       0.75     0.885714     0.778571     0.000000\n",
       "22  task_rXN       0.79     0.834286     0.824800     0.000000\n",
       "23  task_4Aa       0.85     0.797143     0.880429     0.000000\n",
       "24  task_Ypn       0.65     0.807143     0.717500     0.000000\n",
       "25  task_a3m       0.97     0.840000     0.974800     0.000000\n",
       "26  task_YVk       0.97     0.880000     0.973600     0.000000\n",
       "27  task_Tdw       0.98     0.841429     0.983171     0.000000\n",
       "28  task_SXV       0.90     0.855714     0.914429     0.000000\n",
       "29  task_SBC       0.81     0.842857     0.839857     0.000000\n",
       "30  task_KT9       0.96     0.824286     0.967029     0.000000\n",
       "31  task_Jzg       0.86     0.837143     0.882800     0.000000\n",
       "32  task_G9P       0.97     0.842857     0.974714     0.000000\n",
       "33  task_FbY       0.51     0.834286     0.591200     0.000000\n",
       "34  task_EqQ       0.77     0.867143     0.800557     0.000000\n",
       "35  task_DKW       0.92     0.852857     0.931771     0.000000\n",
       "36  task_CRn       0.92     0.837143     0.933029     0.000000\n",
       "37  task_CLu       0.68     0.870000     0.721600     0.000000\n",
       "38  task_Bt6       0.68     0.854286     0.726629     0.000000\n",
       "39  task_zPu       0.63     0.874286     0.676514     0.000000"
      ]
     },
     "execution_count": 105,
     "metadata": {},
     "output_type": "execute_result"
    }
   ],
   "source": [
    "tasks_mean1"
   ]
  },
  {
   "cell_type": "code",
   "execution_count": 106,
   "metadata": {},
   "outputs": [],
   "source": [
    "list_done_tasks = [1 if i > cutoff_task else 0 for i in tasks_mean1['performance']]"
   ]
  },
  {
   "cell_type": "code",
   "execution_count": 107,
   "metadata": {},
   "outputs": [],
   "source": [
    "tasks_mean1['done_task'] = list_done_tasks"
   ]
  },
  {
   "cell_type": "code",
   "execution_count": 108,
   "metadata": {},
   "outputs": [
    {
     "data": {
      "text/html": [
       "<div>\n",
       "<style>\n",
       "    .dataframe thead tr:only-child th {\n",
       "        text-align: right;\n",
       "    }\n",
       "\n",
       "    .dataframe thead th {\n",
       "        text-align: left;\n",
       "    }\n",
       "\n",
       "    .dataframe tbody tr th {\n",
       "        vertical-align: top;\n",
       "    }\n",
       "</style>\n",
       "<table border=\"1\" class=\"dataframe\">\n",
       "  <thead>\n",
       "    <tr style=\"text-align: right;\">\n",
       "      <th></th>\n",
       "      <th>task_id</th>\n",
       "      <th>prob_task</th>\n",
       "      <th>prob_worker</th>\n",
       "      <th>prob_answer</th>\n",
       "      <th>performance</th>\n",
       "      <th>done_task</th>\n",
       "    </tr>\n",
       "  </thead>\n",
       "  <tbody>\n",
       "    <tr>\n",
       "      <th>0</th>\n",
       "      <td>task_g23</td>\n",
       "      <td>0.89</td>\n",
       "      <td>0.760000</td>\n",
       "      <td>0.916400</td>\n",
       "      <td>1.000000</td>\n",
       "      <td>1</td>\n",
       "    </tr>\n",
       "    <tr>\n",
       "      <th>1</th>\n",
       "      <td>task_uXc</td>\n",
       "      <td>0.91</td>\n",
       "      <td>0.852857</td>\n",
       "      <td>0.923243</td>\n",
       "      <td>1.000000</td>\n",
       "      <td>1</td>\n",
       "    </tr>\n",
       "    <tr>\n",
       "      <th>2</th>\n",
       "      <td>task_VSJ</td>\n",
       "      <td>0.75</td>\n",
       "      <td>0.824286</td>\n",
       "      <td>0.793929</td>\n",
       "      <td>0.714286</td>\n",
       "      <td>1</td>\n",
       "    </tr>\n",
       "  </tbody>\n",
       "</table>\n",
       "</div>"
      ],
      "text/plain": [
       "    task_id  prob_task  prob_worker  prob_answer  performance  done_task\n",
       "0  task_g23       0.89     0.760000     0.916400     1.000000          1\n",
       "1  task_uXc       0.91     0.852857     0.923243     1.000000          1\n",
       "2  task_VSJ       0.75     0.824286     0.793929     0.714286          1"
      ]
     },
     "execution_count": 108,
     "metadata": {},
     "output_type": "execute_result"
    }
   ],
   "source": [
    " #All those with value 1 is because was good consensus, so we don't need them to evaluate again\n",
    "tasks_mean1[tasks_mean1['done_task']==1]"
   ]
  },
  {
   "cell_type": "code",
   "execution_count": 109,
   "metadata": {},
   "outputs": [],
   "source": [
    "done_tasks = tasks_mean1[tasks_mean1['done_task']==1]['task_id']"
   ]
  },
  {
   "cell_type": "markdown",
   "metadata": {
    "collapsed": true
   },
   "source": [
    "- Those trained_task with value 1 don't select them\n",
    "- The best workers will do the rest of the job\n",
    "- Then we measure the accuracy of the over tasks and workers\n",
    "- Simulations and ploting the acuracy and the best workers, \n",
    "- Ploting workers converge on truth answer"
   ]
  },
  {
   "cell_type": "code",
   "execution_count": 113,
   "metadata": {},
   "outputs": [
    {
     "name": "stdout",
     "output_type": "stream",
     "text": [
      "Number of donde Tasks: 3 \n",
      " ['task_g23', 'task_uXc', 'task_VSJ']\n"
     ]
    }
   ],
   "source": [
    "done_tasks = [i for i in done_tasks]\n",
    "print('Number of donde Tasks: {} \\n {}'.format(len(done_tasks), done_tasks))"
   ]
  },
  {
   "cell_type": "markdown",
   "metadata": {},
   "source": [
    "We take the tasks that go to stage 2"
   ]
  },
  {
   "cell_type": "code",
   "execution_count": 114,
   "metadata": {},
   "outputs": [
    {
     "data": {
      "text/plain": [
       "100"
      ]
     },
     "execution_count": 114,
     "metadata": {},
     "output_type": "execute_result"
    }
   ],
   "source": [
    "df_tasks2 = df_tasks[~df_tasks['task_id'].isin(done_tasks)]\n",
    "print('Original Tasks: {} \\nRemain Tasks: {}'.format(len(df_tasks), len(df_tasks2)"
   ]
  },
  {
   "cell_type": "code",
   "execution_count": 115,
   "metadata": {},
   "outputs": [
    {
     "data": {
      "text/plain": [
       "97"
      ]
     },
     "execution_count": 115,
     "metadata": {},
     "output_type": "execute_result"
    }
   ],
   "source": [
    "# Take all the rest of the tasks excluding those that already we have concensus\n",
    "# This is the number we want to evaluate in stage 2\n",
    "\n"
   ]
  },
  {
   "cell_type": "markdown",
   "metadata": {},
   "source": [
    "---\n",
    "### Task Assignation"
   ]
  },
  {
   "cell_type": "markdown",
   "metadata": {},
   "source": [
    "- **Tasks Re-do**"
   ]
  },
  {
   "cell_type": "markdown",
   "metadata": {},
   "source": [
    "Before we assigne the best workers to the rest of the tasks we have to be sure that the workers dont responde the same task"
   ]
  },
  {
   "cell_type": "code",
   "execution_count": 86,
   "metadata": {
    "scrolled": true
   },
   "outputs": [],
   "source": [
    "# All the tasks done for the best workers and is not in the list of tasks already done\n",
    "tasks_redo = df_tw1[~df_tw1['task_id'].isin(done_tasks)]"
   ]
  },
  {
   "cell_type": "code",
   "execution_count": 87,
   "metadata": {},
   "outputs": [],
   "source": [
    "tasks_redo = tasks_redo.reset_index()"
   ]
  },
  {
   "cell_type": "code",
   "execution_count": 88,
   "metadata": {},
   "outputs": [
    {
     "data": {
      "text/html": [
       "<div>\n",
       "<style>\n",
       "    .dataframe thead tr:only-child th {\n",
       "        text-align: right;\n",
       "    }\n",
       "\n",
       "    .dataframe thead th {\n",
       "        text-align: left;\n",
       "    }\n",
       "\n",
       "    .dataframe tbody tr th {\n",
       "        vertical-align: top;\n",
       "    }\n",
       "</style>\n",
       "<table border=\"1\" class=\"dataframe\">\n",
       "  <thead>\n",
       "    <tr style=\"text-align: right;\">\n",
       "      <th></th>\n",
       "      <th>index</th>\n",
       "      <th>task_id</th>\n",
       "      <th>worker_id</th>\n",
       "      <th>real_answers</th>\n",
       "      <th>label_task</th>\n",
       "      <th>prob_task</th>\n",
       "      <th>label_worker</th>\n",
       "      <th>prob_worker</th>\n",
       "      <th>prob_answer</th>\n",
       "      <th>worker_answers</th>\n",
       "      <th>performance</th>\n",
       "    </tr>\n",
       "  </thead>\n",
       "  <tbody>\n",
       "    <tr>\n",
       "      <th>0</th>\n",
       "      <td>0</td>\n",
       "      <td>task_wdC</td>\n",
       "      <td>vhafG</td>\n",
       "      <td>liver</td>\n",
       "      <td>easy_task</td>\n",
       "      <td>0.77</td>\n",
       "      <td>good_worker</td>\n",
       "      <td>0.82</td>\n",
       "      <td>0.8114</td>\n",
       "      <td>lung</td>\n",
       "      <td>0</td>\n",
       "    </tr>\n",
       "    <tr>\n",
       "      <th>1</th>\n",
       "      <td>1</td>\n",
       "      <td>task_wdC</td>\n",
       "      <td>raLqr</td>\n",
       "      <td>liver</td>\n",
       "      <td>easy_task</td>\n",
       "      <td>0.77</td>\n",
       "      <td>poor_worker</td>\n",
       "      <td>0.61</td>\n",
       "      <td>0.8597</td>\n",
       "      <td>lung</td>\n",
       "      <td>0</td>\n",
       "    </tr>\n",
       "    <tr>\n",
       "      <th>2</th>\n",
       "      <td>2</td>\n",
       "      <td>task_wdC</td>\n",
       "      <td>d4uk2</td>\n",
       "      <td>liver</td>\n",
       "      <td>easy_task</td>\n",
       "      <td>0.77</td>\n",
       "      <td>poor_worker</td>\n",
       "      <td>0.63</td>\n",
       "      <td>0.8551</td>\n",
       "      <td>lung</td>\n",
       "      <td>0</td>\n",
       "    </tr>\n",
       "    <tr>\n",
       "      <th>3</th>\n",
       "      <td>3</td>\n",
       "      <td>task_wdC</td>\n",
       "      <td>ohh86</td>\n",
       "      <td>liver</td>\n",
       "      <td>easy_task</td>\n",
       "      <td>0.77</td>\n",
       "      <td>poor_worker</td>\n",
       "      <td>0.73</td>\n",
       "      <td>0.8321</td>\n",
       "      <td>lung</td>\n",
       "      <td>0</td>\n",
       "    </tr>\n",
       "    <tr>\n",
       "      <th>4</th>\n",
       "      <td>4</td>\n",
       "      <td>task_wdC</td>\n",
       "      <td>S5wZm</td>\n",
       "      <td>liver</td>\n",
       "      <td>easy_task</td>\n",
       "      <td>0.77</td>\n",
       "      <td>good_worker</td>\n",
       "      <td>0.99</td>\n",
       "      <td>0.7723</td>\n",
       "      <td>liver</td>\n",
       "      <td>1</td>\n",
       "    </tr>\n",
       "    <tr>\n",
       "      <th>5</th>\n",
       "      <td>5</td>\n",
       "      <td>task_wdC</td>\n",
       "      <td>tRBRr</td>\n",
       "      <td>liver</td>\n",
       "      <td>easy_task</td>\n",
       "      <td>0.77</td>\n",
       "      <td>good_worker</td>\n",
       "      <td>0.83</td>\n",
       "      <td>0.8091</td>\n",
       "      <td>lung</td>\n",
       "      <td>0</td>\n",
       "    </tr>\n",
       "    <tr>\n",
       "      <th>6</th>\n",
       "      <td>6</td>\n",
       "      <td>task_wdC</td>\n",
       "      <td>iYpPb</td>\n",
       "      <td>liver</td>\n",
       "      <td>easy_task</td>\n",
       "      <td>0.77</td>\n",
       "      <td>good_worker</td>\n",
       "      <td>0.95</td>\n",
       "      <td>0.7815</td>\n",
       "      <td>blood</td>\n",
       "      <td>0</td>\n",
       "    </tr>\n",
       "    <tr>\n",
       "      <th>7</th>\n",
       "      <td>7</td>\n",
       "      <td>task_szS</td>\n",
       "      <td>V66mp</td>\n",
       "      <td>liver</td>\n",
       "      <td>easy_task</td>\n",
       "      <td>0.98</td>\n",
       "      <td>good_worker</td>\n",
       "      <td>0.77</td>\n",
       "      <td>0.9846</td>\n",
       "      <td>lung</td>\n",
       "      <td>0</td>\n",
       "    </tr>\n",
       "    <tr>\n",
       "      <th>8</th>\n",
       "      <td>8</td>\n",
       "      <td>task_szS</td>\n",
       "      <td>PKegy</td>\n",
       "      <td>liver</td>\n",
       "      <td>easy_task</td>\n",
       "      <td>0.98</td>\n",
       "      <td>good_worker</td>\n",
       "      <td>0.82</td>\n",
       "      <td>0.9836</td>\n",
       "      <td>lung</td>\n",
       "      <td>0</td>\n",
       "    </tr>\n",
       "    <tr>\n",
       "      <th>9</th>\n",
       "      <td>9</td>\n",
       "      <td>task_szS</td>\n",
       "      <td>pcmkB</td>\n",
       "      <td>liver</td>\n",
       "      <td>easy_task</td>\n",
       "      <td>0.98</td>\n",
       "      <td>good_worker</td>\n",
       "      <td>0.82</td>\n",
       "      <td>0.9836</td>\n",
       "      <td>lung</td>\n",
       "      <td>0</td>\n",
       "    </tr>\n",
       "  </tbody>\n",
       "</table>\n",
       "</div>"
      ],
      "text/plain": [
       "   index   task_id worker_id real_answers label_task  prob_task label_worker  \\\n",
       "0      0  task_wdC     vhafG        liver  easy_task       0.77  good_worker   \n",
       "1      1  task_wdC     raLqr        liver  easy_task       0.77  poor_worker   \n",
       "2      2  task_wdC     d4uk2        liver  easy_task       0.77  poor_worker   \n",
       "3      3  task_wdC     ohh86        liver  easy_task       0.77  poor_worker   \n",
       "4      4  task_wdC     S5wZm        liver  easy_task       0.77  good_worker   \n",
       "5      5  task_wdC     tRBRr        liver  easy_task       0.77  good_worker   \n",
       "6      6  task_wdC     iYpPb        liver  easy_task       0.77  good_worker   \n",
       "7      7  task_szS     V66mp        liver  easy_task       0.98  good_worker   \n",
       "8      8  task_szS     PKegy        liver  easy_task       0.98  good_worker   \n",
       "9      9  task_szS     pcmkB        liver  easy_task       0.98  good_worker   \n",
       "\n",
       "   prob_worker  prob_answer worker_answers  performance  \n",
       "0         0.82       0.8114           lung            0  \n",
       "1         0.61       0.8597           lung            0  \n",
       "2         0.63       0.8551           lung            0  \n",
       "3         0.73       0.8321           lung            0  \n",
       "4         0.99       0.7723          liver            1  \n",
       "5         0.83       0.8091           lung            0  \n",
       "6         0.95       0.7815          blood            0  \n",
       "7         0.77       0.9846           lung            0  \n",
       "8         0.82       0.9836           lung            0  \n",
       "9         0.82       0.9836           lung            0  "
      ]
     },
     "execution_count": 88,
     "metadata": {},
     "output_type": "execute_result"
    }
   ],
   "source": [
    "tasks_redo.head(10)"
   ]
  },
  {
   "cell_type": "code",
   "execution_count": 89,
   "metadata": {},
   "outputs": [
    {
     "data": {
      "text/plain": [
       "33"
      ]
     },
     "execution_count": 89,
     "metadata": {},
     "output_type": "execute_result"
    }
   ],
   "source": [
    "tasks_redo_unique = tasks_redo['task_id'].unique()\n",
    "tasks_redo_unique =  [i for i in tasks_redo_unique]\n",
    "len(tasks_redo_unique) "
   ]
  },
  {
   "cell_type": "markdown",
   "metadata": {},
   "source": [
    "** Check Groups: ** All the trained and consensus tasks + All the tasks already done = Trained Tasks"
   ]
  },
  {
   "cell_type": "code",
   "execution_count": 90,
   "metadata": {},
   "outputs": [
    {
     "name": "stdout",
     "output_type": "stream",
     "text": [
      " Done Taks: 7 \n",
      " Tasks to redo: 33 \n",
      " Original Tasks to train: 40  \n",
      " Value: True\n"
     ]
    }
   ],
   "source": [
    "print(' Done Taks: {} \\n Tasks to redo: {} \\n Original Tasks to train: {}  \\n Value: {}'.format(\n",
    "    len(done_tasks), len(tasks_redo_unique), tasks_to_train, len(done_tasks)+len(tasks_redo_unique)==tasks_to_train))"
   ]
  },
  {
   "cell_type": "markdown",
   "metadata": {},
   "source": [
    "    for each task\n",
    "        select odd number of workers \n",
    "        check if the workers already done this task and exclude them\n",
    "            calculate how many spaces left\n",
    "            re-select a this number of workers\n",
    "            while the number of workers is the same as my odd number I want from the begining\n"
   ]
  },
  {
   "cell_type": "code",
   "execution_count": 150,
   "metadata": {
    "scrolled": true
   },
   "outputs": [],
   "source": [
    "tasks_workers2 = [] #we should take in account that there is a low chance that the worker repat the task\n",
    "for i in tasks_redo_unique:\n",
    "    each = [i for i in tasks_redo[tasks_redo['task_id']==str(i)]['worker_id']] # show the worker id of every task\n",
    "    rest_workers = [worker for worker in set(best_workers)-set(each)] # select all those not did the task before\n",
    "    if len(rest_workers) > workers_per_task:\n",
    "        tasks_workers2.append(np.random.choice(rest_workers, workers_per_task, replace=False))\n",
    "    else:\n",
    "        tasks_workers2.append(np.random.choice(rest_workers, workers_per_task))\n",
    "        \n",
    "tasks_workers2 = [worker for sublist in tasks_workers2 for worker in sublist] #flat and clean list"
   ]
  },
  {
   "cell_type": "code",
   "execution_count": 151,
   "metadata": {},
   "outputs": [],
   "source": [
    "list_tasks2 = [[tasks_redo_unique[i]]*workers_per_task for i in range(len(tasks_redo_unique))] #replicate the tasks to train \n",
    "list_tasks2 = [item for sublist in list_tasks2 for item in sublist] #flat and clean list"
   ]
  },
  {
   "cell_type": "code",
   "execution_count": 152,
   "metadata": {},
   "outputs": [],
   "source": [
    "df_tw2 = pd.DataFrame()\n",
    "df_tw2['task_id'] = list_tasks2\n",
    "df_tw2['worker_id'] = tasks_workers2"
   ]
  },
  {
   "cell_type": "code",
   "execution_count": 153,
   "metadata": {},
   "outputs": [
    {
     "data": {
      "text/plain": [
       "array(['task_wdC', 'task_szS', 'task_U4z', 'task_Ffk', 'task_eNp',\n",
       "       'task_nvt', 'task_fme', 'task_26Y', 'task_RYd', 'task_Zbu',\n",
       "       'task_Mgf', 'task_ptK', 'task_ZmL', 'task_fun', 'task_QgV',\n",
       "       'task_dL6', 'task_ziz', 'task_wTV', 'task_zGC', 'task_os9',\n",
       "       'task_cVM', 'task_7ev', 'task_akf', 'task_H6M', 'task_UcF',\n",
       "       'task_UPX', 'task_jdo', 'task_2EL', 'task_cfo', 'task_NQW',\n",
       "       'task_huE', 'task_NDm', 'task_AVq'], dtype=object)"
      ]
     },
     "execution_count": 153,
     "metadata": {},
     "output_type": "execute_result"
    }
   ],
   "source": [
    "df_tw2['task_id'].unique() #Tasks to redo because no consensus"
   ]
  },
  {
   "cell_type": "markdown",
   "metadata": {},
   "source": [
    "- **Tasks Un-done**"
   ]
  },
  {
   "cell_type": "code",
   "execution_count": 95,
   "metadata": {},
   "outputs": [
    {
     "data": {
      "text/plain": [
       "60"
      ]
     },
     "execution_count": 95,
     "metadata": {},
     "output_type": "execute_result"
    }
   ],
   "source": [
    "tasks_undone_unique = df_tasks[~df_tasks['task_id'].isin(training_tasks)]['task_id']\n",
    "tasks_undone_unique = [i for i in tasks_undone_unique]\n",
    "len(tasks_undone_unique)"
   ]
  },
  {
   "cell_type": "markdown",
   "metadata": {},
   "source": [
    "** Check Groups: ** Tasks re-do unique + Tasks un-done unique = df_tasks2 "
   ]
  },
  {
   "cell_type": "code",
   "execution_count": 96,
   "metadata": {},
   "outputs": [
    {
     "name": "stdout",
     "output_type": "stream",
     "text": [
      " Tasks Re-do: 30 \n",
      " Tasks Not Done: 60\n"
     ]
    }
   ],
   "source": [
    "print(' Tasks Re-do: {} \\n Tasks Not Done: {}'.format(\n",
    "    len(tasks_redo_unique) , len(tasks_undone_unique)))"
   ]
  },
  {
   "cell_type": "code",
   "execution_count": 97,
   "metadata": {
    "collapsed": true
   },
   "outputs": [],
   "source": [
    "tasks_workers3 = []\n",
    "for i in tasks_undone_unique:\n",
    "    tasks_workers3.append(np.random.choice(best_workers, workers_per_task, replace=False))\n",
    "\n",
    "tasks_workers3 = [worker for sublist in tasks_workers3 for worker in sublist] #flat and clean list"
   ]
  },
  {
   "cell_type": "code",
   "execution_count": 98,
   "metadata": {},
   "outputs": [],
   "source": [
    "list_tasks3 = [[tasks_undone_unique[i]]*workers_per_task for i in range(len(tasks_undone_unique))] #replicate the tasks to train \n",
    "list_tasks3 = [item for sublist in list_tasks3 for item in sublist] #flat and clean list"
   ]
  },
  {
   "cell_type": "code",
   "execution_count": 99,
   "metadata": {},
   "outputs": [],
   "source": [
    "df_tw3 = pd.DataFrame()\n",
    "df_tw3['task_id'] = list_tasks3\n",
    "df_tw3['worker_id'] = tasks_workers3"
   ]
  },
  {
   "cell_type": "code",
   "execution_count": 100,
   "metadata": {},
   "outputs": [
    {
     "data": {
      "text/plain": [
       "array(['task_ZgZ', 'task_wB2', 'task_okw', 'task_zxR', 'task_6wx',\n",
       "       'task_SXu', 'task_EHw', 'task_sHw', 'task_eaB', 'task_cBV',\n",
       "       'task_kcT', 'task_yZ3', 'task_5NB', 'task_t7W', 'task_hhr',\n",
       "       'task_QK6', 'task_B89', 'task_MiU', 'task_ZuR', 'task_z6h',\n",
       "       'task_cMK', 'task_EKs', 'task_8Q6', 'task_6b6', 'task_2n4',\n",
       "       'task_PHP', 'task_Pp8', 'task_SSc', 'task_Vzd', 'task_dVn',\n",
       "       'task_efB', 'task_KGN', 'task_Agv', 'task_UoL', 'task_KUD',\n",
       "       'task_YJo', 'task_5Ao', 'task_dX2', 'task_zhc', 'task_TYR',\n",
       "       'task_QPJ', 'task_jEF', 'task_4yY', 'task_3Ey', 'task_5Pi',\n",
       "       'task_x4z', 'task_ybA', 'task_oTg', 'task_iGt', 'task_b3d',\n",
       "       'task_Dqx', 'task_X3T', 'task_iw9', 'task_vwf', 'task_HXK',\n",
       "       'task_qaJ', 'task_anm', 'task_GEM', 'task_kTG', 'task_SVB'], dtype=object)"
      ]
     },
     "execution_count": 100,
     "metadata": {},
     "output_type": "execute_result"
    }
   ],
   "source": [
    "df_tw3['task_id'].unique() #Tasks not done before"
   ]
  },
  {
   "cell_type": "markdown",
   "metadata": {},
   "source": [
    "---\n",
    "### Stage 2 - Final Join"
   ]
  },
  {
   "cell_type": "code",
   "execution_count": 101,
   "metadata": {},
   "outputs": [],
   "source": [
    "df_tw = df_tw2.append(df_tw3, ignore_index=True)"
   ]
  },
  {
   "cell_type": "code",
   "execution_count": 102,
   "metadata": {},
   "outputs": [
    {
     "data": {
      "text/plain": [
       "90"
      ]
     },
     "execution_count": 102,
     "metadata": {},
     "output_type": "execute_result"
    }
   ],
   "source": [
    "len(df_tw['task_id'].unique())"
   ]
  },
  {
   "cell_type": "code",
   "execution_count": 105,
   "metadata": {},
   "outputs": [],
   "source": [
    "df_tw = pd.merge(df_tw, df_tasks2, on='task_id', how='left')\n",
    "df_tw = pd.merge(df_tw, df_workers2, on='worker_id', how='left')"
   ]
  },
  {
   "cell_type": "code",
   "execution_count": 106,
   "metadata": {},
   "outputs": [],
   "source": [
    "#Probability to asnwer correct\n",
    "df_tw['prob_answer'] = 1-(df_tw['prob_worker']*(1-df_tw['prob_task']))"
   ]
  },
  {
   "cell_type": "code",
   "execution_count": 107,
   "metadata": {},
   "outputs": [
    {
     "data": {
      "text/plain": [
       "0    0.9032\n",
       "1    0.9076\n",
       "2    0.8977\n",
       "3    0.8944\n",
       "4    0.8933\n",
       "5    0.8977\n",
       "6    0.8966\n",
       "7    0.7648\n",
       "8    0.7284\n",
       "9    0.7312\n",
       "Name: prob_answer, dtype: float64"
      ]
     },
     "execution_count": 107,
     "metadata": {},
     "output_type": "execute_result"
    }
   ],
   "source": [
    "df_tw['prob_answer'].head(10)"
   ]
  },
  {
   "cell_type": "code",
   "execution_count": 108,
   "metadata": {},
   "outputs": [],
   "source": [
    "# We want to get where is the position of the real_answer column on the answer_key array\n",
    "positions = []\n",
    "for answer in df_tw['real_answers']:\n",
    "    for k in range(len(answers_key)):\n",
    "        if answers_key[k] == answer:\n",
    "            positions.append(k)"
   ]
  },
  {
   "cell_type": "code",
   "execution_count": 109,
   "metadata": {
    "collapsed": true
   },
   "outputs": [],
   "source": [
    "# Assign a vector of probabilities depending on the position of the item on anser_key array\n",
    "list_vect_probs = []\n",
    "for p in df_tw['prob_answer']:\n",
    "    for i in positions:\n",
    "        vec_probs = [(1-p)/(len(answers_key)-1)] * (len(answers_key)-1)\n",
    "        vec_probs.insert(i,p) #insert place, value\n",
    "    list_vect_probs.append(vec_probs)"
   ]
  },
  {
   "cell_type": "code",
   "execution_count": 110,
   "metadata": {},
   "outputs": [],
   "source": [
    "#\"Predict\" every answer\n",
    "worker_answers = []\n",
    "for vec in list_vect_probs:\n",
    "    worker_answers.append(np.random.choice(answers_key, 1, p=vec))\n",
    "\n",
    "worker_answers = [item for answer in worker_answers for item in answer]"
   ]
  },
  {
   "cell_type": "code",
   "execution_count": 111,
   "metadata": {},
   "outputs": [],
   "source": [
    "df_tw['worker_answers'] = worker_answers"
   ]
  },
  {
   "cell_type": "code",
   "execution_count": 112,
   "metadata": {},
   "outputs": [],
   "source": [
    "#We match the real answers with worker answers\n",
    "vec_matches = df_tw['worker_answers'] == df_tw['real_answers']\n",
    "predict_value =[1 if i == True else 0 for i in vec_matches]"
   ]
  },
  {
   "cell_type": "code",
   "execution_count": 113,
   "metadata": {
    "collapsed": true
   },
   "outputs": [],
   "source": [
    "df_tw['performance'] = predict_value"
   ]
  },
  {
   "cell_type": "code",
   "execution_count": 114,
   "metadata": {
    "scrolled": false
   },
   "outputs": [
    {
     "data": {
      "text/html": [
       "<div>\n",
       "<style>\n",
       "    .dataframe thead tr:only-child th {\n",
       "        text-align: right;\n",
       "    }\n",
       "\n",
       "    .dataframe thead th {\n",
       "        text-align: left;\n",
       "    }\n",
       "\n",
       "    .dataframe tbody tr th {\n",
       "        vertical-align: top;\n",
       "    }\n",
       "</style>\n",
       "<table border=\"1\" class=\"dataframe\">\n",
       "  <thead>\n",
       "    <tr style=\"text-align: right;\">\n",
       "      <th></th>\n",
       "      <th>task_id</th>\n",
       "      <th>worker_id</th>\n",
       "      <th>real_answers</th>\n",
       "      <th>label_task</th>\n",
       "      <th>prob_task</th>\n",
       "      <th>prob_worker</th>\n",
       "      <th>label_worker</th>\n",
       "      <th>prob_answer</th>\n",
       "      <th>worker_answers</th>\n",
       "      <th>performance</th>\n",
       "    </tr>\n",
       "  </thead>\n",
       "  <tbody>\n",
       "    <tr>\n",
       "      <th>0</th>\n",
       "      <td>task_CCR</td>\n",
       "      <td>qN3VD</td>\n",
       "      <td>lung</td>\n",
       "      <td>easy_task</td>\n",
       "      <td>0.89</td>\n",
       "      <td>0.88</td>\n",
       "      <td>good_worker</td>\n",
       "      <td>0.9032</td>\n",
       "      <td>lung</td>\n",
       "      <td>1</td>\n",
       "    </tr>\n",
       "    <tr>\n",
       "      <th>1</th>\n",
       "      <td>task_CCR</td>\n",
       "      <td>EJJq8</td>\n",
       "      <td>lung</td>\n",
       "      <td>easy_task</td>\n",
       "      <td>0.89</td>\n",
       "      <td>0.84</td>\n",
       "      <td>good_worker</td>\n",
       "      <td>0.9076</td>\n",
       "      <td>lung</td>\n",
       "      <td>1</td>\n",
       "    </tr>\n",
       "    <tr>\n",
       "      <th>2</th>\n",
       "      <td>task_CCR</td>\n",
       "      <td>aTJyP</td>\n",
       "      <td>lung</td>\n",
       "      <td>easy_task</td>\n",
       "      <td>0.89</td>\n",
       "      <td>0.93</td>\n",
       "      <td>good_worker</td>\n",
       "      <td>0.8977</td>\n",
       "      <td>lung</td>\n",
       "      <td>1</td>\n",
       "    </tr>\n",
       "    <tr>\n",
       "      <th>3</th>\n",
       "      <td>task_CCR</td>\n",
       "      <td>Xvqfs</td>\n",
       "      <td>lung</td>\n",
       "      <td>easy_task</td>\n",
       "      <td>0.89</td>\n",
       "      <td>0.96</td>\n",
       "      <td>good_worker</td>\n",
       "      <td>0.8944</td>\n",
       "      <td>blood</td>\n",
       "      <td>0</td>\n",
       "    </tr>\n",
       "    <tr>\n",
       "      <th>4</th>\n",
       "      <td>task_CCR</td>\n",
       "      <td>uki7z</td>\n",
       "      <td>lung</td>\n",
       "      <td>easy_task</td>\n",
       "      <td>0.89</td>\n",
       "      <td>0.97</td>\n",
       "      <td>good_worker</td>\n",
       "      <td>0.8933</td>\n",
       "      <td>lung</td>\n",
       "      <td>1</td>\n",
       "    </tr>\n",
       "    <tr>\n",
       "      <th>5</th>\n",
       "      <td>task_CCR</td>\n",
       "      <td>fkVEk</td>\n",
       "      <td>lung</td>\n",
       "      <td>easy_task</td>\n",
       "      <td>0.89</td>\n",
       "      <td>0.93</td>\n",
       "      <td>good_worker</td>\n",
       "      <td>0.8977</td>\n",
       "      <td>lung</td>\n",
       "      <td>1</td>\n",
       "    </tr>\n",
       "    <tr>\n",
       "      <th>6</th>\n",
       "      <td>task_CCR</td>\n",
       "      <td>wG48Z</td>\n",
       "      <td>lung</td>\n",
       "      <td>easy_task</td>\n",
       "      <td>0.89</td>\n",
       "      <td>0.94</td>\n",
       "      <td>good_worker</td>\n",
       "      <td>0.8966</td>\n",
       "      <td>lung</td>\n",
       "      <td>1</td>\n",
       "    </tr>\n",
       "    <tr>\n",
       "      <th>7</th>\n",
       "      <td>task_Xyb</td>\n",
       "      <td>zW85k</td>\n",
       "      <td>lung</td>\n",
       "      <td>hard_task</td>\n",
       "      <td>0.72</td>\n",
       "      <td>0.84</td>\n",
       "      <td>good_worker</td>\n",
       "      <td>0.7648</td>\n",
       "      <td>lung</td>\n",
       "      <td>1</td>\n",
       "    </tr>\n",
       "    <tr>\n",
       "      <th>8</th>\n",
       "      <td>task_Xyb</td>\n",
       "      <td>uki7z</td>\n",
       "      <td>lung</td>\n",
       "      <td>hard_task</td>\n",
       "      <td>0.72</td>\n",
       "      <td>0.97</td>\n",
       "      <td>good_worker</td>\n",
       "      <td>0.7284</td>\n",
       "      <td>lung</td>\n",
       "      <td>1</td>\n",
       "    </tr>\n",
       "    <tr>\n",
       "      <th>9</th>\n",
       "      <td>task_Xyb</td>\n",
       "      <td>Xvqfs</td>\n",
       "      <td>lung</td>\n",
       "      <td>hard_task</td>\n",
       "      <td>0.72</td>\n",
       "      <td>0.96</td>\n",
       "      <td>good_worker</td>\n",
       "      <td>0.7312</td>\n",
       "      <td>lung</td>\n",
       "      <td>1</td>\n",
       "    </tr>\n",
       "    <tr>\n",
       "      <th>10</th>\n",
       "      <td>task_Xyb</td>\n",
       "      <td>FnwEA</td>\n",
       "      <td>lung</td>\n",
       "      <td>hard_task</td>\n",
       "      <td>0.72</td>\n",
       "      <td>0.95</td>\n",
       "      <td>good_worker</td>\n",
       "      <td>0.7340</td>\n",
       "      <td>heart</td>\n",
       "      <td>0</td>\n",
       "    </tr>\n",
       "    <tr>\n",
       "      <th>11</th>\n",
       "      <td>task_Xyb</td>\n",
       "      <td>aTJyP</td>\n",
       "      <td>lung</td>\n",
       "      <td>hard_task</td>\n",
       "      <td>0.72</td>\n",
       "      <td>0.93</td>\n",
       "      <td>good_worker</td>\n",
       "      <td>0.7396</td>\n",
       "      <td>blood</td>\n",
       "      <td>0</td>\n",
       "    </tr>\n",
       "    <tr>\n",
       "      <th>12</th>\n",
       "      <td>task_Xyb</td>\n",
       "      <td>EJJq8</td>\n",
       "      <td>lung</td>\n",
       "      <td>hard_task</td>\n",
       "      <td>0.72</td>\n",
       "      <td>0.84</td>\n",
       "      <td>good_worker</td>\n",
       "      <td>0.7648</td>\n",
       "      <td>blood</td>\n",
       "      <td>0</td>\n",
       "    </tr>\n",
       "    <tr>\n",
       "      <th>13</th>\n",
       "      <td>task_Xyb</td>\n",
       "      <td>7Bknd</td>\n",
       "      <td>lung</td>\n",
       "      <td>hard_task</td>\n",
       "      <td>0.72</td>\n",
       "      <td>0.89</td>\n",
       "      <td>good_worker</td>\n",
       "      <td>0.7508</td>\n",
       "      <td>lung</td>\n",
       "      <td>1</td>\n",
       "    </tr>\n",
       "    <tr>\n",
       "      <th>14</th>\n",
       "      <td>task_jPk</td>\n",
       "      <td>EJJq8</td>\n",
       "      <td>brain</td>\n",
       "      <td>easy_task</td>\n",
       "      <td>0.75</td>\n",
       "      <td>0.84</td>\n",
       "      <td>good_worker</td>\n",
       "      <td>0.7900</td>\n",
       "      <td>lung</td>\n",
       "      <td>0</td>\n",
       "    </tr>\n",
       "    <tr>\n",
       "      <th>15</th>\n",
       "      <td>task_jPk</td>\n",
       "      <td>aTJyP</td>\n",
       "      <td>brain</td>\n",
       "      <td>easy_task</td>\n",
       "      <td>0.75</td>\n",
       "      <td>0.93</td>\n",
       "      <td>good_worker</td>\n",
       "      <td>0.7675</td>\n",
       "      <td>blood</td>\n",
       "      <td>0</td>\n",
       "    </tr>\n",
       "    <tr>\n",
       "      <th>16</th>\n",
       "      <td>task_jPk</td>\n",
       "      <td>fkVEk</td>\n",
       "      <td>brain</td>\n",
       "      <td>easy_task</td>\n",
       "      <td>0.75</td>\n",
       "      <td>0.93</td>\n",
       "      <td>good_worker</td>\n",
       "      <td>0.7675</td>\n",
       "      <td>lung</td>\n",
       "      <td>0</td>\n",
       "    </tr>\n",
       "    <tr>\n",
       "      <th>17</th>\n",
       "      <td>task_jPk</td>\n",
       "      <td>Xvqfs</td>\n",
       "      <td>brain</td>\n",
       "      <td>easy_task</td>\n",
       "      <td>0.75</td>\n",
       "      <td>0.96</td>\n",
       "      <td>good_worker</td>\n",
       "      <td>0.7600</td>\n",
       "      <td>blood</td>\n",
       "      <td>0</td>\n",
       "    </tr>\n",
       "    <tr>\n",
       "      <th>18</th>\n",
       "      <td>task_jPk</td>\n",
       "      <td>FnwEA</td>\n",
       "      <td>brain</td>\n",
       "      <td>easy_task</td>\n",
       "      <td>0.75</td>\n",
       "      <td>0.95</td>\n",
       "      <td>good_worker</td>\n",
       "      <td>0.7625</td>\n",
       "      <td>lung</td>\n",
       "      <td>0</td>\n",
       "    </tr>\n",
       "    <tr>\n",
       "      <th>19</th>\n",
       "      <td>task_jPk</td>\n",
       "      <td>2wybv</td>\n",
       "      <td>brain</td>\n",
       "      <td>easy_task</td>\n",
       "      <td>0.75</td>\n",
       "      <td>0.89</td>\n",
       "      <td>good_worker</td>\n",
       "      <td>0.7775</td>\n",
       "      <td>lung</td>\n",
       "      <td>0</td>\n",
       "    </tr>\n",
       "    <tr>\n",
       "      <th>20</th>\n",
       "      <td>task_jPk</td>\n",
       "      <td>ge9im</td>\n",
       "      <td>brain</td>\n",
       "      <td>easy_task</td>\n",
       "      <td>0.75</td>\n",
       "      <td>0.95</td>\n",
       "      <td>good_worker</td>\n",
       "      <td>0.7625</td>\n",
       "      <td>liver</td>\n",
       "      <td>0</td>\n",
       "    </tr>\n",
       "    <tr>\n",
       "      <th>21</th>\n",
       "      <td>task_g37</td>\n",
       "      <td>qN3VD</td>\n",
       "      <td>brain</td>\n",
       "      <td>easy_task</td>\n",
       "      <td>0.95</td>\n",
       "      <td>0.88</td>\n",
       "      <td>good_worker</td>\n",
       "      <td>0.9560</td>\n",
       "      <td>lung</td>\n",
       "      <td>0</td>\n",
       "    </tr>\n",
       "    <tr>\n",
       "      <th>22</th>\n",
       "      <td>task_g37</td>\n",
       "      <td>SmmeR</td>\n",
       "      <td>brain</td>\n",
       "      <td>easy_task</td>\n",
       "      <td>0.95</td>\n",
       "      <td>0.88</td>\n",
       "      <td>good_worker</td>\n",
       "      <td>0.9560</td>\n",
       "      <td>lung</td>\n",
       "      <td>0</td>\n",
       "    </tr>\n",
       "    <tr>\n",
       "      <th>23</th>\n",
       "      <td>task_g37</td>\n",
       "      <td>ge9im</td>\n",
       "      <td>brain</td>\n",
       "      <td>easy_task</td>\n",
       "      <td>0.95</td>\n",
       "      <td>0.95</td>\n",
       "      <td>good_worker</td>\n",
       "      <td>0.9525</td>\n",
       "      <td>lung</td>\n",
       "      <td>0</td>\n",
       "    </tr>\n",
       "    <tr>\n",
       "      <th>24</th>\n",
       "      <td>task_g37</td>\n",
       "      <td>zW85k</td>\n",
       "      <td>brain</td>\n",
       "      <td>easy_task</td>\n",
       "      <td>0.95</td>\n",
       "      <td>0.84</td>\n",
       "      <td>good_worker</td>\n",
       "      <td>0.9580</td>\n",
       "      <td>lung</td>\n",
       "      <td>0</td>\n",
       "    </tr>\n",
       "    <tr>\n",
       "      <th>25</th>\n",
       "      <td>task_g37</td>\n",
       "      <td>aTJyP</td>\n",
       "      <td>brain</td>\n",
       "      <td>easy_task</td>\n",
       "      <td>0.95</td>\n",
       "      <td>0.93</td>\n",
       "      <td>good_worker</td>\n",
       "      <td>0.9535</td>\n",
       "      <td>lung</td>\n",
       "      <td>0</td>\n",
       "    </tr>\n",
       "    <tr>\n",
       "      <th>26</th>\n",
       "      <td>task_g37</td>\n",
       "      <td>EJJq8</td>\n",
       "      <td>brain</td>\n",
       "      <td>easy_task</td>\n",
       "      <td>0.95</td>\n",
       "      <td>0.84</td>\n",
       "      <td>good_worker</td>\n",
       "      <td>0.9580</td>\n",
       "      <td>brain</td>\n",
       "      <td>1</td>\n",
       "    </tr>\n",
       "    <tr>\n",
       "      <th>27</th>\n",
       "      <td>task_g37</td>\n",
       "      <td>fkVEk</td>\n",
       "      <td>brain</td>\n",
       "      <td>easy_task</td>\n",
       "      <td>0.95</td>\n",
       "      <td>0.93</td>\n",
       "      <td>good_worker</td>\n",
       "      <td>0.9535</td>\n",
       "      <td>lung</td>\n",
       "      <td>0</td>\n",
       "    </tr>\n",
       "    <tr>\n",
       "      <th>28</th>\n",
       "      <td>task_Lnf</td>\n",
       "      <td>aTJyP</td>\n",
       "      <td>liver</td>\n",
       "      <td>easy_task</td>\n",
       "      <td>0.88</td>\n",
       "      <td>0.93</td>\n",
       "      <td>good_worker</td>\n",
       "      <td>0.8884</td>\n",
       "      <td>lung</td>\n",
       "      <td>0</td>\n",
       "    </tr>\n",
       "    <tr>\n",
       "      <th>29</th>\n",
       "      <td>task_Lnf</td>\n",
       "      <td>wG48Z</td>\n",
       "      <td>liver</td>\n",
       "      <td>easy_task</td>\n",
       "      <td>0.88</td>\n",
       "      <td>0.94</td>\n",
       "      <td>good_worker</td>\n",
       "      <td>0.8872</td>\n",
       "      <td>lung</td>\n",
       "      <td>0</td>\n",
       "    </tr>\n",
       "    <tr>\n",
       "      <th>...</th>\n",
       "      <td>...</td>\n",
       "      <td>...</td>\n",
       "      <td>...</td>\n",
       "      <td>...</td>\n",
       "      <td>...</td>\n",
       "      <td>...</td>\n",
       "      <td>...</td>\n",
       "      <td>...</td>\n",
       "      <td>...</td>\n",
       "      <td>...</td>\n",
       "    </tr>\n",
       "    <tr>\n",
       "      <th>600</th>\n",
       "      <td>task_qaJ</td>\n",
       "      <td>zW85k</td>\n",
       "      <td>liver</td>\n",
       "      <td>easy_task</td>\n",
       "      <td>0.83</td>\n",
       "      <td>0.84</td>\n",
       "      <td>good_worker</td>\n",
       "      <td>0.8572</td>\n",
       "      <td>lung</td>\n",
       "      <td>0</td>\n",
       "    </tr>\n",
       "    <tr>\n",
       "      <th>601</th>\n",
       "      <td>task_qaJ</td>\n",
       "      <td>EJJq8</td>\n",
       "      <td>liver</td>\n",
       "      <td>easy_task</td>\n",
       "      <td>0.83</td>\n",
       "      <td>0.84</td>\n",
       "      <td>good_worker</td>\n",
       "      <td>0.8572</td>\n",
       "      <td>lung</td>\n",
       "      <td>0</td>\n",
       "    </tr>\n",
       "    <tr>\n",
       "      <th>602</th>\n",
       "      <td>task_anm</td>\n",
       "      <td>uki7z</td>\n",
       "      <td>lung</td>\n",
       "      <td>easy_task</td>\n",
       "      <td>0.87</td>\n",
       "      <td>0.97</td>\n",
       "      <td>good_worker</td>\n",
       "      <td>0.8739</td>\n",
       "      <td>lung</td>\n",
       "      <td>1</td>\n",
       "    </tr>\n",
       "    <tr>\n",
       "      <th>603</th>\n",
       "      <td>task_anm</td>\n",
       "      <td>FnwEA</td>\n",
       "      <td>lung</td>\n",
       "      <td>easy_task</td>\n",
       "      <td>0.87</td>\n",
       "      <td>0.95</td>\n",
       "      <td>good_worker</td>\n",
       "      <td>0.8765</td>\n",
       "      <td>heart</td>\n",
       "      <td>0</td>\n",
       "    </tr>\n",
       "    <tr>\n",
       "      <th>604</th>\n",
       "      <td>task_anm</td>\n",
       "      <td>ge9im</td>\n",
       "      <td>lung</td>\n",
       "      <td>easy_task</td>\n",
       "      <td>0.87</td>\n",
       "      <td>0.95</td>\n",
       "      <td>good_worker</td>\n",
       "      <td>0.8765</td>\n",
       "      <td>lung</td>\n",
       "      <td>1</td>\n",
       "    </tr>\n",
       "    <tr>\n",
       "      <th>605</th>\n",
       "      <td>task_anm</td>\n",
       "      <td>zW85k</td>\n",
       "      <td>lung</td>\n",
       "      <td>easy_task</td>\n",
       "      <td>0.87</td>\n",
       "      <td>0.84</td>\n",
       "      <td>good_worker</td>\n",
       "      <td>0.8908</td>\n",
       "      <td>lung</td>\n",
       "      <td>1</td>\n",
       "    </tr>\n",
       "    <tr>\n",
       "      <th>606</th>\n",
       "      <td>task_anm</td>\n",
       "      <td>fkVEk</td>\n",
       "      <td>lung</td>\n",
       "      <td>easy_task</td>\n",
       "      <td>0.87</td>\n",
       "      <td>0.93</td>\n",
       "      <td>good_worker</td>\n",
       "      <td>0.8791</td>\n",
       "      <td>lung</td>\n",
       "      <td>1</td>\n",
       "    </tr>\n",
       "    <tr>\n",
       "      <th>607</th>\n",
       "      <td>task_anm</td>\n",
       "      <td>qN3VD</td>\n",
       "      <td>lung</td>\n",
       "      <td>easy_task</td>\n",
       "      <td>0.87</td>\n",
       "      <td>0.88</td>\n",
       "      <td>good_worker</td>\n",
       "      <td>0.8856</td>\n",
       "      <td>lung</td>\n",
       "      <td>1</td>\n",
       "    </tr>\n",
       "    <tr>\n",
       "      <th>608</th>\n",
       "      <td>task_anm</td>\n",
       "      <td>MraW4</td>\n",
       "      <td>lung</td>\n",
       "      <td>easy_task</td>\n",
       "      <td>0.87</td>\n",
       "      <td>0.89</td>\n",
       "      <td>good_worker</td>\n",
       "      <td>0.8843</td>\n",
       "      <td>lung</td>\n",
       "      <td>1</td>\n",
       "    </tr>\n",
       "    <tr>\n",
       "      <th>609</th>\n",
       "      <td>task_GEM</td>\n",
       "      <td>Xvqfs</td>\n",
       "      <td>heart</td>\n",
       "      <td>easy_task</td>\n",
       "      <td>0.84</td>\n",
       "      <td>0.96</td>\n",
       "      <td>good_worker</td>\n",
       "      <td>0.8464</td>\n",
       "      <td>lung</td>\n",
       "      <td>0</td>\n",
       "    </tr>\n",
       "    <tr>\n",
       "      <th>610</th>\n",
       "      <td>task_GEM</td>\n",
       "      <td>MraW4</td>\n",
       "      <td>heart</td>\n",
       "      <td>easy_task</td>\n",
       "      <td>0.84</td>\n",
       "      <td>0.89</td>\n",
       "      <td>good_worker</td>\n",
       "      <td>0.8576</td>\n",
       "      <td>lung</td>\n",
       "      <td>0</td>\n",
       "    </tr>\n",
       "    <tr>\n",
       "      <th>611</th>\n",
       "      <td>task_GEM</td>\n",
       "      <td>ge9im</td>\n",
       "      <td>heart</td>\n",
       "      <td>easy_task</td>\n",
       "      <td>0.84</td>\n",
       "      <td>0.95</td>\n",
       "      <td>good_worker</td>\n",
       "      <td>0.8480</td>\n",
       "      <td>lung</td>\n",
       "      <td>0</td>\n",
       "    </tr>\n",
       "    <tr>\n",
       "      <th>612</th>\n",
       "      <td>task_GEM</td>\n",
       "      <td>qN3VD</td>\n",
       "      <td>heart</td>\n",
       "      <td>easy_task</td>\n",
       "      <td>0.84</td>\n",
       "      <td>0.88</td>\n",
       "      <td>good_worker</td>\n",
       "      <td>0.8592</td>\n",
       "      <td>lung</td>\n",
       "      <td>0</td>\n",
       "    </tr>\n",
       "    <tr>\n",
       "      <th>613</th>\n",
       "      <td>task_GEM</td>\n",
       "      <td>uki7z</td>\n",
       "      <td>heart</td>\n",
       "      <td>easy_task</td>\n",
       "      <td>0.84</td>\n",
       "      <td>0.97</td>\n",
       "      <td>good_worker</td>\n",
       "      <td>0.8448</td>\n",
       "      <td>lung</td>\n",
       "      <td>0</td>\n",
       "    </tr>\n",
       "    <tr>\n",
       "      <th>614</th>\n",
       "      <td>task_GEM</td>\n",
       "      <td>7Bknd</td>\n",
       "      <td>heart</td>\n",
       "      <td>easy_task</td>\n",
       "      <td>0.84</td>\n",
       "      <td>0.89</td>\n",
       "      <td>good_worker</td>\n",
       "      <td>0.8576</td>\n",
       "      <td>lung</td>\n",
       "      <td>0</td>\n",
       "    </tr>\n",
       "    <tr>\n",
       "      <th>615</th>\n",
       "      <td>task_GEM</td>\n",
       "      <td>FnwEA</td>\n",
       "      <td>heart</td>\n",
       "      <td>easy_task</td>\n",
       "      <td>0.84</td>\n",
       "      <td>0.95</td>\n",
       "      <td>good_worker</td>\n",
       "      <td>0.8480</td>\n",
       "      <td>lung</td>\n",
       "      <td>0</td>\n",
       "    </tr>\n",
       "    <tr>\n",
       "      <th>616</th>\n",
       "      <td>task_kTG</td>\n",
       "      <td>SmmeR</td>\n",
       "      <td>blood</td>\n",
       "      <td>easy_task</td>\n",
       "      <td>0.88</td>\n",
       "      <td>0.88</td>\n",
       "      <td>good_worker</td>\n",
       "      <td>0.8944</td>\n",
       "      <td>lung</td>\n",
       "      <td>0</td>\n",
       "    </tr>\n",
       "    <tr>\n",
       "      <th>617</th>\n",
       "      <td>task_kTG</td>\n",
       "      <td>aTJyP</td>\n",
       "      <td>blood</td>\n",
       "      <td>easy_task</td>\n",
       "      <td>0.88</td>\n",
       "      <td>0.93</td>\n",
       "      <td>good_worker</td>\n",
       "      <td>0.8884</td>\n",
       "      <td>lung</td>\n",
       "      <td>0</td>\n",
       "    </tr>\n",
       "    <tr>\n",
       "      <th>618</th>\n",
       "      <td>task_kTG</td>\n",
       "      <td>wG48Z</td>\n",
       "      <td>blood</td>\n",
       "      <td>easy_task</td>\n",
       "      <td>0.88</td>\n",
       "      <td>0.94</td>\n",
       "      <td>good_worker</td>\n",
       "      <td>0.8872</td>\n",
       "      <td>lung</td>\n",
       "      <td>0</td>\n",
       "    </tr>\n",
       "    <tr>\n",
       "      <th>619</th>\n",
       "      <td>task_kTG</td>\n",
       "      <td>2wybv</td>\n",
       "      <td>blood</td>\n",
       "      <td>easy_task</td>\n",
       "      <td>0.88</td>\n",
       "      <td>0.89</td>\n",
       "      <td>good_worker</td>\n",
       "      <td>0.8932</td>\n",
       "      <td>lung</td>\n",
       "      <td>0</td>\n",
       "    </tr>\n",
       "    <tr>\n",
       "      <th>620</th>\n",
       "      <td>task_kTG</td>\n",
       "      <td>ge9im</td>\n",
       "      <td>blood</td>\n",
       "      <td>easy_task</td>\n",
       "      <td>0.88</td>\n",
       "      <td>0.95</td>\n",
       "      <td>good_worker</td>\n",
       "      <td>0.8860</td>\n",
       "      <td>lung</td>\n",
       "      <td>0</td>\n",
       "    </tr>\n",
       "    <tr>\n",
       "      <th>621</th>\n",
       "      <td>task_kTG</td>\n",
       "      <td>7Bknd</td>\n",
       "      <td>blood</td>\n",
       "      <td>easy_task</td>\n",
       "      <td>0.88</td>\n",
       "      <td>0.89</td>\n",
       "      <td>good_worker</td>\n",
       "      <td>0.8932</td>\n",
       "      <td>lung</td>\n",
       "      <td>0</td>\n",
       "    </tr>\n",
       "    <tr>\n",
       "      <th>622</th>\n",
       "      <td>task_kTG</td>\n",
       "      <td>qN3VD</td>\n",
       "      <td>blood</td>\n",
       "      <td>easy_task</td>\n",
       "      <td>0.88</td>\n",
       "      <td>0.88</td>\n",
       "      <td>good_worker</td>\n",
       "      <td>0.8944</td>\n",
       "      <td>lung</td>\n",
       "      <td>0</td>\n",
       "    </tr>\n",
       "    <tr>\n",
       "      <th>623</th>\n",
       "      <td>task_SVB</td>\n",
       "      <td>ge9im</td>\n",
       "      <td>lung</td>\n",
       "      <td>easy_task</td>\n",
       "      <td>0.81</td>\n",
       "      <td>0.95</td>\n",
       "      <td>good_worker</td>\n",
       "      <td>0.8195</td>\n",
       "      <td>lung</td>\n",
       "      <td>1</td>\n",
       "    </tr>\n",
       "    <tr>\n",
       "      <th>624</th>\n",
       "      <td>task_SVB</td>\n",
       "      <td>Xvqfs</td>\n",
       "      <td>lung</td>\n",
       "      <td>easy_task</td>\n",
       "      <td>0.81</td>\n",
       "      <td>0.96</td>\n",
       "      <td>good_worker</td>\n",
       "      <td>0.8176</td>\n",
       "      <td>lung</td>\n",
       "      <td>1</td>\n",
       "    </tr>\n",
       "    <tr>\n",
       "      <th>625</th>\n",
       "      <td>task_SVB</td>\n",
       "      <td>fkVEk</td>\n",
       "      <td>lung</td>\n",
       "      <td>easy_task</td>\n",
       "      <td>0.81</td>\n",
       "      <td>0.93</td>\n",
       "      <td>good_worker</td>\n",
       "      <td>0.8233</td>\n",
       "      <td>lung</td>\n",
       "      <td>1</td>\n",
       "    </tr>\n",
       "    <tr>\n",
       "      <th>626</th>\n",
       "      <td>task_SVB</td>\n",
       "      <td>SmmeR</td>\n",
       "      <td>lung</td>\n",
       "      <td>easy_task</td>\n",
       "      <td>0.81</td>\n",
       "      <td>0.88</td>\n",
       "      <td>good_worker</td>\n",
       "      <td>0.8328</td>\n",
       "      <td>lung</td>\n",
       "      <td>1</td>\n",
       "    </tr>\n",
       "    <tr>\n",
       "      <th>627</th>\n",
       "      <td>task_SVB</td>\n",
       "      <td>EJJq8</td>\n",
       "      <td>lung</td>\n",
       "      <td>easy_task</td>\n",
       "      <td>0.81</td>\n",
       "      <td>0.84</td>\n",
       "      <td>good_worker</td>\n",
       "      <td>0.8404</td>\n",
       "      <td>lung</td>\n",
       "      <td>1</td>\n",
       "    </tr>\n",
       "    <tr>\n",
       "      <th>628</th>\n",
       "      <td>task_SVB</td>\n",
       "      <td>FnwEA</td>\n",
       "      <td>lung</td>\n",
       "      <td>easy_task</td>\n",
       "      <td>0.81</td>\n",
       "      <td>0.95</td>\n",
       "      <td>good_worker</td>\n",
       "      <td>0.8195</td>\n",
       "      <td>lung</td>\n",
       "      <td>1</td>\n",
       "    </tr>\n",
       "    <tr>\n",
       "      <th>629</th>\n",
       "      <td>task_SVB</td>\n",
       "      <td>zW85k</td>\n",
       "      <td>lung</td>\n",
       "      <td>easy_task</td>\n",
       "      <td>0.81</td>\n",
       "      <td>0.84</td>\n",
       "      <td>good_worker</td>\n",
       "      <td>0.8404</td>\n",
       "      <td>lung</td>\n",
       "      <td>1</td>\n",
       "    </tr>\n",
       "  </tbody>\n",
       "</table>\n",
       "<p>630 rows × 10 columns</p>\n",
       "</div>"
      ],
      "text/plain": [
       "      task_id worker_id real_answers label_task  prob_task  prob_worker  \\\n",
       "0    task_CCR     qN3VD         lung  easy_task       0.89         0.88   \n",
       "1    task_CCR     EJJq8         lung  easy_task       0.89         0.84   \n",
       "2    task_CCR     aTJyP         lung  easy_task       0.89         0.93   \n",
       "3    task_CCR     Xvqfs         lung  easy_task       0.89         0.96   \n",
       "4    task_CCR     uki7z         lung  easy_task       0.89         0.97   \n",
       "5    task_CCR     fkVEk         lung  easy_task       0.89         0.93   \n",
       "6    task_CCR     wG48Z         lung  easy_task       0.89         0.94   \n",
       "7    task_Xyb     zW85k         lung  hard_task       0.72         0.84   \n",
       "8    task_Xyb     uki7z         lung  hard_task       0.72         0.97   \n",
       "9    task_Xyb     Xvqfs         lung  hard_task       0.72         0.96   \n",
       "10   task_Xyb     FnwEA         lung  hard_task       0.72         0.95   \n",
       "11   task_Xyb     aTJyP         lung  hard_task       0.72         0.93   \n",
       "12   task_Xyb     EJJq8         lung  hard_task       0.72         0.84   \n",
       "13   task_Xyb     7Bknd         lung  hard_task       0.72         0.89   \n",
       "14   task_jPk     EJJq8        brain  easy_task       0.75         0.84   \n",
       "15   task_jPk     aTJyP        brain  easy_task       0.75         0.93   \n",
       "16   task_jPk     fkVEk        brain  easy_task       0.75         0.93   \n",
       "17   task_jPk     Xvqfs        brain  easy_task       0.75         0.96   \n",
       "18   task_jPk     FnwEA        brain  easy_task       0.75         0.95   \n",
       "19   task_jPk     2wybv        brain  easy_task       0.75         0.89   \n",
       "20   task_jPk     ge9im        brain  easy_task       0.75         0.95   \n",
       "21   task_g37     qN3VD        brain  easy_task       0.95         0.88   \n",
       "22   task_g37     SmmeR        brain  easy_task       0.95         0.88   \n",
       "23   task_g37     ge9im        brain  easy_task       0.95         0.95   \n",
       "24   task_g37     zW85k        brain  easy_task       0.95         0.84   \n",
       "25   task_g37     aTJyP        brain  easy_task       0.95         0.93   \n",
       "26   task_g37     EJJq8        brain  easy_task       0.95         0.84   \n",
       "27   task_g37     fkVEk        brain  easy_task       0.95         0.93   \n",
       "28   task_Lnf     aTJyP        liver  easy_task       0.88         0.93   \n",
       "29   task_Lnf     wG48Z        liver  easy_task       0.88         0.94   \n",
       "..        ...       ...          ...        ...        ...          ...   \n",
       "600  task_qaJ     zW85k        liver  easy_task       0.83         0.84   \n",
       "601  task_qaJ     EJJq8        liver  easy_task       0.83         0.84   \n",
       "602  task_anm     uki7z         lung  easy_task       0.87         0.97   \n",
       "603  task_anm     FnwEA         lung  easy_task       0.87         0.95   \n",
       "604  task_anm     ge9im         lung  easy_task       0.87         0.95   \n",
       "605  task_anm     zW85k         lung  easy_task       0.87         0.84   \n",
       "606  task_anm     fkVEk         lung  easy_task       0.87         0.93   \n",
       "607  task_anm     qN3VD         lung  easy_task       0.87         0.88   \n",
       "608  task_anm     MraW4         lung  easy_task       0.87         0.89   \n",
       "609  task_GEM     Xvqfs        heart  easy_task       0.84         0.96   \n",
       "610  task_GEM     MraW4        heart  easy_task       0.84         0.89   \n",
       "611  task_GEM     ge9im        heart  easy_task       0.84         0.95   \n",
       "612  task_GEM     qN3VD        heart  easy_task       0.84         0.88   \n",
       "613  task_GEM     uki7z        heart  easy_task       0.84         0.97   \n",
       "614  task_GEM     7Bknd        heart  easy_task       0.84         0.89   \n",
       "615  task_GEM     FnwEA        heart  easy_task       0.84         0.95   \n",
       "616  task_kTG     SmmeR        blood  easy_task       0.88         0.88   \n",
       "617  task_kTG     aTJyP        blood  easy_task       0.88         0.93   \n",
       "618  task_kTG     wG48Z        blood  easy_task       0.88         0.94   \n",
       "619  task_kTG     2wybv        blood  easy_task       0.88         0.89   \n",
       "620  task_kTG     ge9im        blood  easy_task       0.88         0.95   \n",
       "621  task_kTG     7Bknd        blood  easy_task       0.88         0.89   \n",
       "622  task_kTG     qN3VD        blood  easy_task       0.88         0.88   \n",
       "623  task_SVB     ge9im         lung  easy_task       0.81         0.95   \n",
       "624  task_SVB     Xvqfs         lung  easy_task       0.81         0.96   \n",
       "625  task_SVB     fkVEk         lung  easy_task       0.81         0.93   \n",
       "626  task_SVB     SmmeR         lung  easy_task       0.81         0.88   \n",
       "627  task_SVB     EJJq8         lung  easy_task       0.81         0.84   \n",
       "628  task_SVB     FnwEA         lung  easy_task       0.81         0.95   \n",
       "629  task_SVB     zW85k         lung  easy_task       0.81         0.84   \n",
       "\n",
       "    label_worker  prob_answer worker_answers  performance  \n",
       "0    good_worker       0.9032           lung            1  \n",
       "1    good_worker       0.9076           lung            1  \n",
       "2    good_worker       0.8977           lung            1  \n",
       "3    good_worker       0.8944          blood            0  \n",
       "4    good_worker       0.8933           lung            1  \n",
       "5    good_worker       0.8977           lung            1  \n",
       "6    good_worker       0.8966           lung            1  \n",
       "7    good_worker       0.7648           lung            1  \n",
       "8    good_worker       0.7284           lung            1  \n",
       "9    good_worker       0.7312           lung            1  \n",
       "10   good_worker       0.7340          heart            0  \n",
       "11   good_worker       0.7396          blood            0  \n",
       "12   good_worker       0.7648          blood            0  \n",
       "13   good_worker       0.7508           lung            1  \n",
       "14   good_worker       0.7900           lung            0  \n",
       "15   good_worker       0.7675          blood            0  \n",
       "16   good_worker       0.7675           lung            0  \n",
       "17   good_worker       0.7600          blood            0  \n",
       "18   good_worker       0.7625           lung            0  \n",
       "19   good_worker       0.7775           lung            0  \n",
       "20   good_worker       0.7625          liver            0  \n",
       "21   good_worker       0.9560           lung            0  \n",
       "22   good_worker       0.9560           lung            0  \n",
       "23   good_worker       0.9525           lung            0  \n",
       "24   good_worker       0.9580           lung            0  \n",
       "25   good_worker       0.9535           lung            0  \n",
       "26   good_worker       0.9580          brain            1  \n",
       "27   good_worker       0.9535           lung            0  \n",
       "28   good_worker       0.8884           lung            0  \n",
       "29   good_worker       0.8872           lung            0  \n",
       "..           ...          ...            ...          ...  \n",
       "600  good_worker       0.8572           lung            0  \n",
       "601  good_worker       0.8572           lung            0  \n",
       "602  good_worker       0.8739           lung            1  \n",
       "603  good_worker       0.8765          heart            0  \n",
       "604  good_worker       0.8765           lung            1  \n",
       "605  good_worker       0.8908           lung            1  \n",
       "606  good_worker       0.8791           lung            1  \n",
       "607  good_worker       0.8856           lung            1  \n",
       "608  good_worker       0.8843           lung            1  \n",
       "609  good_worker       0.8464           lung            0  \n",
       "610  good_worker       0.8576           lung            0  \n",
       "611  good_worker       0.8480           lung            0  \n",
       "612  good_worker       0.8592           lung            0  \n",
       "613  good_worker       0.8448           lung            0  \n",
       "614  good_worker       0.8576           lung            0  \n",
       "615  good_worker       0.8480           lung            0  \n",
       "616  good_worker       0.8944           lung            0  \n",
       "617  good_worker       0.8884           lung            0  \n",
       "618  good_worker       0.8872           lung            0  \n",
       "619  good_worker       0.8932           lung            0  \n",
       "620  good_worker       0.8860           lung            0  \n",
       "621  good_worker       0.8932           lung            0  \n",
       "622  good_worker       0.8944           lung            0  \n",
       "623  good_worker       0.8195           lung            1  \n",
       "624  good_worker       0.8176           lung            1  \n",
       "625  good_worker       0.8233           lung            1  \n",
       "626  good_worker       0.8328           lung            1  \n",
       "627  good_worker       0.8404           lung            1  \n",
       "628  good_worker       0.8195           lung            1  \n",
       "629  good_worker       0.8404           lung            1  \n",
       "\n",
       "[630 rows x 10 columns]"
      ]
     },
     "execution_count": 114,
     "metadata": {},
     "output_type": "execute_result"
    }
   ],
   "source": [
    "df_tw"
   ]
  },
  {
   "cell_type": "code",
   "execution_count": 117,
   "metadata": {},
   "outputs": [
    {
     "data": {
      "text/html": [
       "<iframe id=\"igraph\" scrolling=\"no\" style=\"border:none;\" seamless=\"seamless\" src=\"https://plot.ly/~pedrohserrano/16.embed\" height=\"525px\" width=\"100%\"></iframe>"
      ],
      "text/plain": [
       "<plotly.tools.PlotlyDisplay object>"
      ]
     },
     "execution_count": 117,
     "metadata": {},
     "output_type": "execute_result"
    }
   ],
   "source": [
    "y1 = [i for i in df_tw[df_tw['label_task'] == 'easy_task']['prob_answer']]\n",
    "y2 = [i for i in df_tw[df_tw['label_task'] == 'hard_task']['prob_answer']]\n",
    "axis = df_tw.index\n",
    "\n",
    "# Create traces\n",
    "trace1 = go.Scatter(x = axis, y = y1, mode = 'markers', name = 'easy_task')\n",
    "trace2 = go.Scatter(x = axis, y = y2, mode = 'markers', name = 'hard_task')\n",
    "\n",
    "data = [trace1, trace2]\n",
    "py.iplot(data, filename='Probabilities')"
   ]
  },
  {
   "cell_type": "markdown",
   "metadata": {},
   "source": [
    "---\n",
    "### Measuring Performance"
   ]
  },
  {
   "cell_type": "markdown",
   "metadata": {},
   "source": [
    "Let's aggregate the tasks by the mean. the average of the predict value is the same as calculate the number of times a worker answer right over the number of workers per task.  \n",
    "\n",
    "The range of the predict value goes from 0 to 1, so it means that the more closest to 1 the workers get more consensus, in the other hand if is closest to 0 then means that everyone said different things "
   ]
  },
  {
   "cell_type": "markdown",
   "metadata": {},
   "source": [
    "- Trained Tasks"
   ]
  },
  {
   "cell_type": "code",
   "execution_count": 118,
   "metadata": {
    "scrolled": false
   },
   "outputs": [
    {
     "data": {
      "text/plain": [
       "task_id\n",
       "task_PA7    1.000000\n",
       "task_UKh    1.000000\n",
       "task_x2C    1.000000\n",
       "task_SVB    1.000000\n",
       "task_cBV    1.000000\n",
       "task_bzA    1.000000\n",
       "task_MyY    1.000000\n",
       "task_EHw    0.857143\n",
       "task_CCR    0.857143\n",
       "task_Pp8    0.857143\n",
       "task_SXu    0.857143\n",
       "task_X3T    0.857143\n",
       "task_anm    0.857143\n",
       "task_yZ3    0.857143\n",
       "task_dVn    0.714286\n",
       "task_QK6    0.714286\n",
       "task_wB2    0.714286\n",
       "task_Xyb    0.571429\n",
       "task_VfC    0.428571\n",
       "task_Dqx    0.428571\n",
       "task_hhr    0.285714\n",
       "task_zxR    0.285714\n",
       "task_HXK    0.142857\n",
       "task_SSc    0.142857\n",
       "task_efB    0.142857\n",
       "task_g37    0.142857\n",
       "task_hkT    0.142857\n",
       "task_jEF    0.142857\n",
       "task_jco    0.142857\n",
       "task_kcT    0.142857\n",
       "              ...   \n",
       "task_KUD    0.000000\n",
       "task_Lnf    0.000000\n",
       "task_MiU    0.000000\n",
       "task_GEM    0.000000\n",
       "task_EKs    0.000000\n",
       "task_PHP    0.000000\n",
       "task_PeU    0.000000\n",
       "task_BjJ    0.000000\n",
       "task_B89    0.000000\n",
       "task_QPJ    0.000000\n",
       "task_B7L    0.000000\n",
       "task_Agv    0.000000\n",
       "task_TYR    0.000000\n",
       "task_8Q6    0.000000\n",
       "task_UoL    0.000000\n",
       "task_7YT    0.000000\n",
       "task_VxS    0.000000\n",
       "task_Vzd    0.000000\n",
       "task_7RJ    0.000000\n",
       "task_3Ey    0.000000\n",
       "task_YGQ    0.000000\n",
       "task_YJo    0.000000\n",
       "task_ZgZ    0.000000\n",
       "task_ZuR    0.000000\n",
       "task_a3h    0.000000\n",
       "task_6wx    0.000000\n",
       "task_b3d    0.000000\n",
       "task_b7U    0.000000\n",
       "task_6b6    0.000000\n",
       "task_2n4    0.000000\n",
       "Name: performance, Length: 90, dtype: float64"
      ]
     },
     "execution_count": 118,
     "metadata": {},
     "output_type": "execute_result"
    }
   ],
   "source": [
    "tasks_mean = df_tw.groupby('task_id').mean().sort_values('performance', ascending=False)\n",
    "tasks_mean['performance']#.head(10)"
   ]
  },
  {
   "cell_type": "markdown",
   "metadata": {},
   "source": [
    "---\n",
    "### Global Performance"
   ]
  },
  {
   "cell_type": "markdown",
   "metadata": {},
   "source": [
    "We're going to define a global performance in order to know the reate of the tasks where we had consensus:\n",
    "    - All the tasks abobve .5 on the mean of the performance means that it was consensus in this task"
   ]
  },
  {
   "cell_type": "code",
   "execution_count": 131,
   "metadata": {},
   "outputs": [],
   "source": [
    "accu = (len(tasks_mean[tasks_mean['performance'] >= .5]) + len(done_tasks)) / len(df_tasks)"
   ]
  },
  {
   "cell_type": "code",
   "execution_count": 132,
   "metadata": {},
   "outputs": [
    {
     "data": {
      "text/plain": [
       "0.28"
      ]
     },
     "execution_count": 132,
     "metadata": {},
     "output_type": "execute_result"
    }
   ],
   "source": [
    "accu"
   ]
  },
  {
   "cell_type": "code",
   "execution_count": null,
   "metadata": {
    "collapsed": true
   },
   "outputs": [],
   "source": []
  },
  {
   "cell_type": "code",
   "execution_count": null,
   "metadata": {
    "collapsed": true
   },
   "outputs": [],
   "source": []
  },
  {
   "cell_type": "code",
   "execution_count": null,
   "metadata": {
    "collapsed": true
   },
   "outputs": [],
   "source": []
  }
 ],
 "metadata": {
  "kernelspec": {
   "display_name": "Python 3",
   "language": "python",
   "name": "python3"
  },
  "language_info": {
   "codemirror_mode": {
    "name": "ipython",
    "version": 3
   },
   "file_extension": ".py",
   "mimetype": "text/x-python",
   "name": "python",
   "nbconvert_exporter": "python",
   "pygments_lexer": "ipython3",
   "version": "3.4.2"
  }
 },
 "nbformat": 4,
 "nbformat_minor": 2
}
