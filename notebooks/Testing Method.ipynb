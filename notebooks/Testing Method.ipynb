{
 "cells": [
  {
   "cell_type": "markdown",
   "metadata": {},
   "source": [
    "## Testing Method Module\n",
    "---"
   ]
  },
  {
   "cell_type": "code",
   "execution_count": 1,
   "metadata": {},
   "outputs": [],
   "source": [
    "import crowded.method as cr"
   ]
  },
  {
   "cell_type": "code",
   "execution_count": 2,
   "metadata": {},
   "outputs": [],
   "source": [
    "algorithm = cr.Compute(total_tasks = 100, \n",
    "                       total_workers = 40, \n",
    "                       p_hard_tasks = 0.1, \n",
    "                       p_good_workers = 0.9,\n",
    "                       answers_key = [\"liver\", \"blood\", \"lung\", \"brain\", \"heart\"],\n",
    "                       p_train_tasks = 0.4,\n",
    "                       workers_per_task = 7) "
   ]
  },
  {
   "cell_type": "code",
   "execution_count": 3,
   "metadata": {},
   "outputs": [
    {
     "name": "stdout",
     "output_type": "stream",
     "text": [
      "Tasks Answers: ['liver', 'blood', 'lung', 'brain', 'heart']\n",
      "Tasks to train: 40\n",
      "Workers Trained: 40\n",
      "Cutoff: \n",
      " Performance: 0.211 \n",
      " Probability: 0.85\n",
      "Selected Best Workers: 13\n",
      "Number of donde Tasks in Stage 1: 11\n",
      "Original Tasks: 100 \n",
      "Remain Tasks for Stage 2: 89\n",
      " Matching Tasks Value: False\n",
      "Final Stage\n",
      " Tasks Re-do: 28 \n",
      " Tasks Not Done: 60\n",
      "Number of Tasks in Final Join: 88\n",
      "\n",
      " ==== Results ==== \n",
      "\n",
      "Hard Tasks: 10 \n",
      "Easy Tasks: 90\n",
      "Good Workers: 36 \n",
      "Poor Workers: 4\n",
      "Number of Tasks under consensus      n = 18\n",
      "Proportion of Consensus              p = 0.29\n",
      "Accuracy Consensus                   a = 0.8928571428571428\n"
     ]
    }
   ],
   "source": [
    "p_consensus, a_consensus, tasks_summary, final_table = algorithm.accuracy()"
   ]
  },
  {
   "cell_type": "code",
   "execution_count": 4,
   "metadata": {},
   "outputs": [
    {
     "data": {
      "text/plain": [
       "0.29"
      ]
     },
     "execution_count": 4,
     "metadata": {},
     "output_type": "execute_result"
    }
   ],
   "source": [
    "p_consensus"
   ]
  },
  {
   "cell_type": "code",
   "execution_count": 5,
   "metadata": {},
   "outputs": [
    {
     "data": {
      "text/plain": [
       "0.89285714285714279"
      ]
     },
     "execution_count": 5,
     "metadata": {},
     "output_type": "execute_result"
    }
   ],
   "source": [
    "a_consensus"
   ]
  },
  {
   "cell_type": "code",
   "execution_count": 6,
   "metadata": {},
   "outputs": [
    {
     "data": {
      "text/plain": [
       "task_id\n",
       "task_fbb0    1.0\n",
       "task_cbaa    1.0\n",
       "task_4d0c    1.0\n",
       "task_4937    1.0\n",
       "task_1794    1.0\n",
       "Name: performance, dtype: float64"
      ]
     },
     "execution_count": 6,
     "metadata": {},
     "output_type": "execute_result"
    }
   ],
   "source": [
    "tasks_summary.head()"
   ]
  },
  {
   "cell_type": "code",
   "execution_count": 7,
   "metadata": {},
   "outputs": [
    {
     "data": {
      "text/html": [
       "<div>\n",
       "<style>\n",
       "    .dataframe thead tr:only-child th {\n",
       "        text-align: right;\n",
       "    }\n",
       "\n",
       "    .dataframe thead th {\n",
       "        text-align: left;\n",
       "    }\n",
       "\n",
       "    .dataframe tbody tr th {\n",
       "        vertical-align: top;\n",
       "    }\n",
       "</style>\n",
       "<table border=\"1\" class=\"dataframe\">\n",
       "  <thead>\n",
       "    <tr style=\"text-align: right;\">\n",
       "      <th></th>\n",
       "      <th>task_id</th>\n",
       "      <th>worker_id</th>\n",
       "      <th>true_answers</th>\n",
       "      <th>label_task</th>\n",
       "      <th>prob_task</th>\n",
       "      <th>prob_worker</th>\n",
       "      <th>label_worker</th>\n",
       "      <th>prob_answer</th>\n",
       "      <th>worker_answers</th>\n",
       "      <th>performance</th>\n",
       "    </tr>\n",
       "  </thead>\n",
       "  <tbody>\n",
       "    <tr>\n",
       "      <th>0</th>\n",
       "      <td>task_6262</td>\n",
       "      <td>worker_6003</td>\n",
       "      <td>brain</td>\n",
       "      <td>easy_task</td>\n",
       "      <td>0.76</td>\n",
       "      <td>0.87</td>\n",
       "      <td>good_worker</td>\n",
       "      <td>0.7912</td>\n",
       "      <td>liver</td>\n",
       "      <td>0</td>\n",
       "    </tr>\n",
       "    <tr>\n",
       "      <th>1</th>\n",
       "      <td>task_6262</td>\n",
       "      <td>worker_9538</td>\n",
       "      <td>brain</td>\n",
       "      <td>easy_task</td>\n",
       "      <td>0.76</td>\n",
       "      <td>0.91</td>\n",
       "      <td>good_worker</td>\n",
       "      <td>0.7816</td>\n",
       "      <td>liver</td>\n",
       "      <td>0</td>\n",
       "    </tr>\n",
       "    <tr>\n",
       "      <th>2</th>\n",
       "      <td>task_6262</td>\n",
       "      <td>worker_f871</td>\n",
       "      <td>brain</td>\n",
       "      <td>easy_task</td>\n",
       "      <td>0.76</td>\n",
       "      <td>0.93</td>\n",
       "      <td>good_worker</td>\n",
       "      <td>0.7768</td>\n",
       "      <td>lung</td>\n",
       "      <td>0</td>\n",
       "    </tr>\n",
       "    <tr>\n",
       "      <th>3</th>\n",
       "      <td>task_6262</td>\n",
       "      <td>worker_5655</td>\n",
       "      <td>brain</td>\n",
       "      <td>easy_task</td>\n",
       "      <td>0.76</td>\n",
       "      <td>0.93</td>\n",
       "      <td>good_worker</td>\n",
       "      <td>0.7768</td>\n",
       "      <td>liver</td>\n",
       "      <td>0</td>\n",
       "    </tr>\n",
       "    <tr>\n",
       "      <th>4</th>\n",
       "      <td>task_6262</td>\n",
       "      <td>worker_0e83</td>\n",
       "      <td>brain</td>\n",
       "      <td>easy_task</td>\n",
       "      <td>0.76</td>\n",
       "      <td>0.99</td>\n",
       "      <td>good_worker</td>\n",
       "      <td>0.7624</td>\n",
       "      <td>liver</td>\n",
       "      <td>0</td>\n",
       "    </tr>\n",
       "  </tbody>\n",
       "</table>\n",
       "</div>"
      ],
      "text/plain": [
       "     task_id    worker_id true_answers label_task  prob_task  prob_worker  \\\n",
       "0  task_6262  worker_6003        brain  easy_task       0.76         0.87   \n",
       "1  task_6262  worker_9538        brain  easy_task       0.76         0.91   \n",
       "2  task_6262  worker_f871        brain  easy_task       0.76         0.93   \n",
       "3  task_6262  worker_5655        brain  easy_task       0.76         0.93   \n",
       "4  task_6262  worker_0e83        brain  easy_task       0.76         0.99   \n",
       "\n",
       "  label_worker  prob_answer worker_answers  performance  \n",
       "0  good_worker       0.7912          liver            0  \n",
       "1  good_worker       0.7816          liver            0  \n",
       "2  good_worker       0.7768           lung            0  \n",
       "3  good_worker       0.7768          liver            0  \n",
       "4  good_worker       0.7624          liver            0  "
      ]
     },
     "execution_count": 7,
     "metadata": {},
     "output_type": "execute_result"
    }
   ],
   "source": [
    "final_table.head()"
   ]
  },
  {
   "cell_type": "markdown",
   "metadata": {},
   "source": [
    "### Generating the Tasks - Workers Datatable"
   ]
  },
  {
   "cell_type": "code",
   "execution_count": 8,
   "metadata": {},
   "outputs": [],
   "source": [
    "df_tw.to_csv('df_taskworkers.csv', sep=',', encoding=\"utf-8\")"
   ]
  }
 ],
 "metadata": {
  "kernelspec": {
   "display_name": "Python 3",
   "language": "python",
   "name": "python3"
  },
  "language_info": {
   "codemirror_mode": {
    "name": "ipython",
    "version": 3
   },
   "file_extension": ".py",
   "mimetype": "text/x-python",
   "name": "python",
   "nbconvert_exporter": "python",
   "pygments_lexer": "ipython3",
   "version": "3.4.2"
  }
 },
 "nbformat": 4,
 "nbformat_minor": 2
}
